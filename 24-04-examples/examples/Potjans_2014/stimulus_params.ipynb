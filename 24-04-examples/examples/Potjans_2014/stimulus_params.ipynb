{
 "cells": [
  {
   "cell_type": "markdown",
   "id": "2cf0c2e2",
   "metadata": {},
   "source": [
    "\n",
    "stimulus_params.py\n",
    "\n",
    "This file is part of NEST.\n",
    "\n",
    "Copyright (C) 2004 The NEST Initiative\n",
    "\n",
    "NEST is free software: you can redistribute it and/or modify\n",
    "it under the terms of the GNU General Public License as published by\n",
    "the Free Software Foundation, either version 2 of the License, or\n",
    "(at your option) any later version.\n",
    "\n",
    "NEST is distributed in the hope that it will be useful,\n",
    "but WITHOUT ANY WARRANTY; without even the implied warranty of\n",
    "MERCHANTABILITY or FITNESS FOR A PARTICULAR PURPOSE.  See the\n",
    "GNU General Public License for more details.\n",
    "\n",
    "You should have received a copy of the GNU General Public License\n",
    "along with NEST.  If not, see <http://www.gnu.org/licenses/>."
   ]
  },
  {
   "cell_type": "code",
   "execution_count": null,
   "id": "7122c84b",
   "metadata": {},
   "outputs": [],
   "source": [
    "\"\"\" PyNEST Microcircuit: Stimulus Parameters\n",
    "-----------------------------------------------\n",
    "\n",
    "A dictionary with parameters for an optional external transient stimulation.\n",
    "Thalamic input and DC input can be switched on individually.\n",
    "\n",
    "\"\"\""
   ]
  },
  {
   "cell_type": "code",
   "execution_count": null,
   "id": "c2771260",
   "metadata": {},
   "outputs": [],
   "source": [
    "import numpy as np"
   ]
  },
  {
   "cell_type": "code",
   "execution_count": null,
   "id": "db825e72",
   "metadata": {},
   "outputs": [],
   "source": [
    "stim_dict = {\n",
    "    # optional thalamic input\n",
    "    # turn thalamic input on or off (True or False)\n",
    "    \"thalamic_input\": False,\n",
    "    # start of the thalamic input (in ms)\n",
    "    \"th_start\": 700.0,\n",
    "    # duration of the thalamic input (in ms)\n",
    "    \"th_duration\": 10.0,\n",
    "    # rate of the thalamic input (in spikes/s)\n",
    "    \"th_rate\": 120.0,\n",
    "    # number of thalamic neurons\n",
    "    \"num_th_neurons\": 902,\n",
    "    # connection probabilities of the thalamus to the different populations\n",
    "    # (same order as in 'populations' in 'net_dict')\n",
    "    \"conn_probs_th\": np.array([0.0, 0.0, 0.0983, 0.0619, 0.0, 0.0, 0.0512, 0.0196]),\n",
    "    # mean amplitude of the thalamic postsynaptic potential (in mV),\n",
    "    # standard deviation will be taken from 'net_dict'\n",
    "    \"PSP_th\": 0.15,\n",
    "    # mean delay of the thalamic input (in ms)\n",
    "    \"delay_th_mean\": 1.5,\n",
    "    # relative standard deviation of the thalamic delay (in ms)\n",
    "    \"delay_th_rel_std\": 0.5,\n",
    "    # optional DC input\n",
    "    # turn DC input on or off (True or False)\n",
    "    \"dc_input\": False,\n",
    "    # start of the DC input (in ms)\n",
    "    \"dc_start\": 650.0,\n",
    "    # duration of the DC input (in ms)\n",
    "    \"dc_dur\": 100.0,\n",
    "    # amplitude of the DC input (in pA); final amplitude is population-specific\n",
    "    # and will be obtained by multiplication with 'K_ext'\n",
    "    \"dc_amp\": 0.3,\n",
    "}"
   ]
  }
 ],
 "metadata": {
  "jupytext": {
   "cell_metadata_filter": "-all",
   "encoding": "# -*- coding: utf-8 -*-"
  },
  "kernelspec": {
   "display_name": "EBRAINS-24.04",
   "language": "python",
   "name": "ebrains-24.04"
  }
 },
 "nbformat": 4,
 "nbformat_minor": 5
}
