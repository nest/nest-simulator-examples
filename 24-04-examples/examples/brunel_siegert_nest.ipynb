{
 "cells": [
  {
   "cell_type": "code",
   "execution_count": null,
   "id": "defc7871",
   "metadata": {},
   "outputs": [],
   "source": [
    "%matplotlib inline"
   ]
  },
  {
   "cell_type": "code",
   "execution_count": null,
   "id": "e9047c0e",
   "metadata": {},
   "outputs": [],
   "source": [
    "#\n",
    "# brunel_siegert_nest.py\n",
    "#\n",
    "# This file is part of NEST.\n",
    "#\n",
    "# Copyright (C) 2004 The NEST Initiative\n",
    "#\n",
    "# NEST is free software: you can redistribute it and/or modify\n",
    "# it under the terms of the GNU General Public License as published by\n",
    "# the Free Software Foundation, either version 2 of the License, or\n",
    "# (at your option) any later version.\n",
    "#\n",
    "# NEST is distributed in the hope that it will be useful,\n",
    "# but WITHOUT ANY WARRANTY; without even the implied warranty of\n",
    "# MERCHANTABILITY or FITNESS FOR A PARTICULAR PURPOSE.  See the\n",
    "# GNU General Public License for more details.\n",
    "#\n",
    "# You should have received a copy of the GNU General Public License\n",
    "# along with NEST.  If not, see <http://www.gnu.org/licenses/>."
   ]
  },
  {
   "cell_type": "markdown",
   "id": "bacfa23d",
   "metadata": {
    "cell_marker": "\"\"\""
   },
   "source": [
    "Mean-field theory for random balanced network\n",
    "---------------------------------------------\n",
    "\n",
    "This script performs a mean-field analysis of the spiking network of\n",
    "excitatory and an inhibitory population of leaky-integrate-and-fire neurons\n",
    "simulated in ``brunel_delta_nest.py``. We refer to this spiking network of LIF\n",
    "neurons with 'SLIFN'.\n",
    "\n",
    "The self-consistent equation for the population-averaged firing rates\n",
    "(eq.27 in [1]_, [2]_) is solved by integrating a pseudo-time dynamics\n",
    "(eq.30 in [1]_). The latter constitutes a network of rate neurons, which is\n",
    "simulated here. The asymptotic rates, i.e., the fixed points of the\n",
    "dynamics (eq.30), are the prediction for the population and\n",
    "time-averaged from the spiking simulation.\n",
    "\n",
    "References\n",
    "~~~~~~~~~~\n",
    "\n",
    ".. [1] Hahne J, Dahmen D, Schuecker J, Frommer A, Bolten M,\n",
    "       Helias M and Diesmann M. (2017).  Integration of continuous-time\n",
    "       dynamics in a spiking neural network simulator. Front. Neuroinform.\n",
    "       11:34. doi: 10.3389/fninf.2017.00034\n",
    "\n",
    ".. [2] Schuecker J, Schmidt M, van Albada SJ, Diesmann M.\n",
    "       and Helias, M. (2017). Fundamental activity constraints lead\n",
    "       to specific interpretations of the connectome.\n",
    "       PLOS Computational Biology 13(2): e1005179.\n",
    "       https://doi.org/10.1371/journal.pcbi.1005179\n"
   ]
  },
  {
   "cell_type": "code",
   "execution_count": null,
   "id": "9248e5ad",
   "metadata": {},
   "outputs": [],
   "source": [
    "import nest\n",
    "import numpy\n",
    "\n",
    "nest.ResetKernel()"
   ]
  },
  {
   "cell_type": "markdown",
   "id": "9ba5b83b",
   "metadata": {},
   "source": [
    "Assigning the simulation parameters to variables."
   ]
  },
  {
   "cell_type": "code",
   "execution_count": null,
   "id": "f80b9377",
   "metadata": {},
   "outputs": [],
   "source": [
    "\n",
    "dt = 0.1  # the resolution in ms\n",
    "simtime = 50.0  # Simulation time in ms"
   ]
  },
  {
   "cell_type": "markdown",
   "id": "237093f3",
   "metadata": {},
   "source": [
    "Definition of the network parameters in the SLIFN"
   ]
  },
  {
   "cell_type": "code",
   "execution_count": null,
   "id": "bca01958",
   "metadata": {},
   "outputs": [],
   "source": [
    "g = 5.0  # ratio inhibitory weight/excitatory weight\n",
    "eta = 2.0  # external rate relative to threshold rate\n",
    "epsilon = 0.1  # connection probability"
   ]
  },
  {
   "cell_type": "markdown",
   "id": "b46997da",
   "metadata": {},
   "source": [
    "Definition of the number of neurons and connections in the SLIFN, needed\n",
    "for the connection strength in the Siegert neuron network"
   ]
  },
  {
   "cell_type": "code",
   "execution_count": null,
   "id": "eae3242f",
   "metadata": {},
   "outputs": [],
   "source": [
    "order = 2500\n",
    "NE = 4 * order  # number of excitatory neurons\n",
    "NI = 1 * order  # number of inhibitory neurons\n",
    "CE = int(epsilon * NE)  # number of excitatory synapses per neuron\n",
    "CI = int(epsilon * NI)  # number of inhibitory synapses per neuron\n",
    "C_tot = int(CI + CE)  # total number of synapses per neuron"
   ]
  },
  {
   "cell_type": "markdown",
   "id": "d83f7fed",
   "metadata": {},
   "source": [
    "Initialization of the parameters of the Siegert neuron and the connection\n",
    "strength. The parameter are equivalent to the LIF-neurons in the SLIFN."
   ]
  },
  {
   "cell_type": "code",
   "execution_count": null,
   "id": "28d3dd27",
   "metadata": {},
   "outputs": [],
   "source": [
    "tauMem = 20.0  # time constant of membrane potential in ms\n",
    "theta = 20.0  # membrane threshold potential in mV\n",
    "neuron_params = {\n",
    "    \"tau_m\": tauMem,\n",
    "    \"t_ref\": 2.0,\n",
    "    \"theta\": theta,\n",
    "    \"V_reset\": 0.0,\n",
    "}\n",
    "\n",
    "J = 0.1  # postsynaptic amplitude in mV in the SLIFN\n",
    "J_ex = J  # amplitude of excitatory postsynaptic potential\n",
    "J_in = -g * J_ex  # amplitude of inhibitory postsynaptic potential\n",
    "# drift_factor in diffusion connections (see [1], eq. 28) for external\n",
    "# drive, excitatory and inhibitory neurons\n",
    "drift_factor_ext = tauMem * 1e-3 * J_ex\n",
    "drift_factor_ex = tauMem * 1e-3 * CE * J_ex\n",
    "drift_factor_in = tauMem * 1e-3 * CI * J_in\n",
    "# diffusion_factor for diffusion connections (see [1], eq. 29)\n",
    "diffusion_factor_ext = tauMem * 1e-3 * J_ex**2\n",
    "diffusion_factor_ex = tauMem * 1e-3 * CE * J_ex**2\n",
    "diffusion_factor_in = tauMem * 1e-3 * CI * J_in**2"
   ]
  },
  {
   "cell_type": "markdown",
   "id": "a810b5c0",
   "metadata": {},
   "source": [
    "External drive, this is equivalent to the drive in the SLIFN"
   ]
  },
  {
   "cell_type": "code",
   "execution_count": null,
   "id": "9ba36c7d",
   "metadata": {},
   "outputs": [],
   "source": [
    "nu_th = theta / (J * CE * tauMem)\n",
    "nu_ex = eta * nu_th\n",
    "p_rate = 1000.0 * nu_ex * CE"
   ]
  },
  {
   "cell_type": "markdown",
   "id": "4d72ccae",
   "metadata": {},
   "source": [
    "Configuration of the simulation kernel by the previously defined time\n",
    "resolution used in the simulation. Setting ``print_time`` to `True` prints the\n",
    "already processed simulation time as well as its percentage of the total\n",
    "simulation time."
   ]
  },
  {
   "cell_type": "code",
   "execution_count": null,
   "id": "4d01f69f",
   "metadata": {},
   "outputs": [],
   "source": [
    "nest.resolution = dt\n",
    "nest.print_time = True\n",
    "nest.overwrite_files = True\n",
    "\n",
    "print(\"Building network\")"
   ]
  },
  {
   "cell_type": "markdown",
   "id": "73eacdb0",
   "metadata": {},
   "source": [
    "Creation of the nodes using ``Create``. One rate neuron represents the\n",
    "excitatory population of LIF-neurons in the SLIFN and one the inhibitory\n",
    "population assuming homogeneity of the populations."
   ]
  },
  {
   "cell_type": "code",
   "execution_count": null,
   "id": "d44b35b4",
   "metadata": {},
   "outputs": [],
   "source": [
    "siegert_ex = nest.Create(\"siegert_neuron\", params=neuron_params)\n",
    "siegert_in = nest.Create(\"siegert_neuron\", params=neuron_params)"
   ]
  },
  {
   "cell_type": "markdown",
   "id": "6ce8f2f6",
   "metadata": {},
   "source": [
    "The Poisson drive in the SLIFN is replaced by a driving rate neuron,\n",
    "which does not receive input from other neurons. The activity of the rate\n",
    "neuron is controlled by setting ``mean`` to the rate of the corresponding\n",
    "poisson generator in the SLIFN."
   ]
  },
  {
   "cell_type": "code",
   "execution_count": null,
   "id": "22fa1da2",
   "metadata": {},
   "outputs": [],
   "source": [
    "siegert_drive = nest.Create(\"siegert_neuron\", params={\"mean\": p_rate})"
   ]
  },
  {
   "cell_type": "markdown",
   "id": "c9fe2a0d",
   "metadata": {},
   "source": [
    "To record from the rate neurons a multimeter is created and the parameter\n",
    "``record_from`` is set to `rate` as well as the recording interval to `dt`"
   ]
  },
  {
   "cell_type": "code",
   "execution_count": null,
   "id": "8501f788",
   "metadata": {},
   "outputs": [],
   "source": [
    "multimeter = nest.Create(\"multimeter\", params={\"record_from\": [\"rate\"], \"interval\": dt})"
   ]
  },
  {
   "cell_type": "markdown",
   "id": "0579846a",
   "metadata": {},
   "source": [
    "Connections between ``Siegert neurons`` are realized with the synapse model\n",
    "``diffusion_connection``. These two parameters reflect the prefactors in\n",
    "front of the rate variable in eq. 27-29 in [1]."
   ]
  },
  {
   "cell_type": "markdown",
   "id": "3af45d82",
   "metadata": {},
   "source": [
    "Connections originating from the driving neuron"
   ]
  },
  {
   "cell_type": "code",
   "execution_count": null,
   "id": "843ca410",
   "metadata": {},
   "outputs": [],
   "source": [
    "\n",
    "syn_dict = {\n",
    "    \"drift_factor\": drift_factor_ext,\n",
    "    \"diffusion_factor\": diffusion_factor_ext,\n",
    "    \"synapse_model\": \"diffusion_connection\",\n",
    "}\n",
    "\n",
    "nest.Connect(siegert_drive, siegert_ex + siegert_in, \"all_to_all\", syn_dict)\n",
    "nest.Connect(multimeter, siegert_ex + siegert_in)"
   ]
  },
  {
   "cell_type": "markdown",
   "id": "e1ad3199",
   "metadata": {},
   "source": [
    "Connections originating from the excitatory neuron"
   ]
  },
  {
   "cell_type": "code",
   "execution_count": null,
   "id": "c7865308",
   "metadata": {},
   "outputs": [],
   "source": [
    "\n",
    "syn_dict = {\n",
    "    \"drift_factor\": drift_factor_ex,\n",
    "    \"diffusion_factor\": diffusion_factor_ex,\n",
    "    \"synapse_model\": \"diffusion_connection\",\n",
    "}\n",
    "nest.Connect(siegert_ex, siegert_ex + siegert_in, \"all_to_all\", syn_dict)"
   ]
  },
  {
   "cell_type": "markdown",
   "id": "4abb4c5f",
   "metadata": {},
   "source": [
    "Connections originating from the inhibitory neuron"
   ]
  },
  {
   "cell_type": "code",
   "execution_count": null,
   "id": "6281dacc",
   "metadata": {},
   "outputs": [],
   "source": [
    "syn_dict = {\n",
    "    \"drift_factor\": drift_factor_in,\n",
    "    \"diffusion_factor\": diffusion_factor_in,\n",
    "    \"synapse_model\": \"diffusion_connection\",\n",
    "}\n",
    "nest.Connect(siegert_in, siegert_ex + siegert_in, \"all_to_all\", syn_dict)"
   ]
  },
  {
   "cell_type": "markdown",
   "id": "ad629efb",
   "metadata": {},
   "source": [
    "Simulate the network"
   ]
  },
  {
   "cell_type": "code",
   "execution_count": null,
   "id": "2fa6cb20",
   "metadata": {},
   "outputs": [],
   "source": [
    "nest.Simulate(simtime)"
   ]
  },
  {
   "cell_type": "markdown",
   "id": "b1b022a5",
   "metadata": {
    "cell_marker": "###################################################################################"
   },
   "source": [
    "Analyze the activity data. The asymptotic rate of the Siegert neuron\n",
    "corresponds to the population- and time-averaged activity in the SLIFN.\n",
    "For the symmetric network setup used here, the excitatory and inhibitory\n",
    "rates are identical. For comparison execute the example ``brunel_delta_nest.py``."
   ]
  },
  {
   "cell_type": "code",
   "execution_count": null,
   "id": "286aece4",
   "metadata": {},
   "outputs": [],
   "source": [
    "data = multimeter.events\n",
    "rates_ex = data[\"rate\"][numpy.where(data[\"senders\"] == siegert_ex.global_id)]\n",
    "rates_in = data[\"rate\"][numpy.where(data[\"senders\"] == siegert_in.global_id)]\n",
    "times = data[\"times\"][numpy.where(data[\"senders\"] == siegert_in.global_id)]\n",
    "print(f\"Excitatory rate   : {rates_ex[-1]:.2f} Hz\")\n",
    "print(f\"Inhibitory rate   : {rates_in[-1]:.2f} Hz\")"
   ]
  }
 ],
 "metadata": {
  "jupytext": {
   "cell_metadata_filter": "-all",
   "encoding": "# -*- coding: utf-8 -*-"
  },
  "kernelspec": {
   "display_name": "EBRAINS-24.04",
   "language": "python",
   "name": "ebrains-24.04"
  }
 },
 "nbformat": 4,
 "nbformat_minor": 5
}
