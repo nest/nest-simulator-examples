{
 "cells": [
  {
   "cell_type": "markdown",
   "id": "f024479d",
   "metadata": {},
   "source": [
    "\n",
    "cross_check_mip_corrdet.py\n",
    "\n",
    "This file is part of NEST.\n",
    "\n",
    "Copyright (C) 2004 The NEST Initiative\n",
    "\n",
    "NEST is free software: you can redistribute it and/or modify\n",
    "it under the terms of the GNU General Public License as published by\n",
    "the Free Software Foundation, either version 2 of the License, or\n",
    "(at your option) any later version.\n",
    "\n",
    "NEST is distributed in the hope that it will be useful,\n",
    "but WITHOUT ANY WARRANTY; without even the implied warranty of\n",
    "MERCHANTABILITY or FITNESS FOR A PARTICULAR PURPOSE.  See the\n",
    "GNU General Public License for more details.\n",
    "\n",
    "You should have received a copy of the GNU General Public License\n",
    "along with NEST.  If not, see <http://www.gnu.org/licenses/>."
   ]
  },
  {
   "cell_type": "code",
   "execution_count": null,
   "id": "435fb332",
   "metadata": {},
   "outputs": [],
   "source": [
    "\"\"\"\n",
    "Auto- and crosscorrelation functions for spike trains\n",
    "-----------------------------------------------------\n",
    "\n",
    "A time bin of size `tbin` is centered around the time difference it\n",
    "represents. If the correlation function is calculated for `tau` in\n",
    "`[-tau_max, tau_max]`, the pair events contributing to the left-most\n",
    "bin are those for which `tau` in `[-tau_max-tbin/2, tau_max+tbin/2)` and\n",
    "so on.\n",
    "\n",
    "Correlate two spike trains with each other assumes spike times to be ordered in\n",
    "time. `tau > 0` means spike2 is later than spike1\n",
    "\n",
    "* tau_max: maximum time lag in ms correlation function\n",
    "* tbin:    bin size\n",
    "* spike1:  first spike train [tspike...]\n",
    "* spike2:  second spike train [tspike...]\n",
    "\n",
    "\"\"\""
   ]
  },
  {
   "cell_type": "code",
   "execution_count": null,
   "id": "eda053de",
   "metadata": {},
   "outputs": [],
   "source": [
    "import nest\n",
    "import numpy as np"
   ]
  },
  {
   "cell_type": "code",
   "execution_count": null,
   "id": "615fffcc",
   "metadata": {},
   "outputs": [],
   "source": [
    "def corr_spikes_sorted(spike1, spike2, tbin, tau_max, resolution):\n",
    "    tau_max_i = int(tau_max / resolution)\n",
    "    tbin_i = int(tbin / resolution)\n",
    "\n",
    "    cross = np.zeros(int(2 * tau_max_i / tbin_i + 1), \"d\")\n",
    "\n",
    "    j0 = 0\n",
    "\n",
    "    for spki in spike1:\n",
    "        j = j0\n",
    "        while j < len(spike2) and spike2[j] - spki < -tau_max_i - tbin_i / 2.0:\n",
    "            j += 1\n",
    "        j0 = j\n",
    "\n",
    "        while j < len(spike2) and spike2[j] - spki < tau_max_i + tbin_i / 2.0:\n",
    "            cross[int((spike2[j] - spki + tau_max_i + 0.5 * tbin_i) / tbin_i)] += 1.0\n",
    "            j += 1\n",
    "\n",
    "    return cross"
   ]
  },
  {
   "cell_type": "code",
   "execution_count": null,
   "id": "f9f25c33",
   "metadata": {},
   "outputs": [],
   "source": [
    "nest.ResetKernel()"
   ]
  },
  {
   "cell_type": "code",
   "execution_count": null,
   "id": "d319d829",
   "metadata": {},
   "outputs": [],
   "source": [
    "resolution = 0.1  # Computation step size in ms\n",
    "T = 100000.0  # Total duration\n",
    "delta_tau = 10.0\n",
    "tau_max = 100.0  # ms correlation window\n",
    "t_bin = 10.0  # ms bin size\n",
    "pc = 0.5\n",
    "nu = 100.0"
   ]
  },
  {
   "cell_type": "code",
   "execution_count": null,
   "id": "f880ef41",
   "metadata": {},
   "outputs": [],
   "source": [
    "nest.local_num_threads = 1\n",
    "nest.resolution = resolution\n",
    "nest.overwrite_files = True\n",
    "nest.rng_seed = 12345"
   ]
  },
  {
   "cell_type": "code",
   "execution_count": null,
   "id": "f4d952ac",
   "metadata": {},
   "outputs": [],
   "source": [
    "# Set up network, connect and simulate\n",
    "mg = nest.Create(\"mip_generator\")\n",
    "mg.set(rate=nu, p_copy=pc)"
   ]
  },
  {
   "cell_type": "code",
   "execution_count": null,
   "id": "0339b2ab",
   "metadata": {},
   "outputs": [],
   "source": [
    "cd = nest.Create(\"correlation_detector\")\n",
    "cd.set(tau_max=tau_max, delta_tau=delta_tau)"
   ]
  },
  {
   "cell_type": "code",
   "execution_count": null,
   "id": "2146283f",
   "metadata": {},
   "outputs": [],
   "source": [
    "sr = nest.Create(\"spike_recorder\", params={\"time_in_steps\": True})"
   ]
  },
  {
   "cell_type": "code",
   "execution_count": null,
   "id": "3c0677f2",
   "metadata": {},
   "outputs": [],
   "source": [
    "pn1 = nest.Create(\"parrot_neuron\")\n",
    "pn2 = nest.Create(\"parrot_neuron\")"
   ]
  },
  {
   "cell_type": "code",
   "execution_count": null,
   "id": "1e24995a",
   "metadata": {},
   "outputs": [],
   "source": [
    "nest.Connect(mg, pn1)\n",
    "nest.Connect(mg, pn2)\n",
    "nest.Connect(pn1, sr)\n",
    "nest.Connect(pn2, sr)"
   ]
  },
  {
   "cell_type": "code",
   "execution_count": null,
   "id": "2723c6d9",
   "metadata": {},
   "outputs": [],
   "source": [
    "nest.Connect(pn1, cd, syn_spec={\"weight\": 1.0, \"receptor_type\": 0})\n",
    "nest.Connect(pn2, cd, syn_spec={\"weight\": 1.0, \"receptor_type\": 1})"
   ]
  },
  {
   "cell_type": "code",
   "execution_count": null,
   "id": "20c3eab4",
   "metadata": {},
   "outputs": [],
   "source": [
    "nest.Simulate(T)"
   ]
  },
  {
   "cell_type": "code",
   "execution_count": null,
   "id": "2ca52e82",
   "metadata": {},
   "outputs": [],
   "source": [
    "n_events_1, n_events_2 = cd.n_events"
   ]
  },
  {
   "cell_type": "code",
   "execution_count": null,
   "id": "7cb3047b",
   "metadata": {},
   "outputs": [],
   "source": [
    "lmbd1 = (n_events_1 / (T - tau_max)) * 1000.0\n",
    "lmbd2 = (n_events_2 / (T - tau_max)) * 1000.0"
   ]
  },
  {
   "cell_type": "code",
   "execution_count": null,
   "id": "437115ab",
   "metadata": {},
   "outputs": [],
   "source": [
    "spikes = sr.get(\"events\", \"senders\")"
   ]
  },
  {
   "cell_type": "code",
   "execution_count": null,
   "id": "48ff50be",
   "metadata": {},
   "outputs": [],
   "source": [
    "sp1 = spikes[spikes == 4]\n",
    "sp2 = spikes[spikes == 5]"
   ]
  },
  {
   "cell_type": "code",
   "execution_count": null,
   "id": "38799b9c",
   "metadata": {},
   "outputs": [],
   "source": [
    "# Find crosscorrelation\n",
    "cross = corr_spikes_sorted(sp1, sp2, t_bin, tau_max, resolution)"
   ]
  },
  {
   "cell_type": "code",
   "execution_count": null,
   "id": "c0a85524",
   "metadata": {},
   "outputs": [],
   "source": [
    "print(\"Crosscorrelation:\")\n",
    "print(cross)\n",
    "print(\"Sum of crosscorrelation:\")\n",
    "print(sum(cross))"
   ]
  }
 ],
 "metadata": {
  "jupytext": {
   "cell_metadata_filter": "-all",
   "encoding": "# -*- coding: utf-8 -*-"
  },
  "kernelspec": {
   "display_name": "EBRAINS-24.04",
   "language": "python",
   "name": "ebrains-24.04"
  }
 },
 "nbformat": 4,
 "nbformat_minor": 5
}
