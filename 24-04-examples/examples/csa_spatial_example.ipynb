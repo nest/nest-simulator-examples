{
 "cells": [
  {
   "cell_type": "code",
   "execution_count": null,
   "id": "19c6a260",
   "metadata": {},
   "outputs": [],
   "source": [
    "%matplotlib inline"
   ]
  },
  {
   "cell_type": "code",
   "execution_count": null,
   "id": "bb679cb8",
   "metadata": {},
   "outputs": [],
   "source": [
    "#\n",
    "# csa_spatial_example.py\n",
    "#\n",
    "# This file is part of NEST.\n",
    "#\n",
    "# Copyright (C) 2004 The NEST Initiative\n",
    "#\n",
    "# NEST is free software: you can redistribute it and/or modify\n",
    "# it under the terms of the GNU General Public License as published by\n",
    "# the Free Software Foundation, either version 2 of the License, or\n",
    "# (at your option) any later version.\n",
    "#\n",
    "# NEST is distributed in the hope that it will be useful,\n",
    "# but WITHOUT ANY WARRANTY; without even the implied warranty of\n",
    "# MERCHANTABILITY or FITNESS FOR A PARTICULAR PURPOSE.  See the\n",
    "# GNU General Public License for more details.\n",
    "#\n",
    "# You should have received a copy of the GNU General Public License\n",
    "# along with NEST.  If not, see <http://www.gnu.org/licenses/>."
   ]
  },
  {
   "cell_type": "markdown",
   "id": "23db9f1d",
   "metadata": {
    "cell_marker": "\"\"\""
   },
   "source": [
    "Using CSA with spatial populations\n",
    "----------------------------------\n",
    "\n",
    "This example shows a brute-force way of specifying connections between\n",
    "NEST populations with spatial data using Connection Set Algebra instead of\n",
    "the built-in connection routines.\n",
    "\n",
    "Using the CSA requires NEST to be compiled with support for\n",
    "libneurosim. For details, see [1]_.\n",
    "\n",
    "See Also\n",
    "~~~~~~~~\n",
    "\n",
    ":doc:`csa_example`\n",
    "\n",
    "References\n",
    "~~~~~~~~~~\n",
    "\n",
    ".. [1] Djurfeldt M, Davison AP and Eppler JM (2014). Efficient generation of\n",
    "       connectivity in neuronal networks from simulator-independent\n",
    "       descriptions. Front. Neuroinform.\n",
    "       https://doi.org/10.3389/fninf.2014.00043\n"
   ]
  },
  {
   "cell_type": "markdown",
   "id": "880e20cb",
   "metadata": {},
   "source": [
    "First, we import all necessary modules."
   ]
  },
  {
   "cell_type": "code",
   "execution_count": null,
   "id": "71c87fe3",
   "metadata": {},
   "outputs": [],
   "source": [
    "import matplotlib.pyplot as plt\n",
    "import nest"
   ]
  },
  {
   "cell_type": "markdown",
   "id": "b34ec9a0",
   "metadata": {},
   "source": [
    "Next, we check for the availability of the CSA Python module. If it does\n",
    "not import, we exit with an error message."
   ]
  },
  {
   "cell_type": "code",
   "execution_count": null,
   "id": "c93e0392",
   "metadata": {},
   "outputs": [],
   "source": [
    "try:\n",
    "    import csa\n",
    "\n",
    "    haveCSA = True\n",
    "except ImportError:\n",
    "    print(\n",
    "        \"This example requires CSA to be installed in order to run.\\n\"\n",
    "        + \"Please make sure you compiled NEST using\\n\"\n",
    "        + \"  -Dwith-libneurosim=[OFF|ON|</path/to/libneurosim>]\\n\"\n",
    "        + \"and CSA and libneurosim are available.\"\n",
    "    )\n",
    "    import sys\n",
    "\n",
    "    sys.exit(1)"
   ]
  },
  {
   "cell_type": "markdown",
   "id": "d9cebb27",
   "metadata": {},
   "source": [
    "We define a factory that returns a CSA-style geometry function for\n",
    "the given layer. The function returned will return for each CSA-index\n",
    "the position in space of the given neuron as a 2- or 3-element list.\n",
    "\n",
    "This function stores a copy of the neuron positions internally, entailing\n",
    "memory overhead."
   ]
  },
  {
   "cell_type": "code",
   "execution_count": null,
   "id": "80c1bf37",
   "metadata": {
    "lines_to_next_cell": 1
   },
   "outputs": [],
   "source": [
    "\n",
    "def geometryFunction(population):\n",
    "    positions = nest.GetPosition(population)\n",
    "\n",
    "    def geometry_function(idx):\n",
    "        return positions[idx]\n",
    "\n",
    "    return geometry_function\n"
   ]
  },
  {
   "cell_type": "markdown",
   "id": "7f591769",
   "metadata": {},
   "source": [
    "We create two spatial populations that have 20x20 neurons of type\n",
    "``iaf_psc_alpha``."
   ]
  },
  {
   "cell_type": "code",
   "execution_count": null,
   "id": "389acf5c",
   "metadata": {},
   "outputs": [],
   "source": [
    "pop1 = nest.Create(\"iaf_psc_alpha\", positions=nest.spatial.grid([20, 20]))\n",
    "pop2 = nest.Create(\"iaf_psc_alpha\", positions=nest.spatial.grid([20, 20]))"
   ]
  },
  {
   "cell_type": "markdown",
   "id": "6391b67d",
   "metadata": {},
   "source": [
    "For each population, we create a CSA-style geometry function and a CSA metric\n",
    "based on them."
   ]
  },
  {
   "cell_type": "code",
   "execution_count": null,
   "id": "3ee1f69a",
   "metadata": {},
   "outputs": [],
   "source": [
    "g1 = geometryFunction(pop1)\n",
    "g2 = geometryFunction(pop2)\n",
    "d = csa.euclidMetric2d(g1, g2)"
   ]
  },
  {
   "cell_type": "markdown",
   "id": "2dbbee46",
   "metadata": {},
   "source": [
    "The connection set `cg` describes a Gaussian connectivity profile with\n",
    "``sigma = 0.2`` and cutoff at 0.5, and two values (10000.0 and 1.0) used as\n",
    "``weight`` and ``delay``, respectively."
   ]
  },
  {
   "cell_type": "code",
   "execution_count": null,
   "id": "4176c371",
   "metadata": {},
   "outputs": [],
   "source": [
    "cg = csa.cset(csa.random * (csa.gaussian(0.2, 0.5) * d), 10000.0, 1.0)"
   ]
  },
  {
   "cell_type": "markdown",
   "id": "34ecc244",
   "metadata": {},
   "source": [
    "We can now connect the populations using the ``Connect`` function\n",
    "with the ``conngen`` rule. It takes the IDs of pre- and postsynaptic\n",
    "neurons (``pop1`` and ``pop2``), the connection set (``cg``) and a\n",
    "dictionary that map the parameters weight and delay to positions in\n",
    "the value set associated with the connection set (``params_map``)."
   ]
  },
  {
   "cell_type": "code",
   "execution_count": null,
   "id": "ff55a504",
   "metadata": {},
   "outputs": [],
   "source": [
    "params_map = {\"weight\": 0, \"delay\": 1}\n",
    "connspec = {\"rule\": \"conngen\", \"cg\": cg, \"params_map\": params_map}\n",
    "nest.Connect(pop1, pop2, connspec)"
   ]
  },
  {
   "cell_type": "markdown",
   "id": "0443886f",
   "metadata": {},
   "source": [
    "Finally, we use the ``PlotTargets`` function to show all targets in `pop2`\n",
    "starting at the center neuron of `pop1`."
   ]
  },
  {
   "cell_type": "code",
   "execution_count": null,
   "id": "db98b2d3",
   "metadata": {},
   "outputs": [],
   "source": [
    "cntr = nest.FindCenterElement(pop1)\n",
    "nest.PlotTargets(cntr, pop2)\n",
    "plt.show()"
   ]
  }
 ],
 "metadata": {
  "jupytext": {
   "cell_metadata_filter": "-all",
   "encoding": "# -*- coding: utf-8 -*-"
  },
  "kernelspec": {
   "display_name": "EBRAINS-24.04",
   "language": "python",
   "name": "ebrains-24.04"
  }
 },
 "nbformat": 4,
 "nbformat_minor": 5
}
