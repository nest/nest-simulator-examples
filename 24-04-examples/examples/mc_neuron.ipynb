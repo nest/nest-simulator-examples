{
 "cells": [
  {
   "cell_type": "code",
   "execution_count": null,
   "id": "647c3be2",
   "metadata": {},
   "outputs": [],
   "source": [
    "%matplotlib inline"
   ]
  },
  {
   "cell_type": "code",
   "execution_count": null,
   "id": "0cdc7c0a",
   "metadata": {},
   "outputs": [],
   "source": [
    "#\n",
    "# mc_neuron.py\n",
    "#\n",
    "# This file is part of NEST.\n",
    "#\n",
    "# Copyright (C) 2004 The NEST Initiative\n",
    "#\n",
    "# NEST is free software: you can redistribute it and/or modify\n",
    "# it under the terms of the GNU General Public License as published by\n",
    "# the Free Software Foundation, either version 2 of the License, or\n",
    "# (at your option) any later version.\n",
    "#\n",
    "# NEST is distributed in the hope that it will be useful,\n",
    "# but WITHOUT ANY WARRANTY; without even the implied warranty of\n",
    "# MERCHANTABILITY or FITNESS FOR A PARTICULAR PURPOSE.  See the\n",
    "# GNU General Public License for more details.\n",
    "#\n",
    "# You should have received a copy of the GNU General Public License\n",
    "# along with NEST.  If not, see <http://www.gnu.org/licenses/>."
   ]
  },
  {
   "cell_type": "markdown",
   "id": "a8af36aa",
   "metadata": {
    "cell_marker": "\"\"\""
   },
   "source": [
    "Multi-compartment neuron example\n",
    "--------------------------------\n",
    "\n",
    "Simple example of how to use the three-compartment ``iaf_cond_alpha_mc``\n",
    "neuron model.\n",
    "\n",
    "Three stimulation paradigms are illustrated:\n",
    "\n",
    " - externally applied current, one compartment at a time\n",
    " - spikes impinging on each compartment, one at a time\n",
    " - rheobase current injected to soma causing output spikes\n",
    "\n",
    "Voltage and synaptic conductance traces are shown for all compartments.\n"
   ]
  },
  {
   "cell_type": "markdown",
   "id": "21a5f353",
   "metadata": {
    "cell_marker": "##############################################################################"
   },
   "source": [
    "First, we import all necessary modules to simulate, analyze and plot this\n",
    "example."
   ]
  },
  {
   "cell_type": "code",
   "execution_count": null,
   "id": "c810e1ce",
   "metadata": {},
   "outputs": [],
   "source": [
    "\n",
    "import matplotlib.pyplot as plt\n",
    "import nest\n",
    "\n",
    "nest.ResetKernel()"
   ]
  },
  {
   "cell_type": "markdown",
   "id": "5008e174",
   "metadata": {
    "cell_marker": "##############################################################################"
   },
   "source": [
    "We then extract the receptor types and the list of recordable quantities\n",
    "from the neuron model. Receptor types and recordable quantities uniquely\n",
    "define the receptor type and the compartment while establishing synaptic\n",
    "connections or assigning multimeters."
   ]
  },
  {
   "cell_type": "code",
   "execution_count": null,
   "id": "c35e2c8d",
   "metadata": {},
   "outputs": [],
   "source": [
    "\n",
    "syns = nest.GetDefaults(\"iaf_cond_alpha_mc\")[\"receptor_types\"]\n",
    "print(f\"iaf_cond_alpha_mc receptor_types: {syns}\")\n",
    "\n",
    "rqs = nest.GetDefaults(\"iaf_cond_alpha_mc\")[\"recordables\"]\n",
    "print(f\"iaf_cond_alpha_mc recordables   : {rqs}\")"
   ]
  },
  {
   "cell_type": "markdown",
   "id": "f32d956f",
   "metadata": {},
   "source": [
    "The simulation parameters are assigned to variables."
   ]
  },
  {
   "cell_type": "code",
   "execution_count": null,
   "id": "80c1e494",
   "metadata": {},
   "outputs": [],
   "source": [
    "params = {\n",
    "    \"V_th\": -60.0,  # threshold potential\n",
    "    \"V_reset\": -65.0,  # reset potential\n",
    "    \"t_ref\": 10.0,  # refractory period\n",
    "    \"g_sp\": 5.0,  # somato-proximal coupling conductance\n",
    "    \"soma\": {\"g_L\": 12.0},  # somatic leak conductance\n",
    "    # proximal excitatory and inhibitory synaptic time constants\n",
    "    \"proximal\": {\"tau_syn_ex\": 1.0, \"tau_syn_in\": 5.0},\n",
    "    \"distal\": {\"C_m\": 90.0},  # distal capacitance\n",
    "}"
   ]
  },
  {
   "cell_type": "markdown",
   "id": "36806a63",
   "metadata": {},
   "source": [
    "The nodes are created using ``Create``. We store the returned handles\n",
    "in variables for later reference."
   ]
  },
  {
   "cell_type": "code",
   "execution_count": null,
   "id": "03199360",
   "metadata": {},
   "outputs": [],
   "source": [
    "n = nest.Create(\"iaf_cond_alpha_mc\", params=params)"
   ]
  },
  {
   "cell_type": "markdown",
   "id": "781efd3c",
   "metadata": {},
   "source": [
    "A ``multimeter`` is created and connected to the neurons. The parameters\n",
    "specified for the multimeter include the list of quantities that should be\n",
    "recorded and the time interval at which quantities are measured."
   ]
  },
  {
   "cell_type": "code",
   "execution_count": null,
   "id": "6a2756ac",
   "metadata": {},
   "outputs": [],
   "source": [
    "mm = nest.Create(\"multimeter\", params={\"record_from\": rqs, \"interval\": 0.1})\n",
    "nest.Connect(mm, n)"
   ]
  },
  {
   "cell_type": "markdown",
   "id": "7c1e231e",
   "metadata": {},
   "source": [
    "We create one current generator per compartment and configure a stimulus\n",
    "regime that drives distal, proximal and soma dendrites, in that order.\n",
    "Configuration of the current generator includes the definition of the start\n",
    "and stop times and the amplitude of the injected current."
   ]
  },
  {
   "cell_type": "code",
   "execution_count": null,
   "id": "d023bb8d",
   "metadata": {},
   "outputs": [],
   "source": [
    "cgs = nest.Create(\"dc_generator\", 3)\n",
    "cgs[0].set(start=250.0, stop=300.0, amplitude=50.0)  # soma\n",
    "cgs[1].set(start=150.0, stop=200.0, amplitude=-50.0)  # proxim.\n",
    "cgs[2].set(start=50.0, stop=100.0, amplitude=100.0)  # distal"
   ]
  },
  {
   "cell_type": "markdown",
   "id": "c1edf1c7",
   "metadata": {},
   "source": [
    "Generators are then connected to the correct compartments. Specification of\n",
    "the ``receptor_type`` uniquely defines the target compartment and receptor."
   ]
  },
  {
   "cell_type": "code",
   "execution_count": null,
   "id": "a36a2d15",
   "metadata": {},
   "outputs": [],
   "source": [
    "nest.Connect(cgs[0], n, syn_spec={\"receptor_type\": syns[\"soma_curr\"]})\n",
    "nest.Connect(cgs[1], n, syn_spec={\"receptor_type\": syns[\"proximal_curr\"]})\n",
    "nest.Connect(cgs[2], n, syn_spec={\"receptor_type\": syns[\"distal_curr\"]})"
   ]
  },
  {
   "cell_type": "markdown",
   "id": "a29f6db4",
   "metadata": {},
   "source": [
    "We create one excitatory and one inhibitory spike generator per compartment\n",
    "and configure a regime that drives distal, proximal and soma dendrites, in\n",
    "that order, alternating the excitatory and inhibitory spike generators."
   ]
  },
  {
   "cell_type": "code",
   "execution_count": null,
   "id": "a7c0eef7",
   "metadata": {},
   "outputs": [],
   "source": [
    "sgs = nest.Create(\"spike_generator\", 6)\n",
    "sgs[0].spike_times = [600.0, 620.0]  # soma excitatory\n",
    "sgs[1].spike_times = [610.0, 630.0]  # soma inhibitory\n",
    "sgs[2].spike_times = [500.0, 520.0]  # proximal excitatory\n",
    "sgs[3].spike_times = [510.0, 530.0]  # proximal inhibitory\n",
    "sgs[4].spike_times = [400.0, 420.0]  # distal excitatory\n",
    "sgs[5].spike_times = [410.0, 430.0]  # distal inhibitory"
   ]
  },
  {
   "cell_type": "markdown",
   "id": "559d091c",
   "metadata": {},
   "source": [
    "Connect generators to correct compartments in the same way as in case of\n",
    "current generator"
   ]
  },
  {
   "cell_type": "code",
   "execution_count": null,
   "id": "8a567565",
   "metadata": {},
   "outputs": [],
   "source": [
    "nest.Connect(sgs[0], n, syn_spec={\"receptor_type\": syns[\"soma_exc\"]})\n",
    "nest.Connect(sgs[1], n, syn_spec={\"receptor_type\": syns[\"soma_inh\"]})\n",
    "nest.Connect(sgs[2], n, syn_spec={\"receptor_type\": syns[\"proximal_exc\"]})\n",
    "nest.Connect(sgs[3], n, syn_spec={\"receptor_type\": syns[\"proximal_inh\"]})\n",
    "nest.Connect(sgs[4], n, syn_spec={\"receptor_type\": syns[\"distal_exc\"]})\n",
    "nest.Connect(sgs[5], n, syn_spec={\"receptor_type\": syns[\"distal_inh\"]})"
   ]
  },
  {
   "cell_type": "markdown",
   "id": "1f998042",
   "metadata": {},
   "source": [
    "Run the simulation for 700 ms."
   ]
  },
  {
   "cell_type": "code",
   "execution_count": null,
   "id": "8737eee6",
   "metadata": {},
   "outputs": [],
   "source": [
    "nest.Simulate(700)"
   ]
  },
  {
   "cell_type": "markdown",
   "id": "353c9b35",
   "metadata": {},
   "source": [
    "Now we set the intrinsic current of soma to 150 pA to make the neuron spike."
   ]
  },
  {
   "cell_type": "code",
   "execution_count": null,
   "id": "7a2eea3d",
   "metadata": {},
   "outputs": [],
   "source": [
    "n.soma = {\"I_e\": 150.0}"
   ]
  },
  {
   "cell_type": "markdown",
   "id": "2f6d63e2",
   "metadata": {},
   "source": [
    "We simulate the network for another 300 ms and retrieve recorded data from\n",
    "the multimeter"
   ]
  },
  {
   "cell_type": "code",
   "execution_count": null,
   "id": "9cb466b0",
   "metadata": {},
   "outputs": [],
   "source": [
    "nest.Simulate(300)\n",
    "rec = mm.events"
   ]
  },
  {
   "cell_type": "markdown",
   "id": "b46573f1",
   "metadata": {},
   "source": [
    "We create an array with the time points when the quantities were actually\n",
    "recorded"
   ]
  },
  {
   "cell_type": "code",
   "execution_count": null,
   "id": "ee0dcc53",
   "metadata": {},
   "outputs": [],
   "source": [
    "t = rec[\"times\"]"
   ]
  },
  {
   "cell_type": "markdown",
   "id": "fd7619b2",
   "metadata": {},
   "source": [
    "We plot the time traces of the membrane potential and the state of each\n",
    "membrane potential for soma, proximal, and distal dendrites (`V_m.s`, `V_m.p`\n",
    "and `V_m.d`)."
   ]
  },
  {
   "cell_type": "code",
   "execution_count": null,
   "id": "e5aba648",
   "metadata": {},
   "outputs": [],
   "source": [
    "plt.figure()\n",
    "plt.subplot(211)\n",
    "plt.plot(t, rec[\"V_m.s\"], t, rec[\"V_m.p\"], t, rec[\"V_m.d\"])\n",
    "plt.legend((\"Soma\", \"Proximal dendrite\", \"Distal dendrite\"), loc=\"lower right\")\n",
    "plt.axis([0, 1000, -76, -59])\n",
    "plt.ylabel(\"Membrane potential [mV]\")\n",
    "plt.title(\"Responses of iaf_cond_alpha_mc neuron\")"
   ]
  },
  {
   "cell_type": "markdown",
   "id": "1b5b5556",
   "metadata": {},
   "source": [
    "Finally, we plot the time traces of the synaptic conductance measured in\n",
    "each compartment."
   ]
  },
  {
   "cell_type": "code",
   "execution_count": null,
   "id": "e810f6ef",
   "metadata": {},
   "outputs": [],
   "source": [
    "plt.subplot(212)\n",
    "plt.plot(t, rec[\"g_ex.s\"], \"b-\", t, rec[\"g_ex.p\"], \"g-\", t, rec[\"g_ex.d\"], \"r-\")\n",
    "plt.plot(t, rec[\"g_in.s\"], \"b--\", t, rec[\"g_in.p\"], \"g--\", t, rec[\"g_in.d\"], \"r--\")\n",
    "plt.legend((\"g_ex.s\", \"g_ex.p\", \"g_in.d\", \"g_in.s\", \"g_in.p\", \"g_in.d\"))\n",
    "plt.axis([350, 700, 0, 1.15])\n",
    "plt.xlabel(\"Time [ms]\")\n",
    "plt.ylabel(\"Synaptic conductance [nS]\")\n",
    "plt.show()"
   ]
  }
 ],
 "metadata": {
  "jupytext": {
   "cell_metadata_filter": "-all",
   "encoding": "# -*- coding: utf-8 -*-"
  },
  "kernelspec": {
   "display_name": "EBRAINS-24.04",
   "language": "python",
   "name": "ebrains-24.04"
  }
 },
 "nbformat": 4,
 "nbformat_minor": 5
}
