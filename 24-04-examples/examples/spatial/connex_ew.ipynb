{
 "cells": [
  {
   "cell_type": "code",
   "execution_count": null,
   "id": "2674f2f4",
   "metadata": {},
   "outputs": [],
   "source": [
    "%matplotlib inline"
   ]
  },
  {
   "cell_type": "code",
   "execution_count": null,
   "id": "43188d37",
   "metadata": {},
   "outputs": [],
   "source": [
    "#\n",
    "# connex_ew.py\n",
    "#\n",
    "# This file is part of NEST.\n",
    "#\n",
    "# Copyright (C) 2004 The NEST Initiative\n",
    "#\n",
    "# NEST is free software: you can redistribute it and/or modify\n",
    "# it under the terms of the GNU General Public License as published by\n",
    "# the Free Software Foundation, either version 2 of the License, or\n",
    "# (at your option) any later version.\n",
    "#\n",
    "# NEST is distributed in the hope that it will be useful,\n",
    "# but WITHOUT ANY WARRANTY; without even the implied warranty of\n",
    "# MERCHANTABILITY or FITNESS FOR A PARTICULAR PURPOSE.  See the\n",
    "# GNU General Public License for more details.\n",
    "#\n",
    "# You should have received a copy of the GNU General Public License\n",
    "# along with NEST.  If not, see <http://www.gnu.org/licenses/>."
   ]
  },
  {
   "cell_type": "markdown",
   "id": "fd0fe2bd",
   "metadata": {
    "cell_marker": "\"\"\""
   },
   "source": [
    "Spatial networks: Circular mask and flat probability, with edge wrap\n",
    "--------------------------------------------------------------------\n",
    "\n",
    "Create two populations of iaf_psc_alpha neurons on a 30x30 grid with edge_wrap,\n",
    "connect with circular mask, flat probability,\n",
    "visualize.\n",
    "\n",
    "BCCN Tutorial @ CNS*09\n",
    "Hans Ekkehard Plesser, UMB"
   ]
  },
  {
   "cell_type": "code",
   "execution_count": null,
   "id": "a4ef781c",
   "metadata": {},
   "outputs": [],
   "source": [
    "import matplotlib.pyplot as plt\n",
    "import nest\n",
    "import numpy as np\n",
    "\n",
    "nest.ResetKernel()\n",
    "\n",
    "pos = nest.spatial.grid(shape=[30, 30], extent=[3.0, 3.0], edge_wrap=True)"
   ]
  },
  {
   "cell_type": "markdown",
   "id": "3114fc6a",
   "metadata": {
    "cell_marker": "#######################################################################",
    "lines_to_next_cell": 0
   },
   "source": [
    "create and connect two populations"
   ]
  },
  {
   "cell_type": "code",
   "execution_count": null,
   "id": "741b46c4",
   "metadata": {},
   "outputs": [],
   "source": [
    "a = nest.Create(\"iaf_psc_alpha\", positions=pos)\n",
    "b = nest.Create(\"iaf_psc_alpha\", positions=pos)\n",
    "\n",
    "cdict = {\"rule\": \"pairwise_bernoulli\", \"p\": 0.5, \"mask\": {\"circular\": {\"radius\": 0.5}}}\n",
    "\n",
    "nest.Connect(a, b, conn_spec=cdict, syn_spec={\"weight\": nest.random.uniform(0.5, 2.0)})\n",
    "\n",
    "plt.clf()"
   ]
  },
  {
   "cell_type": "markdown",
   "id": "11b7cf6c",
   "metadata": {
    "cell_marker": "#####################################################################"
   },
   "source": [
    "plot targets of neurons in different grid locations"
   ]
  },
  {
   "cell_type": "code",
   "execution_count": null,
   "id": "d9d71f04",
   "metadata": {},
   "outputs": [],
   "source": [
    "# first, clear existing figure, get current figure\n",
    "plt.clf()\n",
    "fig = plt.gcf()\n",
    "\n",
    "# plot targets of two source neurons into same figure, with mask\n",
    "for src_index in [30 * 15 + 15, 0]:\n",
    "    # obtain node id for center\n",
    "    src = a[src_index : src_index + 1]\n",
    "    nest.PlotTargets(src, b, mask=cdict[\"mask\"], fig=fig)\n",
    "\n",
    "# beautify\n",
    "plt.axes().set_xticks(np.arange(-1.5, 1.55, 0.5))\n",
    "plt.axes().set_yticks(np.arange(-1.5, 1.55, 0.5))\n",
    "plt.grid(True)\n",
    "plt.axis([-2.0, 2.0, -2.0, 2.0])\n",
    "plt.axes().set_aspect(\"equal\", \"box\")\n",
    "plt.title(\"Connection targets\")\n",
    "\n",
    "plt.show()\n",
    "\n",
    "# plt.savefig('connex_ew.pdf')"
   ]
  }
 ],
 "metadata": {
  "jupytext": {
   "cell_metadata_filter": "-all",
   "encoding": "# -*- coding: utf-8 -*-"
  },
  "kernelspec": {
   "display_name": "EBRAINS-24.04",
   "language": "python",
   "name": "ebrains-24.04"
  }
 },
 "nbformat": 4,
 "nbformat_minor": 5
}
