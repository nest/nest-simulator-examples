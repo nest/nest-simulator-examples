{
 "cells": [
  {
   "cell_type": "code",
   "execution_count": null,
   "id": "bcf11a43",
   "metadata": {},
   "outputs": [],
   "source": [
    "%matplotlib inline"
   ]
  },
  {
   "cell_type": "code",
   "execution_count": null,
   "id": "128c3fce",
   "metadata": {},
   "outputs": [],
   "source": [
    "#\n",
    "# CampbellSiegert.py\n",
    "#\n",
    "# This file is part of NEST.\n",
    "#\n",
    "# Copyright (C) 2004 The NEST Initiative\n",
    "#\n",
    "# NEST is free software: you can redistribute it and/or modify\n",
    "# it under the terms of the GNU General Public License as published by\n",
    "# the Free Software Foundation, either version 2 of the License, or\n",
    "# (at your option) any later version.\n",
    "#\n",
    "# NEST is distributed in the hope that it will be useful,\n",
    "# but WITHOUT ANY WARRANTY; without even the implied warranty of\n",
    "# MERCHANTABILITY or FITNESS FOR A PARTICULAR PURPOSE.  See the\n",
    "# GNU General Public License for more details.\n",
    "#\n",
    "# You should have received a copy of the GNU General Public License\n",
    "# along with NEST.  If not, see <http://www.gnu.org/licenses/>."
   ]
  },
  {
   "cell_type": "markdown",
   "id": "016371c3",
   "metadata": {
    "cell_marker": "\"\"\""
   },
   "source": [
    "Campbell & Siegert approximation example\n",
    "----------------------------------------\n",
    "\n",
    "Example script that applies Campbell's theorem and Siegert's rate\n",
    "approximation to and integrate-and-fire neuron.\n",
    "\n",
    "This script calculates the firing rate of an integrate-and-fire neuron\n",
    "in response to a series of Poisson generators, each specified with a\n",
    "rate and a synaptic weight. The calculated rate is compared with a\n",
    "simulation using the ``iaf_psc_alpha`` model\n",
    "\n",
    "\n",
    "\n",
    "References\n",
    "~~~~~~~~~~\n",
    "\n",
    " .. [1] Papoulis A (1991). Probability, Random Variables, and\n",
    "        Stochastic Processes, McGraw-Hill\n",
    " .. [2] Siegert AJ (1951). On the first passage time probability problem,\n",
    "        Phys Rev 81: 617-623\n",
    "\n",
    "Authors\n",
    "~~~~~~~\n",
    "\n",
    "S. Schrader, Siegert implementation by T. Tetzlaff"
   ]
  },
  {
   "cell_type": "markdown",
   "id": "ee011998",
   "metadata": {},
   "source": [
    "First, we import all necessary modules for simulation and analysis. Scipy\n",
    "should be imported before nest."
   ]
  },
  {
   "cell_type": "code",
   "execution_count": null,
   "id": "003d2060",
   "metadata": {},
   "outputs": [],
   "source": [
    "import nest\n",
    "import numpy as np\n",
    "from scipy.optimize import fmin\n",
    "from scipy.special import erf"
   ]
  },
  {
   "cell_type": "markdown",
   "id": "a81253b2",
   "metadata": {},
   "source": [
    "We first set the parameters of neurons, noise and the simulation. First\n",
    "settings are with a single Poisson source, second is with two Poisson\n",
    "sources with half the rate of the single source. Both should lead to the\n",
    "same results."
   ]
  },
  {
   "cell_type": "code",
   "execution_count": null,
   "id": "c71df9be",
   "metadata": {},
   "outputs": [],
   "source": [
    "weights = [0.1]  # (mV) psp amplitudes\n",
    "rates = [10000.0]  # (1/s) rate of Poisson sources\n",
    "# weights = [0.1, 0.1]    # (mV) psp amplitudes\n",
    "# rates = [5000., 5000.]  # (1/s) rate of Poisson sources\n",
    "\n",
    "C_m = 250.0  # (pF) capacitance\n",
    "E_L = -70.0  # (mV) resting potential\n",
    "I_e = 0.0  # (nA) external current\n",
    "V_reset = -70.0  # (mV) reset potential\n",
    "V_th = -55.0  # (mV) firing threshold\n",
    "t_ref = 2.0  # (ms) refractory period\n",
    "tau_m = 10.0  # (ms) membrane time constant\n",
    "tau_syn_ex = 0.5  # (ms) excitatory synaptic time constant\n",
    "tau_syn_in = 2.0  # (ms) inhibitory synaptic time constant\n",
    "\n",
    "simtime = 20000  # (ms) duration of simulation\n",
    "n_neurons = 10  # number of simulated neurons"
   ]
  },
  {
   "cell_type": "markdown",
   "id": "71ae5185",
   "metadata": {},
   "source": [
    "For convenience we define some units."
   ]
  },
  {
   "cell_type": "code",
   "execution_count": null,
   "id": "3c5a4a5a",
   "metadata": {},
   "outputs": [],
   "source": [
    "pF = 1e-12\n",
    "ms = 1e-3\n",
    "pA = 1e-12\n",
    "mV = 1e-3\n",
    "\n",
    "mu = 0.0\n",
    "sigma2 = 0.0\n",
    "J = []\n",
    "\n",
    "assert len(weights) == len(rates)"
   ]
  },
  {
   "cell_type": "markdown",
   "id": "880608c0",
   "metadata": {},
   "source": [
    "In the following we analytically compute the firing rate of the neuron\n",
    "based on Campbell's theorem [1]_ and Siegerts approximation [2]_."
   ]
  },
  {
   "cell_type": "code",
   "execution_count": null,
   "id": "4bac8f41",
   "metadata": {},
   "outputs": [],
   "source": [
    "for rate, weight in zip(rates, weights):\n",
    "    if weight > 0:\n",
    "        tau_syn = tau_syn_ex\n",
    "    else:\n",
    "        tau_syn = tau_syn_in\n",
    "\n",
    "    # We define the form of a single PSP, which allows us to match the\n",
    "    # maximal value to or chosen weight.\n",
    "\n",
    "    def psp(x):\n",
    "        return -(\n",
    "            (C_m * pF)\n",
    "            / (tau_syn * ms)\n",
    "            * (1 / (C_m * pF))\n",
    "            * (np.exp(1) / (tau_syn * ms))\n",
    "            * (\n",
    "                ((-x * np.exp(-x / (tau_syn * ms))) / (1 / (tau_syn * ms) - 1 / (tau_m * ms)))\n",
    "                + (np.exp(-x / (tau_m * ms)) - np.exp(-x / (tau_syn * ms)))\n",
    "                / ((1 / (tau_syn * ms) - 1 / (tau_m * ms)) ** 2)\n",
    "            )\n",
    "        )\n",
    "\n",
    "    min_result = fmin(psp, [0], full_output=1, disp=0)\n",
    "\n",
    "    # We need to calculate the PSC amplitude (i.e., the weight we set in NEST)\n",
    "    # from the PSP amplitude, that we have specified above.\n",
    "\n",
    "    fudge = -1.0 / min_result[1]\n",
    "    J.append(C_m * weight / (tau_syn) * fudge)\n",
    "\n",
    "    # We now use Campbell's theorem to calculate mean and variance of\n",
    "    # the input due to the Poisson sources. The mean and variance add up\n",
    "    # for each Poisson source.\n",
    "\n",
    "    mu += rate * (J[-1] * pA) * (tau_syn * ms) * np.exp(1) * (tau_m * ms) / (C_m * pF)\n",
    "\n",
    "    sigma2 += (\n",
    "        rate\n",
    "        * (2 * tau_m * ms + tau_syn * ms)\n",
    "        * (J[-1] * pA * tau_syn * ms * np.exp(1) * tau_m * ms / (2 * (C_m * pF) * (tau_m * ms + tau_syn * ms))) ** 2\n",
    "    )\n",
    "\n",
    "mu += E_L * mV\n",
    "sigma = np.sqrt(sigma2)"
   ]
  },
  {
   "cell_type": "markdown",
   "id": "8d30a502",
   "metadata": {},
   "source": [
    "Having calculate mean and variance of the input, we can now employ\n",
    "Siegert's rate approximation."
   ]
  },
  {
   "cell_type": "code",
   "execution_count": null,
   "id": "8d247183",
   "metadata": {},
   "outputs": [],
   "source": [
    "num_iterations = 100\n",
    "upper = (V_th * mV - mu) / (sigma * np.sqrt(2))\n",
    "lower = (E_L * mV - mu) / (sigma * np.sqrt(2))\n",
    "interval = (upper - lower) / num_iterations\n",
    "tmpsum = 0.0\n",
    "for cu in range(0, num_iterations + 1):\n",
    "    u = lower + cu * interval\n",
    "    f = np.exp(u**2) * (1 + erf(u))\n",
    "    tmpsum += interval * np.sqrt(np.pi) * f\n",
    "r = 1.0 / (t_ref * ms + tau_m * ms * tmpsum)"
   ]
  },
  {
   "cell_type": "markdown",
   "id": "b2b8c706",
   "metadata": {},
   "source": [
    "We now simulate neurons receiving Poisson spike trains as input,\n",
    "and compare the theoretical result to the empirical value."
   ]
  },
  {
   "cell_type": "code",
   "execution_count": null,
   "id": "8533a733",
   "metadata": {},
   "outputs": [],
   "source": [
    "nest.ResetKernel()\n",
    "\n",
    "nest.set_verbosity(\"M_WARNING\")\n",
    "neurondict = {\n",
    "    \"V_th\": V_th,\n",
    "    \"tau_m\": tau_m,\n",
    "    \"tau_syn_ex\": tau_syn_ex,\n",
    "    \"tau_syn_in\": tau_syn_in,\n",
    "    \"C_m\": C_m,\n",
    "    \"E_L\": E_L,\n",
    "    \"t_ref\": t_ref,\n",
    "    \"V_m\": E_L,\n",
    "    \"V_reset\": E_L,\n",
    "}"
   ]
  },
  {
   "cell_type": "markdown",
   "id": "08827158",
   "metadata": {},
   "source": [
    "Neurons and devices are instantiated. We set a high threshold as we want\n",
    "free membrane potential. In addition we choose a small resolution for\n",
    "recording the membrane to collect good statistics."
   ]
  },
  {
   "cell_type": "code",
   "execution_count": null,
   "id": "a412e095",
   "metadata": {},
   "outputs": [],
   "source": [
    "n = nest.Create(\"iaf_psc_alpha\", n_neurons, params=neurondict)\n",
    "n_free = nest.Create(\"iaf_psc_alpha\", params=dict(neurondict, V_th=1e12))\n",
    "pg = nest.Create(\"poisson_generator\", len(rates), {\"rate\": rates})\n",
    "vm = nest.Create(\"voltmeter\", params={\"interval\": 0.1})\n",
    "sr = nest.Create(\"spike_recorder\")"
   ]
  },
  {
   "cell_type": "markdown",
   "id": "d07611be",
   "metadata": {},
   "source": [
    "We connect devices and neurons and start the simulation."
   ]
  },
  {
   "cell_type": "code",
   "execution_count": null,
   "id": "80b7f7eb",
   "metadata": {},
   "outputs": [],
   "source": [
    "pg_n_synspec = {\"weight\": np.tile(J, ((n_neurons), 1)), \"delay\": 0.1}\n",
    "nest.Connect(pg, n, syn_spec=pg_n_synspec)\n",
    "nest.Connect(pg, n_free, syn_spec={\"weight\": [J]})\n",
    "nest.Connect(vm, n_free)\n",
    "nest.Connect(n, sr)\n",
    "\n",
    "nest.Simulate(simtime)"
   ]
  },
  {
   "cell_type": "markdown",
   "id": "49ddc5d9",
   "metadata": {},
   "source": [
    "Here we read out the recorded membrane potential. The first 500 steps are\n",
    "omitted so initial transients do not perturb our results. We then print the\n",
    "results from theory and simulation."
   ]
  },
  {
   "cell_type": "code",
   "execution_count": null,
   "id": "1cf1ebe3",
   "metadata": {},
   "outputs": [],
   "source": [
    "v_free = vm.events[\"V_m\"]\n",
    "Nskip = 500\n",
    "print(f\"mean membrane potential (actual / calculated): {np.mean(v_free[Nskip:])} / {mu * 1000}\")\n",
    "print(f\"variance (actual / calculated): {np.var(v_free[Nskip:])} / {sigma2 * 1e6}\")\n",
    "print(f\"firing rate (actual / calculated): {sr.n_events / (n_neurons * simtime * ms)} / {r}\")"
   ]
  }
 ],
 "metadata": {
  "jupytext": {
   "cell_metadata_filter": "-all",
   "encoding": "# -*- coding: utf-8 -*-"
  },
  "kernelspec": {
   "display_name": "EBRAINS-24.04",
   "language": "python",
   "name": "ebrains-24.04"
  }
 },
 "nbformat": 4,
 "nbformat_minor": 5
}
