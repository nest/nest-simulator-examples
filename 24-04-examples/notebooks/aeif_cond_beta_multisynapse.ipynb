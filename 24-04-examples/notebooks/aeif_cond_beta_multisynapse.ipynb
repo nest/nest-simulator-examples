{
 "cells": [
  {
   "cell_type": "markdown",
   "id": "6f5b7c45",
   "metadata": {},
   "source": [
    "\n",
    "aeif_cond_beta_multisynapse.py\n",
    "\n",
    "This file is part of NEST.\n",
    "\n",
    "Copyright (C) 2004 The NEST Initiative\n",
    "\n",
    "NEST is free software: you can redistribute it and/or modify\n",
    "it under the terms of the GNU General Public License as published by\n",
    "the Free Software Foundation, either version 2 of the License, or\n",
    "(at your option) any later version.\n",
    "\n",
    "NEST is distributed in the hope that it will be useful,\n",
    "but WITHOUT ANY WARRANTY; without even the implied warranty of\n",
    "MERCHANTABILITY or FITNESS FOR A PARTICULAR PURPOSE.  See the\n",
    "GNU General Public License for more details.\n",
    "\n",
    "You should have received a copy of the GNU General Public License\n",
    "along with NEST.  If not, see <http://www.gnu.org/licenses/>."
   ]
  },
  {
   "cell_type": "code",
   "execution_count": null,
   "id": "d1ea45d5",
   "metadata": {},
   "outputs": [],
   "source": [
    "\"\"\"\n",
    "Example of an AEIF neuron with multiple synaptic rise and decay time constants\n",
    "------------------------------------------------------------------------------\n",
    "\n",
    "\"\"\""
   ]
  },
  {
   "cell_type": "code",
   "execution_count": null,
   "id": "cbbe2278",
   "metadata": {},
   "outputs": [],
   "source": [
    "import matplotlib.pyplot as plt\n",
    "import nest\n",
    "import numpy as np"
   ]
  },
  {
   "cell_type": "code",
   "execution_count": null,
   "id": "52947bee",
   "metadata": {},
   "outputs": [],
   "source": [
    "neuron = nest.Create(\"aeif_cond_beta_multisynapse\")\n",
    "nest.SetStatus(neuron, {\"V_peak\": 0.0, \"a\": 4.0, \"b\": 80.5})\n",
    "nest.SetStatus(\n",
    "    neuron, {\"E_rev\": [0.0, 0.0, 0.0, -85.0], \"tau_decay\": [50.0, 20.0, 20.0, 20.0], \"tau_rise\": [10.0, 10.0, 1.0, 1.0]}\n",
    ")"
   ]
  },
  {
   "cell_type": "code",
   "execution_count": null,
   "id": "90274f9e",
   "metadata": {},
   "outputs": [],
   "source": [
    "spike = nest.Create(\"spike_generator\", params={\"spike_times\": np.array([10.0])})"
   ]
  },
  {
   "cell_type": "code",
   "execution_count": null,
   "id": "47cf6c19",
   "metadata": {},
   "outputs": [],
   "source": [
    "voltmeter = nest.Create(\"voltmeter\")"
   ]
  },
  {
   "cell_type": "code",
   "execution_count": null,
   "id": "0a581309",
   "metadata": {},
   "outputs": [],
   "source": [
    "delays = [1.0, 300.0, 500.0, 700.0]\n",
    "w = [1.0, 1.0, 1.0, 1.0]\n",
    "for syn in range(4):\n",
    "    nest.Connect(\n",
    "        spike,\n",
    "        neuron,\n",
    "        syn_spec={\"synapse_model\": \"static_synapse\", \"receptor_type\": 1 + syn, \"weight\": w[syn], \"delay\": delays[syn]},\n",
    "    )"
   ]
  },
  {
   "cell_type": "code",
   "execution_count": null,
   "id": "a7a223ff",
   "metadata": {},
   "outputs": [],
   "source": [
    "nest.Connect(voltmeter, neuron)"
   ]
  },
  {
   "cell_type": "code",
   "execution_count": null,
   "id": "ed7b26c1",
   "metadata": {},
   "outputs": [],
   "source": [
    "nest.Simulate(1000.0)"
   ]
  },
  {
   "cell_type": "code",
   "execution_count": null,
   "id": "35c2ff20",
   "metadata": {},
   "outputs": [],
   "source": [
    "Vms = voltmeter.get(\"events\", \"V_m\")\n",
    "ts = voltmeter.get(\"events\", \"times\")"
   ]
  },
  {
   "cell_type": "code",
   "execution_count": null,
   "id": "6d30e7b8",
   "metadata": {},
   "outputs": [],
   "source": [
    "plt.plot(ts, Vms)\n",
    "plt.show()"
   ]
  }
 ],
 "metadata": {
  "jupytext": {
   "cell_metadata_filter": "-all",
   "encoding": "# -*- coding: utf-8 -*-"
  },
  "kernelspec": {
   "display_name": "EBRAINS-24.04",
   "language": "python",
   "name": "ebrains-24.04"
  }
 },
 "nbformat": 4,
 "nbformat_minor": 5
}
