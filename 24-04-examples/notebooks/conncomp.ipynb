{
 "cells": [
  {
   "cell_type": "code",
   "execution_count": null,
   "id": "37f360dc",
   "metadata": {},
   "outputs": [],
   "source": [
    "%matplotlib inline"
   ]
  },
  {
   "cell_type": "code",
   "execution_count": null,
   "id": "8c95823c",
   "metadata": {},
   "outputs": [],
   "source": [
    "#\n",
    "# conncomp.py\n",
    "#\n",
    "# This file is part of NEST.\n",
    "#\n",
    "# Copyright (C) 2004 The NEST Initiative\n",
    "#\n",
    "# NEST is free software: you can redistribute it and/or modify\n",
    "# it under the terms of the GNU General Public License as published by\n",
    "# the Free Software Foundation, either version 2 of the License, or\n",
    "# (at your option) any later version.\n",
    "#\n",
    "# NEST is distributed in the hope that it will be useful,\n",
    "# but WITHOUT ANY WARRANTY; without even the implied warranty of\n",
    "# MERCHANTABILITY or FITNESS FOR A PARTICULAR PURPOSE.  See the\n",
    "# GNU General Public License for more details.\n",
    "#\n",
    "# You should have received a copy of the GNU General Public License\n",
    "# along with NEST.  If not, see <http://www.gnu.org/licenses/>."
   ]
  },
  {
   "cell_type": "markdown",
   "id": "c6cf477f",
   "metadata": {
    "cell_marker": "\"\"\""
   },
   "source": [
    "Spatial networks: Pyramidal cells and interneurons\n",
    "--------------------------------------------------\n",
    "\n",
    "Create two populations of pyramidal cells and two populations of interneurons\n",
    "on a 30x30 grid. Connect with two projections, one pyr->pyr, one pyr->in, and\n",
    "visualize.\n",
    "\n",
    "BCCN Tutorial @ CNS*09\n",
    "Hans Ekkehard Plesser, UMB"
   ]
  },
  {
   "cell_type": "code",
   "execution_count": null,
   "id": "3beaa36a",
   "metadata": {},
   "outputs": [],
   "source": [
    "import matplotlib.pyplot as plt\n",
    "import nest\n",
    "import numpy as np\n",
    "\n",
    "nest.ResetKernel()\n",
    "nest.set_verbosity(\"M_WARNING\")\n",
    "\n",
    "nest.CopyModel(\"iaf_psc_alpha\", \"pyr\")\n",
    "nest.CopyModel(\"iaf_psc_alpha\", \"in\")"
   ]
  },
  {
   "cell_type": "markdown",
   "id": "a8ab07cc",
   "metadata": {
    "cell_marker": "#########################################################################",
    "lines_to_next_cell": 0
   },
   "source": [
    "same positions for all populations"
   ]
  },
  {
   "cell_type": "code",
   "execution_count": null,
   "id": "6ab2917b",
   "metadata": {},
   "outputs": [],
   "source": [
    "pos = nest.spatial.grid(shape=[30, 30], extent=[3.0, 3.0])\n",
    "\n",
    "a_pyr = nest.Create(\"pyr\", positions=pos)\n",
    "a_in = nest.Create(\"in\", positions=pos)\n",
    "\n",
    "b_pyr = nest.Create(\"pyr\", positions=pos)\n",
    "b_in = nest.Create(\"in\", positions=pos)\n",
    "\n",
    "nest.Connect(a_pyr, b_pyr, {\"rule\": \"pairwise_bernoulli\", \"p\": 0.5, \"mask\": {\"circular\": {\"radius\": 0.5}}})\n",
    "\n",
    "nest.Connect(a_pyr, b_in, {\"rule\": \"pairwise_bernoulli\", \"p\": 0.2, \"mask\": {\"circular\": {\"radius\": 1.0}}})\n",
    "\n",
    "plt.clf()"
   ]
  },
  {
   "cell_type": "markdown",
   "id": "90efcdbf",
   "metadata": {
    "cell_marker": "######################################################"
   },
   "source": [
    "plot targets of neurons in different grid locations\n",
    "obtain node id for center: pick first node of composite"
   ]
  },
  {
   "cell_type": "code",
   "execution_count": null,
   "id": "ce6b270a",
   "metadata": {},
   "outputs": [],
   "source": [
    "ctr_index = 30 * 15 + 15\n",
    "ctr_id = a_pyr[ctr_index : ctr_index + 1]\n",
    "\n",
    "# get all projection targets of center neuron\n",
    "conn = nest.GetConnections(ctr_id)\n",
    "tgts = conn.get(\"target\")\n",
    "\n",
    "tpyr = nest.GetTargetPositions(ctr_id, b_pyr)[0]\n",
    "tin = nest.GetTargetPositions(ctr_id, b_in)[0]\n",
    "\n",
    "tpyr_x = np.array([x for x, y in tpyr])\n",
    "tpyr_y = np.array([y for x, y in tpyr])\n",
    "tin_x = np.array([x for x, y in tin])\n",
    "tin_y = np.array([y for x, y in tin])\n",
    "\n",
    "# scatter-plot\n",
    "plt.scatter(tpyr_x - 0.02, tpyr_y - 0.02, 20, \"b\", zorder=10)\n",
    "plt.scatter(tin_x + 0.02, tin_y + 0.02, 20, \"r\", zorder=10)\n",
    "\n",
    "# mark locations with background grey circle\n",
    "plt.plot(\n",
    "    tpyr_x, tpyr_y, \"o\", markerfacecolor=(0.7, 0.7, 0.7), markersize=10, markeredgewidth=0, zorder=1, label=\"_nolegend_\"\n",
    ")\n",
    "plt.plot(\n",
    "    tin_x, tin_y, \"o\", markerfacecolor=(0.7, 0.7, 0.7), markersize=10, markeredgewidth=0, zorder=1, label=\"_nolegend_\"\n",
    ")\n",
    "\n",
    "# mark sender position with transparent red circle\n",
    "ctrpos = nest.GetPosition(ctr_id)\n",
    "plt.gca().add_patch(plt.Circle(ctrpos, radius=0.15, zorder=99, fc=\"r\", alpha=0.4, ec=\"none\"))\n",
    "\n",
    "# mark mask positions with open red/blue circles\n",
    "plt.gca().add_patch(plt.Circle(ctrpos, radius=0.5, zorder=2, fc=\"none\", ec=\"b\", lw=3))\n",
    "plt.gca().add_patch(plt.Circle(ctrpos, radius=1.0, zorder=2, fc=\"none\", ec=\"r\", lw=3))\n",
    "\n",
    "# mark layer edge\n",
    "plt.gca().add_patch(plt.Rectangle((-1.5, -1.5), 3.0, 3.0, zorder=1, fc=\"none\", ec=\"k\", lw=3))\n",
    "\n",
    "# beautify\n",
    "plt.axes().set_xticks(np.arange(-1.5, 1.55, 0.5))\n",
    "plt.axes().set_yticks(np.arange(-1.5, 1.55, 0.5))\n",
    "plt.grid(True)\n",
    "plt.axis([-1.6, 1.6, -1.6, 1.6])\n",
    "plt.axes().set_aspect(\"equal\", \"box\")\n",
    "plt.show()"
   ]
  }
 ],
 "metadata": {
  "jupytext": {
   "cell_metadata_filter": "-all",
   "encoding": "# -*- coding: utf-8 -*-"
  },
  "kernelspec": {
   "display_name": "EBRAINS-24.04",
   "language": "python",
   "name": "ebrains-24.04"
  }
 },
 "nbformat": 4,
 "nbformat_minor": 5
}
