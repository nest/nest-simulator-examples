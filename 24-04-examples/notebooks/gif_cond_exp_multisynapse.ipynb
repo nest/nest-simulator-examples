{
 "cells": [
  {
   "cell_type": "markdown",
   "id": "59f6e17a",
   "metadata": {},
   "source": [
    "\n",
    "gif_cond_exp_multisynapse.py\n",
    "\n",
    "This file is part of NEST.\n",
    "\n",
    "Copyright (C) 2004 The NEST Initiative\n",
    "\n",
    "NEST is free software: you can redistribute it and/or modify\n",
    "it under the terms of the GNU General Public License as published by\n",
    "the Free Software Foundation, either version 2 of the License, or\n",
    "(at your option) any later version.\n",
    "\n",
    "NEST is distributed in the hope that it will be useful,\n",
    "but WITHOUT ANY WARRANTY; without even the implied warranty of\n",
    "MERCHANTABILITY or FITNESS FOR A PARTICULAR PURPOSE.  See the\n",
    "GNU General Public License for more details.\n",
    "\n",
    "You should have received a copy of the GNU General Public License\n",
    "along with NEST.  If not, see <http://www.gnu.org/licenses/>."
   ]
  },
  {
   "cell_type": "code",
   "execution_count": null,
   "id": "048050d2",
   "metadata": {},
   "outputs": [],
   "source": [
    "\"\"\"\n",
    "Example network using generalized IAF neuron with postsynaptic conductances\n",
    "---------------------------------------------------------------------------\n",
    "\n",
    "\"\"\""
   ]
  },
  {
   "cell_type": "code",
   "execution_count": null,
   "id": "05bce78f",
   "metadata": {},
   "outputs": [],
   "source": [
    "import nest\n",
    "import numpy as np"
   ]
  },
  {
   "cell_type": "code",
   "execution_count": null,
   "id": "8b9af9b0",
   "metadata": {},
   "outputs": [],
   "source": [
    "neuron = nest.Create(\"gif_cond_exp_multisynapse\", params={\"E_rev\": [0.0, -85.0], \"tau_syn\": [4.0, 8.0]})"
   ]
  },
  {
   "cell_type": "code",
   "execution_count": null,
   "id": "82bb7028",
   "metadata": {},
   "outputs": [],
   "source": [
    "spike = nest.Create(\"spike_generator\", params={\"spike_times\": np.array([10.0])})"
   ]
  },
  {
   "cell_type": "code",
   "execution_count": null,
   "id": "b38922c1",
   "metadata": {},
   "outputs": [],
   "source": [
    "delays = [1.0, 30.0]\n",
    "w = [1.0, 5.0]\n",
    "for syn in range(2):\n",
    "    nest.Connect(\n",
    "        spike,\n",
    "        neuron,\n",
    "        syn_spec={\"synapse_model\": \"static_synapse\", \"receptor_type\": 1 + syn, \"weight\": w[syn], \"delay\": delays[syn]},\n",
    "    )\n",
    "nest.Simulate(100.0)"
   ]
  }
 ],
 "metadata": {
  "jupytext": {
   "cell_metadata_filter": "-all",
   "encoding": "# -*- coding: utf-8 -*-"
  },
  "kernelspec": {
   "display_name": "EBRAINS-24.04",
   "language": "python",
   "name": "ebrains-24.04"
  }
 },
 "nbformat": 4,
 "nbformat_minor": 5
}
