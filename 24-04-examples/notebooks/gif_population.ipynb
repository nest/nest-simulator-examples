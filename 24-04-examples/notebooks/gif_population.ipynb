{
 "cells": [
  {
   "cell_type": "code",
   "execution_count": null,
   "id": "9c676399",
   "metadata": {},
   "outputs": [],
   "source": [
    "%matplotlib inline"
   ]
  },
  {
   "cell_type": "code",
   "execution_count": null,
   "id": "cc3d22eb",
   "metadata": {},
   "outputs": [],
   "source": [
    "#\n",
    "# gif_population.py\n",
    "#\n",
    "# This file is part of NEST.\n",
    "#\n",
    "# Copyright (C) 2004 The NEST Initiative\n",
    "#\n",
    "# NEST is free software: you can redistribute it and/or modify\n",
    "# it under the terms of the GNU General Public License as published by\n",
    "# the Free Software Foundation, either version 2 of the License, or\n",
    "# (at your option) any later version.\n",
    "#\n",
    "# NEST is distributed in the hope that it will be useful,\n",
    "# but WITHOUT ANY WARRANTY; without even the implied warranty of\n",
    "# MERCHANTABILITY or FITNESS FOR A PARTICULAR PURPOSE.  See the\n",
    "# GNU General Public License for more details.\n",
    "#\n",
    "# You should have received a copy of the GNU General Public License\n",
    "# along with NEST.  If not, see <http://www.gnu.org/licenses/>."
   ]
  },
  {
   "cell_type": "markdown",
   "id": "d39cb797",
   "metadata": {
    "cell_marker": "\"\"\""
   },
   "source": [
    "Population of GIF neuron model with oscillatory behavior\n",
    "--------------------------------------------------------\n",
    "\n",
    "This script simulates a population of generalized integrate-and-fire (GIF)\n",
    "model neurons driven by noise from a group of Poisson generators.\n",
    "\n",
    "Due to spike-frequency adaptation, the GIF neurons tend to show oscillatory\n",
    "behavior on the time scale comparable with the time constant of adaptation\n",
    "elements (stc and sfa).\n",
    "\n",
    "Population dynamics are visualized by raster plot and as average firing rate.\n",
    "\n",
    "See [1]_ and [2]_ for details.\n",
    "\n",
    "References\n",
    "~~~~~~~~~~\n",
    "\n",
    ".. [1] Schwalger T, Degert M, Gerstner W (2017). Towards a theory of cortical columns: From spiking\n",
    "       neurons to interacting neural populations of finite size. PLoS Comput Biol.\n",
    "       https://doi.org/10.1371/journal.pcbi.1005507\n",
    "\n",
    ".. [2] Mensi S, Naud R, Pozzorini C, Avermann M, Petersen CC and\n",
    "       Gerstner W (2012). Parameter extraction and classification of\n",
    "       three cortical neuron types reveals two distinct adaptation\n",
    "       mechanisms. Journal of Neurophysiology. 107(6), pp.1756-1775."
   ]
  },
  {
   "cell_type": "markdown",
   "id": "f161fb6c",
   "metadata": {},
   "source": [
    "Import all necessary modules for simulation and plotting."
   ]
  },
  {
   "cell_type": "code",
   "execution_count": null,
   "id": "29b05662",
   "metadata": {},
   "outputs": [],
   "source": [
    "import matplotlib.pyplot as plt\n",
    "import nest\n",
    "import nest.raster_plot\n",
    "\n",
    "nest.ResetKernel()"
   ]
  },
  {
   "cell_type": "markdown",
   "id": "d2cd1da6",
   "metadata": {},
   "source": [
    "Assigning the simulation parameters to variables."
   ]
  },
  {
   "cell_type": "code",
   "execution_count": null,
   "id": "cb0eb0e1",
   "metadata": {},
   "outputs": [],
   "source": [
    "dt = 0.1\n",
    "simtime = 2000.0"
   ]
  },
  {
   "cell_type": "markdown",
   "id": "01bfbb32",
   "metadata": {},
   "source": [
    "Definition of neural parameters for the GIF model. These parameters are\n",
    "extracted by fitting the model to experimental data [2]_."
   ]
  },
  {
   "cell_type": "code",
   "execution_count": null,
   "id": "02aca20f",
   "metadata": {},
   "outputs": [],
   "source": [
    "\n",
    "neuron_params = {\n",
    "    \"C_m\": 83.1,\n",
    "    \"g_L\": 3.7,\n",
    "    \"E_L\": -67.0,\n",
    "    \"Delta_V\": 1.4,\n",
    "    \"V_T_star\": -39.6,\n",
    "    \"t_ref\": 4.0,\n",
    "    \"V_reset\": -36.7,\n",
    "    \"lambda_0\": 1.0,\n",
    "    \"q_stc\": [56.7, -6.9],\n",
    "    \"tau_stc\": [57.8, 218.2],\n",
    "    \"q_sfa\": [11.7, 1.8],\n",
    "    \"tau_sfa\": [53.8, 640.0],\n",
    "    \"tau_syn_ex\": 10.0,\n",
    "}"
   ]
  },
  {
   "cell_type": "markdown",
   "id": "07c20ccf",
   "metadata": {},
   "source": [
    "Definition of the parameters for the population of GIF neurons."
   ]
  },
  {
   "cell_type": "code",
   "execution_count": null,
   "id": "ccd312f9",
   "metadata": {},
   "outputs": [],
   "source": [
    "N_ex = 100  # size of the population\n",
    "p_ex = 0.3  # connection probability inside the population\n",
    "w_ex = 30.0  # synaptic weights inside the population (pA)"
   ]
  },
  {
   "cell_type": "markdown",
   "id": "c3564385",
   "metadata": {},
   "source": [
    "Definition of the parameters for the Poisson group and its connection with\n",
    "GIF neurons population."
   ]
  },
  {
   "cell_type": "code",
   "execution_count": null,
   "id": "6dd55064",
   "metadata": {},
   "outputs": [],
   "source": [
    "N_noise = 50  # size of Poisson group\n",
    "rate_noise = 10.0  # firing rate of Poisson neurons (Hz)\n",
    "w_noise = 20.0  # synaptic weights from Poisson to population neurons (pA)"
   ]
  },
  {
   "cell_type": "markdown",
   "id": "7ff790e8",
   "metadata": {},
   "source": [
    "Configuration of the simulation kernel with the previously defined time\n",
    "resolution."
   ]
  },
  {
   "cell_type": "code",
   "execution_count": null,
   "id": "94848173",
   "metadata": {},
   "outputs": [],
   "source": [
    "nest.resolution = dt"
   ]
  },
  {
   "cell_type": "markdown",
   "id": "caef7eab",
   "metadata": {},
   "source": [
    "Building a population of GIF neurons, a group of Poisson neurons and a\n",
    "spike recorder device for capturing spike times of the population."
   ]
  },
  {
   "cell_type": "code",
   "execution_count": null,
   "id": "3b203143",
   "metadata": {},
   "outputs": [],
   "source": [
    "population = nest.Create(\"gif_psc_exp\", N_ex, params=neuron_params)\n",
    "\n",
    "noise = nest.Create(\"poisson_generator\", N_noise, params={\"rate\": rate_noise})\n",
    "\n",
    "spike_det = nest.Create(\"spike_recorder\")"
   ]
  },
  {
   "cell_type": "markdown",
   "id": "0fc6e1de",
   "metadata": {},
   "source": [
    "Build connections inside the population of GIF neurons population, between\n",
    "Poisson group and the population, and also connecting spike recorder to\n",
    "the population."
   ]
  },
  {
   "cell_type": "code",
   "execution_count": null,
   "id": "b711ac19",
   "metadata": {},
   "outputs": [],
   "source": [
    "nest.Connect(population, population, {\"rule\": \"pairwise_bernoulli\", \"p\": p_ex}, syn_spec={\"weight\": w_ex})\n",
    "\n",
    "nest.Connect(noise, population, \"all_to_all\", syn_spec={\"weight\": w_noise})\n",
    "\n",
    "nest.Connect(population, spike_det)"
   ]
  },
  {
   "cell_type": "markdown",
   "id": "c141a14c",
   "metadata": {},
   "source": [
    "Simulation of the network."
   ]
  },
  {
   "cell_type": "code",
   "execution_count": null,
   "id": "03768362",
   "metadata": {},
   "outputs": [],
   "source": [
    "nest.Simulate(simtime)"
   ]
  },
  {
   "cell_type": "markdown",
   "id": "647e6c98",
   "metadata": {},
   "source": [
    "Plotting the results of simulation including raster plot and histogram of\n",
    "population activity."
   ]
  },
  {
   "cell_type": "code",
   "execution_count": null,
   "id": "400df7c0",
   "metadata": {},
   "outputs": [],
   "source": [
    "nest.raster_plot.from_device(spike_det, hist=True)\n",
    "plt.title(\"Population dynamics\")\n",
    "plt.show()"
   ]
  }
 ],
 "metadata": {
  "jupytext": {
   "cell_metadata_filter": "-all",
   "encoding": "# -*- coding: utf-8 -*-"
  },
  "kernelspec": {
   "display_name": "EBRAINS-24.04",
   "language": "python",
   "name": "ebrains-24.04"
  }
 },
 "nbformat": 4,
 "nbformat_minor": 5
}
