{
 "cells": [
  {
   "cell_type": "code",
   "execution_count": null,
   "id": "b093eb77",
   "metadata": {},
   "outputs": [],
   "source": [
    "%matplotlib inline"
   ]
  },
  {
   "cell_type": "code",
   "execution_count": null,
   "id": "18fc3df3",
   "metadata": {},
   "outputs": [],
   "source": [
    "#\n",
    "# iaf_tum_2000_short_term_facilitation.py\n",
    "#\n",
    "# This file is part of NEST.\n",
    "#\n",
    "# Copyright (C) 2004 The NEST Initiative\n",
    "#\n",
    "# NEST is free software: you can redistribute it and/or modify\n",
    "# it under the terms of the GNU General Public License as published by\n",
    "# the Free Software Foundation, either version 2 of the License, or\n",
    "# (at your option) any later version.\n",
    "#\n",
    "# NEST is distributed in the hope that it will be useful,\n",
    "# but WITHOUT ANY WARRANTY; without even the implied warranty of\n",
    "# MERCHANTABILITY or FITNESS FOR A PARTICULAR PURPOSE.  See the\n",
    "# GNU General Public License for more details.\n",
    "#\n",
    "# You should have received a copy of the GNU General Public License\n",
    "# along with NEST.  If not, see <http://www.gnu.org/licenses/>.\n",
    "\n",
    "r\"\"\"\n",
    "Short-term facilitation example\n",
    "-------------------------------\n",
    "\n",
    "The :doc:`iaf_tum_2000 </models/iaf_tum_2000>` neuron [1]_ is a model with\n",
    "*short-term synaptic plasticity*. Short-term plasticity can either strengthen\n",
    "or weaken a synapse and acts on a timescale of milliseconds to seconds. This\n",
    "example illustrates *short-term facilitation*, which is a transient increase\n",
    "in synaptic strength caused by influx of calcium into the axon terminal after\n",
    "spike generation. Facilitation results in an increase of neurotransmitters\n",
    "being released by each succeeding presynaptic spike.\n",
    "\n",
    "In the ``iaf_tum_2000`` model, a fraction :math:`u` of the available synaptic\n",
    "resources :math:`x` is used by each presynaptic spike (see Eq. 3 and 4 or\n",
    "Eq. 2.1 and 2.2 in [1]_ or [2]_, respectively). A parameter :math:`U \\in [0, 1]`\n",
    "determines the increase in :math:`u` with each spike. In a facilitating synapse,\n",
    ":math:`u` is increased with each presynaptic spike, which reflects the\n",
    "accumulation of calcium ions caused by spikes arriving in the presynaptic terminal,\n",
    "and returns to the baseline value with a time constant :math:`\\tau_\\mathrm{fac}`.\n",
    "\n",
    "In this example, we reproduce Figure 1B in [2]_. We connect two\n",
    "``iaf_tum_2000`` neurons. The presynaptic neuron is driven by DC input and\n",
    "we record the voltage trace of the postsynaptic neuron. Short-term facilitation\n",
    "is enabled by setting :math:`U` to a small value, which causes a slow saturation\n",
    "of the synaptic efficacy, enabling a facilitating behavior.\n",
    "\n",
    "For an example on *short-term depression*, see\n",
    ":doc:`../auto_examples/iaf_tum_2000_short_term_depression`.\n",
    "\n",
    ".. note::\n",
    "\n",
    "    The :doc:`iaf_tum_2000 </models/iaf_tum_2000>` neuron model combined with\n",
    "    :doc:`static_synapse </models/static_synapse>` provides a more efficient\n",
    "    implementation of the model studied in [1]_ and [2]_ than the combination\n",
    "    of :doc:`iaf_psc_exp </models/iaf_psc_exp>` with\n",
    "    :doc:`tsodyks_synapse </models/tsodyks_synapse>`.\n",
    "\n",
    "References\n",
    "~~~~~~~~~~\n",
    "\n",
    ".. [1] Tsodyks M, Uziel A, Markram H (2000). Synchrony generation in recurrent\n",
    "       networks with frequency-dependent synapses. The Journal of Neuroscience,\n",
    "       20,RC50:1-5. URL: https://infoscience.epfl.ch/record/183402\n",
    "\n",
    ".. [2] Tsodyks M, Pawelzik K, Markram H (1998). Neural networks with dynamic synapses. Neural\n",
    "       computation, http://dx.doi.org/10.1162/089976698300017502\n",
    "\n",
    "See Also\n",
    "~~~~~~~~\n",
    "\n",
    ":doc:`/models/iaf_tum_2000`, :doc:`iaf_tum_2000_short_term_depression`\n",
    "\"\"\"\n",
    "\n",
    "import matplotlib.pyplot as plt\n",
    "import nest\n",
    "import numpy as np"
   ]
  },
  {
   "cell_type": "markdown",
   "id": "7b33a089",
   "metadata": {},
   "source": [
    "First we make sure that the NEST kernel is reset and the resolution of the\n",
    "simulation is 0.1 ms. We also define the simulation time."
   ]
  },
  {
   "cell_type": "code",
   "execution_count": null,
   "id": "4480602a",
   "metadata": {},
   "outputs": [],
   "source": [
    "nest.ResetKernel()\n",
    "nest.resolution = 0.1  # simulation step size [ms]\n",
    "\n",
    "T_sim = 1200.0  # simulation time [ms]"
   ]
  },
  {
   "cell_type": "markdown",
   "id": "3c2ebdd8",
   "metadata": {},
   "source": [
    "We set the neuronal membrane parameters according to [2]_."
   ]
  },
  {
   "cell_type": "code",
   "execution_count": null,
   "id": "5cfc739d",
   "metadata": {},
   "outputs": [],
   "source": [
    "tau_m = 60.0  # membrane time constant [ms]\n",
    "R_m = 1.0  # membrane input resistance [GΩ]\n",
    "C_m = tau_m / R_m  # membrane capacitance [pF]\n",
    "V_th = 15.0  # threshold potential [mV]\n",
    "V_reset = 0.0  # reset potential [mV]\n",
    "t_ref = 2.0  # refractory period [ms]"
   ]
  },
  {
   "cell_type": "markdown",
   "id": "9a27a320",
   "metadata": {},
   "source": [
    "We create one current generator and configure a stimulus that will drive\n",
    "the presynaptic neuron. Configuration of the current generator includes the\n",
    "definition of the start and stop times and the amplitude of the injected\n",
    "current."
   ]
  },
  {
   "cell_type": "code",
   "execution_count": null,
   "id": "5dc11ee0",
   "metadata": {},
   "outputs": [],
   "source": [
    "stim_start = 50.0  # start time of DC input [ms]\n",
    "stim_end = 1050.0  # end time of DC input [ms]\n",
    "f = 20.0 / 1000.0  # frequency used in [2] [mHz]\n",
    "dc_amp = V_th * C_m / tau_m / (1 - np.exp(-(1 / f - t_ref) / tau_m))  # DC amplitude [pA]\n",
    "\n",
    "dc_gen = nest.Create(\n",
    "    \"dc_generator\",\n",
    "    1,\n",
    "    params={\"amplitude\": dc_amp, \"start\": stim_start, \"stop\": stim_end},\n",
    ")"
   ]
  },
  {
   "cell_type": "markdown",
   "id": "d1b17d16",
   "metadata": {},
   "source": [
    "Next, we set the synaptic parameters according to [2]_."
   ]
  },
  {
   "cell_type": "code",
   "execution_count": null,
   "id": "c87e47e7",
   "metadata": {},
   "outputs": [],
   "source": [
    "x = 1.0  # initial fraction of synaptic vesicles in the readily releasable pool\n",
    "u = 0.0  # initial release probability of synaptic vesicles\n",
    "U = 0.03  # fraction determining the increase in u with each spike\n",
    "tau_psc = 1.5  # decay constant of PSCs (tau_inact in [2]) [ms]\n",
    "tau_rec = 130.0  # recovery time from synaptic depression [ms]\n",
    "tau_fac = 530.0  # time constant for facilitation [ms]"
   ]
  },
  {
   "cell_type": "markdown",
   "id": "fd9cf047",
   "metadata": {},
   "source": [
    "We create two ``iaf_tum_2000`` neurons. Since this model integrates the\n",
    "synaptic dynamics in the presynaptic neuron, the synaptic parameters, except\n",
    "for ``weight`` and ``delay``, are provided together with the neuron parameters\n",
    "to the model."
   ]
  },
  {
   "cell_type": "code",
   "execution_count": null,
   "id": "373d1dca",
   "metadata": {},
   "outputs": [],
   "source": [
    "nrns = nest.Create(\n",
    "    \"iaf_tum_2000\",\n",
    "    2,\n",
    "    params={\n",
    "        \"C_m\": C_m,\n",
    "        \"tau_m\": tau_m,\n",
    "        \"tau_syn_ex\": tau_psc,\n",
    "        \"tau_syn_in\": tau_psc,\n",
    "        \"V_th\": V_th,\n",
    "        \"V_reset\": V_reset,\n",
    "        \"E_L\": V_reset,\n",
    "        \"V_m\": V_reset,\n",
    "        \"t_ref\": t_ref,\n",
    "        \"U\": U,\n",
    "        \"tau_psc\": tau_psc,\n",
    "        \"tau_rec\": tau_rec,\n",
    "        \"tau_fac\": tau_fac,\n",
    "        \"x\": x,\n",
    "        \"u\": u,\n",
    "    },\n",
    ")"
   ]
  },
  {
   "cell_type": "markdown",
   "id": "8b29db27",
   "metadata": {
    "lines_to_next_cell": 0
   },
   "source": [
    "We connect the DC generator to the presynaptic neuron."
   ]
  },
  {
   "cell_type": "code",
   "execution_count": null,
   "id": "91d2c66c",
   "metadata": {},
   "outputs": [],
   "source": [
    "nest.Connect(dc_gen, nrns[0])"
   ]
  },
  {
   "cell_type": "markdown",
   "id": "6b007576",
   "metadata": {},
   "source": [
    "We then connect the pre- and postsynaptic neurons. We use a ``static_synapse``\n",
    "to transfer the synaptic current computed in the presynaptic neuron. The\n",
    "synaptic weight and delay are passed with the static synapse's ``syn_spec``.\n",
    "Note that ``iaf_tum_2000`` neurons must be connected via ``receptor_type`` 1."
   ]
  },
  {
   "cell_type": "code",
   "execution_count": null,
   "id": "7797dd21",
   "metadata": {},
   "outputs": [],
   "source": [
    "weight = 1540.0  # synaptic weight [pA]\n",
    "delay = 0.1  # synaptic delay [ms]\n",
    "\n",
    "nest.Connect(\n",
    "    nrns[0],\n",
    "    nrns[1],\n",
    "    syn_spec={\n",
    "        \"synapse_model\": \"static_synapse\",\n",
    "        \"weight\": weight,\n",
    "        \"delay\": delay,\n",
    "        \"receptor_type\": 1,\n",
    "    },\n",
    ")"
   ]
  },
  {
   "cell_type": "markdown",
   "id": "2ecc0fb8",
   "metadata": {},
   "source": [
    "We add a ``voltmeter`` to sample the membrane potentials from the postsynaptic\n",
    "neuron in intervals of 1.0 ms. Note that the connection direction for the\n",
    "``voltmeter`` reflects the signal flow in the simulation kernel; a ``voltmeter``\n",
    "observes the neuron instead of receiving events from it."
   ]
  },
  {
   "cell_type": "code",
   "execution_count": null,
   "id": "05221a60",
   "metadata": {},
   "outputs": [],
   "source": [
    "voltmeter = nest.Create(\"voltmeter\", params={\"interval\": 1.0, \"label\": \"Voltmeter\"})\n",
    "nest.Connect(voltmeter, nrns[1])"
   ]
  },
  {
   "cell_type": "markdown",
   "id": "c86c3454",
   "metadata": {},
   "source": [
    "Finally, we simulate the system with simulation time ``T_sim`` and plot a\n",
    "voltage trace to produce the figure."
   ]
  },
  {
   "cell_type": "code",
   "execution_count": null,
   "id": "40680bfb",
   "metadata": {},
   "outputs": [],
   "source": [
    "nest.Simulate(T_sim)\n",
    "nest.voltage_trace.from_device(voltmeter)\n",
    "plt.show()"
   ]
  }
 ],
 "metadata": {
  "jupytext": {
   "cell_metadata_filter": "-all",
   "encoding": "# -*- coding: utf-8 -*-"
  },
  "kernelspec": {
   "display_name": "EBRAINS-24.04",
   "language": "python",
   "name": "ebrains-24.04"
  }
 },
 "nbformat": 4,
 "nbformat_minor": 5
}
