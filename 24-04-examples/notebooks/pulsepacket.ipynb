{
 "cells": [
  {
   "cell_type": "code",
   "execution_count": null,
   "id": "b2f4f785",
   "metadata": {},
   "outputs": [],
   "source": [
    "%matplotlib inline"
   ]
  },
  {
   "cell_type": "code",
   "execution_count": null,
   "id": "56490cba",
   "metadata": {},
   "outputs": [],
   "source": [
    "#\n",
    "# pulsepacket.py\n",
    "#\n",
    "# This file is part of NEST.\n",
    "#\n",
    "# Copyright (C) 2004 The NEST Initiative\n",
    "#\n",
    "# NEST is free software: you can redistribute it and/or modify\n",
    "# it under the terms of the GNU General Public License as published by\n",
    "# the Free Software Foundation, either version 2 of the License, or\n",
    "# (at your option) any later version.\n",
    "#\n",
    "# NEST is distributed in the hope that it will be useful,\n",
    "# but WITHOUT ANY WARRANTY; without even the implied warranty of\n",
    "# MERCHANTABILITY or FITNESS FOR A PARTICULAR PURPOSE.  See the\n",
    "# GNU General Public License for more details.\n",
    "#\n",
    "# You should have received a copy of the GNU General Public License\n",
    "# along with NEST.  If not, see <http://www.gnu.org/licenses/>."
   ]
  },
  {
   "cell_type": "markdown",
   "id": "c580aa70",
   "metadata": {
    "cell_marker": "\"\"\""
   },
   "source": [
    "Pulse packet example\n",
    "--------------------\n",
    "\n",
    "This script compares the average and individual membrane potential excursions\n",
    "in response to a single pulse packet with an analytically acquired voltage\n",
    "trace (see: Diesmann [1]_)\n",
    "A pulse packet is a transient spike volley with a Gaussian rate profile.\n",
    "The user can specify the neural parameters, the parameters of the\n",
    "pulse-packet and the number of trials.\n",
    "\n",
    "\n",
    "References\n",
    "~~~~~~~~~~\n",
    "\n",
    ".. [1] Diesmann M. 2002. Dissertation. Conditions for stable propagation of\n",
    "       synchronous spiking in cortical neural networks: Single neuron dynamics\n",
    "       and network properties.\n",
    "       http://d-nb.info/968772781/34.\n"
   ]
  },
  {
   "cell_type": "code",
   "execution_count": null,
   "id": "a3cd88ae",
   "metadata": {},
   "outputs": [],
   "source": []
  },
  {
   "cell_type": "markdown",
   "id": "a8c69bc1",
   "metadata": {},
   "source": [
    "First, we import all necessary modules for simulation, analysis and\n",
    "plotting."
   ]
  },
  {
   "cell_type": "code",
   "execution_count": null,
   "id": "3fab0634",
   "metadata": {},
   "outputs": [],
   "source": [
    "import matplotlib.pyplot as plt\n",
    "import nest\n",
    "import numpy\n",
    "import scipy.special as sp\n",
    "\n",
    "# Properties of pulse packet:\n",
    "\n",
    "a = 100  # number of spikes in one pulse packet\n",
    "sdev = 10.0  # width of pulse packet (ms)\n",
    "weight = 0.1  # PSP amplitude (mV)\n",
    "pulsetime = 500.0  # occurrence time (center) of pulse-packet (ms)\n",
    "\n",
    "\n",
    "# Network and neuron characteristics:\n",
    "\n",
    "n_neurons = 100  # number of neurons\n",
    "cm = 200.0  # membrane capacitance (pF)\n",
    "tau_s = 0.5  # synaptic time constant (ms)\n",
    "tau_m = 20.0  # membrane time constant (ms)\n",
    "V0 = 0.0  # resting potential (mV)\n",
    "Vth = numpy.inf  # firing threshold, high value to avoid spiking\n",
    "\n",
    "\n",
    "# Simulation and analysis parameters:\n",
    "\n",
    "simtime = 1000.0  # how long we simulate (ms)\n",
    "simulation_resolution = 0.1  # (ms)\n",
    "sampling_resolution = 1.0  # for voltmeter (ms)\n",
    "convolution_resolution = 1.0  # for the analytics (ms)\n",
    "\n",
    "\n",
    "# Some parameters in base units.\n",
    "\n",
    "Cm = cm * 1e-12  # convert to Farad\n",
    "Weight = weight * 1e-12  # convert to Ampere\n",
    "Tau_s = tau_s * 1e-3  # convert to sec\n",
    "Tau_m = tau_m * 1e-3  # convert to sec\n",
    "Sdev = sdev * 1e-3  # convert to sec\n",
    "Convolution_resolution = convolution_resolution * 1e-3  # convert to sec\n"
   ]
  },
  {
   "cell_type": "markdown",
   "id": "af14e9fe",
   "metadata": {},
   "source": [
    "This function calculates the membrane potential excursion in response\n",
    "to a single input spike (the equation is given for example in Diesmann [1]_,\n",
    "eq.2.3).\n",
    "It expects:\n",
    "\n",
    "* ``Time``: a time array or a single time point (in sec)\n",
    "* ``Tau_s`` and ``Tau_m``: the synaptic and the membrane time constant (in sec)\n",
    "* ``Cm``: the membrane capacity (in Farad)\n",
    "* ``Weight``: the synaptic weight (in Ampere)\n",
    "\n",
    "It returns the provoked membrane potential (in mV)"
   ]
  },
  {
   "cell_type": "code",
   "execution_count": null,
   "id": "4fe76641",
   "metadata": {},
   "outputs": [],
   "source": [
    "\n",
    "def make_psp(Time, Tau_s, Tau_m, Cm, Weight):\n",
    "    term1 = 1 / Tau_s - 1 / Tau_m\n",
    "    term2 = numpy.exp(-Time / Tau_s)\n",
    "    term3 = numpy.exp(-Time / Tau_m)\n",
    "    PSP = Weight / Cm * numpy.exp(1) / Tau_s * (((-Time * term2) / term1) + (term3 - term2) / term1**2)\n",
    "    return PSP * 1e3\n"
   ]
  },
  {
   "cell_type": "markdown",
   "id": "ab983bfc",
   "metadata": {},
   "source": [
    "This function finds the exact location of the maximum of the PSP caused by a\n",
    "single input spike. The location is obtained by setting the first derivative\n",
    "of the equation for the PSP (see ``make_psp()``) to zero. The resulting\n",
    "equation can be expressed in terms of a `LambertW function`.\n",
    "This function expects:\n",
    "\n",
    "* ``Tau_s`` and ``Tau_m``: the synaptic and membrane time constant (in sec)\n",
    "\n",
    "It returns the location of the maximum (in sec)"
   ]
  },
  {
   "cell_type": "code",
   "execution_count": null,
   "id": "a2da2767",
   "metadata": {
    "lines_to_next_cell": 1
   },
   "outputs": [],
   "source": [
    "\n",
    "def LambertWm1(x):\n",
    "    # Using scipy to mimic the gsl_sf_lambert_Wm1 function.\n",
    "    return sp.lambertw(x, k=-1 if x < 0 else 0).real\n",
    "\n",
    "\n",
    "def find_loc_pspmax(tau_s, tau_m):\n",
    "    var = tau_m / tau_s\n",
    "    lam = LambertWm1(-numpy.exp(-1 / var) / var)\n",
    "    t_maxpsp = (-var * lam - 1) / var / (1 / tau_s - 1 / tau_m) * 1e-3\n",
    "    return t_maxpsp\n"
   ]
  },
  {
   "cell_type": "markdown",
   "id": "b47d33bd",
   "metadata": {},
   "source": [
    "First, we construct a Gaussian kernel for a given standard derivation\n",
    "(``sig``) and mean value (``mu``). In this case the standard derivation is\n",
    "the width of the pulse packet (see [1]_)."
   ]
  },
  {
   "cell_type": "code",
   "execution_count": null,
   "id": "d6fb5665",
   "metadata": {},
   "outputs": [],
   "source": [
    "sig = Sdev\n",
    "mu = 0.0\n",
    "x = numpy.arange(-4 * sig, 4 * sig, Convolution_resolution)\n",
    "term1 = 1 / (sig * numpy.sqrt(2 * numpy.pi))\n",
    "term2 = numpy.exp(-((x - mu) ** 2) / (sig**2 * 2))\n",
    "gauss = term1 * term2 * Convolution_resolution\n"
   ]
  },
  {
   "cell_type": "markdown",
   "id": "f38a7730",
   "metadata": {},
   "source": [
    "Second, we calculate the PSP of a neuron due to a single spiking input.\n",
    "(see Diesmann 2002, eq. 2.3).\n",
    "Since we do that in discrete time steps, we first construct an array\n",
    "(``t_psp``) that contains the time points we want to consider. Then, the\n",
    "function ``make_psp()`` (that creates the PSP) takes the time array as its\n",
    "first argument."
   ]
  },
  {
   "cell_type": "code",
   "execution_count": null,
   "id": "abcd12c3",
   "metadata": {},
   "outputs": [],
   "source": [
    "t_psp = numpy.arange(0, 10 * (Tau_m + Tau_s), Convolution_resolution)\n",
    "psp = make_psp(t_psp, Tau_s, Tau_m, Cm, Weight)\n"
   ]
  },
  {
   "cell_type": "markdown",
   "id": "8da2e9aa",
   "metadata": {},
   "source": [
    "Now, we want to normalize the PSP amplitude to one. We therefore have to\n",
    "divide the PSP by its maximum ([1]_ sec 6.1). The function\n",
    "``find_loc_pspmax()`` returns the exact time point (``t_pspmax``) when we\n",
    "expect the maximum to occur. The function ``make_psp()`` calculates the\n",
    "corresponding PSP value, which is our PSP amplitude (``psp_amp``)."
   ]
  },
  {
   "cell_type": "code",
   "execution_count": null,
   "id": "f06b29a0",
   "metadata": {},
   "outputs": [],
   "source": [
    "t_pspmax = find_loc_pspmax(Tau_s, Tau_m)\n",
    "psp_amp = make_psp(t_pspmax, Tau_s, Tau_m, Cm, Weight)\n",
    "psp_norm = psp / psp_amp\n"
   ]
  },
  {
   "cell_type": "markdown",
   "id": "fd63027d",
   "metadata": {
    "lines_to_next_cell": 0
   },
   "source": [
    "Now we have all ingredients to compute the membrane potential excursion\n",
    "(`U`). This calculation implies a convolution of the Gaussian with the\n",
    "normalized PSP (see [1]_, eq. 6.9). In order to avoid an offset in the\n",
    "convolution, we need to add a pad of zeros on the left side of the\n",
    "normalized PSP. Later on we want to compare our analytical results with the\n",
    "simulation outcome. Therefore we need a time vector (`t_U`) with the correct\n",
    "temporal resolution, which places the excursion of the potential at the\n",
    "correct time."
   ]
  },
  {
   "cell_type": "code",
   "execution_count": null,
   "id": "44d1c8e7",
   "metadata": {},
   "outputs": [],
   "source": [
    "psp_norm = numpy.pad(psp_norm, [len(psp_norm) - 1, 1], mode=\"constant\")\n",
    "U = a * psp_amp * numpy.convolve(gauss, psp_norm)\n",
    "ulen = len(U)\n",
    "t_U = convolution_resolution * numpy.linspace(-ulen / 2.0, ulen / 2.0, ulen) + pulsetime + 1.0\n"
   ]
  },
  {
   "cell_type": "markdown",
   "id": "c3e18e94",
   "metadata": {},
   "source": [
    "In this section we simulate a network of multiple neurons.\n",
    "All these neurons receive an individual pulse packet that is drawn from a\n",
    "Gaussian distribution.\n",
    "\n",
    "We reset the Kernel, define the simulation resolution and set the\n",
    "verbosity using ``set_verbosity`` to suppress info messages."
   ]
  },
  {
   "cell_type": "code",
   "execution_count": null,
   "id": "fe22cccd",
   "metadata": {},
   "outputs": [],
   "source": [
    "nest.ResetKernel()\n",
    "nest.set_verbosity(\"M_WARNING\")\n",
    "nest.resolution = simulation_resolution\n"
   ]
  },
  {
   "cell_type": "markdown",
   "id": "1883582e",
   "metadata": {},
   "source": [
    "Afterwards we create several neurons, the same amount of\n",
    "pulse-packet-generators and a voltmeter. All these nodes/devices\n",
    "have specific properties that are specified in device specific\n",
    "dictionaries (here: `neuron_pars` for the neurons, `ppg_pars`\n",
    "for the and pulse-packet-generators and `vm_pars` for the voltmeter)."
   ]
  },
  {
   "cell_type": "code",
   "execution_count": null,
   "id": "e572046c",
   "metadata": {},
   "outputs": [],
   "source": [
    "neuron_pars = {\"V_th\": Vth, \"tau_m\": tau_m, \"tau_syn_ex\": tau_s, \"C_m\": cm, \"E_L\": V0, \"V_reset\": V0, \"V_m\": V0}\n",
    "neurons = nest.Create(\"iaf_psc_alpha\", n_neurons, neuron_pars)\n",
    "ppg_pars = {\"pulse_times\": [pulsetime], \"activity\": a, \"sdev\": sdev}\n",
    "ppgs = nest.Create(\"pulsepacket_generator\", n_neurons, ppg_pars)\n",
    "vm_pars = {\"interval\": sampling_resolution}\n",
    "vm = nest.Create(\"voltmeter\", params=vm_pars)\n"
   ]
  },
  {
   "cell_type": "markdown",
   "id": "d702c904",
   "metadata": {},
   "source": [
    "Now, we connect each pulse generator to one neuron via static synapses.\n",
    "We use the default static synapse, with specified weight.\n",
    "The command ``Connect`` connects all kinds of nodes/devices. Since multiple\n",
    "nodes/devices can be connected in different ways e.g., each source connects\n",
    "to all targets, each source connects to a subset of targets or each source\n",
    "connects to exactly one target, we have to specify the connection. In our\n",
    "case we use the ``one_to_one`` connection routine since we connect one pulse\n",
    "generator (source) to one neuron (target).\n",
    "In addition we also connect the `voltmeter` to the `neurons`."
   ]
  },
  {
   "cell_type": "code",
   "execution_count": null,
   "id": "33de42f0",
   "metadata": {},
   "outputs": [],
   "source": [
    "nest.Connect(ppgs, neurons, \"one_to_one\", syn_spec={\"weight\": weight})\n",
    "nest.Connect(vm, neurons, syn_spec={\"weight\": weight})\n"
   ]
  },
  {
   "cell_type": "markdown",
   "id": "2e28e841",
   "metadata": {},
   "source": [
    "In the next step we run the simulation for a given duration in ms."
   ]
  },
  {
   "cell_type": "code",
   "execution_count": null,
   "id": "91965c98",
   "metadata": {},
   "outputs": [],
   "source": [
    "nest.Simulate(simtime)\n"
   ]
  },
  {
   "cell_type": "markdown",
   "id": "608bacea",
   "metadata": {},
   "source": [
    "Finally, we record the membrane potential, when it occurred and to which\n",
    "neuron it belongs. The sender and the time point of a voltage\n",
    "data point at position x in the voltage array (``V_m``), can be found at the\n",
    "same position x in the sender (`senders`) and the time array (`times`)."
   ]
  },
  {
   "cell_type": "code",
   "execution_count": null,
   "id": "f80599bf",
   "metadata": {},
   "outputs": [],
   "source": [
    "Vm = vm.get(\"events\", \"V_m\")\n",
    "times = vm.get(\"events\", \"times\")\n",
    "senders = vm.get(\"events\", \"senders\")\n"
   ]
  },
  {
   "cell_type": "markdown",
   "id": "333a8ce2",
   "metadata": {},
   "source": [
    "Here we plot the membrane potential derived from the theory and from the\n",
    "simulation. Since we simulate multiple neurons that received slightly\n",
    "different pulse packets, we plot the individual and the averaged membrane\n",
    "potentials.\n",
    "\n",
    "We plot the analytical solution U (the resting potential V0 shifts the\n",
    "membrane potential up or downwards)."
   ]
  },
  {
   "cell_type": "code",
   "execution_count": null,
   "id": "56455b00",
   "metadata": {},
   "outputs": [],
   "source": [
    "plt.plot(t_U, U + V0, \"r\", lw=2, zorder=3, label=\"analytical solution\")\n"
   ]
  },
  {
   "cell_type": "markdown",
   "id": "9ba1c658",
   "metadata": {},
   "source": [
    "Then we plot all individual membrane potentials.\n",
    "The time axes is the range of the simulation time in steps of ms."
   ]
  },
  {
   "cell_type": "code",
   "execution_count": null,
   "id": "096a2372",
   "metadata": {},
   "outputs": [],
   "source": [
    "Vm_single = [Vm[senders == n.global_id] for n in neurons]\n",
    "simtimes = numpy.arange(1, simtime)\n",
    "for idn in range(n_neurons):\n",
    "    if idn == 0:\n",
    "        plt.plot(simtimes, Vm_single[idn], \"gray\", zorder=1, label=\"single potentials\")\n",
    "    else:\n",
    "        plt.plot(simtimes, Vm_single[idn], \"gray\", zorder=1)\n"
   ]
  },
  {
   "cell_type": "markdown",
   "id": "eee32116",
   "metadata": {},
   "source": [
    "Finally, we plot the averaged membrane potential."
   ]
  },
  {
   "cell_type": "code",
   "execution_count": null,
   "id": "d2284c37",
   "metadata": {},
   "outputs": [],
   "source": [
    "Vm_average = numpy.mean(Vm_single, axis=0)\n",
    "plt.plot(simtimes, Vm_average, \"b\", lw=4, zorder=2, label=\"averaged potential\")\n",
    "plt.legend()\n",
    "plt.xlabel(\"time (ms)\")\n",
    "plt.ylabel(\"membrane potential (mV)\")\n",
    "plt.xlim((-5 * (tau_m + tau_s) + pulsetime, 10 * (tau_m + tau_s) + pulsetime))\n",
    "plt.show()"
   ]
  }
 ],
 "metadata": {
  "jupytext": {
   "cell_metadata_filter": "-all",
   "encoding": "# -*- coding: utf-8 -*-"
  },
  "kernelspec": {
   "display_name": "EBRAINS-24.04",
   "language": "python",
   "name": "ebrains-24.04"
  }
 },
 "nbformat": 4,
 "nbformat_minor": 5
}
