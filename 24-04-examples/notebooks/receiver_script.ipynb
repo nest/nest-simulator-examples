{
 "cells": [
  {
   "cell_type": "markdown",
   "id": "477f84a0",
   "metadata": {},
   "source": [
    "\n",
    "receiver_script.py\n",
    "\n",
    "This file is part of NEST.\n",
    "\n",
    "Copyright (C) 2004 The NEST Initiative\n",
    "\n",
    "NEST is free software: you can redistribute it and/or modify\n",
    "it under the terms of the GNU General Public License as published by\n",
    "the Free Software Foundation, either version 2 of the License, or\n",
    "(at your option) any later version.\n",
    "\n",
    "NEST is distributed in the hope that it will be useful,\n",
    "but WITHOUT ANY WARRANTY; without even the implied warranty of\n",
    "MERCHANTABILITY or FITNESS FOR A PARTICULAR PURPOSE.  See the\n",
    "GNU General Public License for more details.\n",
    "\n",
    "You should have received a copy of the GNU General Public License\n",
    "along with NEST.  If not, see <http://www.gnu.org/licenses/>."
   ]
  },
  {
   "cell_type": "code",
   "execution_count": null,
   "id": "3e8dae3e",
   "metadata": {},
   "outputs": [],
   "source": [
    "\"\"\"\n",
    "Music example receiver script\n",
    "------------------------------\n",
    "\"\"\""
   ]
  },
  {
   "cell_type": "code",
   "execution_count": null,
   "id": "2df4ccc1",
   "metadata": {},
   "outputs": [],
   "source": [
    "import sys\n",
    "from itertools import dropwhile, takewhile"
   ]
  },
  {
   "cell_type": "code",
   "execution_count": null,
   "id": "3685c686",
   "metadata": {},
   "outputs": [],
   "source": [
    "import music\n",
    "import numpy"
   ]
  },
  {
   "cell_type": "code",
   "execution_count": null,
   "id": "7d120c53",
   "metadata": {},
   "outputs": [],
   "source": [
    "setup = music.Setup()\n",
    "stoptime = setup.config(\"stoptime\")\n",
    "timestep = setup.config(\"timestep\")"
   ]
  },
  {
   "cell_type": "code",
   "execution_count": null,
   "id": "a4ebc1ae",
   "metadata": {},
   "outputs": [],
   "source": [
    "comm = setup.comm\n",
    "rank = comm.Get_rank()"
   ]
  },
  {
   "cell_type": "code",
   "execution_count": null,
   "id": "d6ee6fa3",
   "metadata": {},
   "outputs": [],
   "source": [
    "pin = setup.publishContInput(\"in\")\n",
    "data = numpy.array([0.0, 0.0], dtype=numpy.double)\n",
    "pin.map(data, interpolate=False)"
   ]
  },
  {
   "cell_type": "code",
   "execution_count": null,
   "id": "ddc2e995",
   "metadata": {},
   "outputs": [],
   "source": [
    "runtime = setup.runtime(timestep)\n",
    "mintime = timestep\n",
    "maxtime = stoptime + timestep\n",
    "start = dropwhile(lambda t: t < mintime, runtime)\n",
    "times = takewhile(lambda t: t < maxtime, start)\n",
    "for time in times:\n",
    "    val = data\n",
    "    sys.stdout.write(f\"t={time}\\treceiver {rank}: received {val}\\n\")"
   ]
  }
 ],
 "metadata": {
  "jupytext": {
   "cell_metadata_filter": "-all",
   "encoding": "# -*- coding: utf-8 -*-",
   "executable": "/usr/bin/env python3"
  },
  "kernelspec": {
   "display_name": "EBRAINS-24.04",
   "language": "python",
   "name": "ebrains-24.04"
  }
 },
 "nbformat": 4,
 "nbformat_minor": 5
}
