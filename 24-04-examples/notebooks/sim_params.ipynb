{
 "cells": [
  {
   "cell_type": "markdown",
   "id": "00c75fdc",
   "metadata": {},
   "source": [
    "\n",
    "sim_params.py\n",
    "\n",
    "This file is part of NEST.\n",
    "\n",
    "Copyright (C) 2004 The NEST Initiative\n",
    "\n",
    "NEST is free software: you can redistribute it and/or modify\n",
    "it under the terms of the GNU General Public License as published by\n",
    "the Free Software Foundation, either version 2 of the License, or\n",
    "(at your option) any later version.\n",
    "\n",
    "NEST is distributed in the hope that it will be useful,\n",
    "but WITHOUT ANY WARRANTY; without even the implied warranty of\n",
    "MERCHANTABILITY or FITNESS FOR A PARTICULAR PURPOSE.  See the\n",
    "GNU General Public License for more details.\n",
    "\n",
    "You should have received a copy of the GNU General Public License\n",
    "along with NEST.  If not, see <http://www.gnu.org/licenses/>."
   ]
  },
  {
   "cell_type": "code",
   "execution_count": null,
   "id": "cadf81fe",
   "metadata": {},
   "outputs": [],
   "source": [
    "\"\"\"PyNEST Microcircuit: Simulation Parameters\n",
    "------------------------------------------------\n",
    "\n",
    "A dictionary with parameters defining the simulation.\n",
    "\n",
    "\"\"\""
   ]
  },
  {
   "cell_type": "code",
   "execution_count": null,
   "id": "7a08733e",
   "metadata": {},
   "outputs": [],
   "source": [
    "import os"
   ]
  },
  {
   "cell_type": "code",
   "execution_count": null,
   "id": "f01890c6",
   "metadata": {},
   "outputs": [],
   "source": [
    "sim_dict = {\n",
    "    # The full simulation time is the sum of a presimulation time and the main\n",
    "    # simulation time.\n",
    "    # presimulation time (in ms)\n",
    "    \"t_presim\": 500.0,\n",
    "    # simulation time (in ms)\n",
    "    \"t_sim\": 1000.0,\n",
    "    # resolution of the simulation (in ms)\n",
    "    \"sim_resolution\": 0.1,\n",
    "    # list of recording devices, default is 'spike_recorder'. A 'voltmeter' can\n",
    "    # be added to record membrane voltages of the neurons. Nothing will be\n",
    "    # recorded if an empty list is given.\n",
    "    \"rec_dev\": [\"spike_recorder\"],\n",
    "    # path to save the output data\n",
    "    \"data_path\": os.path.join(os.getcwd(), \"data/\"),\n",
    "    # Seed for NEST\n",
    "    \"rng_seed\": 55,\n",
    "    # Number of threads per MPI process\n",
    "    #\n",
    "    # Note that when you scale up the network, the microcircut model\n",
    "    # may not run correctly if there is < 4 virtual processes\n",
    "    # (i.e., a thread in an MPI process)\n",
    "    # If you have 4 or more MPI processes, then you can set this value to 1.\n",
    "    \"local_num_threads\": 4,\n",
    "    # recording interval of the membrane potential (in ms)\n",
    "    \"rec_V_int\": 1.0,\n",
    "    # if True, data will be overwritten,\n",
    "    # if False, a NESTError is raised if the files already exist\n",
    "    \"overwrite_files\": True,\n",
    "    # print the time progress. This should only be used when the simulation\n",
    "    # is run on a local machine.\n",
    "    \"print_time\": True,\n",
    "}"
   ]
  }
 ],
 "metadata": {
  "jupytext": {
   "cell_metadata_filter": "-all",
   "encoding": "# -*- coding: utf-8 -*-"
  },
  "kernelspec": {
   "display_name": "EBRAINS-24.04",
   "language": "python",
   "name": "ebrains-24.04"
  }
 },
 "nbformat": 4,
 "nbformat_minor": 5
}
