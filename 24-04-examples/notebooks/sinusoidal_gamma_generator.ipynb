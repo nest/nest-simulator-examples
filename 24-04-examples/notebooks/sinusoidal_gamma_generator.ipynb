{
 "cells": [
  {
   "cell_type": "code",
   "execution_count": null,
   "id": "5fa4046b",
   "metadata": {},
   "outputs": [],
   "source": [
    "%matplotlib inline"
   ]
  },
  {
   "cell_type": "code",
   "execution_count": null,
   "id": "edef9bb4",
   "metadata": {},
   "outputs": [],
   "source": [
    "#\n",
    "# sinusoidal_gamma_generator.py\n",
    "#\n",
    "# This file is part of NEST.\n",
    "#\n",
    "# Copyright (C) 2004 The NEST Initiative\n",
    "#\n",
    "# NEST is free software: you can redistribute it and/or modify\n",
    "# it under the terms of the GNU General Public License as published by\n",
    "# the Free Software Foundation, either version 2 of the License, or\n",
    "# (at your option) any later version.\n",
    "#\n",
    "# NEST is distributed in the hope that it will be useful,\n",
    "# but WITHOUT ANY WARRANTY; without even the implied warranty of\n",
    "# MERCHANTABILITY or FITNESS FOR A PARTICULAR PURPOSE.  See the\n",
    "# GNU General Public License for more details.\n",
    "#\n",
    "# You should have received a copy of the GNU General Public License\n",
    "# along with NEST.  If not, see <http://www.gnu.org/licenses/>.\n",
    "#"
   ]
  },
  {
   "cell_type": "markdown",
   "id": "8cb1c6d6",
   "metadata": {
    "cell_marker": "\"\"\""
   },
   "source": [
    "Sinusoidal gamma generator example\n",
    "----------------------------------\n",
    "\n",
    "This script demonstrates the use of the ``sinusoidal_gamma_generator`` and its\n",
    "different parameters and modes. The source code of the model can be found in\n",
    "``models/sinusoidal_gamma_generator.h``.\n",
    "\n",
    "The script is structured into two parts, each of which generates its own\n",
    "figure. In part 1A, two generators are created with different orders of the\n",
    "underlying gamma process and their resulting PST (Peristiumulus time) and ISI\n",
    "(Inter-spike interval) histograms are plotted. Part 1B illustrates the effect\n",
    "of the ``individual_spike_trains`` switch. In Part 2, the effects of\n",
    "different settings for rate, phase and frequency are demonstrated.\n"
   ]
  },
  {
   "cell_type": "code",
   "execution_count": null,
   "id": "bc46580d",
   "metadata": {},
   "outputs": [],
   "source": []
  },
  {
   "cell_type": "markdown",
   "id": "c912e31a",
   "metadata": {},
   "source": [
    "First, we import all necessary modules to simulate, analyze and\n",
    "plot this example."
   ]
  },
  {
   "cell_type": "code",
   "execution_count": null,
   "id": "955a521d",
   "metadata": {},
   "outputs": [],
   "source": [
    "\n",
    "import matplotlib.pyplot as plt\n",
    "import nest\n",
    "import numpy as np\n",
    "\n",
    "nest.ResetKernel()  # in case we run the script multiple times from iPython\n"
   ]
  },
  {
   "cell_type": "markdown",
   "id": "bdec5eea",
   "metadata": {},
   "source": [
    "We first create a figure for the plot and set the resolution of NEST."
   ]
  },
  {
   "cell_type": "code",
   "execution_count": null,
   "id": "534ebf39",
   "metadata": {},
   "outputs": [],
   "source": [
    "\n",
    "plt.figure()\n",
    "nest.resolution = 0.01\n"
   ]
  },
  {
   "cell_type": "markdown",
   "id": "70aa4f94",
   "metadata": {},
   "source": [
    "Then we create two instances of the ``sinusoidal_gamma_generator`` with two\n",
    "different orders of the underlying gamma process using ``Create``. Moreover,\n",
    "we create devices to record firing rates (``multimeter``) and spikes\n",
    "(``spike_recorder``) and connect them to the generators using ``Connect``."
   ]
  },
  {
   "cell_type": "code",
   "execution_count": null,
   "id": "59869e0b",
   "metadata": {},
   "outputs": [],
   "source": [
    "\n",
    "num_nodes = 2\n",
    "g = nest.Create(\n",
    "    \"sinusoidal_gamma_generator\",\n",
    "    n=num_nodes,\n",
    "    params={\"rate\": 10000.0, \"amplitude\": 5000.0, \"frequency\": 10.0, \"phase\": 0.0, \"order\": [2.0, 10.0]},\n",
    ")  # note the syntax for different order parameter of the two nodes\n",
    "\n",
    "m = nest.Create(\"multimeter\", num_nodes, {\"interval\": 0.1, \"record_from\": [\"rate\"]})\n",
    "s = nest.Create(\"spike_recorder\", num_nodes)\n",
    "\n",
    "nest.Connect(m, g, \"one_to_one\")\n",
    "nest.Connect(g, s, \"one_to_one\")\n",
    "\n",
    "nest.Simulate(200)\n"
   ]
  },
  {
   "cell_type": "markdown",
   "id": "1d8812b3",
   "metadata": {},
   "source": [
    "After simulating, the spikes are extracted from the ``spike_recorder`` and\n",
    "plots are created with panels for the PST and ISI histograms."
   ]
  },
  {
   "cell_type": "code",
   "execution_count": null,
   "id": "2992d698",
   "metadata": {},
   "outputs": [],
   "source": [
    "colors = [\"b\", \"g\"]\n",
    "\n",
    "for j in range(num_nodes):\n",
    "    ev = m[j].events\n",
    "    t = ev[\"times\"]\n",
    "    r = ev[\"rate\"]\n",
    "\n",
    "    spike_times = s[j].events[\"times\"]\n",
    "    plt.subplot(221)\n",
    "    h, e = np.histogram(spike_times, bins=np.arange(0.0, 201.0, 5.0))\n",
    "    plt.plot(t, r, color=colors[j])\n",
    "    plt.step(e[:-1], h * 1000 / 5.0, color=colors[j], where=\"post\")\n",
    "    plt.title(\"PST histogram and firing rates\")\n",
    "    plt.ylabel(\"Spikes per second\")\n",
    "\n",
    "    plt.subplot(223)\n",
    "    plt.hist(np.diff(spike_times), bins=np.arange(0.0, 0.505, 0.01), histtype=\"step\", color=colors[j])\n",
    "    plt.title(\"ISI histogram\")\n"
   ]
  },
  {
   "cell_type": "markdown",
   "id": "267beee1",
   "metadata": {},
   "source": [
    "The kernel is reset and the number of threads set to 4."
   ]
  },
  {
   "cell_type": "code",
   "execution_count": null,
   "id": "286bbf1f",
   "metadata": {},
   "outputs": [],
   "source": [
    "\n",
    "nest.ResetKernel()\n",
    "nest.local_num_threads = 4\n"
   ]
  },
  {
   "cell_type": "markdown",
   "id": "af013bdc",
   "metadata": {},
   "source": [
    "First, a ``sinusoidal_gamma_generator`` with ``individual_spike_trains`` set to\n",
    "`True` is created and connected to 20 parrot neurons whose spikes are\n",
    "recorded by a spike recorder. After simulating, a raster plot of the spikes\n",
    "is created."
   ]
  },
  {
   "cell_type": "code",
   "execution_count": null,
   "id": "540f3218",
   "metadata": {},
   "outputs": [],
   "source": [
    "g = nest.Create(\n",
    "    \"sinusoidal_gamma_generator\",\n",
    "    params={\n",
    "        \"rate\": 100.0,\n",
    "        \"amplitude\": 50.0,\n",
    "        \"frequency\": 10.0,\n",
    "        \"phase\": 0.0,\n",
    "        \"order\": 3.0,\n",
    "        \"individual_spike_trains\": True,\n",
    "    },\n",
    ")\n",
    "p = nest.Create(\"parrot_neuron\", 20)\n",
    "s = nest.Create(\"spike_recorder\")\n",
    "\n",
    "nest.Connect(g, p)\n",
    "nest.Connect(p, s)\n",
    "\n",
    "nest.Simulate(200)\n",
    "ev = s.events\n",
    "plt.subplot(222)\n",
    "plt.plot(ev[\"times\"], ev[\"senders\"] - min(ev[\"senders\"]), \"o\")\n",
    "plt.ylim([-0.5, 19.5])\n",
    "plt.yticks([])\n",
    "plt.title(\"Individual spike trains for each target\")\n"
   ]
  },
  {
   "cell_type": "markdown",
   "id": "f953a395",
   "metadata": {
    "cell_marker": "#################################################################################"
   },
   "source": [
    "The kernel is reset again and the whole procedure is repeated for a\n",
    "``sinusoidal_gamma_generator`` with ``individual_spike_trains`` set to `False`.\n",
    "The plot shows that in this case, all neurons receive the same spike train\n",
    "from the ``sinusoidal_gamma_generator``."
   ]
  },
  {
   "cell_type": "code",
   "execution_count": null,
   "id": "29899185",
   "metadata": {},
   "outputs": [],
   "source": [
    "\n",
    "nest.ResetKernel()\n",
    "nest.local_num_threads = 4\n",
    "\n",
    "g = nest.Create(\n",
    "    \"sinusoidal_gamma_generator\",\n",
    "    params={\n",
    "        \"rate\": 100.0,\n",
    "        \"amplitude\": 50.0,\n",
    "        \"frequency\": 10.0,\n",
    "        \"phase\": 0.0,\n",
    "        \"order\": 3.0,\n",
    "        \"individual_spike_trains\": False,\n",
    "    },\n",
    ")\n",
    "p = nest.Create(\"parrot_neuron\", 20)\n",
    "s = nest.Create(\"spike_recorder\")\n",
    "\n",
    "nest.Connect(g, p)\n",
    "nest.Connect(p, s)\n",
    "\n",
    "nest.Simulate(200)\n",
    "ev = s.events\n",
    "plt.subplot(224)\n",
    "plt.plot(ev[\"times\"], ev[\"senders\"] - min(ev[\"senders\"]), \"o\")\n",
    "plt.ylim([-0.5, 19.5])\n",
    "plt.yticks([])\n",
    "plt.title(\"One spike train for all targets\")\n"
   ]
  },
  {
   "cell_type": "markdown",
   "id": "04d3bb2f",
   "metadata": {},
   "source": [
    "In part 2, multiple generators are created with different settings for rate,\n",
    "phase and frequency. First, we define an auxiliary function, which simulates\n",
    "`n` generators for `t` ms. After `t/2`, the parameter dictionary of the\n",
    "generators is changed from initial to after."
   ]
  },
  {
   "cell_type": "code",
   "execution_count": null,
   "id": "3e7fc3c8",
   "metadata": {},
   "outputs": [],
   "source": [
    "\n",
    "def step(t, n, initial, after, seed=1, dt=0.05):\n",
    "    nest.ResetKernel()\n",
    "    nest.resolution = dt\n",
    "    nest.rng_seed = seed\n",
    "\n",
    "    g = nest.Create(\"sinusoidal_gamma_generator\", n, params=initial)\n",
    "    sr = nest.Create(\"spike_recorder\")\n",
    "    nest.Connect(g, sr)\n",
    "    nest.Simulate(t / 2)\n",
    "    g.set(after)\n",
    "    nest.Simulate(t / 2)\n",
    "\n",
    "    return sr.events\n"
   ]
  },
  {
   "cell_type": "markdown",
   "id": "9a96478a",
   "metadata": {},
   "source": [
    "This function serves to plot a histogram of the emitted spikes."
   ]
  },
  {
   "cell_type": "code",
   "execution_count": null,
   "id": "517898d4",
   "metadata": {},
   "outputs": [],
   "source": [
    "\n",
    "def plot_hist(spikes):\n",
    "    plt.hist(spikes[\"times\"], bins=np.arange(0.0, max(spikes[\"times\"]) + 1.5, 1.0), histtype=\"step\")\n",
    "\n",
    "\n",
    "t = 1000\n",
    "n = 1000\n",
    "dt = 1.0\n",
    "steps = int(t / dt)\n",
    "offset = t / 1000.0 * 2 * np.pi\n",
    "\n",
    "\n",
    "# We create a figure with a 2x3 grid.\n",
    "\n",
    "\n",
    "grid = (2, 3)\n",
    "fig = plt.figure(figsize=(15, 10))\n"
   ]
  },
  {
   "cell_type": "markdown",
   "id": "d6805af6",
   "metadata": {},
   "source": [
    "We simulate a ``sinusoidal_gamma_generator`` with default parameter values,\n",
    "i.e. ``ac=0`` and the DC value being changed from 20 to 50 after `t/2` and\n",
    "plot the number of spikes per second over time."
   ]
  },
  {
   "cell_type": "code",
   "execution_count": null,
   "id": "5424ae73",
   "metadata": {},
   "outputs": [],
   "source": [
    "\n",
    "plt.subplot(grid[0], grid[1], 1)\n",
    "spikes = step(\n",
    "    t,\n",
    "    n,\n",
    "    {\"rate\": 20.0},\n",
    "    {\n",
    "        \"rate\": 50.0,\n",
    "    },\n",
    "    seed=123,\n",
    "    dt=dt,\n",
    ")\n",
    "plot_hist(spikes)\n",
    "exp = np.ones(int(steps))\n",
    "exp[: int(steps / 2)] *= 20\n",
    "exp[int(steps / 2) :] *= 50\n",
    "plt.plot(exp, \"r\")\n",
    "plt.title(\"DC rate: 20 -> 50\")\n",
    "plt.ylabel(\"Spikes per second\")\n"
   ]
  },
  {
   "cell_type": "markdown",
   "id": "aceff747",
   "metadata": {},
   "source": [
    "We simulate a ``sinusoidal_gamma_generator`` with the DC value being changed\n",
    "from 80 to 40 after `t/2` and plot the number of spikes per second over\n",
    "time."
   ]
  },
  {
   "cell_type": "code",
   "execution_count": null,
   "id": "e7f5d458",
   "metadata": {},
   "outputs": [],
   "source": [
    "\n",
    "plt.subplot(grid[0], grid[1], 2)\n",
    "spikes = step(\n",
    "    t,\n",
    "    n,\n",
    "    {\"order\": 6.0, \"rate\": 80.0, \"amplitude\": 0.0, \"frequency\": 0.0, \"phase\": 0.0},\n",
    "    {\"order\": 6.0, \"rate\": 40.0, \"amplitude\": 0.0, \"frequency\": 0.0, \"phase\": 0.0},\n",
    "    seed=123,\n",
    "    dt=dt,\n",
    ")\n",
    "plot_hist(spikes)\n",
    "exp = np.ones(int(steps))\n",
    "exp[: int(steps / 2)] *= 80\n",
    "exp[int(steps / 2) :] *= 40\n",
    "plt.plot(exp, \"r\")\n",
    "plt.title(\"DC rate: 80 -> 40\")\n"
   ]
  },
  {
   "cell_type": "markdown",
   "id": "9e01f547",
   "metadata": {},
   "source": [
    "Next, we simulate a ``sinusoidal_gamma_generator`` with the AC value being\n",
    "changed from 40 to 20 after `t/2` and plot the number of spikes per\n",
    "second over time."
   ]
  },
  {
   "cell_type": "code",
   "execution_count": null,
   "id": "7a005b81",
   "metadata": {},
   "outputs": [],
   "source": [
    "\n",
    "plt.subplot(grid[0], grid[1], 3)\n",
    "spikes = step(\n",
    "    t,\n",
    "    n,\n",
    "    {\"order\": 3.0, \"rate\": 40.0, \"amplitude\": 40.0, \"frequency\": 10.0, \"phase\": 0.0},\n",
    "    {\"order\": 3.0, \"rate\": 40.0, \"amplitude\": 20.0, \"frequency\": 10.0, \"phase\": 0.0},\n",
    "    seed=123,\n",
    "    dt=dt,\n",
    ")\n",
    "plot_hist(spikes)\n",
    "exp = np.zeros(int(steps))\n",
    "exp[: int(steps / 2)] = 40.0 + 40.0 * np.sin(\n",
    "    np.arange(0, t / 1000.0 * np.pi * 10, t / 1000.0 * np.pi * 10.0 / (steps / 2))\n",
    ")\n",
    "exp[int(steps / 2) :] = 40.0 + 20.0 * np.sin(\n",
    "    np.arange(0, t / 1000.0 * np.pi * 10, t / 1000.0 * np.pi * 10.0 / (steps / 2)) + offset\n",
    ")\n",
    "plt.plot(exp, \"r\")\n",
    "plt.title(\"Rate Modulation: 40 -> 20\")\n"
   ]
  },
  {
   "cell_type": "markdown",
   "id": "b50b6483",
   "metadata": {
    "cell_marker": "##################################################################################"
   },
   "source": [
    "Finally, we simulate a ``sinusoidal_gamma_generator`` with a non-zero AC value\n",
    "and the DC value being changed from 80 to 40 after `t/2` and plot the\n",
    "number of spikes per second over time."
   ]
  },
  {
   "cell_type": "code",
   "execution_count": null,
   "id": "08299fd2",
   "metadata": {},
   "outputs": [],
   "source": [
    "\n",
    "plt.subplot(grid[0], grid[1], 4)\n",
    "spikes = step(\n",
    "    t,\n",
    "    n,\n",
    "    {\"order\": 6.0, \"rate\": 20.0, \"amplitude\": 20.0, \"frequency\": 10.0, \"phase\": 0.0},\n",
    "    {\"order\": 6.0, \"rate\": 50.0, \"amplitude\": 50.0, \"frequency\": 10.0, \"phase\": 0.0},\n",
    "    seed=123,\n",
    "    dt=dt,\n",
    ")\n",
    "plot_hist(spikes)\n",
    "exp = np.zeros(int(steps))\n",
    "exp[: int(steps / 2)] = 20.0 + 20.0 * np.sin(\n",
    "    np.arange(0, t / 1000.0 * np.pi * 10, t / 1000.0 * np.pi * 10.0 / (steps / 2))\n",
    ")\n",
    "exp[int(steps / 2) :] = 50.0 + 50.0 * np.sin(\n",
    "    np.arange(0, t / 1000.0 * np.pi * 10, t / 1000.0 * np.pi * 10.0 / (steps / 2)) + offset\n",
    ")\n",
    "plt.plot(exp, \"r\")\n",
    "plt.title(\"DC Rate and Rate Modulation: 20 -> 50\")\n",
    "plt.ylabel(\"Spikes per second\")\n",
    "plt.xlabel(\"Time [ms]\")\n"
   ]
  },
  {
   "cell_type": "markdown",
   "id": "2dc488a7",
   "metadata": {},
   "source": [
    "Simulate a ``sinusoidal_gamma_generator`` with the AC value being\n",
    "changed from 0 to 40 after `t/2` and plot the number of spikes per\n",
    "second over time."
   ]
  },
  {
   "cell_type": "code",
   "execution_count": null,
   "id": "ad697b17",
   "metadata": {},
   "outputs": [],
   "source": [
    "\n",
    "plt.subplot(grid[0], grid[1], 5)\n",
    "spikes = step(\n",
    "    t,\n",
    "    n,\n",
    "    {\n",
    "        \"rate\": 40.0,\n",
    "    },\n",
    "    {\"amplitude\": 40.0, \"frequency\": 20.0},\n",
    "    seed=123,\n",
    "    dt=1.0,\n",
    ")\n",
    "plot_hist(spikes)\n",
    "exp = np.zeros(int(steps))\n",
    "exp[: int(steps / 2)] = 40.0 * np.ones(int(steps / 2))\n",
    "exp[int(steps / 2) :] = 40.0 + 40.0 * np.sin(\n",
    "    np.arange(0, t / 1000.0 * np.pi * 20, t / 1000.0 * np.pi * 20.0 / (steps / 2))\n",
    ")\n",
    "plt.plot(exp, \"r\")\n",
    "plt.title(\"Rate Modulation: 0 -> 40\")\n",
    "plt.xlabel(\"Time [ms]\")\n"
   ]
  },
  {
   "cell_type": "markdown",
   "id": "52c680f5",
   "metadata": {},
   "source": [
    "Simulate a ``sinusoidal_gamma_generator`` with a phase shift at\n",
    "`t/2` and plot the number of spikes per second over time."
   ]
  },
  {
   "cell_type": "code",
   "execution_count": null,
   "id": "bab89f84",
   "metadata": {},
   "outputs": [],
   "source": [
    "\n",
    "# Phase shift\n",
    "plt.subplot(grid[0], grid[1], 6)\n",
    "spikes = step(\n",
    "    t,\n",
    "    n,\n",
    "    {\"order\": 6.0, \"rate\": 60.0, \"amplitude\": 60.0, \"frequency\": 10.0, \"phase\": 0.0},\n",
    "    {\"order\": 6.0, \"rate\": 60.0, \"amplitude\": 60.0, \"frequency\": 10.0, \"phase\": 180.0},\n",
    "    seed=123,\n",
    "    dt=1.0,\n",
    ")\n",
    "plot_hist(spikes)\n",
    "exp = np.zeros(int(steps))\n",
    "\n",
    "exp[: int(steps / 2)] = 60.0 + 60.0 * np.sin(\n",
    "    np.arange(0, t / 1000.0 * np.pi * 10, t / 1000.0 * np.pi * 10.0 / (steps / 2))\n",
    ")\n",
    "exp[int(steps / 2) :] = 60.0 + 60.0 * np.sin(\n",
    "    np.arange(0, t / 1000.0 * np.pi * 10, t / 1000.0 * np.pi * 10.0 / (steps / 2)) + offset + np.pi\n",
    ")\n",
    "plt.plot(exp, \"r\")\n",
    "plt.title(\"Modulation Phase: 0 -> Pi\")\n",
    "plt.xlabel(\"Time [ms]\")\n",
    "plt.show()"
   ]
  }
 ],
 "metadata": {
  "jupytext": {
   "cell_metadata_filter": "-all",
   "encoding": "# -*- coding: utf-8 -*-"
  },
  "kernelspec": {
   "display_name": "EBRAINS-24.04",
   "language": "python",
   "name": "ebrains-24.04"
  }
 },
 "nbformat": 4,
 "nbformat_minor": 5
}
