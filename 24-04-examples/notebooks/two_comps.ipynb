{
 "cells": [
  {
   "cell_type": "code",
   "execution_count": null,
   "id": "5931a640",
   "metadata": {},
   "outputs": [],
   "source": [
    "%matplotlib inline"
   ]
  },
  {
   "cell_type": "code",
   "execution_count": null,
   "id": "9dbc45a8",
   "metadata": {},
   "outputs": [],
   "source": [
    "#\n",
    "# two_comps.py\n",
    "#\n",
    "# This file is part of NEST.\n",
    "#\n",
    "# Copyright (C) 2004 The NEST Initiative\n",
    "#\n",
    "# NEST is free software: you can redistribute it and/or modify\n",
    "# it under the terms of the GNU General Public License as published by\n",
    "# the Free Software Foundation, either version 2 of the License, or\n",
    "# (at your option) any later version.\n",
    "#\n",
    "# NEST is distributed in the hope that it will be useful,\n",
    "# but WITHOUT ANY WARRANTY; without even the implied warranty of\n",
    "# MERCHANTABILITY or FITNESS FOR A PARTICULAR PURPOSE.  See the\n",
    "# GNU General Public License for more details.\n",
    "#\n",
    "# You should have received a copy of the GNU General Public License\n",
    "# along with NEST.  If not, see <http://www.gnu.org/licenses/>.\n",
    "\n",
    "r\"\"\"Constructing and simulating compartmental models with active and passive dendrites\n",
    "---------------------------------------------------------------------------------------\n",
    "This example demonstrates how to initialize compartmental models. It creates\n",
    "two models with two compartments, once with active channels in the dendritic\n",
    "compartment and once without. It then adds and excitatory receptors with AMPA\n",
    "and NMDA components to both the somatic and dendritic compartment.\n",
    "\n",
    "The output shows the evolution of the state variables present in the model.\n",
    "\n",
    ":Authors: WAM Wybo\n",
    "\"\"\"\n",
    "\n",
    "import matplotlib.pyplot as plt\n",
    "import nest\n",
    "\n",
    "nest.ResetKernel()\n",
    "\n",
    "soma_params = {\n",
    "    # passive parameters\n",
    "    \"C_m\": 89.245535,  # [pF] Capacitance\n",
    "    \"g_C\": 0.0,  # soma has no parent\n",
    "    \"g_L\": 8.924572508,  # [nS] Leak conductance\n",
    "    \"e_L\": -75.0,  # [mV] leak reversal\n",
    "    \"v_comp\": -75.0,  # [mV] compartment initialization\n",
    "    # ion channel params\n",
    "    \"gbar_Na\": 4608.698576715,  # [nS] Na maximal conductance\n",
    "    \"e_Na\": 60.0,  # [mV] Na reversal\n",
    "    \"gbar_K\": 956.112772900,  # [nS] K maximal conductance\n",
    "    \"e_K\": -90.0,  # [mV] K reversal\n",
    "}"
   ]
  },
  {
   "cell_type": "markdown",
   "id": "335e0cce",
   "metadata": {
    "lines_to_next_cell": 0
   },
   "source": [
    "by default, active conductances are set to zero, so we don't need to specify\n",
    "them explicitly"
   ]
  },
  {
   "cell_type": "code",
   "execution_count": null,
   "id": "c22f573b",
   "metadata": {},
   "outputs": [],
   "source": [
    "dend_params_passive = {\n",
    "    # passive parameters\n",
    "    \"C_m\": 1.929929,\n",
    "    \"g_C\": 1.255439494,\n",
    "    \"g_L\": 0.192992878,\n",
    "    \"e_L\": -75.0,\n",
    "    \"v_comp\": -75.0,\n",
    "}\n",
    "dend_params_active = {\n",
    "    # passive parameters\n",
    "    \"C_m\": 1.929929,  # [pF] Capacitance\n",
    "    \"g_C\": 1.255439494,  # [nS] Coupling conductance to parent (soma here)\n",
    "    \"g_L\": 0.192992878,  # [nS] Leak conductance\n",
    "    \"e_L\": -70.0,  # [mV] leak reversal\n",
    "    \"v_comp\": -70.0,  # [mV] compartment initialization\n",
    "    # ion channel params\n",
    "    \"gbar_Na\": 17.203212493,  # [nS] Na maximal conductance\n",
    "    \"e_Na\": 60.0,  # [mV] Na reversal\n",
    "    \"gbar_K\": 11.887347450,  # [nS] K maximal conductance\n",
    "    \"e_K\": -90.0,  # [mV] K reversal\n",
    "}"
   ]
  },
  {
   "cell_type": "markdown",
   "id": "eeba2ea3",
   "metadata": {
    "lines_to_next_cell": 0
   },
   "source": [
    "create a neuron model with a passive dendritic compartment"
   ]
  },
  {
   "cell_type": "code",
   "execution_count": null,
   "id": "aa237f3a",
   "metadata": {
    "lines_to_next_cell": 0
   },
   "outputs": [],
   "source": [
    "cm_pas = nest.Create(\"cm_default\")\n",
    "cm_pas.compartments = [{\"parent_idx\": -1, \"params\": soma_params}, {\"parent_idx\": 0, \"params\": dend_params_passive}]"
   ]
  },
  {
   "cell_type": "markdown",
   "id": "57801f80",
   "metadata": {
    "lines_to_next_cell": 0
   },
   "source": [
    "create a neuron model with an active dendritic compartment"
   ]
  },
  {
   "cell_type": "code",
   "execution_count": null,
   "id": "c1c1c506",
   "metadata": {},
   "outputs": [],
   "source": [
    "cm_act = nest.Create(\"cm_default\")\n",
    "cm_act.compartments = [{\"parent_idx\": -1, \"params\": soma_params}, {\"parent_idx\": 0, \"params\": dend_params_active}]"
   ]
  },
  {
   "cell_type": "markdown",
   "id": "85f262b4",
   "metadata": {
    "lines_to_next_cell": 0
   },
   "source": [
    "set spike thresholds"
   ]
  },
  {
   "cell_type": "code",
   "execution_count": null,
   "id": "a09da306",
   "metadata": {},
   "outputs": [],
   "source": [
    "cm_pas.V_th = -50.0\n",
    "cm_act.V_th = -50.0"
   ]
  },
  {
   "cell_type": "markdown",
   "id": "b549a1ad",
   "metadata": {
    "lines_to_next_cell": 0
   },
   "source": [
    "add somatic and dendritic receptor to passive dendrite model"
   ]
  },
  {
   "cell_type": "code",
   "execution_count": null,
   "id": "d5a9398f",
   "metadata": {
    "lines_to_next_cell": 0
   },
   "outputs": [],
   "source": [
    "cm_pas.receptors = [{\"comp_idx\": 0, \"receptor_type\": \"AMPA_NMDA\"}, {\"comp_idx\": 1, \"receptor_type\": \"AMPA_NMDA\"}]\n",
    "syn_idx_soma_pas = 0\n",
    "syn_idx_dend_pas = 1"
   ]
  },
  {
   "cell_type": "markdown",
   "id": "60eaf2d5",
   "metadata": {
    "lines_to_next_cell": 0
   },
   "source": [
    "add somatic and dendritic receptor to active dendrite model"
   ]
  },
  {
   "cell_type": "code",
   "execution_count": null,
   "id": "fb60a19d",
   "metadata": {},
   "outputs": [],
   "source": [
    "cm_act.receptors = [{\"comp_idx\": 0, \"receptor_type\": \"AMPA_NMDA\"}, {\"comp_idx\": 1, \"receptor_type\": \"AMPA_NMDA\"}]\n",
    "syn_idx_soma_act = 0\n",
    "syn_idx_dend_act = 1"
   ]
  },
  {
   "cell_type": "markdown",
   "id": "3e57326d",
   "metadata": {
    "lines_to_next_cell": 0
   },
   "source": [
    "create a two spike generators"
   ]
  },
  {
   "cell_type": "code",
   "execution_count": null,
   "id": "132533f5",
   "metadata": {},
   "outputs": [],
   "source": [
    "sg_soma = nest.Create(\"spike_generator\", 1, {\"spike_times\": [10.0, 13.0, 16.0]})\n",
    "sg_dend = nest.Create(\"spike_generator\", 1, {\"spike_times\": [70.0, 73.0, 76.0]})"
   ]
  },
  {
   "cell_type": "markdown",
   "id": "4b0e08db",
   "metadata": {
    "lines_to_next_cell": 0
   },
   "source": [
    "connect spike generators to passive dendrite model (weight in nS)"
   ]
  },
  {
   "cell_type": "code",
   "execution_count": null,
   "id": "db248825",
   "metadata": {
    "lines_to_next_cell": 0
   },
   "outputs": [],
   "source": [
    "nest.Connect(\n",
    "    sg_soma,\n",
    "    cm_pas,\n",
    "    syn_spec={\"synapse_model\": \"static_synapse\", \"weight\": 5.0, \"delay\": 0.5, \"receptor_type\": syn_idx_soma_pas},\n",
    ")\n",
    "nest.Connect(\n",
    "    sg_dend,\n",
    "    cm_pas,\n",
    "    syn_spec={\"synapse_model\": \"static_synapse\", \"weight\": 2.0, \"delay\": 0.5, \"receptor_type\": syn_idx_dend_pas},\n",
    ")"
   ]
  },
  {
   "cell_type": "markdown",
   "id": "35ddf450",
   "metadata": {
    "lines_to_next_cell": 0
   },
   "source": [
    "connect spike generators to active dendrite model (weight in nS)"
   ]
  },
  {
   "cell_type": "code",
   "execution_count": null,
   "id": "18dacdfa",
   "metadata": {},
   "outputs": [],
   "source": [
    "nest.Connect(\n",
    "    sg_soma,\n",
    "    cm_act,\n",
    "    syn_spec={\"synapse_model\": \"static_synapse\", \"weight\": 5.0, \"delay\": 0.5, \"receptor_type\": syn_idx_soma_act},\n",
    ")\n",
    "nest.Connect(\n",
    "    sg_dend,\n",
    "    cm_act,\n",
    "    syn_spec={\"synapse_model\": \"static_synapse\", \"weight\": 2.0, \"delay\": 0.5, \"receptor_type\": syn_idx_dend_act},\n",
    ")"
   ]
  },
  {
   "cell_type": "markdown",
   "id": "164cb024",
   "metadata": {
    "lines_to_next_cell": 0
   },
   "source": [
    "create multimeters to record compartment voltages and various state variables"
   ]
  },
  {
   "cell_type": "code",
   "execution_count": null,
   "id": "19b9f9a0",
   "metadata": {
    "lines_to_next_cell": 0
   },
   "outputs": [],
   "source": [
    "rec_list = [\n",
    "    \"v_comp0\",\n",
    "    \"v_comp1\",\n",
    "    \"m_Na_0\",\n",
    "    \"h_Na_0\",\n",
    "    \"n_K_0\",\n",
    "    \"m_Na_1\",\n",
    "    \"h_Na_1\",\n",
    "    \"n_K_1\",\n",
    "    \"g_r_AN_AMPA_1\",\n",
    "    \"g_d_AN_AMPA_1\",\n",
    "    \"g_r_AN_NMDA_1\",\n",
    "    \"g_d_AN_NMDA_1\",\n",
    "]\n",
    "mm_pas = nest.Create(\"multimeter\", 1, {\"record_from\": rec_list, \"interval\": 0.1})\n",
    "mm_act = nest.Create(\"multimeter\", 1, {\"record_from\": rec_list, \"interval\": 0.1})"
   ]
  },
  {
   "cell_type": "markdown",
   "id": "a595de8d",
   "metadata": {
    "lines_to_next_cell": 0
   },
   "source": [
    "connect the multimeters to the respective neurons"
   ]
  },
  {
   "cell_type": "code",
   "execution_count": null,
   "id": "4205e1b1",
   "metadata": {},
   "outputs": [],
   "source": [
    "nest.Connect(mm_pas, cm_pas)\n",
    "nest.Connect(mm_act, cm_act)"
   ]
  },
  {
   "cell_type": "markdown",
   "id": "2bf32eb7",
   "metadata": {
    "lines_to_next_cell": 0
   },
   "source": [
    "simulate the models"
   ]
  },
  {
   "cell_type": "code",
   "execution_count": null,
   "id": "a7c1d255",
   "metadata": {
    "lines_to_next_cell": 0
   },
   "outputs": [],
   "source": [
    "nest.Simulate(160.0)\n",
    "res_pas = nest.GetStatus(mm_pas, \"events\")[0]\n",
    "res_act = nest.GetStatus(mm_act, \"events\")[0]\n",
    "\n",
    "plt.figure(\"voltage\")"
   ]
  },
  {
   "cell_type": "markdown",
   "id": "6a8811e7",
   "metadata": {
    "lines_to_next_cell": 0
   },
   "source": [
    "plot voltage for somatic compartment"
   ]
  },
  {
   "cell_type": "code",
   "execution_count": null,
   "id": "9edb48a9",
   "metadata": {
    "lines_to_next_cell": 0
   },
   "outputs": [],
   "source": [
    "ax_soma = plt.subplot(121)\n",
    "ax_soma.plot(res_pas[\"times\"], res_pas[\"v_comp0\"], c=\"b\", label=\"passive dend\")\n",
    "ax_soma.plot(res_act[\"times\"], res_act[\"v_comp0\"], c=\"r\", label=\"active dend\")\n",
    "ax_soma.set_xlabel(r\"$t$ (ms)\")\n",
    "ax_soma.set_ylabel(r\"$v_{soma}$ (mV)\")\n",
    "ax_soma.set_ylim((-90.0, 40.0))\n",
    "ax_soma.legend(loc=0)"
   ]
  },
  {
   "cell_type": "markdown",
   "id": "4d42172a",
   "metadata": {
    "lines_to_next_cell": 0
   },
   "source": [
    "plot voltage for dendritic compartment"
   ]
  },
  {
   "cell_type": "code",
   "execution_count": null,
   "id": "c7ee2263",
   "metadata": {
    "lines_to_next_cell": 0
   },
   "outputs": [],
   "source": [
    "ax_dend = plt.subplot(122)\n",
    "ax_dend.plot(res_pas[\"times\"], res_pas[\"v_comp1\"], c=\"b\", label=\"passive dend\")\n",
    "ax_dend.plot(res_act[\"times\"], res_act[\"v_comp1\"], c=\"r\", label=\"active dend\")\n",
    "ax_dend.set_xlabel(r\"$t$ (ms)\")\n",
    "ax_dend.set_ylabel(r\"$v_{dend}$ (mV)\")\n",
    "ax_dend.set_ylim((-90.0, 40.0))\n",
    "ax_dend.legend(loc=0)\n",
    "\n",
    "plt.figure(\"channel state variables\")"
   ]
  },
  {
   "cell_type": "markdown",
   "id": "16bc9dcb",
   "metadata": {
    "lines_to_next_cell": 0
   },
   "source": [
    "plot ion channel state variables for somatic compartment"
   ]
  },
  {
   "cell_type": "code",
   "execution_count": null,
   "id": "7a5f3786",
   "metadata": {
    "lines_to_next_cell": 0
   },
   "outputs": [],
   "source": [
    "ax_soma = plt.subplot(121)\n",
    "ax_soma.plot(res_pas[\"times\"], res_pas[\"m_Na_0\"], c=\"b\", label=\"m_Na passive dend\")\n",
    "ax_soma.plot(res_pas[\"times\"], res_pas[\"h_Na_0\"], c=\"r\", label=\"h_Na passive dend\")\n",
    "ax_soma.plot(res_pas[\"times\"], res_pas[\"n_K_0\"], c=\"g\", label=\"n_K passive dend\")\n",
    "ax_soma.plot(res_act[\"times\"], res_act[\"m_Na_0\"], c=\"b\", ls=\"--\", lw=2.0, label=\"m_Na active dend\")\n",
    "ax_soma.plot(res_act[\"times\"], res_act[\"h_Na_0\"], c=\"r\", ls=\"--\", lw=2.0, label=\"h_Na active dend\")\n",
    "ax_soma.plot(res_act[\"times\"], res_act[\"n_K_0\"], c=\"g\", ls=\"--\", lw=2.0, label=\"n_K active dend\")\n",
    "ax_soma.set_xlabel(r\"$t$ (ms)\")\n",
    "ax_soma.set_ylabel(r\"svar\")\n",
    "ax_soma.set_ylim((0.0, 1.0))\n",
    "ax_soma.legend(loc=0)"
   ]
  },
  {
   "cell_type": "markdown",
   "id": "d3ae7cd9",
   "metadata": {
    "lines_to_next_cell": 0
   },
   "source": [
    "plot ion channel state variables for dendritic compartment"
   ]
  },
  {
   "cell_type": "code",
   "execution_count": null,
   "id": "fba7a4ad",
   "metadata": {
    "lines_to_next_cell": 0
   },
   "outputs": [],
   "source": [
    "ax_dend = plt.subplot(122)\n",
    "ax_dend.plot(res_pas[\"times\"], res_pas[\"m_Na_1\"], c=\"b\", label=\"m_Na passive dend\")\n",
    "ax_dend.plot(res_pas[\"times\"], res_pas[\"h_Na_1\"], c=\"r\", label=\"h_Na passive dend\")\n",
    "ax_dend.plot(res_pas[\"times\"], res_pas[\"n_K_1\"], c=\"g\", label=\"n_K passive dend\")\n",
    "ax_dend.plot(res_act[\"times\"], res_act[\"m_Na_1\"], c=\"b\", ls=\"--\", lw=2.0, label=\"m_Na active dend\")\n",
    "ax_dend.plot(res_act[\"times\"], res_act[\"h_Na_1\"], c=\"r\", ls=\"--\", lw=2.0, label=\"h_Na active dend\")\n",
    "ax_dend.plot(res_act[\"times\"], res_act[\"n_K_1\"], c=\"g\", ls=\"--\", lw=2.0, label=\"n_K active dend\")\n",
    "ax_dend.set_xlabel(r\"$t$ (ms)\")\n",
    "ax_dend.set_ylabel(r\"svar\")\n",
    "ax_dend.set_ylim((0.0, 1.0))\n",
    "ax_dend.legend(loc=0)\n",
    "\n",
    "plt.figure(\"dendritic synapse conductances\")"
   ]
  },
  {
   "cell_type": "markdown",
   "id": "9fef69ff",
   "metadata": {
    "lines_to_next_cell": 0
   },
   "source": [
    "plot synapse state variables for dendritic compartment"
   ]
  },
  {
   "cell_type": "code",
   "execution_count": null,
   "id": "e2398c83",
   "metadata": {},
   "outputs": [],
   "source": [
    "ax_dend = plt.gca()\n",
    "ax_dend.plot(res_pas[\"times\"], res_pas[\"g_r_AN_AMPA_1\"] + res_pas[\"g_d_AN_AMPA_1\"], c=\"b\", label=\"AMPA passive dend\")\n",
    "ax_dend.plot(res_pas[\"times\"], res_pas[\"g_r_AN_NMDA_1\"] + res_pas[\"g_d_AN_NMDA_1\"], c=\"r\", label=\"NMDA passive dend\")\n",
    "ax_dend.plot(\n",
    "    res_act[\"times\"],\n",
    "    res_act[\"g_r_AN_AMPA_1\"] + res_act[\"g_d_AN_AMPA_1\"],\n",
    "    c=\"b\",\n",
    "    ls=\"--\",\n",
    "    lw=2.0,\n",
    "    label=\"AMPA active dend\",\n",
    ")\n",
    "ax_dend.plot(\n",
    "    res_act[\"times\"],\n",
    "    res_act[\"g_r_AN_NMDA_1\"] + res_act[\"g_d_AN_NMDA_1\"],\n",
    "    c=\"r\",\n",
    "    ls=\"--\",\n",
    "    lw=2.0,\n",
    "    label=\"NMDA active dend\",\n",
    ")\n",
    "ax_dend.legend(loc=0)\n",
    "\n",
    "plt.tight_layout()\n",
    "plt.show()"
   ]
  }
 ],
 "metadata": {
  "jupytext": {
   "cell_metadata_filter": "-all",
   "encoding": "# -*- coding: utf-8 -*-"
  },
  "kernelspec": {
   "display_name": "EBRAINS-24.04",
   "language": "python",
   "name": "ebrains-24.04"
  }
 },
 "nbformat": 4,
 "nbformat_minor": 5
}
