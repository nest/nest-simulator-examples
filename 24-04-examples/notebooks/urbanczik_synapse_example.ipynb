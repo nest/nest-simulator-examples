{
 "cells": [
  {
   "cell_type": "markdown",
   "id": "0f8be725",
   "metadata": {},
   "source": [
    "\n",
    "urbanczik_synapse_example.py\n",
    "\n",
    "This file is part of NEST.\n",
    "\n",
    "Copyright (C) 2004 The NEST Initiative\n",
    "\n",
    "NEST is free software: you can redistribute it and/or modify\n",
    "it under the terms of the GNU General Public License as published by\n",
    "the Free Software Foundation, either version 2 of the License, or\n",
    "(at your option) any later version.\n",
    "\n",
    "NEST is distributed in the hope that it will be useful,\n",
    "but WITHOUT ANY WARRANTY; without even the implied warranty of\n",
    "MERCHANTABILITY or FITNESS FOR A PARTICULAR PURPOSE.  See the\n",
    "GNU General Public License for more details.\n",
    "\n",
    "You should have received a copy of the GNU General Public License\n",
    "along with NEST.  If not, see <http://www.gnu.org/licenses/>."
   ]
  },
  {
   "cell_type": "code",
   "execution_count": null,
   "id": "b82ac169",
   "metadata": {},
   "outputs": [],
   "source": [
    "\"\"\"\n",
    "Weight adaptation according to the Urbanczik-Senn plasticity\n",
    "------------------------------------------------------------\n",
    "\n",
    "This script demonstrates the learning in a compartmental neuron where the\n",
    "dendritic synapses adapt their weight according to the plasticity rule by\n",
    "Urbanczik and Senn [1]_. In this simple setup, a spike pattern of 200 poisson\n",
    "spike trains is repeatedly presented to a neuron that is composed of one\n",
    "somatic and one dendritic compartment. At the same time, the somatic\n",
    "conductances are activated to produce a time-varying matching potential.\n",
    "After the learning, this signal is then reproduced by the membrane\n",
    "potential of the neuron. This script produces Fig. 1B in [1]_ but uses standard\n",
    "units instead of the unitless quantities used in the paper.\n",
    "\n",
    "References\n",
    "~~~~~~~~~~\n",
    "\n",
    ".. [1] R. Urbanczik, W. Senn (2014): Learning by the Dendritic Prediction of\n",
    "       Somatic Spiking. Neuron, 81, 521-528.\n",
    "\"\"\"\n",
    "import nest\n",
    "import numpy as np\n",
    "from matplotlib import pyplot as plt"
   ]
  },
  {
   "cell_type": "code",
   "execution_count": null,
   "id": "23047850",
   "metadata": {},
   "outputs": [],
   "source": [
    "def g_inh(amplitude, t_start, t_end):\n",
    "    \"\"\"\n",
    "    returns weights for the spike generator that drives the inhibitory\n",
    "    somatic conductance.\n",
    "    \"\"\"\n",
    "    return lambda t: np.piecewise(t, [(t >= t_start) & (t < t_end)], [amplitude, 0.0])"
   ]
  },
  {
   "cell_type": "code",
   "execution_count": null,
   "id": "648275d1",
   "metadata": {},
   "outputs": [],
   "source": [
    "def g_exc(amplitude, freq, offset, t_start, t_end):\n",
    "    \"\"\"\n",
    "    returns weights for the spike generator that drives the excitatory\n",
    "    somatic conductance.\n",
    "    \"\"\"\n",
    "    return lambda t: np.piecewise(\n",
    "        t, [(t >= t_start) & (t < t_end)], [lambda t: amplitude * np.sin(freq * t) + offset, 0.0]\n",
    "    )"
   ]
  },
  {
   "cell_type": "code",
   "execution_count": null,
   "id": "8af1c7af",
   "metadata": {},
   "outputs": [],
   "source": [
    "def matching_potential(g_E, g_I, nrn_params):\n",
    "    \"\"\"\n",
    "    returns the matching potential as a function of the somatic conductances.\n",
    "    \"\"\"\n",
    "    E_E = nrn_params[\"soma\"][\"E_ex\"]\n",
    "    E_I = nrn_params[\"soma\"][\"E_in\"]\n",
    "    return (g_E * E_E + g_I * E_I) / (g_E + g_I)"
   ]
  },
  {
   "cell_type": "code",
   "execution_count": null,
   "id": "20508f15",
   "metadata": {},
   "outputs": [],
   "source": [
    "def V_w_star(V_w, nrn_params):\n",
    "    \"\"\"\n",
    "    returns the dendritic prediction of the somatic membrane potential.\n",
    "    \"\"\"\n",
    "    g_D = nrn_params[\"g_sp\"]\n",
    "    g_L = nrn_params[\"soma\"][\"g_L\"]\n",
    "    E_L = nrn_params[\"soma\"][\"E_L\"]\n",
    "    return (g_L * E_L + g_D * V_w) / (g_L + g_D)"
   ]
  },
  {
   "cell_type": "code",
   "execution_count": null,
   "id": "7ee5838f",
   "metadata": {},
   "outputs": [],
   "source": [
    "def phi(U, nrn_params):\n",
    "    \"\"\"\n",
    "    rate function of the soma\n",
    "    \"\"\"\n",
    "    phi_max = nrn_params[\"phi_max\"]\n",
    "    k = nrn_params[\"rate_slope\"]\n",
    "    beta = nrn_params[\"beta\"]\n",
    "    theta = nrn_params[\"theta\"]\n",
    "    return phi_max / (1.0 + k * np.exp(beta * (theta - U)))"
   ]
  },
  {
   "cell_type": "code",
   "execution_count": null,
   "id": "d46f7741",
   "metadata": {},
   "outputs": [],
   "source": [
    "def h(U, nrn_params):\n",
    "    \"\"\"\n",
    "    derivative of the rate function phi\n",
    "    \"\"\"\n",
    "    k = nrn_params[\"rate_slope\"]\n",
    "    beta = nrn_params[\"beta\"]\n",
    "    theta = nrn_params[\"theta\"]\n",
    "    return 15.0 * beta / (1.0 + np.exp(-beta * (theta - U)) / k)"
   ]
  },
  {
   "cell_type": "code",
   "execution_count": null,
   "id": "d0a0a6b4",
   "metadata": {},
   "outputs": [],
   "source": [
    "# simulation params\n",
    "n_pattern_rep = 100  # number of repetitions of the spike pattern\n",
    "pattern_duration = 200.0\n",
    "t_start = 2.0 * pattern_duration\n",
    "t_end = n_pattern_rep * pattern_duration + t_start\n",
    "simulation_time = t_end + 2.0 * pattern_duration\n",
    "n_rep_total = int(np.around(simulation_time / pattern_duration))\n",
    "resolution = 0.1\n",
    "nest.resolution = resolution"
   ]
  },
  {
   "cell_type": "code",
   "execution_count": null,
   "id": "b991ac5c",
   "metadata": {},
   "outputs": [],
   "source": [
    "# neuron parameters\n",
    "nrn_model = \"pp_cond_exp_mc_urbanczik\"\n",
    "nrn_params = {\n",
    "    \"t_ref\": 3.0,  # refractory period\n",
    "    \"g_sp\": 600.0,  # soma-to-dendritic coupling conductance\n",
    "    \"soma\": {\n",
    "        \"V_m\": -70.0,  # initial value of V_m\n",
    "        \"C_m\": 300.0,  # capacitance of membrane\n",
    "        \"E_L\": -70.0,  # resting potential\n",
    "        \"g_L\": 30.0,  # somatic leak conductance\n",
    "        \"E_ex\": 0.0,  # resting potential for exc input\n",
    "        \"E_in\": -75.0,  # resting potential for inh input\n",
    "        \"tau_syn_ex\": 3.0,  # time constant of exc conductance\n",
    "        \"tau_syn_in\": 3.0,  # time constant of inh conductance\n",
    "    },\n",
    "    \"dendritic\": {\n",
    "        \"V_m\": -70.0,  # initial value of V_m\n",
    "        \"C_m\": 300.0,  # capacitance of membrane\n",
    "        \"E_L\": -70.0,  # resting potential\n",
    "        \"g_L\": 30.0,  # dendritic leak conductance\n",
    "        \"tau_syn_ex\": 3.0,  # time constant of exc input current\n",
    "        \"tau_syn_in\": 3.0,  # time constant of inh input current\n",
    "    },\n",
    "    # parameters of rate function\n",
    "    \"phi_max\": 0.15,  # max rate\n",
    "    \"rate_slope\": 0.5,  # called 'k' in the paper\n",
    "    \"beta\": 1.0 / 3.0,\n",
    "    \"theta\": -55.0,\n",
    "}"
   ]
  },
  {
   "cell_type": "code",
   "execution_count": null,
   "id": "5feb1bf4",
   "metadata": {},
   "outputs": [],
   "source": [
    "# synapse params\n",
    "syns = nest.GetDefaults(nrn_model)[\"receptor_types\"]\n",
    "init_w = 0.3 * nrn_params[\"dendritic\"][\"C_m\"]\n",
    "syn_params = {\n",
    "    \"synapse_model\": \"urbanczik_synapse_wr\",\n",
    "    \"receptor_type\": syns[\"dendritic_exc\"],\n",
    "    \"tau_Delta\": 100.0,  # time constant of low pass filtering of the weight change\n",
    "    \"eta\": 0.17,  # learning rate\n",
    "    \"weight\": init_w,\n",
    "    \"Wmax\": 4.5 * nrn_params[\"dendritic\"][\"C_m\"],\n",
    "    \"delay\": resolution,\n",
    "}"
   ]
  },
  {
   "cell_type": "code",
   "execution_count": null,
   "id": "fdaa06da",
   "metadata": {},
   "outputs": [],
   "source": [
    "\"\"\"\n",
    "# in case you want to use the unitless quantities as in [1]:\n",
    "\n",
    "# neuron params:\n",
    "\n",
    "nrn_model = 'pp_cond_exp_mc_urbanczik'\n",
    "nrn_params = {\n",
    "    't_ref': 3.0,\n",
    "    'g_sp': 2.0,\n",
    "    'soma': {\n",
    "        'V_m': 0.0,\n",
    "        'C_m': 1.0,\n",
    "        'E_L': 0.0,\n",
    "        'g_L': 0.1,\n",
    "        'E_ex': 14.0 / 3.0,\n",
    "        'E_in': -1.0 / 3.0,\n",
    "        'tau_syn_ex': 3.0,\n",
    "        'tau_syn_in': 3.0,\n",
    "    },\n",
    "    'dendritic': {\n",
    "        'V_m': 0.0,\n",
    "        'C_m': 1.0,\n",
    "        'E_L': 0.0,\n",
    "        'g_L': 0.1,\n",
    "        'tau_syn_ex': 3.0,\n",
    "        'tau_syn_in': 3.0,\n",
    "    },\n",
    "    # parameters of rate function\n",
    "    'phi_max': 0.15,\n",
    "    'rate_slope': 0.5,\n",
    "    'beta': 5.0,\n",
    "    'theta': 1.0,\n",
    "}\n",
    "\n",
    "# synapse params:\n",
    "\n",
    "syns = nest.GetDefaults(nrn_model)['receptor_types']\n",
    "init_w = 0.2*nrn_params['dendritic']['g_L']\n",
    "syn_params = {\n",
    "    'synapse_model': 'urbanczik_synapse_wr',\n",
    "    'receptor_type': syns['dendritic_exc'],\n",
    "    'tau_Delta': 100.0,\n",
    "    'eta': 0.0003 / (15.0*15.0*nrn_params['dendritic']['C_m']),\n",
    "    'weight': init_w,\n",
    "    'Wmax': 3.0*nrn_params['dendritic']['g_L'],\n",
    "    'delay': resolution,\n",
    "}\n",
    "\"\"\""
   ]
  },
  {
   "cell_type": "code",
   "execution_count": null,
   "id": "b456bc32",
   "metadata": {},
   "outputs": [],
   "source": [
    "# somatic input\n",
    "ampl_exc = 0.016 * nrn_params[\"dendritic\"][\"C_m\"]\n",
    "offset = 0.018 * nrn_params[\"dendritic\"][\"C_m\"]\n",
    "ampl_inh = 0.06 * nrn_params[\"dendritic\"][\"C_m\"]\n",
    "freq = 2.0 / pattern_duration\n",
    "soma_exc_inp = g_exc(ampl_exc, 2.0 * np.pi * freq, offset, t_start, t_end)\n",
    "soma_inh_inp = g_inh(ampl_inh, t_start, t_end)"
   ]
  },
  {
   "cell_type": "code",
   "execution_count": null,
   "id": "071be9da",
   "metadata": {},
   "outputs": [],
   "source": [
    "# dendritic input\n",
    "# create spike pattern by recording the spikes of a simulation of n_pg\n",
    "# poisson generators. The recorded spike times are then given to spike\n",
    "# generators.\n",
    "n_pg = 200  # number of poisson generators\n",
    "p_rate = 10.0  # rate in Hz"
   ]
  },
  {
   "cell_type": "code",
   "execution_count": null,
   "id": "0c38dcb8",
   "metadata": {},
   "outputs": [],
   "source": [
    "pgs = nest.Create(\"poisson_generator\", n=n_pg, params={\"rate\": p_rate})"
   ]
  },
  {
   "cell_type": "code",
   "execution_count": null,
   "id": "4fa90eed",
   "metadata": {},
   "outputs": [],
   "source": [
    "prrt_nrns_pg = nest.Create(\"parrot_neuron\", n_pg)"
   ]
  },
  {
   "cell_type": "code",
   "execution_count": null,
   "id": "78a6bd6a",
   "metadata": {},
   "outputs": [],
   "source": [
    "nest.Connect(pgs, prrt_nrns_pg, {\"rule\": \"one_to_one\"})"
   ]
  },
  {
   "cell_type": "code",
   "execution_count": null,
   "id": "8c3a3ddd",
   "metadata": {},
   "outputs": [],
   "source": [
    "sr = nest.Create(\"spike_recorder\", n_pg)\n",
    "nest.Connect(prrt_nrns_pg, sr, {\"rule\": \"one_to_one\"})"
   ]
  },
  {
   "cell_type": "code",
   "execution_count": null,
   "id": "1f8a4a08",
   "metadata": {},
   "outputs": [],
   "source": [
    "nest.Simulate(pattern_duration)\n",
    "t_srs = [ssr.get(\"events\", \"times\") for ssr in sr]"
   ]
  },
  {
   "cell_type": "code",
   "execution_count": null,
   "id": "58c92f3b",
   "metadata": {},
   "outputs": [],
   "source": [
    "nest.ResetKernel()\n",
    "nest.resolution = resolution"
   ]
  },
  {
   "cell_type": "code",
   "execution_count": null,
   "id": "7c64d8c8",
   "metadata": {},
   "outputs": [],
   "source": [
    "\"\"\"\n",
    "neuron and devices\n",
    "\"\"\"\n",
    "nrn = nest.Create(nrn_model, params=nrn_params)"
   ]
  },
  {
   "cell_type": "code",
   "execution_count": null,
   "id": "ed9a816a",
   "metadata": {},
   "outputs": [],
   "source": [
    "# poisson generators are connected to parrot neurons which are\n",
    "# connected to the mc neuron\n",
    "prrt_nrns = nest.Create(\"parrot_neuron\", n_pg)"
   ]
  },
  {
   "cell_type": "code",
   "execution_count": null,
   "id": "de16f228",
   "metadata": {},
   "outputs": [],
   "source": [
    "# excitatory input to the soma\n",
    "spike_times_soma_inp = np.arange(resolution, simulation_time, resolution)\n",
    "sg_soma_exc = nest.Create(\n",
    "    \"spike_generator\", params={\"spike_times\": spike_times_soma_inp, \"spike_weights\": soma_exc_inp(spike_times_soma_inp)}\n",
    ")\n",
    "# inhibitory input to the soma\n",
    "sg_soma_inh = nest.Create(\n",
    "    \"spike_generator\", params={\"spike_times\": spike_times_soma_inp, \"spike_weights\": soma_inh_inp(spike_times_soma_inp)}\n",
    ")"
   ]
  },
  {
   "cell_type": "code",
   "execution_count": null,
   "id": "972958a6",
   "metadata": {},
   "outputs": [],
   "source": [
    "# excitatory input to the dendrite\n",
    "sg_prox = nest.Create(\"spike_generator\", n=n_pg)"
   ]
  },
  {
   "cell_type": "code",
   "execution_count": null,
   "id": "5bcd16e1",
   "metadata": {},
   "outputs": [],
   "source": [
    "# for recording all parameters of the Urbanczik neuron\n",
    "rqs = nest.GetDefaults(nrn_model)[\"recordables\"]\n",
    "mm = nest.Create(\"multimeter\", params={\"record_from\": rqs, \"interval\": 0.1})"
   ]
  },
  {
   "cell_type": "code",
   "execution_count": null,
   "id": "1f9192c2",
   "metadata": {},
   "outputs": [],
   "source": [
    "# for recoding the synaptic weights of the Urbanczik synapses\n",
    "wr = nest.Create(\"weight_recorder\")"
   ]
  },
  {
   "cell_type": "code",
   "execution_count": null,
   "id": "ad869fa7",
   "metadata": {
    "lines_to_next_cell": 2
   },
   "outputs": [],
   "source": [
    "# for recording the spiking of the soma\n",
    "sr_soma = nest.Create(\"spike_recorder\")"
   ]
  },
  {
   "cell_type": "code",
   "execution_count": null,
   "id": "024a207b",
   "metadata": {},
   "outputs": [],
   "source": [
    "# create connections\n",
    "nest.Connect(sg_prox, prrt_nrns, {\"rule\": \"one_to_one\"})\n",
    "nest.CopyModel(\"urbanczik_synapse\", \"urbanczik_synapse_wr\", {\"weight_recorder\": wr[0]})\n",
    "nest.Connect(prrt_nrns, nrn, syn_spec=syn_params)\n",
    "nest.Connect(mm, nrn, syn_spec={\"delay\": 0.1})\n",
    "nest.Connect(\n",
    "    sg_soma_exc, nrn, syn_spec={\"receptor_type\": syns[\"soma_exc\"], \"weight\": 10.0 * resolution, \"delay\": resolution}\n",
    ")\n",
    "nest.Connect(\n",
    "    sg_soma_inh, nrn, syn_spec={\"receptor_type\": syns[\"soma_inh\"], \"weight\": 10.0 * resolution, \"delay\": resolution}\n",
    ")\n",
    "nest.Connect(nrn, sr_soma)"
   ]
  },
  {
   "cell_type": "code",
   "execution_count": null,
   "id": "7a1e13d2",
   "metadata": {
    "lines_to_next_cell": 2
   },
   "outputs": [],
   "source": [
    "# simulation divided into intervals of the pattern duration\n",
    "for i in np.arange(n_rep_total):\n",
    "    # Set the spike times of the pattern for each spike generator\n",
    "    for sg, t_sp in zip(sg_prox, t_srs):\n",
    "        nest.SetStatus(sg, {\"spike_times\": np.array(t_sp) + i * pattern_duration})\n",
    "\n",
    "    nest.Simulate(pattern_duration)"
   ]
  },
  {
   "cell_type": "markdown",
   "id": "d4f484a8",
   "metadata": {},
   "source": [
    "read out devices"
   ]
  },
  {
   "cell_type": "code",
   "execution_count": null,
   "id": "52fd8c58",
   "metadata": {},
   "outputs": [],
   "source": [
    "# multimeter\n",
    "mm_events = mm.events\n",
    "t = mm_events[\"times\"]\n",
    "V_s = mm_events[\"V_m.s\"]\n",
    "V_d = mm_events[\"V_m.p\"]\n",
    "V_d_star = V_w_star(V_d, nrn_params)\n",
    "g_in = mm_events[\"g_in.s\"]\n",
    "g_ex = mm_events[\"g_ex.s\"]\n",
    "I_ex = mm_events[\"I_ex.p\"]\n",
    "I_in = mm_events[\"I_in.p\"]\n",
    "U_M = matching_potential(g_ex, g_in, nrn_params)"
   ]
  },
  {
   "cell_type": "code",
   "execution_count": null,
   "id": "5dabbaea",
   "metadata": {},
   "outputs": [],
   "source": [
    "# weight recorder\n",
    "wr_events = wr.events\n",
    "senders = wr_events[\"senders\"]\n",
    "targets = wr_events[\"targets\"]\n",
    "weights = wr_events[\"weights\"]\n",
    "times = wr_events[\"times\"]"
   ]
  },
  {
   "cell_type": "code",
   "execution_count": null,
   "id": "fad627e7",
   "metadata": {
    "lines_to_next_cell": 2
   },
   "outputs": [],
   "source": [
    "# spike recorder\n",
    "spike_times_soma = sr_soma.get(\"events\", \"times\")"
   ]
  },
  {
   "cell_type": "code",
   "execution_count": null,
   "id": "a7bcc0c2",
   "metadata": {},
   "outputs": [],
   "source": [
    "# plot results\n",
    "fs = 22\n",
    "lw = 2.5\n",
    "fig1, (axA, axB, axC, axD) = plt.subplots(4, 1, sharex=True)"
   ]
  },
  {
   "cell_type": "code",
   "execution_count": null,
   "id": "129f21b6",
   "metadata": {},
   "outputs": [],
   "source": [
    "# membrane potentials and matching potential\n",
    "axA.plot(t, V_s, lw=lw, label=r\"$U$ (soma)\", color=\"darkblue\")\n",
    "axA.plot(t, V_d, lw=lw, label=r\"$V_W$ (dendrit)\", color=\"deepskyblue\")\n",
    "axA.plot(t, V_d_star, lw=lw, label=r\"$V_W^\\ast$ (dendrit)\", color=\"b\", ls=\"--\")\n",
    "axA.plot(t, U_M, lw=lw, label=r\"$U_M$ (soma)\", color=\"r\", ls=\"-\")\n",
    "axA.set_ylabel(\"membrane pot [mV]\", fontsize=fs)\n",
    "axA.legend(fontsize=fs)"
   ]
  },
  {
   "cell_type": "code",
   "execution_count": null,
   "id": "b7239f69",
   "metadata": {},
   "outputs": [],
   "source": [
    "# somatic conductances\n",
    "axB.plot(t, g_in, lw=lw, label=r\"$g_I$\", color=\"r\")\n",
    "axB.plot(t, g_ex, lw=lw, label=r\"$g_E$\", color=\"coral\")\n",
    "axB.set_ylabel(\"somatic cond\", fontsize=fs)\n",
    "axB.legend(fontsize=fs)"
   ]
  },
  {
   "cell_type": "code",
   "execution_count": null,
   "id": "a0796f36",
   "metadata": {},
   "outputs": [],
   "source": [
    "# dendritic currents\n",
    "axC.plot(t, I_ex, lw=lw, label=r\"$I_ex$\", color=\"r\")\n",
    "axC.plot(t, I_in, lw=lw, label=r\"$I_in$\", color=\"coral\")\n",
    "axC.set_ylabel(\"dend current\", fontsize=fs)\n",
    "axC.legend(fontsize=fs)"
   ]
  },
  {
   "cell_type": "code",
   "execution_count": null,
   "id": "d122dd3d",
   "metadata": {},
   "outputs": [],
   "source": [
    "# rates\n",
    "axD.plot(t, phi(V_s, nrn_params), lw=lw, label=r\"$\\phi(U)$\", color=\"darkblue\")\n",
    "axD.plot(t, phi(V_d, nrn_params), lw=lw, label=r\"$\\phi(V_W)$\", color=\"deepskyblue\")\n",
    "axD.plot(t, phi(V_d_star, nrn_params), lw=lw, label=r\"$\\phi(V_W^\\ast)$\", color=\"b\", ls=\"--\")\n",
    "axD.plot(t, h(V_d_star, nrn_params), lw=lw, label=r\"$h(V_W^\\ast)$\", color=\"g\", ls=\"--\")\n",
    "axD.plot(\n",
    "    t, phi(V_s, nrn_params) - phi(V_d_star, nrn_params), lw=lw, label=r\"$\\phi(U) - \\phi(V_W^\\ast)$\", color=\"r\", ls=\"-\"\n",
    ")\n",
    "axD.plot(spike_times_soma, 0.0 * np.ones(len(spike_times_soma)), \"s\", color=\"k\", markersize=2)\n",
    "axD.legend(fontsize=fs)"
   ]
  },
  {
   "cell_type": "code",
   "execution_count": null,
   "id": "d1291160",
   "metadata": {},
   "outputs": [],
   "source": [
    "# synaptic weights\n",
    "fig2, axA = plt.subplots(1, 1)\n",
    "for i in np.arange(2, 200, 10):\n",
    "    index = np.intersect1d(np.where(senders == i), np.where(targets == 1))\n",
    "    if not len(index) == 0:\n",
    "        axA.step(times[index], weights[index], label=\"pg_{}\".format(i - 2), lw=lw)"
   ]
  },
  {
   "cell_type": "code",
   "execution_count": null,
   "id": "3958810a",
   "metadata": {},
   "outputs": [],
   "source": [
    "axA.set_title(\"Synaptic weights of Urbanczik synapses\")\n",
    "axA.set_xlabel(\"time [ms]\", fontsize=fs)\n",
    "axA.set_ylabel(\"weight\", fontsize=fs)\n",
    "axA.legend(fontsize=fs - 4)\n",
    "plt.show()"
   ]
  }
 ],
 "metadata": {
  "jupytext": {
   "cell_metadata_filter": "-all",
   "encoding": "# -*- coding: utf-8 -*-"
  },
  "kernelspec": {
   "display_name": "EBRAINS-24.04",
   "language": "python",
   "name": "ebrains-24.04"
  }
 },
 "nbformat": 4,
 "nbformat_minor": 5
}
