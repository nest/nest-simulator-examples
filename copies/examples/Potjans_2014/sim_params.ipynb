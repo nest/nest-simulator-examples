{
  "cells": [
    {
      "cell_type": "markdown",
      "metadata": {},
      "source": [
        "# PyNEST Microcircuit: Simulation Parameters\n\nA dictionary with parameters defining the simulation.\n"
      ]
    },
    {
      "cell_type": "code",
      "execution_count": null,
      "metadata": {
        "collapsed": false
      },
      "outputs": [],
      "source": [
        "import os\n\nsim_dict = {\n    # The full simulation time is the sum of a presimulation time and the main\n    # simulation time.\n    # presimulation time (in ms)\n    \"t_presim\": 500.0,\n    # simulation time (in ms)\n    \"t_sim\": 1000.0,\n    # resolution of the simulation (in ms)\n    \"sim_resolution\": 0.1,\n    # list of recording devices, default is 'spike_recorder'. A 'voltmeter' can\n    # be added to record membrane voltages of the neurons. Nothing will be\n    # recorded if an empty list is given.\n    \"rec_dev\": [\"spike_recorder\"],\n    # path to save the output data\n    \"data_path\": os.path.join(os.getcwd(), \"data/\"),\n    # Seed for NEST\n    \"rng_seed\": 55,\n    # Number of threads per MPI process\n    #\n    # Note that when you scale up the network, the microcircut model\n    # may not run correctly if there is < 4 virtual processes\n    # (i.e., a thread in an MPI process)\n    # If you have 4 or more MPI processes, then you can set this value to 1.\n    \"local_num_threads\": 4,\n    # recording interval of the membrane potential (in ms)\n    \"rec_V_int\": 1.0,\n    # if True, data will be overwritten,\n    # if False, a NESTError is raised if the files already exist\n    \"overwrite_files\": True,\n    # print the time progress. This should only be used when the simulation\n    # is run on a local machine.\n    \"print_time\": True,\n}"
      ]
    }
  ],
  "metadata": {
    "kernelspec": {
      "display_name": "EBRAINS-23.09",
      "language": "python",
      "name": "ebrains-23.09"
    },
    "language_info": {
      "codemirror_mode": {
        "name": "ipython",
        "version": 3
      },
      "file_extension": ".py",
      "mimetype": "text/x-python",
      "name": "python",
      "nbconvert_exporter": "python",
      "pygments_lexer": "ipython3",
      "version": "3.10.13"
    }
  },
  "nbformat": 4,
  "nbformat_minor": 0
}