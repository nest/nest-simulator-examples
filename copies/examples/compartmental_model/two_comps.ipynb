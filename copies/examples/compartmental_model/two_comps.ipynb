{
  "cells": [
    {
      "cell_type": "markdown",
      "metadata": {},
      "source": [
        "# Constructing and simulating compartmental models with active and passive dendrites\nThis example demonstrates how to initialize compartmental models. It creates\ntwo models with two compartments, once with active channels in the dendritic\ncompartment and once without. It then adds and excitatory receptors with AMPA\nand NMDA components to both the somatic and dendritic compartment.\n\nThe output shows the evolution of the state variables present in the model.\n\n:Authors: WAM Wybo\n"
      ]
    },
    {
      "cell_type": "code",
      "execution_count": null,
      "metadata": {
        "collapsed": false
      },
      "outputs": [],
      "source": [
        "import matplotlib.pyplot as plt\nimport nest\n\nnest.ResetKernel()\n\nsoma_params = {\n    # passive parameters\n    \"C_m\": 89.245535,  # [pF] Capacitance\n    \"g_C\": 0.0,  # soma has no parent\n    \"g_L\": 8.924572508,  # [nS] Leak conductance\n    \"e_L\": -75.0,  # [mV] leak reversal\n    # ion channel params\n    \"gbar_Na\": 4608.698576715,  # [nS] Na maximal conductance\n    \"e_Na\": 60.0,  # [mV] Na reversal\n    \"gbar_K\": 956.112772900,  # [nS] K maximal conductance\n    \"e_K\": -90.0,  # [mV] K reversal\n}"
      ]
    },
    {
      "cell_type": "markdown",
      "metadata": {},
      "source": [
        "by default, active conductances are set to zero, so we don't need to specify\nthem explicitly\n\n"
      ]
    },
    {
      "cell_type": "code",
      "execution_count": null,
      "metadata": {
        "collapsed": false
      },
      "outputs": [],
      "source": [
        "dend_params_passive = {\n    # passive parameters\n    \"C_m\": 1.929929,\n    \"g_C\": 1.255439494,\n    \"g_L\": 0.192992878,\n    \"e_L\": -75.0,\n}\ndend_params_active = {\n    # passive parameters\n    \"C_m\": 1.929929,  # [pF] Capacitance\n    \"g_C\": 1.255439494,  # [nS] Coupling conductance to parent (soma here)\n    \"g_L\": 0.192992878,  # [nS] Leak conductance\n    \"e_L\": -70.0,  # [mV] leak reversal\n    # ion channel params\n    \"gbar_Na\": 17.203212493,  # [nS] Na maximal conductance\n    \"e_Na\": 60.0,  # [mV] Na reversal\n    \"gbar_K\": 11.887347450,  # [nS] K maximal conductance\n    \"e_K\": -90.0,  # [mV] K reversal\n}"
      ]
    },
    {
      "cell_type": "markdown",
      "metadata": {},
      "source": [
        "create a neuron model with a passive dendritic compartment\n\n"
      ]
    },
    {
      "cell_type": "code",
      "execution_count": null,
      "metadata": {
        "collapsed": false
      },
      "outputs": [],
      "source": [
        "cm_pas = nest.Create(\"cm_default\")\ncm_pas.compartments = [{\"parent_idx\": -1, \"params\": soma_params}, {\"parent_idx\": 0, \"params\": dend_params_passive}]"
      ]
    },
    {
      "cell_type": "markdown",
      "metadata": {},
      "source": [
        "create a neuron model with an active dendritic compartment\n\n"
      ]
    },
    {
      "cell_type": "code",
      "execution_count": null,
      "metadata": {
        "collapsed": false
      },
      "outputs": [],
      "source": [
        "cm_act = nest.Create(\"cm_default\")\ncm_act.compartments = [{\"parent_idx\": -1, \"params\": soma_params}, {\"parent_idx\": 0, \"params\": dend_params_active}]"
      ]
    },
    {
      "cell_type": "markdown",
      "metadata": {},
      "source": [
        "set spike thresholds\n\n"
      ]
    },
    {
      "cell_type": "code",
      "execution_count": null,
      "metadata": {
        "collapsed": false
      },
      "outputs": [],
      "source": [
        "cm_pas.V_th = -50.0\ncm_act.V_th = -50.0"
      ]
    },
    {
      "cell_type": "markdown",
      "metadata": {},
      "source": [
        "add somatic and dendritic receptor to passive dendrite model\n\n"
      ]
    },
    {
      "cell_type": "code",
      "execution_count": null,
      "metadata": {
        "collapsed": false
      },
      "outputs": [],
      "source": [
        "cm_pas.receptors = [{\"comp_idx\": 0, \"receptor_type\": \"AMPA_NMDA\"}, {\"comp_idx\": 1, \"receptor_type\": \"AMPA_NMDA\"}]\nsyn_idx_soma_pas = 0\nsyn_idx_dend_pas = 1"
      ]
    },
    {
      "cell_type": "markdown",
      "metadata": {},
      "source": [
        "add somatic and dendritic receptor to active dendrite model\n\n"
      ]
    },
    {
      "cell_type": "code",
      "execution_count": null,
      "metadata": {
        "collapsed": false
      },
      "outputs": [],
      "source": [
        "cm_act.receptors = [{\"comp_idx\": 0, \"receptor_type\": \"AMPA_NMDA\"}, {\"comp_idx\": 1, \"receptor_type\": \"AMPA_NMDA\"}]\nsyn_idx_soma_act = 0\nsyn_idx_dend_act = 1"
      ]
    },
    {
      "cell_type": "markdown",
      "metadata": {},
      "source": [
        "create a two spike generators\n\n"
      ]
    },
    {
      "cell_type": "code",
      "execution_count": null,
      "metadata": {
        "collapsed": false
      },
      "outputs": [],
      "source": [
        "sg_soma = nest.Create(\"spike_generator\", 1, {\"spike_times\": [10.0, 13.0, 16.0]})\nsg_dend = nest.Create(\"spike_generator\", 1, {\"spike_times\": [70.0, 73.0, 76.0]})"
      ]
    },
    {
      "cell_type": "markdown",
      "metadata": {},
      "source": [
        "connect spike generators to passive dendrite model (weight in nS)\n\n"
      ]
    },
    {
      "cell_type": "code",
      "execution_count": null,
      "metadata": {
        "collapsed": false
      },
      "outputs": [],
      "source": [
        "nest.Connect(\n    sg_soma,\n    cm_pas,\n    syn_spec={\"synapse_model\": \"static_synapse\", \"weight\": 5.0, \"delay\": 0.5, \"receptor_type\": syn_idx_soma_pas},\n)\nnest.Connect(\n    sg_dend,\n    cm_pas,\n    syn_spec={\"synapse_model\": \"static_synapse\", \"weight\": 2.0, \"delay\": 0.5, \"receptor_type\": syn_idx_dend_pas},\n)"
      ]
    },
    {
      "cell_type": "markdown",
      "metadata": {},
      "source": [
        "connect spike generators to active dendrite model (weight in nS)\n\n"
      ]
    },
    {
      "cell_type": "code",
      "execution_count": null,
      "metadata": {
        "collapsed": false
      },
      "outputs": [],
      "source": [
        "nest.Connect(\n    sg_soma,\n    cm_act,\n    syn_spec={\"synapse_model\": \"static_synapse\", \"weight\": 5.0, \"delay\": 0.5, \"receptor_type\": syn_idx_soma_act},\n)\nnest.Connect(\n    sg_dend,\n    cm_act,\n    syn_spec={\"synapse_model\": \"static_synapse\", \"weight\": 2.0, \"delay\": 0.5, \"receptor_type\": syn_idx_dend_act},\n)"
      ]
    },
    {
      "cell_type": "markdown",
      "metadata": {},
      "source": [
        "create multimeters to record compartment voltages and various state variables\n\n"
      ]
    },
    {
      "cell_type": "code",
      "execution_count": null,
      "metadata": {
        "collapsed": false
      },
      "outputs": [],
      "source": [
        "rec_list = [\n    \"v_comp0\",\n    \"v_comp1\",\n    \"m_Na_0\",\n    \"h_Na_0\",\n    \"n_K_0\",\n    \"m_Na_1\",\n    \"h_Na_1\",\n    \"n_K_1\",\n    \"g_r_AN_AMPA_1\",\n    \"g_d_AN_AMPA_1\",\n    \"g_r_AN_NMDA_1\",\n    \"g_d_AN_NMDA_1\",\n]\nmm_pas = nest.Create(\"multimeter\", 1, {\"record_from\": rec_list, \"interval\": 0.1})\nmm_act = nest.Create(\"multimeter\", 1, {\"record_from\": rec_list, \"interval\": 0.1})"
      ]
    },
    {
      "cell_type": "markdown",
      "metadata": {},
      "source": [
        "connect the multimeters to the respective neurons\n\n"
      ]
    },
    {
      "cell_type": "code",
      "execution_count": null,
      "metadata": {
        "collapsed": false
      },
      "outputs": [],
      "source": [
        "nest.Connect(mm_pas, cm_pas)\nnest.Connect(mm_act, cm_act)"
      ]
    },
    {
      "cell_type": "markdown",
      "metadata": {},
      "source": [
        "simulate the models\n\n"
      ]
    },
    {
      "cell_type": "code",
      "execution_count": null,
      "metadata": {
        "collapsed": false
      },
      "outputs": [],
      "source": [
        "nest.Simulate(160.0)\nres_pas = nest.GetStatus(mm_pas, \"events\")[0]\nres_act = nest.GetStatus(mm_act, \"events\")[0]\n\nplt.figure(\"voltage\")"
      ]
    },
    {
      "cell_type": "markdown",
      "metadata": {},
      "source": [
        "plot voltage for somatic compartment\n\n"
      ]
    },
    {
      "cell_type": "code",
      "execution_count": null,
      "metadata": {
        "collapsed": false
      },
      "outputs": [],
      "source": [
        "ax_soma = plt.subplot(121)\nax_soma.plot(res_pas[\"times\"], res_pas[\"v_comp0\"], c=\"b\", label=\"passive dend\")\nax_soma.plot(res_act[\"times\"], res_act[\"v_comp0\"], c=\"r\", label=\"active dend\")\nax_soma.set_xlabel(r\"$t$ (ms)\")\nax_soma.set_ylabel(r\"$v_{soma}$ (mV)\")\nax_soma.set_ylim((-90.0, 40.0))\nax_soma.legend(loc=0)"
      ]
    },
    {
      "cell_type": "markdown",
      "metadata": {},
      "source": [
        "plot voltage for dendritic compartment\n\n"
      ]
    },
    {
      "cell_type": "code",
      "execution_count": null,
      "metadata": {
        "collapsed": false
      },
      "outputs": [],
      "source": [
        "ax_dend = plt.subplot(122)\nax_dend.plot(res_pas[\"times\"], res_pas[\"v_comp1\"], c=\"b\", label=\"passive dend\")\nax_dend.plot(res_act[\"times\"], res_act[\"v_comp1\"], c=\"r\", label=\"active dend\")\nax_dend.set_xlabel(r\"$t$ (ms)\")\nax_dend.set_ylabel(r\"$v_{dend}$ (mV)\")\nax_dend.set_ylim((-90.0, 40.0))\nax_dend.legend(loc=0)\n\nplt.figure(\"channel state variables\")"
      ]
    },
    {
      "cell_type": "markdown",
      "metadata": {},
      "source": [
        "plot ion channel state variables for somatic compartment\n\n"
      ]
    },
    {
      "cell_type": "code",
      "execution_count": null,
      "metadata": {
        "collapsed": false
      },
      "outputs": [],
      "source": [
        "ax_soma = plt.subplot(121)\nax_soma.plot(res_pas[\"times\"], res_pas[\"m_Na_0\"], c=\"b\", label=\"m_Na passive dend\")\nax_soma.plot(res_pas[\"times\"], res_pas[\"h_Na_0\"], c=\"r\", label=\"h_Na passive dend\")\nax_soma.plot(res_pas[\"times\"], res_pas[\"n_K_0\"], c=\"g\", label=\"n_K passive dend\")\nax_soma.plot(res_act[\"times\"], res_act[\"m_Na_0\"], c=\"b\", ls=\"--\", lw=2.0, label=\"m_Na active dend\")\nax_soma.plot(res_act[\"times\"], res_act[\"h_Na_0\"], c=\"r\", ls=\"--\", lw=2.0, label=\"h_Na active dend\")\nax_soma.plot(res_act[\"times\"], res_act[\"n_K_0\"], c=\"g\", ls=\"--\", lw=2.0, label=\"n_K active dend\")\nax_soma.set_xlabel(r\"$t$ (ms)\")\nax_soma.set_ylabel(r\"svar\")\nax_soma.set_ylim((0.0, 1.0))\nax_soma.legend(loc=0)"
      ]
    },
    {
      "cell_type": "markdown",
      "metadata": {},
      "source": [
        "plot ion channel state variables for dendritic compartment\n\n"
      ]
    },
    {
      "cell_type": "code",
      "execution_count": null,
      "metadata": {
        "collapsed": false
      },
      "outputs": [],
      "source": [
        "ax_dend = plt.subplot(122)\nax_dend.plot(res_pas[\"times\"], res_pas[\"m_Na_1\"], c=\"b\", label=\"m_Na passive dend\")\nax_dend.plot(res_pas[\"times\"], res_pas[\"h_Na_1\"], c=\"r\", label=\"h_Na passive dend\")\nax_dend.plot(res_pas[\"times\"], res_pas[\"n_K_1\"], c=\"g\", label=\"n_K passive dend\")\nax_dend.plot(res_act[\"times\"], res_act[\"m_Na_1\"], c=\"b\", ls=\"--\", lw=2.0, label=\"m_Na active dend\")\nax_dend.plot(res_act[\"times\"], res_act[\"h_Na_1\"], c=\"r\", ls=\"--\", lw=2.0, label=\"h_Na active dend\")\nax_dend.plot(res_act[\"times\"], res_act[\"n_K_1\"], c=\"g\", ls=\"--\", lw=2.0, label=\"n_K active dend\")\nax_dend.set_xlabel(r\"$t$ (ms)\")\nax_dend.set_ylabel(r\"svar\")\nax_dend.set_ylim((0.0, 1.0))\nax_dend.legend(loc=0)\n\nplt.figure(\"dendritic synapse conductances\")"
      ]
    },
    {
      "cell_type": "markdown",
      "metadata": {},
      "source": [
        "plot synapse state variables for dendritic compartment\n\n"
      ]
    },
    {
      "cell_type": "code",
      "execution_count": null,
      "metadata": {
        "collapsed": false
      },
      "outputs": [],
      "source": [
        "ax_dend = plt.gca()\nax_dend.plot(res_pas[\"times\"], res_pas[\"g_r_AN_AMPA_1\"] + res_pas[\"g_d_AN_AMPA_1\"], c=\"b\", label=\"AMPA passive dend\")\nax_dend.plot(res_pas[\"times\"], res_pas[\"g_r_AN_NMDA_1\"] + res_pas[\"g_d_AN_NMDA_1\"], c=\"r\", label=\"NMDA passive dend\")\nax_dend.plot(\n    res_act[\"times\"],\n    res_act[\"g_r_AN_AMPA_1\"] + res_act[\"g_d_AN_AMPA_1\"],\n    c=\"b\",\n    ls=\"--\",\n    lw=2.0,\n    label=\"AMPA active dend\",\n)\nax_dend.plot(\n    res_act[\"times\"],\n    res_act[\"g_r_AN_NMDA_1\"] + res_act[\"g_d_AN_NMDA_1\"],\n    c=\"r\",\n    ls=\"--\",\n    lw=2.0,\n    label=\"NMDA active dend\",\n)\nax_dend.legend(loc=0)\n\nplt.tight_layout()\nplt.show()"
      ]
    }
  ],
  "metadata": {
    "kernelspec": {
      "display_name": "EBRAINS-23.09",
      "language": "python",
      "name": "ebrains-23.09"
    },
    "language_info": {
      "codemirror_mode": {
        "name": "ipython",
        "version": 3
      },
      "file_extension": ".py",
      "mimetype": "text/x-python",
      "name": "python",
      "nbconvert_exporter": "python",
      "pygments_lexer": "ipython3",
      "version": "3.10.13"
    }
  },
  "nbformat": 4,
  "nbformat_minor": 0
}