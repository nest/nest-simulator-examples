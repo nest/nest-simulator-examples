{
  "cells": [
    {
      "cell_type": "markdown",
      "metadata": {},
      "source": [
        "\n# Short-term facilitation example\n\nThe :doc:`iaf_tum_2000 </models/iaf_tum_2000>` neuron [1]_ is a model with\n*short-term synaptic plasticity*. Short-term plasticity can either strengthen\nor weaken a synapse and acts on a timescale of milliseconds to seconds. This\nexample illustrates *short-term facilitation*, which is a transient increase\nin synaptic strength caused by influx of calcium into the axon terminal after\nspike generation. Facilitation results in an increase of neurotransmitters\nbeing released by each succeeding presynaptic spike.\n\nIn the ``iaf_tum_2000`` model, a fraction $u$ of the available synaptic\nresources $x$ is used by each presynaptic spike (see Eq. 3 and 4 or\nEq. 2.1 and 2.2 in [1]_ or [2]_, respectively). A parameter $U \\in [0, 1]$\ndetermines the increase in $u$ with each spike. In a facilitating synapse,\n$u$ is increased with each presynaptic spike, which reflects the\naccumulation of calcium ions caused by spikes arriving in the presynaptic terminal,\nand returns to the baseline value with a time constant $\\tau_\\mathrm{fac}$.\n\nIn this example, we reproduce Figure 1B in [2]_. We connect two\n``iaf_tum_2000`` neurons. The presynaptic neuron is driven by DC input and\nwe record the voltage trace of the postsynaptic neuron. Short-term facilitation\nis enabled by setting $U$ to a small value, which causes a slow saturation\nof the synaptic efficacy, enabling a facilitating behavior.\n\nFor an example on *short-term depression*, see\n:doc:`../auto_examples/iaf_tum_2000_short_term_depression`.\n\n<div class=\"alert alert-info\"><h4>Note</h4><p>The :doc:`iaf_tum_2000 </models/iaf_tum_2000>` neuron model combined with\n    :doc:`static_synapse </models/static_synapse>` provides a more efficient\n    implementation of the model studied in [1]_ and [2]_ than the combination\n    of :doc:`iaf_psc_exp </models/iaf_psc_exp>` with\n    :doc:`tsodyks_synapse </models/tsodyks_synapse>`.</p></div>\n\n## References\n\n.. [1] Tsodyks M, Uziel A, Markram H (2000). Synchrony generation in recurrent\n       networks with frequency-dependent synapses. The Journal of Neuroscience,\n       20,RC50:1-5. URL: https://infoscience.epfl.ch/record/183402\n\n.. [2] Tsodyks M, Pawelzik K, Markram H (1998). Neural networks with dynamic synapses. Neural\n       computation, http://dx.doi.org/10.1162/089976698300017502\n\n## See Also\n\n:doc:`/models/iaf_tum_2000`, :doc:`iaf_tum_2000_short_term_depression`\n"
      ]
    },
    {
      "cell_type": "code",
      "execution_count": null,
      "metadata": {
        "collapsed": false
      },
      "outputs": [],
      "source": [
        "import matplotlib.pyplot as plt\nimport nest\nimport numpy as np"
      ]
    },
    {
      "cell_type": "markdown",
      "metadata": {},
      "source": [
        "First we make sure that the NEST kernel is reset and the resolution of the\nsimulation is 0.1 ms. We also define the simulation time.\n\n"
      ]
    },
    {
      "cell_type": "code",
      "execution_count": null,
      "metadata": {
        "collapsed": false
      },
      "outputs": [],
      "source": [
        "nest.ResetKernel()\nnest.resolution = 0.1  # simulation step size [ms]\n\nT_sim = 1200.0  # simulation time [ms]"
      ]
    },
    {
      "cell_type": "markdown",
      "metadata": {},
      "source": [
        "We set the neuronal membrane parameters according to [2]_.\n\n"
      ]
    },
    {
      "cell_type": "code",
      "execution_count": null,
      "metadata": {
        "collapsed": false
      },
      "outputs": [],
      "source": [
        "tau_m = 60.0  # membrane time constant [ms]\nR_m = 1.0  # membrane input resistance [G\u03a9]\nC_m = tau_m / R_m  # membrane capacitance [pF]\nV_th = 15.0  # threshold potential [mV]\nV_reset = 0.0  # reset potential [mV]\nt_ref = 2.0  # refractory period [ms]"
      ]
    },
    {
      "cell_type": "markdown",
      "metadata": {},
      "source": [
        "We create one current generator and configure a stimulus that will drive\nthe presynaptic neuron. Configuration of the current generator includes the\ndefinition of the start and stop times and the amplitude of the injected\ncurrent.\n\n"
      ]
    },
    {
      "cell_type": "code",
      "execution_count": null,
      "metadata": {
        "collapsed": false
      },
      "outputs": [],
      "source": [
        "stim_start = 50.0  # start time of DC input [ms]\nstim_end = 1050.0  # end time of DC input [ms]\nf = 20.0 / 1000.0  # frequency used in [2] [mHz]\ndc_amp = V_th * C_m / tau_m / (1 - np.exp(-(1 / f - t_ref) / tau_m))  # DC amplitude [pA]\n\ndc_gen = nest.Create(\n    \"dc_generator\",\n    1,\n    params={\"amplitude\": dc_amp, \"start\": stim_start, \"stop\": stim_end},\n)"
      ]
    },
    {
      "cell_type": "markdown",
      "metadata": {},
      "source": [
        "Next, we set the synaptic parameters according to [2]_.\n\n"
      ]
    },
    {
      "cell_type": "code",
      "execution_count": null,
      "metadata": {
        "collapsed": false
      },
      "outputs": [],
      "source": [
        "x = 1.0  # initial fraction of synaptic vesicles in the readily releasable pool\nu = 0.0  # initial release probability of synaptic vesicles\nU = 0.03  # fraction determining the increase in u with each spike\ntau_psc = 1.5  # decay constant of PSCs (tau_inact in [2]) [ms]\ntau_rec = 130.0  # recovery time from synaptic depression [ms]\ntau_fac = 530.0  # time constant for facilitation [ms]"
      ]
    },
    {
      "cell_type": "markdown",
      "metadata": {},
      "source": [
        "We create two ``iaf_tum_2000`` neurons. Since this model integrates the\nsynaptic dynamics in the presynaptic neuron, the synaptic parameters, except\nfor ``weight`` and ``delay``, are provided together with the neuron parameters\nto the model.\n\n"
      ]
    },
    {
      "cell_type": "code",
      "execution_count": null,
      "metadata": {
        "collapsed": false
      },
      "outputs": [],
      "source": [
        "nrns = nest.Create(\n    \"iaf_tum_2000\",\n    2,\n    params={\n        \"C_m\": C_m,\n        \"tau_m\": tau_m,\n        \"tau_syn_ex\": tau_psc,\n        \"tau_syn_in\": tau_psc,\n        \"V_th\": V_th,\n        \"V_reset\": V_reset,\n        \"E_L\": V_reset,\n        \"V_m\": V_reset,\n        \"t_ref\": t_ref,\n        \"U\": U,\n        \"tau_psc\": tau_psc,\n        \"tau_rec\": tau_rec,\n        \"tau_fac\": tau_fac,\n        \"x\": x,\n        \"u\": u,\n    },\n)"
      ]
    },
    {
      "cell_type": "markdown",
      "metadata": {},
      "source": [
        "We connect the DC generator to the presynaptic neuron.\n\n"
      ]
    },
    {
      "cell_type": "code",
      "execution_count": null,
      "metadata": {
        "collapsed": false
      },
      "outputs": [],
      "source": [
        "nest.Connect(dc_gen, nrns[0])"
      ]
    },
    {
      "cell_type": "markdown",
      "metadata": {},
      "source": [
        "We then connect the pre- and postsynaptic neurons. We use a ``static_synapse``\nto transfer the synaptic current computed in the presynaptic neuron. The\nsynaptic weight and delay are passed with the static synapse's ``syn_spec``.\nNote that ``iaf_tum_2000`` neurons must be connected via ``receptor_type`` 1.\n\n"
      ]
    },
    {
      "cell_type": "code",
      "execution_count": null,
      "metadata": {
        "collapsed": false
      },
      "outputs": [],
      "source": [
        "weight = 1540.0  # synaptic weight [pA]\ndelay = 0.1  # synaptic delay [ms]\n\nnest.Connect(\n    nrns[0],\n    nrns[1],\n    syn_spec={\n        \"synapse_model\": \"static_synapse\",\n        \"weight\": weight,\n        \"delay\": delay,\n        \"receptor_type\": 1,\n    },\n)"
      ]
    },
    {
      "cell_type": "markdown",
      "metadata": {},
      "source": [
        "We add a ``voltmeter`` to sample the membrane potentials from the postsynaptic\nneuron in intervals of 1.0 ms. Note that the connection direction for the\n``voltmeter`` reflects the signal flow in the simulation kernel; a ``voltmeter``\nobserves the neuron instead of receiving events from it.\n\n"
      ]
    },
    {
      "cell_type": "code",
      "execution_count": null,
      "metadata": {
        "collapsed": false
      },
      "outputs": [],
      "source": [
        "voltmeter = nest.Create(\"voltmeter\", params={\"interval\": 1.0, \"label\": \"Voltmeter\"})\nnest.Connect(voltmeter, nrns[1])"
      ]
    },
    {
      "cell_type": "markdown",
      "metadata": {},
      "source": [
        "Finally, we simulate the system with simulation time ``T_sim`` and plot a\nvoltage trace to produce the figure.\n\n"
      ]
    },
    {
      "cell_type": "code",
      "execution_count": null,
      "metadata": {
        "collapsed": false
      },
      "outputs": [],
      "source": [
        "nest.Simulate(T_sim)\nnest.voltage_trace.from_device(voltmeter)\nplt.show()"
      ]
    }
  ],
  "metadata": {
    "kernelspec": {
      "display_name": "EBRAINS-23.09",
      "language": "python",
      "name": "ebrains-23.09"
    },
    "language_info": {
      "codemirror_mode": {
        "name": "ipython",
        "version": 3
      },
      "file_extension": ".py",
      "mimetype": "text/x-python",
      "name": "python",
      "nbconvert_exporter": "python",
      "pygments_lexer": "ipython3",
      "version": "3.10.13"
    }
  },
  "nbformat": 4,
  "nbformat_minor": 0
}