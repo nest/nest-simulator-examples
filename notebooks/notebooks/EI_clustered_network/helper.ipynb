{
  "cells": [
    {
      "cell_type": "markdown",
      "metadata": {},
      "source": [
        "# PyNEST EI-clustered network: Helper Functions\n\nHelper functions to calculate synaptic weights to construct\nrandom balanced networks and plot raster plot with color groups.\n"
      ]
    },
    {
      "cell_type": "code",
      "execution_count": null,
      "metadata": {
        "collapsed": false
      },
      "outputs": [],
      "source": [
        "import matplotlib.pyplot as plt\nimport numpy as np\n\n\ndef postsynaptic_current_to_potential(tau_m, tau_syn, c_m=1.0, e_l=0.0):\n    \"\"\"Maximum post-synaptic potential amplitude\n    for exponential synapses and a synaptic efficacy J of 1 pA.\n\n    Parameters\n    ----------\n    tau_m: float\n        Membrane time constant [ms]\n    tau_syn: float\n        Synapse time constant  [ms]\n    c_m: float (optional)\n        Membrane capacity [pF] (default: 1.0)\n    e_l: float (optional)\n        Resting potential [mV] (default: 0.0)\n\n    Returns\n    -------\n    float\n        maximum psp amplitude (for a 1 pA current spike) [mV]\n    \"\"\"\n    # time of maximum deflection of the psp  [ms]\n    tmax = np.log(tau_syn / tau_m) / (1 / tau_m - 1 / tau_syn)\n    # we assume here the current spike is 1 pA, otherwise [mV/pA]\n    pre = tau_m * tau_syn / c_m / (tau_syn - tau_m)\n    return (e_l - pre) * np.exp(-tmax / tau_m) + pre * np.exp(-tmax / tau_syn)\n\n\ndef calculate_RBN_weights(params):\n    \"\"\"Calculate synaptic weights for a random balanced network.\n\n    The synaptic weights are calculated according to the method\n    described in Eqs. 7-10 [1]_.\n\n    References\n    ----------\n    .. [1] Rostami V, Rost T, Riehle A, van Albada SJ and Nawrot MP. 2020.\n        Excitatory and inhibitory motor cortical clusters account for balance,\n        variability, and task performance. bioRxiv 2020.02.27.968339.\n        DOI: `10.1101/2020.02.27.968339\n        <https://doi.org/10.1101/2020.02.27.968339>`__.\n\n    Parameters\n    ----------\n    params: dict\n        Dictionary of network parameters\n\n    Returns\n    -------\n    ndarray\n        synaptic weights 2x2 matrix [[EE, EI], [IE, II]]\n    \"\"\"\n\n    N_E = params.get(\"N_E\")  # excitatory units\n    N_I = params.get(\"N_I\")  # inhibitory units\n    N = N_E + N_I  # total units\n\n    E_L = params.get(\"E_L\")\n    V_th_E = params.get(\"V_th_E\")  # threshold voltage\n    V_th_I = params.get(\"V_th_I\")\n\n    tau_E = params.get(\"tau_E\")\n    tau_I = params.get(\"tau_I\")\n\n    tau_syn_ex = params.get(\"tau_syn_ex\")\n    tau_syn_in = params.get(\"tau_syn_in\")\n\n    gei = params.get(\"gei\")\n    gii = params.get(\"gii\")\n    gie = params.get(\"gie\")\n\n    amp_EE = postsynaptic_current_to_potential(tau_E, tau_syn_ex)\n    amp_EI = postsynaptic_current_to_potential(tau_E, tau_syn_in)\n    amp_IE = postsynaptic_current_to_potential(tau_I, tau_syn_ex)\n    amp_II = postsynaptic_current_to_potential(tau_I, tau_syn_in)\n\n    baseline_conn_prob = params.get(\"baseline_conn_prob\")  # connection probs\n\n    js = np.zeros((2, 2))\n    K_EE = N_E * baseline_conn_prob[0, 0]\n    js[0, 0] = (V_th_E - E_L) * (K_EE**-0.5) * N**0.5 / amp_EE\n    js[0, 1] = -gei * js[0, 0] * baseline_conn_prob[0, 0] * N_E * amp_EE / (baseline_conn_prob[0, 1] * N_I * amp_EI)\n    K_IE = N_E * baseline_conn_prob[1, 0]\n    js[1, 0] = gie * (V_th_I - E_L) * (K_IE**-0.5) * N**0.5 / amp_IE\n    js[1, 1] = -gii * js[1, 0] * baseline_conn_prob[1, 0] * N_E * amp_IE / (baseline_conn_prob[1, 1] * N_I * amp_II)\n    return js\n\n\ndef rheobase_current(tau_m, e_l, v_th, c_m):\n    \"\"\"Rheobase current for membrane time constant and resting potential.\n\n    Parameters\n    ----------\n    tau_m: float\n        Membrane time constant [ms]\n    e_l: float\n        Resting potential [mV]\n    v_th: float\n        Threshold potential [mV]\n    c_m: float\n        Membrane capacity [pF]\n\n    Returns\n    -------\n    float\n        rheobase current [pA]\n    \"\"\"\n    return (v_th - e_l) * c_m / tau_m\n\n\ndef raster_plot(spiketimes, tlim=None, colorgroups=None, ax=None, markersize=0.5):\n    \"\"\"Raster plot of spiketimes.\n\n    Plots raster plot of spiketimes withing given time limits and\n    colors neurons according to colorgroups.\n\n    Parameters\n    ----------\n    spiketimes: ndarray\n        2D array [2xN_Spikes]\n        of spiketimes with spiketimes in row 0 and neuron IDs in row 1.\n    tlim: list of floats (optional)\n        Time limits of plot: [tmin, tmax],\n        if None: [min(spiketimes), max(spiketimes)]\n    colorgroups: list of tuples (optional)\n        Each element is a tuple in the format\n        (color, start_neuron_ID, stop_neuron_ID]) for coloring neurons in\n        given range, if None is given all neurons are black.\n    ax: axis object (optional)\n        If None a new figure is created,\n        else the plot is added to the given axis.\n    markersize: float (optional)\n        Size of markers. (default: 0.5)\n\n    Returns\n    -------\n    axis object\n        Axis object with raster plot.\n    \"\"\"\n    if ax is None:\n        fig, ax = plt.subplots()\n    if tlim is None:\n        tlim = [min(spiketimes[0]), max(spiketimes[0])]\n    if colorgroups is None:\n        colorgroups = [(\"k\", 0, max(spiketimes[1]))]\n    for color, start, stop in colorgroups:\n        ax.plot(\n            spiketimes[0][np.logical_and(spiketimes[1] >= start, spiketimes[1] < stop)],\n            spiketimes[1][np.logical_and(spiketimes[1] >= start, spiketimes[1] < stop)],\n            color=color,\n            marker=\".\",\n            linestyle=\"None\",\n            markersize=markersize,\n        )\n    ax.set_xlim(tlim)\n    ax.set_ylim([0, max(spiketimes[1])])\n    ax.set_xlabel(\"Time [ms]\")\n    ax.set_ylabel(\"Neuron ID\")\n    return ax"
      ]
    }
  ],
  "metadata": {
    "kernelspec": {
      "display_name": "EBRAINS-23.09",
      "language": "python",
      "name": "ebrains-23.09"
    },
    "language_info": {
      "codemirror_mode": {
        "name": "ipython",
        "version": 3
      },
      "file_extension": ".py",
      "mimetype": "text/x-python",
      "name": "python",
      "nbconvert_exporter": "python",
      "pygments_lexer": "ipython3",
      "version": "3.9.16"
    }
  },
  "nbformat": 4,
  "nbformat_minor": 0
}