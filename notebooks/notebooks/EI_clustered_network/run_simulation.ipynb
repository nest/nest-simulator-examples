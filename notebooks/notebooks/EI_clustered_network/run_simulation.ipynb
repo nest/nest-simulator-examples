{
  "cells": [
    {
      "cell_type": "markdown",
      "metadata": {},
      "source": [
        "# PyNEST EI-clustered network: Run Simulation\n\nThis is an example script for running the EI-clustered model\nwith two stimulations and generating a raster plot.\n"
      ]
    },
    {
      "cell_type": "code",
      "execution_count": null,
      "metadata": {
        "collapsed": false
      },
      "outputs": [],
      "source": [
        "import matplotlib.pyplot as plt\nimport network\nfrom helper import raster_plot\nfrom network_params import net_dict\nfrom sim_params import sim_dict\nfrom stimulus_params import stim_dict\n\nif __name__ == \"__main__\":\n    # Creates object which creates the EI clustered network in NEST\n    ei_network = network.ClusteredNetwork(sim_dict, net_dict, stim_dict)\n\n    # Runs the simulation and returns the spiketimes\n    # get simulation initializes the network in NEST\n    # and runs the simulation\n    # it returns a dict with the average rates,\n    # the spiketimes and the used parameters\n    result = ei_network.get_simulation()\n    ax = raster_plot(\n        result[\"spiketimes\"],\n        tlim=(0, sim_dict[\"simtime\"]),\n        colorgroups=[\n            (\"k\", 0, net_dict[\"N_E\"]),\n            (\"darkred\", net_dict[\"N_E\"], net_dict[\"N_E\"] + net_dict[\"N_I\"]),\n        ],\n    )\n    plt.savefig(\"clustered_ei_raster.png\")\n    print(f\"Firing rate of excitatory neurons: {result['e_rate']:6.2f} spikes/s\")\n    print(f\"Firing rate of inhibitory neurons: {result['i_rate']:6.2f} spikes/s\")"
      ]
    }
  ],
  "metadata": {
    "kernelspec": {
      "display_name": "EBRAINS-23.09",
      "language": "python",
      "name": "ebrains-23.09"
    },
    "language_info": {
      "codemirror_mode": {
        "name": "ipython",
        "version": 3
      },
      "file_extension": ".py",
      "mimetype": "text/x-python",
      "name": "python",
      "nbconvert_exporter": "python",
      "pygments_lexer": "ipython3",
      "version": "3.9.16"
    }
  },
  "nbformat": 4,
  "nbformat_minor": 0
}