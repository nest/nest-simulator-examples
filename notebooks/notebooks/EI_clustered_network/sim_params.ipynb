{
 "cells": [
  {
   "cell_type": "markdown",
   "id": "a84c8df6",
   "metadata": {},
   "source": [
    "\n",
    "sim_params_EI.py\n",
    "\n",
    "This file is part of NEST.\n",
    "\n",
    "Copyright (C) 2004 The NEST Initiative\n",
    "\n",
    "NEST is free software: you can redistribute it and/or modify\n",
    "it under the terms of the GNU General Public License as published by\n",
    "the Free Software Foundation, either version 2 of the License, or\n",
    "(at your option) any later version.\n",
    "\n",
    "NEST is distributed in the hope that it will be useful,\n",
    "but WITHOUT ANY WARRANTY; without even the implied warranty of\n",
    "MERCHANTABILITY or FITNESS FOR A PARTICULAR PURPOSE.  See the\n",
    "GNU General Public License for more details.\n",
    "\n",
    "You should have received a copy of the GNU General Public License\n",
    "along with NEST.  If not, see <http://www.gnu.org/licenses/>."
   ]
  },
  {
   "cell_type": "code",
   "execution_count": null,
   "id": "ebb98329",
   "metadata": {},
   "outputs": [],
   "source": [
    "\"\"\"PyNEST EI-clustered network: Simulation Parameters\n",
    "-----------------------------------------------------\n",
    "\n",
    "A dictionary with parameters defining the simulation.\n",
    "\n",
    "\"\"\""
   ]
  },
  {
   "cell_type": "code",
   "execution_count": null,
   "id": "e53dcae6",
   "metadata": {},
   "outputs": [],
   "source": [
    "sim_dict = {\n",
    "    # The full simulation time is the sum of a presimulation time and the main\n",
    "    # simulation time.\n",
    "    # presimulation time (in ms)\n",
    "    \"warmup\": 1000.0,\n",
    "    # simulation time (in ms)\n",
    "    \"simtime\": 10000.0,\n",
    "    # resolution of the simulation (in ms)\n",
    "    \"dt\": 0.1,\n",
    "    \"randseed\": 55,\n",
    "    # Number of virtual processes\n",
    "    \"n_vp\": 4,\n",
    "}"
   ]
  }
 ],
 "metadata": {
  "jupytext": {
   "cell_metadata_filter": "-all",
   "encoding": "# -*- coding: utf-8 -*-"
  },
  "kernelspec": {
   "display_name": "EBRAINS-24.04",
   "language": "python",
   "name": "ebrains-24.04"
  }
 },
 "nbformat": 4,
 "nbformat_minor": 5
}
