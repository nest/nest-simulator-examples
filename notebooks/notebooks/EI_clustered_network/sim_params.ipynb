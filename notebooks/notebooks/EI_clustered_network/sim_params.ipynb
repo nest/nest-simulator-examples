{
  "cells": [
    {
      "cell_type": "markdown",
      "metadata": {},
      "source": [
        "# PyNEST EI-clustered network: Simulation Parameters\n\nA dictionary with parameters defining the simulation.\n"
      ]
    },
    {
      "cell_type": "code",
      "execution_count": null,
      "metadata": {
        "collapsed": false
      },
      "outputs": [],
      "source": [
        "sim_dict = {\n    # The full simulation time is the sum of a presimulation time and the main\n    # simulation time.\n    # presimulation time (in ms)\n    \"warmup\": 1000.0,\n    # simulation time (in ms)\n    \"simtime\": 10000.0,\n    # resolution of the simulation (in ms)\n    \"dt\": 0.1,\n    \"randseed\": 55,\n    # Number of virtual processes\n    \"n_vp\": 4,\n}"
      ]
    }
  ],
  "metadata": {
    "kernelspec": {
      "display_name": "EBRAINS-23.09",
      "language": "python",
      "name": "ebrains-23.09"
    },
    "language_info": {
      "codemirror_mode": {
        "name": "ipython",
        "version": 3
      },
      "file_extension": ".py",
      "mimetype": "text/x-python",
      "name": "python",
      "nbconvert_exporter": "python",
      "pygments_lexer": "ipython3",
      "version": "3.9.16"
    }
  },
  "nbformat": 4,
  "nbformat_minor": 0
}