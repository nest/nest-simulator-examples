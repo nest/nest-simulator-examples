{
  "cells": [
    {
      "cell_type": "markdown",
      "metadata": {},
      "source": [
        "# PyNEST EI-clustered network: Stimulus Parameters\n\nA dictionary with parameters for an optinal stimulation of clusters.\n"
      ]
    },
    {
      "cell_type": "code",
      "execution_count": null,
      "metadata": {
        "collapsed": false
      },
      "outputs": [],
      "source": [
        "stim_dict = {\n    # list of clusters to be stimulated (None: no stimulation, 0-n_clusters-1)\n    \"stim_clusters\": [2, 3, 4],\n    # stimulus amplitude (in pA)\n    \"stim_amp\": 0.15,\n    # stimulus start times in ms: list (warmup time is added automatically)\n    \"stim_starts\": [2000, 6000],\n    # list of stimulus end times in ms (warmup time is added automatically)\n    \"stim_ends\": [3500, 7500],\n}"
      ]
    }
  ],
  "metadata": {
    "kernelspec": {
      "display_name": "EBRAINS-23.09",
      "language": "python",
      "name": "ebrains-23.09"
    },
    "language_info": {
      "codemirror_mode": {
        "name": "ipython",
        "version": 3
      },
      "file_extension": ".py",
      "mimetype": "text/x-python",
      "name": "python",
      "nbconvert_exporter": "python",
      "pygments_lexer": "ipython3",
      "version": "3.9.16"
    }
  },
  "nbformat": 4,
  "nbformat_minor": 0
}