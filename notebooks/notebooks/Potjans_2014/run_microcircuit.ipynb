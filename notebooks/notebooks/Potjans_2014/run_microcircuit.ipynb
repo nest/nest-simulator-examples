{
 "cells": [
  {
   "cell_type": "code",
   "execution_count": null,
   "id": "22ed9a9e",
   "metadata": {},
   "outputs": [],
   "source": [
    "%matplotlib inline"
   ]
  },
  {
   "cell_type": "code",
   "execution_count": null,
   "id": "052cb233",
   "metadata": {},
   "outputs": [],
   "source": [
    "#\n",
    "# run_microcircuit.py\n",
    "#\n",
    "# This file is part of NEST.\n",
    "#\n",
    "# Copyright (C) 2004 The NEST Initiative\n",
    "#\n",
    "# NEST is free software: you can redistribute it and/or modify\n",
    "# it under the terms of the GNU General Public License as published by\n",
    "# the Free Software Foundation, either version 2 of the License, or\n",
    "# (at your option) any later version.\n",
    "#\n",
    "# NEST is distributed in the hope that it will be useful,\n",
    "# but WITHOUT ANY WARRANTY; without even the implied warranty of\n",
    "# MERCHANTABILITY or FITNESS FOR A PARTICULAR PURPOSE.  See the\n",
    "# GNU General Public License for more details.\n",
    "#\n",
    "# You should have received a copy of the GNU General Public License\n",
    "# along with NEST.  If not, see <http://www.gnu.org/licenses/>."
   ]
  },
  {
   "cell_type": "markdown",
   "id": "ec44ebef",
   "metadata": {
    "cell_marker": "\"\"\""
   },
   "source": [
    "PyNEST Microcircuit: Run Simulation\n",
    "-----------------------------------------\n",
    "\n",
    "This is an example script for running the microcircuit model and generating\n",
    "basic plots of the network activity.\n"
   ]
  },
  {
   "cell_type": "markdown",
   "id": "a01dfd13",
   "metadata": {},
   "source": [
    "Import the necessary modules and start the time measurements."
   ]
  },
  {
   "cell_type": "code",
   "execution_count": null,
   "id": "6e92c68a",
   "metadata": {},
   "outputs": [],
   "source": [
    "import time\n",
    "\n",
    "import nest\n",
    "import network\n",
    "import numpy as np\n",
    "from network_params import net_dict\n",
    "from sim_params import sim_dict\n",
    "from stimulus_params import stim_dict\n",
    "\n",
    "time_start = time.time()"
   ]
  },
  {
   "cell_type": "markdown",
   "id": "82ed8c35",
   "metadata": {},
   "source": [
    "Initialize the network with simulation, network and stimulation parameters,\n",
    "then create and connect all nodes, and finally simulate.\n",
    "The times for a presimulation and the main simulation are taken\n",
    "independently. A presimulation is useful because the spike activity typically\n",
    "exhibits a startup transient. In benchmark simulations, this transient should\n",
    "be excluded from a time measurement of the state propagation phase. Besides,\n",
    "statistical measures of the spike activity should only be computed after the\n",
    "transient has passed."
   ]
  },
  {
   "cell_type": "code",
   "execution_count": null,
   "id": "b114d903",
   "metadata": {},
   "outputs": [],
   "source": [
    "net = network.Network(sim_dict, net_dict, stim_dict)\n",
    "time_network = time.time()\n",
    "\n",
    "net.create()\n",
    "time_create = time.time()\n",
    "\n",
    "net.connect()\n",
    "time_connect = time.time()\n",
    "\n",
    "net.simulate(sim_dict[\"t_presim\"])\n",
    "time_presimulate = time.time()\n",
    "\n",
    "net.simulate(sim_dict[\"t_sim\"])\n",
    "time_simulate = time.time()"
   ]
  },
  {
   "cell_type": "markdown",
   "id": "ac5d4f15",
   "metadata": {},
   "source": [
    "Plot a spike raster of the simulated neurons and a box plot of the firing\n",
    "rates for each population.\n",
    "For visual purposes only, spikes 100 ms before and 100 ms after the thalamic\n",
    "stimulus time are plotted here by default.\n",
    "The computation of spike rates discards the presimulation time to exclude\n",
    "initialization artifacts."
   ]
  },
  {
   "cell_type": "code",
   "execution_count": null,
   "id": "299ddff0",
   "metadata": {},
   "outputs": [],
   "source": [
    "raster_plot_interval = np.array([stim_dict[\"th_start\"] - 100.0, stim_dict[\"th_start\"] + 100.0])\n",
    "firing_rates_interval = np.array([sim_dict[\"t_presim\"], sim_dict[\"t_presim\"] + sim_dict[\"t_sim\"]])\n",
    "net.evaluate(raster_plot_interval, firing_rates_interval)\n",
    "time_evaluate = time.time()"
   ]
  },
  {
   "cell_type": "markdown",
   "id": "f7c73448",
   "metadata": {},
   "source": [
    "Summarize time measurements. Rank 0 usually takes longest because of the\n",
    "data evaluation and print calls."
   ]
  },
  {
   "cell_type": "code",
   "execution_count": null,
   "id": "40e5ff80",
   "metadata": {},
   "outputs": [],
   "source": [
    "print(\n",
    "    \"\\nTimes of Rank {}:\\n\".format(nest.Rank())\n",
    "    + \"  Total time:          {:.3f} s\\n\".format(time_evaluate - time_start)\n",
    "    + \"  Time to initialize:  {:.3f} s\\n\".format(time_network - time_start)\n",
    "    + \"  Time to create:      {:.3f} s\\n\".format(time_create - time_network)\n",
    "    + \"  Time to connect:     {:.3f} s\\n\".format(time_connect - time_create)\n",
    "    + \"  Time to presimulate: {:.3f} s\\n\".format(time_presimulate - time_connect)\n",
    "    + \"  Time to simulate:    {:.3f} s\\n\".format(time_simulate - time_presimulate)\n",
    "    + \"  Time to evaluate:    {:.3f} s\\n\".format(time_evaluate - time_simulate)\n",
    ")"
   ]
  }
 ],
 "metadata": {
  "jupytext": {
   "cell_metadata_filter": "-all",
   "encoding": "# -*- coding: utf-8 -*-"
  },
  "kernelspec": {
   "display_name": "EBRAINS-24.04",
   "language": "python",
   "name": "ebrains-24.04"
  }
 },
 "nbformat": 4,
 "nbformat_minor": 5
}
