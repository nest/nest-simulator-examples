{
  "cells": [
    {
      "cell_type": "markdown",
      "metadata": {},
      "source": [
        "\n# Example of an AEIF neuron with multiple synaptic rise and decay time constants\n"
      ]
    },
    {
      "cell_type": "code",
      "execution_count": null,
      "metadata": {
        "collapsed": false
      },
      "outputs": [],
      "source": [
        "import matplotlib.pyplot as plt\nimport nest\nimport numpy as np\n\nneuron = nest.Create(\"aeif_cond_beta_multisynapse\")\nnest.SetStatus(neuron, {\"V_peak\": 0.0, \"a\": 4.0, \"b\": 80.5})\nnest.SetStatus(\n    neuron, {\"E_rev\": [0.0, 0.0, 0.0, -85.0], \"tau_decay\": [50.0, 20.0, 20.0, 20.0], \"tau_rise\": [10.0, 10.0, 1.0, 1.0]}\n)\n\nspike = nest.Create(\"spike_generator\", params={\"spike_times\": np.array([10.0])})\n\nvoltmeter = nest.Create(\"voltmeter\")\n\ndelays = [1.0, 300.0, 500.0, 700.0]\nw = [1.0, 1.0, 1.0, 1.0]\nfor syn in range(4):\n    nest.Connect(\n        spike,\n        neuron,\n        syn_spec={\"synapse_model\": \"static_synapse\", \"receptor_type\": 1 + syn, \"weight\": w[syn], \"delay\": delays[syn]},\n    )\n\nnest.Connect(voltmeter, neuron)\n\nnest.Simulate(1000.0)\n\nVms = voltmeter.get(\"events\", \"V_m\")\nts = voltmeter.get(\"events\", \"times\")\n\nplt.plot(ts, Vms)\nplt.show()"
      ]
    }
  ],
  "metadata": {
    "kernelspec": {
      "display_name": "EBRAINS-23.09",
      "language": "python",
      "name": "ebrains-23.09"
    },
    "language_info": {
      "codemirror_mode": {
        "name": "ipython",
        "version": 3
      },
      "file_extension": ".py",
      "mimetype": "text/x-python",
      "name": "python",
      "nbconvert_exporter": "python",
      "pygments_lexer": "ipython3",
      "version": "3.10.13"
    }
  },
  "nbformat": 4,
  "nbformat_minor": 0
}