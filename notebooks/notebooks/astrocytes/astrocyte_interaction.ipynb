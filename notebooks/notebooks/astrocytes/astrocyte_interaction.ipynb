{
  "cells": [
    {
      "cell_type": "markdown",
      "metadata": {},
      "source": [
        "\n# A tripartite interaction between two neurons and one astrocyte\n\nThis script simulates a tripartite interaction between two neurons and one\nastrocyte. This interaction is part of the astrocyte biology described in\n[1]_ that involves the neuron-astrocyte glutamate signaling and the astrocytic\ncalcium dynamics.\n\n``astrocyte_lr_1994`` is used to model the astrocyte, which implements the\ndynamics in the astrocyte based on the articles [2]_, [3]_, and [4]_.\n``tsodyks_synapse`` is used to create connections from the presynaptic neuron\nto the postsynaptic neuron, and from the presynaptic neuron to the astrocyte.\n``sic_connection`` is used to create a connection from the astrocyte to the\npostsynaptic neuron. Recordings are made for the following variables: membrance\nvoltage of the presynaptic neuron, inositol 1,4,5-trisphosphate (IP3), and\ncalcium in the astrocyte, and slow inward current (SIC) in the postsynaptic\nneuron. The result demonstrates a tripartite interaction where the presynaptic\nspikes induce changes in IP3 and calcium in the astrocyte, which then induces\nthe generation of SIC in the postsynaptic neuron.\n\n## See Also\n\n:doc:`astrocyte_single`\n\n## References\n\n.. [1] Bazargani, N., & Attwell, D. (2016). Astrocyte calcium signaling: the\n       third wave. Nature neuroscience, 19(2), 182-189. DOI:\n       https://doi.org/10.1038/nn.4201\n\n.. [2] Li, Y. X., & Rinzel, J. (1994). Equations for InsP3 receptor-mediated\n       [Ca2+]i oscillations derived from a detailed kinetic model: a\n       Hodgkin-Huxley like formalism. Journal of theoretical Biology, 166(4),\n       461-473. DOI: https://doi.org/10.1006/jtbi.1994.1041\n\n.. [3] De Young, G. W., & Keizer, J. (1992). A single-pool inositol\n       1,4,5-trisphosphate-receptor-based model for agonist-stimulated\n       oscillations in Ca2+ concentration. Proceedings of the National Academy\n       of Sciences, 89(20), 9895-9899. DOI:\n       https://doi.org/10.1073/pnas.89.20.9895\n\n.. [4] Nadkarni, S., & Jung, P. (2003). Spontaneous oscillations of dressed\n       neurons: a new mechanism for epilepsy?. Physical review letters, 91(26),\n       268101. DOI: https://doi.org/10.1103/PhysRevLett.91.268101\n"
      ]
    },
    {
      "cell_type": "markdown",
      "metadata": {},
      "source": [
        "Import all necessary modules for simulation and plotting.\n\n"
      ]
    },
    {
      "cell_type": "code",
      "execution_count": null,
      "metadata": {
        "collapsed": false
      },
      "outputs": [],
      "source": [
        "import matplotlib.pyplot as plt\nimport nest"
      ]
    },
    {
      "cell_type": "markdown",
      "metadata": {},
      "source": [
        "Set parameters for the simulation.\n\n"
      ]
    },
    {
      "cell_type": "code",
      "execution_count": null,
      "metadata": {
        "collapsed": false
      },
      "outputs": [],
      "source": [
        "# simulation time\nsim_time = 60000\n# Poisson input for the presynaptic neuron\npoisson_rate_neuro = 1500.0\n# neuron parameters\nparams_neuro = {\"tau_syn_ex\": 2.0}\n# astrocyte parameters\nparams_astro = {\"IP3_0\": 0.16}\n# weights of connections\nw_pre2astro = 1.0\nw_pre2post = 1.0\nw_astro2post = 1.0"
      ]
    },
    {
      "cell_type": "markdown",
      "metadata": {},
      "source": [
        "Create and connect the astrocyte and its devices.\n\n"
      ]
    },
    {
      "cell_type": "code",
      "execution_count": null,
      "metadata": {
        "collapsed": false
      },
      "outputs": [],
      "source": [
        "astrocyte = nest.Create(\"astrocyte_lr_1994\", params=params_astro)\nmm_astro = nest.Create(\"multimeter\", params={\"record_from\": [\"IP3\", \"Ca\"]})\nnest.Connect(mm_astro, astrocyte)"
      ]
    },
    {
      "cell_type": "markdown",
      "metadata": {},
      "source": [
        "Create and connect the neurons and their devices.\n\n"
      ]
    },
    {
      "cell_type": "code",
      "execution_count": null,
      "metadata": {
        "collapsed": false
      },
      "outputs": [],
      "source": [
        "pre_neuron = nest.Create(\"aeif_cond_alpha_astro\", params=params_neuro)\npost_neuron = nest.Create(\"aeif_cond_alpha_astro\", params=params_neuro)\nps_pre = nest.Create(\"poisson_generator\", params={\"rate\": poisson_rate_neuro})\nmm_pre = nest.Create(\"multimeter\", params={\"record_from\": [\"V_m\"]})\nmm_post = nest.Create(\"multimeter\", params={\"record_from\": [\"I_SIC\"]})\nnest.Connect(ps_pre, pre_neuron)\nnest.Connect(mm_pre, pre_neuron)\nnest.Connect(mm_post, post_neuron)"
      ]
    },
    {
      "cell_type": "markdown",
      "metadata": {},
      "source": [
        "Create tripartite connectivity.\n\n"
      ]
    },
    {
      "cell_type": "code",
      "execution_count": null,
      "metadata": {
        "collapsed": false
      },
      "outputs": [],
      "source": [
        "nest.Connect(pre_neuron, post_neuron, syn_spec={\"weight\": w_pre2post})\nnest.Connect(pre_neuron, astrocyte, syn_spec={\"weight\": w_pre2astro})\nnest.Connect(astrocyte, post_neuron, syn_spec={\"synapse_model\": \"sic_connection\", \"weight\": w_astro2post})"
      ]
    },
    {
      "cell_type": "markdown",
      "metadata": {},
      "source": [
        "Run simulation and get results.\n\n"
      ]
    },
    {
      "cell_type": "code",
      "execution_count": null,
      "metadata": {
        "collapsed": false
      },
      "outputs": [],
      "source": [
        "nest.Simulate(sim_time)\ndata_pre = mm_pre.events\ndata_post = mm_post.events\ndata_astro = mm_astro.events"
      ]
    },
    {
      "cell_type": "markdown",
      "metadata": {},
      "source": [
        "Create and show plots.\n\n"
      ]
    },
    {
      "cell_type": "code",
      "execution_count": null,
      "metadata": {
        "collapsed": false
      },
      "outputs": [],
      "source": [
        "fig, ax = plt.subplots(2, 2, sharex=True, figsize=(6.4, 4.8), dpi=100)\naxes = ax.flat\naxes[0].plot(data_pre[\"times\"], data_pre[\"V_m\"])\naxes[1].plot(data_astro[\"times\"], data_astro[\"IP3\"])\naxes[2].plot(data_post[\"times\"], data_post[\"I_SIC\"])\naxes[3].plot(data_astro[\"times\"], data_astro[\"Ca\"])\naxes[0].set_title(f\"Presynaptic neuron\\n(Poisson rate = {poisson_rate_neuro} Hz)\")\naxes[0].set_ylabel(\"Membrane potential (mV)\")\naxes[2].set_title(\"Postsynaptic neuron\")\naxes[2].set_ylabel(\"Slow inward current (pA)\")\naxes[2].set_xlabel(\"Time (ms)\")\naxes[1].set_title(\"Astrocyte\")\naxes[1].set_ylabel(r\"[IP$_{3}$] ($\\mu$M)\")\naxes[3].set_ylabel(r\"[Ca$^{2+}$] ($\\mu$M)\")\naxes[3].set_xlabel(\"Time (ms)\")\nplt.tight_layout()\nplt.show()\nplt.close()"
      ]
    }
  ],
  "metadata": {
    "kernelspec": {
      "display_name": "EBRAINS-23.06",
      "language": "python",
      "name": "ebrains-23.06"
    },
    "language_info": {
      "codemirror_mode": {
        "name": "ipython",
        "version": 3
      },
      "file_extension": ".py",
      "mimetype": "text/x-python",
      "name": "python",
      "nbconvert_exporter": "python",
      "pygments_lexer": "ipython3",
      "version": "3.10.13"
    }
  },
  "nbformat": 4,
  "nbformat_minor": 0
}
