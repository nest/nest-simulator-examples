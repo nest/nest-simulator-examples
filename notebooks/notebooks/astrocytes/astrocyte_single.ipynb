{
  "cells": [
    {
      "cell_type": "markdown",
      "metadata": {},
      "source": [
        "\n# A model using a single astrocyte with calcium dynamics\n\nThis script simulates an astrocyte with the model ``astrocyte_lr_1994``, which\nimplements the dynamics in the astrocyte based on [1]_, [2]_, and\n[3]_. Recordings are made for two variables in the astrocyte,\ninositol 1,4,5-trisphosphate (IP3) and cytosolic calcium. The astrocyte is driven\nby a Poissonian spike train which induces the\ngeneration of IP3 in the astrocyte, which in turn influences the calcium dynamics in\nthe astrocyte.\n\n## See Also\n\n:doc:`astrocyte_interaction`\n\n## References\n\n.. [1] Li, Y. X., & Rinzel, J. (1994). Equations for InsP3 receptor-mediated\n       [Ca2+]i oscillations derived from a detailed kinetic model: a\n       Hodgkin-Huxley like formalism. Journal of theoretical Biology, 166(4),\n       461-473. DOI: https://doi.org/10.1006/jtbi.1994.1041\n\n.. [2] De Young, G. W., & Keizer, J. (1992). A single-pool inositol\n       1,4,5-trisphosphate-receptor-based model for agonist-stimulated\n       oscillations in Ca2+ concentration. Proceedings of the National Academy\n       of Sciences, 89(20), 9895-9899. DOI:\n       https://doi.org/10.1073/pnas.89.20.9895\n\n.. [3] Nadkarni, S., & Jung, P. (2003). Spontaneous oscillations of dressed\n       neurons: a new mechanism for epilepsy?. Physical review letters, 91(26),\n       268101. DOI: https://doi.org/10.1103/PhysRevLett.91.268101\n"
      ]
    },
    {
      "cell_type": "markdown",
      "metadata": {},
      "source": [
        "Import all necessary modules for simulation and plotting.\n\n"
      ]
    },
    {
      "cell_type": "code",
      "execution_count": null,
      "metadata": {
        "collapsed": false
      },
      "outputs": [],
      "source": [
        "import matplotlib.pyplot as plt\nimport nest"
      ]
    },
    {
      "cell_type": "markdown",
      "metadata": {},
      "source": [
        "Set parameters for the simulation.\n\n"
      ]
    },
    {
      "cell_type": "code",
      "execution_count": null,
      "metadata": {
        "collapsed": false
      },
      "outputs": [],
      "source": [
        "# simulation time\nsim_time = 60000\n# astrocyte parameters\nparams_astro = {\"IP3_0\": 0.16}\n# Poisson input for the astrocyte\npoisson_rate = 1.0\npoisson_weight = 0.1"
      ]
    },
    {
      "cell_type": "markdown",
      "metadata": {},
      "source": [
        "Create astrocyte and devices and connect them.\n\n"
      ]
    },
    {
      "cell_type": "code",
      "execution_count": null,
      "metadata": {
        "collapsed": false
      },
      "outputs": [],
      "source": [
        "astrocyte = nest.Create(\"astrocyte_lr_1994\", params=params_astro)\nps_astro = nest.Create(\"poisson_generator\", params={\"rate\": poisson_rate})\nmm_astro = nest.Create(\"multimeter\", params={\"record_from\": [\"IP3\", \"Ca\"]})\nnest.Connect(ps_astro, astrocyte, syn_spec={\"weight\": poisson_weight})\nnest.Connect(mm_astro, astrocyte)"
      ]
    },
    {
      "cell_type": "markdown",
      "metadata": {},
      "source": [
        "Run simulation and get results.\n\n"
      ]
    },
    {
      "cell_type": "code",
      "execution_count": null,
      "metadata": {
        "collapsed": false
      },
      "outputs": [],
      "source": [
        "nest.Simulate(sim_time)\ndata = mm_astro.events"
      ]
    },
    {
      "cell_type": "markdown",
      "metadata": {},
      "source": [
        "Create and show plots.\n\n"
      ]
    },
    {
      "cell_type": "code",
      "execution_count": null,
      "metadata": {
        "collapsed": false
      },
      "outputs": [],
      "source": [
        "fig, axes = plt.subplots(2, 1, sharex=True, figsize=(6.4, 4.8), dpi=100)\naxes[0].plot(data[\"times\"], data[\"IP3\"])\naxes[1].plot(data[\"times\"], data[\"Ca\"])\naxes[0].set_ylabel(r\"[IP$_{3}$] ($\\mu$M)\")\naxes[1].set_ylabel(r\"[Ca$^{2+}$] ($\\mu$M)\")\naxes[1].set_xlabel(\"Time (ms)\")\nplt.tight_layout()\nplt.show()\nplt.close()"
      ]
    }
  ],
  "metadata": {
    "kernelspec": {
      "display_name": "EBRAINS-23.06",
      "language": "python",
      "name": "ebrains-23.06"
    },
    "language_info": {
      "codemirror_mode": {
        "name": "ipython",
        "version": 3
      },
      "file_extension": ".py",
      "mimetype": "text/x-python",
      "name": "python",
      "nbconvert_exporter": "python",
      "pygments_lexer": "ipython3",
      "version": "3.10.13"
    }
  },
  "nbformat": 4,
  "nbformat_minor": 0
}
