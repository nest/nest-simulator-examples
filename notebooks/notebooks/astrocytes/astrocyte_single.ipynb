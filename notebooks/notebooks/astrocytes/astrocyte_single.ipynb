{
 "cells": [
  {
   "cell_type": "code",
   "execution_count": null,
   "id": "9d098f58",
   "metadata": {},
   "outputs": [],
   "source": [
    "%matplotlib inline"
   ]
  },
  {
   "cell_type": "code",
   "execution_count": null,
   "id": "af2f177b",
   "metadata": {},
   "outputs": [],
   "source": [
    "#\n",
    "# astrocyte_single.py\n",
    "#\n",
    "# This file is part of NEST.\n",
    "#\n",
    "# Copyright (C) 2004 The NEST Initiative\n",
    "#\n",
    "# NEST is free software: you can redistribute it and/or modify\n",
    "# it under the terms of the GNU General Public License as published by\n",
    "# the Free Software Foundation, either version 2 of the License, or\n",
    "# (at your option) any later version.\n",
    "#\n",
    "# NEST is distributed in the hope that it will be useful,\n",
    "# but WITHOUT ANY WARRANTY; without even the implied warranty of\n",
    "# MERCHANTABILITY or FITNESS FOR A PARTICULAR PURPOSE.  See the\n",
    "# GNU General Public License for more details.\n",
    "#\n",
    "# You should have received a copy of the GNU General Public License\n",
    "# along with NEST.  If not, see <http://www.gnu.org/licenses/>."
   ]
  },
  {
   "cell_type": "markdown",
   "id": "313209da",
   "metadata": {
    "cell_marker": "\"\"\""
   },
   "source": [
    "A model using a single astrocyte with calcium dynamics\n",
    "-------------------------------------------------------\n",
    "\n",
    "This script simulates an astrocyte with the model ``astrocyte_lr_1994``, which\n",
    "implements the dynamics in the astrocyte based on [1]_, [2]_, and\n",
    "[3]_. Recordings are made for two variables in the astrocyte,\n",
    "inositol 1,4,5-trisphosphate (IP3) and cytosolic calcium. The astrocyte is driven\n",
    "by a Poissonian spike train which induces the\n",
    "generation of IP3 in the astrocyte, which in turn influences the calcium dynamics in\n",
    "the astrocyte.\n",
    "\n",
    "See Also\n",
    "~~~~~~~~\n",
    "\n",
    ":doc:`astrocyte_interaction`\n",
    "\n",
    "References\n",
    "~~~~~~~~~~\n",
    "\n",
    ".. [1] Li, Y. X., & Rinzel, J. (1994). Equations for InsP3 receptor-mediated\n",
    "       [Ca2+]i oscillations derived from a detailed kinetic model: a\n",
    "       Hodgkin-Huxley like formalism. Journal of theoretical Biology, 166(4),\n",
    "       461-473. DOI: https://doi.org/10.1006/jtbi.1994.1041\n",
    "\n",
    ".. [2] De Young, G. W., & Keizer, J. (1992). A single-pool inositol\n",
    "       1,4,5-trisphosphate-receptor-based model for agonist-stimulated\n",
    "       oscillations in Ca2+ concentration. Proceedings of the National Academy\n",
    "       of Sciences, 89(20), 9895-9899. DOI:\n",
    "       https://doi.org/10.1073/pnas.89.20.9895\n",
    "\n",
    ".. [3] Nadkarni, S., & Jung, P. (2003). Spontaneous oscillations of dressed\n",
    "       neurons: a new mechanism for epilepsy?. Physical review letters, 91(26),\n",
    "       268101. DOI: https://doi.org/10.1103/PhysRevLett.91.268101\n"
   ]
  },
  {
   "cell_type": "markdown",
   "id": "28d70fdd",
   "metadata": {},
   "source": [
    "Import all necessary modules for simulation and plotting."
   ]
  },
  {
   "cell_type": "code",
   "execution_count": null,
   "id": "a7bd81e6",
   "metadata": {},
   "outputs": [],
   "source": [
    "import matplotlib.pyplot as plt\n",
    "import nest"
   ]
  },
  {
   "cell_type": "markdown",
   "id": "5d2c7a81",
   "metadata": {},
   "source": [
    "Set parameters for the simulation."
   ]
  },
  {
   "cell_type": "code",
   "execution_count": null,
   "id": "ca745f8b",
   "metadata": {},
   "outputs": [],
   "source": [
    "# simulation time\n",
    "sim_time = 60000\n",
    "# astrocyte parameters\n",
    "params_astro = {\"IP3_0\": 0.16}\n",
    "# Poisson input for the astrocyte\n",
    "poisson_rate = 1.0\n",
    "poisson_weight = 0.1"
   ]
  },
  {
   "cell_type": "markdown",
   "id": "ecb84628",
   "metadata": {},
   "source": [
    "Create astrocyte and devices and connect them."
   ]
  },
  {
   "cell_type": "code",
   "execution_count": null,
   "id": "74550268",
   "metadata": {},
   "outputs": [],
   "source": [
    "astrocyte = nest.Create(\"astrocyte_lr_1994\", params=params_astro)\n",
    "ps_astro = nest.Create(\"poisson_generator\", params={\"rate\": poisson_rate})\n",
    "mm_astro = nest.Create(\"multimeter\", params={\"record_from\": [\"IP3\", \"Ca_astro\"]})\n",
    "nest.Connect(ps_astro, astrocyte, syn_spec={\"weight\": poisson_weight})\n",
    "nest.Connect(mm_astro, astrocyte)"
   ]
  },
  {
   "cell_type": "markdown",
   "id": "ea22eef3",
   "metadata": {},
   "source": [
    "Run simulation and get results."
   ]
  },
  {
   "cell_type": "code",
   "execution_count": null,
   "id": "959a9f3d",
   "metadata": {},
   "outputs": [],
   "source": [
    "nest.Simulate(sim_time)\n",
    "data = mm_astro.events"
   ]
  },
  {
   "cell_type": "markdown",
   "id": "0f2acecf",
   "metadata": {},
   "source": [
    "Create and show plots."
   ]
  },
  {
   "cell_type": "code",
   "execution_count": null,
   "id": "1decab2b",
   "metadata": {},
   "outputs": [],
   "source": [
    "fig, axes = plt.subplots(2, 1, sharex=True, figsize=(6.4, 4.8), dpi=100)\n",
    "axes[0].plot(data[\"times\"], data[\"IP3\"])\n",
    "axes[1].plot(data[\"times\"], data[\"Ca_astro\"])\n",
    "axes[0].set_ylabel(r\"[IP$_{3}$] ($\\mu$M)\")\n",
    "axes[1].set_ylabel(r\"[Ca$^{2+}$] ($\\mu$M)\")\n",
    "axes[1].set_xlabel(\"Time (ms)\")\n",
    "plt.tight_layout()\n",
    "plt.show()\n",
    "plt.close()"
   ]
  }
 ],
 "metadata": {
  "jupytext": {
   "cell_metadata_filter": "-all",
   "encoding": "# -*- coding: utf-8 -*-",
   "main_language": "python",
   "notebook_metadata_filter": "-all"
  }
 },
 "nbformat": 4,
 "nbformat_minor": 5
}
