{
  "cells": [
    {
      "cell_type": "markdown",
      "metadata": {},
      "source": [
        "\n# A small neuron-astrocyte network\n\nThis script shows how to create a neuron-astrocyte network in NEST. The network\nin this script includes 20 neurons and five astrocytes. The astrocytes are modeled\nwith ``astrocyte_lr_1994``, implemented according to [1]_, [2]_, and [3]_. The\nneurons are modeled with ``aeif_cond_alpha_astro``, an adaptive exponential\nintegrate-and-fire neuron supporting neuron-astrocyte interactions.\n\nThe network is created with the ``TripartiteConnect()`` function and the\n``tripartite_bernoulli_with_pool`` rule (see `tripartite_connectivity` for\ndetailed descriptions). This rule creates a tripartite Bernoulli connectivity\nwith the following principles:\n\n1. For each pair of neurons, a Bernoulli trial with a probability ``p_primary``\ndetermines if a ``tsodyks_synapse`` will be created between them.\n\n2. For each neuron-neuron connection created, a Bernoulli trial with a\nprobability ``p_third_if_primary`` determines if it will be paired with one astrocyte.\nThe selection of this particular astrocyte is confined by ``pool_size`` and\n``pool_type`` (see below).\n\n3. If a neuron-neuron connection is to be paired with an astrocyte, a\n``tsodyks_synapse`` from the presynaptic (source) neuron to the astrocyte\nis created, and a ``sic_connection`` from the astrocyte to the postsynaptic\n(target) neuron is created.\n\nThe available connectivity parameters are as follows:\n\n* ``conn_spec`` parameters\n\n  * ``p_primary``: Connection probability between neurons.\n\n  * ``p_third_if_primary``: Probability of each created neuron-neuron connection to be\n    paired with one astrocyte.\n\n  * ``pool_size``: The size of astrocyte pool for each target neuron. The\n    astrocyte pool of each target neuron is determined before making\n    connections. Each target neuron can only be connected to astrocytes\n    in its pool.\n\n  * ``pool_type``: The way to determine the astrocyte pool for each target\n    neuron. If ``\"random\"``, a number (``pool_size``) of astrocytes are\n    randomly chosen from all astrocytes (without replacement) and assigned as\n    the pool. If ``\"block\"``, the astrocytes are evenly distributed to the\n    neurons in blocks without overlapping, and the specified ``pool_size`` has\n    to be compatible with this arrangement. See `tripartite_connectivity`\n    for more details about ``pool_type``.\n\n* ``syn_specs`` parameters\n\n  * ``primary``: ``syn_spec`` specifications for the connections between neurons.\n\n  * ``third_in``: ``syn_spec`` specifications for the connections from neurons to astrocytes.\n\n  * ``third_out``: ``syn_spec`` specifications for the connections from astrocytes to neurons.\n\nIn this script, the network is created with the ``pool_type`` being ``\"block\"``.\n``p_primary`` and ``p_third_if_primary`` are both set to one to include as many\nconnections as possible. One of the created figures shows the connections between\nneurons and astrocytes as a result (note that multiple connections may exist\nbetween a pair of nodes; this is not obvious in the figure since connections\ndrawn later cover previous ones). It can be seen from the figure that ``\"block\"``\nresults in astrocytes being connected to postsynaptic neurons in non-overlapping\nblocks. The ``pool_size`` should be compatible with this arrangement; in the case\nhere, a ``pool_size`` of one is required. Users can try different parameters\n(e.g. ``p_primary`` = 0.5 and ``p_third_if_primary`` = 0.5) to see changes in\nconnections.\n\nWith the created network, neuron-astrocyte interactions can be observed. The\npresynaptic spikes induce the generation of IP3, which then changes the calcium\nconcentration in the astrocytes. This change in calcium then induces the slow\ninward current (SIC) in the neurons through the ``sic_connection``. The changes\nin membrane potential of the presynaptic and postsynaptic neurons are also\nrecorded. These data are shown in the created figures.\n\nThe ``pool_type`` can be changed to \"random\" to see the results with random\nastrocyte pools. In that case, the ``pool_size`` can be any from one to the\ntotal number of astrocytes.\n\nSee `tripartite_connectivity` for more details about the\n``TripartiteConnect()`` function and the ``tripartite_bernoulli_with_pool``\nrule.\n\n## References\n\n.. [1] Li, Y. X., & Rinzel, J. (1994). Equations for InsP3 receptor-mediated\n       [Ca2+]i oscillations derived from a detailed kinetic model: a\n       Hodgkin-Huxley like formalism. Journal of theoretical Biology, 166(4),\n       461-473. DOI: https://doi.org/10.1006/jtbi.1994.1041\n\n.. [2] De Young, G. W., & Keizer, J. (1992). A single-pool inositol\n       1,4,5-trisphosphate-receptor-based model for agonist-stimulated\n       oscillations in Ca2+ concentration. Proceedings of the National Academy\n       of Sciences, 89(20), 9895-9899. DOI:\n       https://doi.org/10.1073/pnas.89.20.9895\n\n.. [3] Nadkarni, S., & Jung, P. (2003). Spontaneous oscillations of dressed\n       neurons: a new mechanism for epilepsy?. Physical review letters, 91(26),\n       268101. DOI: https://doi.org/10.1103/PhysRevLett.91.268101\n\n## See Also\n\n:doc:`astrocyte_brunel`\n"
      ]
    },
    {
      "cell_type": "markdown",
      "metadata": {},
      "source": [
        "Import all necessary modules.\n\n"
      ]
    },
    {
      "cell_type": "code",
      "execution_count": null,
      "metadata": {
        "collapsed": false
      },
      "outputs": [],
      "source": [
        "import matplotlib.pyplot as plt\nimport nest\nimport numpy as np"
      ]
    },
    {
      "cell_type": "markdown",
      "metadata": {},
      "source": [
        "Initialize NEST kernel.\n\n"
      ]
    },
    {
      "cell_type": "code",
      "execution_count": null,
      "metadata": {
        "collapsed": false
      },
      "outputs": [],
      "source": [
        "nest.ResetKernel()"
      ]
    },
    {
      "cell_type": "markdown",
      "metadata": {},
      "source": [
        "Set network parameters.\n\n"
      ]
    },
    {
      "cell_type": "code",
      "execution_count": null,
      "metadata": {
        "collapsed": false
      },
      "outputs": [],
      "source": [
        "n_neurons = 10  # number of source and target neurons\nn_astrocytes = 5  # number of astrocytes\np_primary = 1.0  # connection probability between neurons\np_third_if_primary = 1.0  # probability of each created neuron-neuron connection to be paired with one astrocyte\npool_size = 1  # astrocyte pool size for each target neuron\npool_type = \"block\"  # the way to determine the astrocyte pool for each target neuron"
      ]
    },
    {
      "cell_type": "markdown",
      "metadata": {},
      "source": [
        "Set astrocyte parameters.\n\n"
      ]
    },
    {
      "cell_type": "code",
      "execution_count": null,
      "metadata": {
        "collapsed": false
      },
      "outputs": [],
      "source": [
        "astrocyte_model = \"astrocyte_lr_1994\"\nastrocyte_params = {\n    \"IP3\": 0.4,  # IP3 initial value in \u00b5M\n    \"delta_IP3\": 2.0,  # parameter determining the increase in astrocytic IP3 concentration induced by synaptic input\n    \"tau_IP3\": 10.0,  # time constant of the exponential decay of astrocytic IP3\n}"
      ]
    },
    {
      "cell_type": "markdown",
      "metadata": {},
      "source": [
        "Set neuron parameters.\n\n"
      ]
    },
    {
      "cell_type": "code",
      "execution_count": null,
      "metadata": {
        "collapsed": false
      },
      "outputs": [],
      "source": [
        "neuron_model = \"aeif_cond_alpha_astro\"\nneuron_params = {\n    \"tau_syn_ex\": 2.0,  # excitatory synaptic time constant in ms\n    \"I_e\": 1000.0,  # external current input in pA\n}"
      ]
    },
    {
      "cell_type": "markdown",
      "metadata": {},
      "source": [
        "Functions for plotting.\n\n"
      ]
    },
    {
      "cell_type": "code",
      "execution_count": null,
      "metadata": {
        "collapsed": false
      },
      "outputs": [],
      "source": [
        "def plot_connections(conn_n2n, conn_n2a, conn_a2n, pre_id_list, post_id_list, astro_id_list):\n    \"\"\"Plot all connections between neurons and astrocytes.\n\n    Parameters\n    ---------\n    conn_n2n\n        Data of neuron-to-neuron connections.\n    conn_n2a\n        Data of neuron-to-astrocyte connections.\n    conn_a2n\n        Data of astrocyte-to-neuron connections.\n    pre_id_list\n        ID list of presynaptic neurons.\n    post_id_list\n        ID list of postsynaptic neurons.\n    astro_id_list\n        ID list of astrocytes.\n\n    \"\"\"\n    print(\"Plotting connections ...\")\n\n    # helper function to create lists of connection positions\n    def get_conn_positions(dict_in, source_center, target_center):\n        source_list = np.array(dict_in[\"source\"]) - source_center\n        target_list = np.array(dict_in[\"target\"]) - target_center\n        return source_list.tolist(), target_list.tolist()\n\n    # prepare data (lists of node positions, list of connection positions)\n    pre_id_center = (pre_id_list[0] + pre_id_list[-1]) / 2\n    post_id_center = (post_id_list[0] + post_id_list[-1]) / 2\n    astro_id_center = (astro_id_list[0] + astro_id_list[-1]) / 2\n    slist_n2n, tlist_n2n = get_conn_positions(conns_n2n.get(), pre_id_center, post_id_center)\n    slist_n2a, tlist_n2a = get_conn_positions(conns_n2a.get(), pre_id_center, astro_id_center)\n    slist_a2n, tlist_a2n = get_conn_positions(conns_a2n.get(), astro_id_center, post_id_center)\n    # initialize figure\n    fig, axs = plt.subplots(1, 1, figsize=(10, 8))\n    # plot nodes and connections\n    # source neuron nodes\n    axs.scatter(\n        np.array(pre_id_list) - pre_id_center,\n        [2] * len(pre_id_list),\n        s=300,\n        color=\"gray\",\n        marker=\"^\",\n        label=\"pre_neurons\",\n        zorder=3,\n    )\n    # neuron-to-neuron connections\n    for i, (sx, tx) in enumerate(zip(slist_n2n, tlist_n2n)):\n        label = \"neuron-to-neuron\" if i == 0 else None\n        axs.plot([sx, tx], [2, 0], linestyle=\":\", color=\"b\", alpha=0.3, linewidth=2, label=label)\n    # target neuron nodes\n    axs.scatter(\n        np.array(post_id_list) - post_id_center,\n        [0] * len(post_id_list),\n        s=300,\n        color=\"k\",\n        marker=\"^\",\n        label=\"post_neurons\",\n        zorder=3,\n    )\n    # neuron-to-astrocyte connections\n    for i, (sx, tx) in enumerate(zip(slist_n2a, tlist_n2a)):\n        label = \"neuron-to-astrocyte\" if i == 0 else None\n        axs.plot([sx, tx], [2, 1], linestyle=\"-\", color=\"orange\", alpha=0.5, linewidth=2, label=label)\n    # astrocyte nodes\n    axs.scatter(\n        np.array(astro_id_list) - astro_id_center,\n        [1] * len(astro_id_list),\n        s=300,\n        color=\"g\",\n        marker=\"o\",\n        label=\"astrocytes\",\n        zorder=3,\n    )\n    # astrocyte-to-neuron connections\n    for i, (sx, tx) in enumerate(zip(slist_a2n, tlist_a2n)):\n        label = \"astrocyte-to-neuron\" if i == 0 else None\n        axs.plot([sx, tx], [1, 0], linestyle=\"-\", color=\"g\", linewidth=4, label=label)\n    # set legends\n    legend = axs.legend(bbox_to_anchor=(0.5, 1.15), loc=\"upper center\", ncol=3, labelspacing=1.5)\n    legend.set_frame_on(False)\n    # set axes and frames invisible\n    axs.get_xaxis().set_visible(False)\n    axs.get_yaxis().set_visible(False)\n    axs.spines[\"top\"].set_visible(False)\n    axs.spines[\"bottom\"].set_visible(False)\n    axs.spines[\"left\"].set_visible(False)\n    axs.spines[\"right\"].set_visible(False)\n\n\ndef get_plot_data(data_in, variable):\n    \"\"\"Helper function to get times, means, and standard deviations of data for plotting.\n\n    Parameters\n    ---------\n    data_in\n        Data containing the variable to be plotted.\n    Variable\n        Variable to be plotted.\n\n    Return values\n    -------------\n        Times, means, and standard deviations of the variable to be plotted.\n\n    \"\"\"\n    times_all = data_in[\"times\"]\n    ts = list(set(data_in[\"times\"]))\n    means = np.array([np.mean(data_in[variable][times_all == t]) for t in ts])\n    sds = np.array([np.std(data_in[variable][times_all == t]) for t in ts])\n    return ts, means, sds\n\n\ndef plot_vm(pre_data, post_data, start):\n    \"\"\"Plot membrane potentials of presynaptic and postsynaptic neurons.\n\n    Parameters\n    ---------\n    pre_data\n        Data of the presynaptic neurons.\n    post_data\n        Data of the postsynaptic neurons.\n    start\n       Start time of the data to be plotted.\n\n    \"\"\"\n\n    print(\"Plotting V_m ...\")\n    # get presynaptic data\n    pre_times, pre_vm_mean, pre_vm_sd = get_plot_data(pre_data, \"V_m\")\n    # get postsynaptic data\n    post_times, post_vm_mean, post_vm_sd = get_plot_data(post_data, \"V_m\")\n    # set plots\n    fig, axes = plt.subplots(2, 1, sharex=True)\n    color_pre = color_post = \"tab:blue\"\n    # plot presynaptic membrane potential\n    axes[0].set_title(f\"membrane potential of presynaptic neurons (n={len(set(pre_data['senders']))})\")\n    axes[0].set_ylabel(r\"$V_{m}$ (mV)\")\n    axes[0].fill_between(\n        pre_times, pre_vm_mean + pre_vm_sd, pre_vm_mean - pre_vm_sd, alpha=0.3, linewidth=0.0, color=color_pre\n    )\n    axes[0].plot(pre_times, pre_vm_mean, linewidth=2, color=color_pre)\n    # plot postsynaptic  membrane potential\n    axes[1].set_title(f\"membrane potential of postsynaptic neurons (n={len(set(post_data['senders']))})\")\n    axes[1].set_ylabel(r\"$V_{m}$ (mV)\")\n    axes[1].set_xlabel(\"Time (ms)\")\n    axes[1].fill_between(\n        post_times, post_vm_mean + post_vm_sd, post_vm_mean - post_vm_sd, alpha=0.3, linewidth=0.0, color=color_post\n    )\n    axes[1].plot(post_times, post_vm_mean, linewidth=2, color=color_post)\n\n\ndef plot_dynamics(astro_data, neuron_data, start):\n    \"\"\"Plot dynamics in astrocytes and SIC in neurons.\n\n    Parameters\n    ---------\n    astro_data\n        Data of the astrocytes.\n    neuron_data\n        Data of the neurons.\n    start\n       Start time of the data to be plotted.\n\n    \"\"\"\n    print(\"Plotting dynamics ...\")\n    # get astrocyte data\n    astro_times, astro_ip3_mean, astro_ip3_sd = get_plot_data(astro_data, \"IP3\")\n    astro_times, astro_ca_mean, astro_ca_sd = get_plot_data(astro_data, \"Ca\")\n    # get neuron data\n    neuron_times, neuron_sic_mean, neuron_sic_sd = get_plot_data(neuron_data, \"I_SIC\")\n    # set plots\n    fig, axes = plt.subplots(2, 1, sharex=True)\n    color_ip3 = \"tab:blue\"\n    color_cal = \"tab:green\"\n    color_sic = \"tab:purple\"\n    # plot astrocyte data\n    n_astro = len(set(astro_data[\"senders\"]))\n    axes[0].set_title(f\"IP$_{{3}}$ and Ca$^{{2+}}$ in astrocytes (n={n_astro})\")\n    axes[0].set_ylabel(r\"IP$_{3}$ ($\\mu$M)\")\n    axes[0].tick_params(axis=\"y\", labelcolor=color_ip3)\n    axes[0].fill_between(\n        astro_times,\n        astro_ip3_mean + astro_ip3_sd,\n        astro_ip3_mean - astro_ip3_sd,\n        alpha=0.3,\n        linewidth=0.0,\n        color=color_ip3,\n    )\n    axes[0].plot(astro_times, astro_ip3_mean, linewidth=2, color=color_ip3)\n    ax = axes[0].twinx()\n    ax.set_ylabel(r\"Ca$^{2+}$ ($\\mu$M)\")\n    ax.tick_params(axis=\"y\", labelcolor=color_cal)\n    ax.fill_between(\n        astro_times, astro_ca_mean + astro_ca_sd, astro_ca_mean - astro_ca_sd, alpha=0.3, linewidth=0.0, color=color_cal\n    )\n    ax.plot(astro_times, astro_ca_mean, linewidth=2, color=color_cal)\n    # plot neuron data\n    n_neuron = len(set(neuron_data[\"senders\"]))\n    axes[1].set_title(f\"SIC in postsynaptic neurons (n={n_neuron})\")\n    axes[1].set_ylabel(\"SIC (pA)\")\n    axes[1].set_xlabel(\"Time (ms)\")\n    axes[1].fill_between(\n        neuron_times,\n        neuron_sic_mean + neuron_sic_sd,\n        neuron_sic_mean - neuron_sic_sd,\n        alpha=0.3,\n        linewidth=0.0,\n        color=color_sic,\n    )\n    axes[1].plot(neuron_times, neuron_sic_mean, linewidth=2, color=color_sic)"
      ]
    },
    {
      "cell_type": "markdown",
      "metadata": {},
      "source": [
        "Create and connect populations and devices. The neurons and astrocytes are\nconnected with multimeters to record their dynamics.\n\n"
      ]
    },
    {
      "cell_type": "code",
      "execution_count": null,
      "metadata": {
        "collapsed": false
      },
      "outputs": [],
      "source": [
        "pre_neurons = nest.Create(neuron_model, n_neurons, params=neuron_params)\npost_neurons = nest.Create(neuron_model, n_neurons, params=neuron_params)\nastrocytes = nest.Create(astrocyte_model, n_astrocytes, params=astrocyte_params)\nnest.TripartiteConnect(\n    pre_neurons,\n    post_neurons,\n    astrocytes,\n    conn_spec={\n        \"rule\": \"tripartite_bernoulli_with_pool\",\n        \"p_primary\": p_primary,\n        \"p_third_if_primary\": p_third_if_primary,\n        \"pool_size\": pool_size,\n        \"pool_type\": pool_type,\n    },\n    syn_specs={\n        \"primary\": {\"synapse_model\": \"tsodyks_synapse\"},\n        \"third_in\": {\"synapse_model\": \"tsodyks_synapse\"},\n        \"third_out\": {\"synapse_model\": \"sic_connection\"},\n    },\n)\nmm_pre_neurons = nest.Create(\"multimeter\", params={\"record_from\": [\"V_m\"]})\nmm_post_neurons = nest.Create(\"multimeter\", params={\"record_from\": [\"V_m\", \"I_SIC\"]})\nmm_astrocytes = nest.Create(\"multimeter\", params={\"record_from\": [\"IP3\", \"Ca\"]})\nnest.Connect(mm_pre_neurons, pre_neurons)\nnest.Connect(mm_post_neurons, post_neurons)\nnest.Connect(mm_astrocytes, astrocytes)"
      ]
    },
    {
      "cell_type": "markdown",
      "metadata": {},
      "source": [
        "Get connection data. The data are used to plot the network connectivity.\n\n"
      ]
    },
    {
      "cell_type": "code",
      "execution_count": null,
      "metadata": {
        "collapsed": false
      },
      "outputs": [],
      "source": [
        "conns_a2n = nest.GetConnections(astrocytes, post_neurons)\nconns_n2n = nest.GetConnections(pre_neurons, post_neurons)\nconns_n2a = nest.GetConnections(pre_neurons, astrocytes)"
      ]
    },
    {
      "cell_type": "markdown",
      "metadata": {},
      "source": [
        "Run simulation.\n\n"
      ]
    },
    {
      "cell_type": "code",
      "execution_count": null,
      "metadata": {
        "collapsed": false
      },
      "outputs": [],
      "source": [
        "nest.Simulate(1000.0)\nplot_connections(conns_n2n, conns_n2a, conns_a2n, pre_neurons.tolist(), post_neurons.tolist(), astrocytes.tolist())\nplot_vm(mm_pre_neurons.events, mm_post_neurons.events, 0.0)\nplot_dynamics(mm_astrocytes.events, mm_post_neurons.events, 0.0)\nplt.show()"
      ]
    }
  ],
  "metadata": {
    "kernelspec": {
      "display_name": "EBRAINS-23.06",
      "language": "python",
      "name": "ebrains-23.06"
    },
    "language_info": {
      "codemirror_mode": {
        "name": "ipython",
        "version": 3
      },
      "file_extension": ".py",
      "mimetype": "text/x-python",
      "name": "python",
      "nbconvert_exporter": "python",
      "pygments_lexer": "ipython3",
      "version": "3.10.13"
    }
  },
  "nbformat": 4,
  "nbformat_minor": 0
}
