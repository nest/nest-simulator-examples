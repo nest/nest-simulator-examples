{
 "cells": [
  {
   "cell_type": "code",
   "execution_count": null,
   "id": "561af8a6",
   "metadata": {},
   "outputs": [],
   "source": [
    "%matplotlib inline"
   ]
  },
  {
   "cell_type": "code",
   "execution_count": null,
   "id": "1013c19a",
   "metadata": {},
   "outputs": [],
   "source": [
    "#\n",
    "# brette_gerstner_fig_2c.py\n",
    "#\n",
    "# This file is part of NEST.\n",
    "#\n",
    "# Copyright (C) 2004 The NEST Initiative\n",
    "#\n",
    "# NEST is free software: you can redistribute it and/or modify\n",
    "# it under the terms of the GNU General Public License as published by\n",
    "# the Free Software Foundation, either version 2 of the License, or\n",
    "# (at your option) any later version.\n",
    "#\n",
    "# NEST is distributed in the hope that it will be useful,\n",
    "# but WITHOUT ANY WARRANTY; without even the implied warranty of\n",
    "# MERCHANTABILITY or FITNESS FOR A PARTICULAR PURPOSE.  See the\n",
    "# GNU General Public License for more details.\n",
    "#\n",
    "# You should have received a copy of the GNU General Public License\n",
    "# along with NEST.  If not, see <http://www.gnu.org/licenses/>."
   ]
  },
  {
   "cell_type": "markdown",
   "id": "a617d676",
   "metadata": {
    "cell_marker": "\"\"\""
   },
   "source": [
    "Testing the adapting exponential integrate and fire model in NEST (Brette and Gerstner Fig 2C)\n",
    "----------------------------------------------------------------------------------------------\n",
    "\n",
    "This example tests the adaptive integrate and fire model (AdEx) according to\n",
    "Brette and Gerstner [1]_ reproduces Figure 2C of the paper.\n",
    "Note that Brette and Gerstner give the value for `b` in `nA`.\n",
    "To be consistent with the other parameters in the equations, `b` must be\n",
    "converted to `pA` (pico Ampere).\n",
    "\n",
    "References\n",
    "~~~~~~~~~~\n",
    "\n",
    ".. [1] Brette R and Gerstner W (2005). Adaptive exponential integrate-and-fire model as an effective\n",
    "       description of neuronal activity J. Neurophysiology. https://doi.org/10.1152/jn.00686.2005\n"
   ]
  },
  {
   "cell_type": "code",
   "execution_count": null,
   "id": "7b84f075",
   "metadata": {},
   "outputs": [],
   "source": [
    "\n",
    "import matplotlib.pyplot as plt\n",
    "import nest\n",
    "import nest.voltage_trace\n",
    "\n",
    "nest.ResetKernel()"
   ]
  },
  {
   "cell_type": "markdown",
   "id": "4661a607",
   "metadata": {},
   "source": [
    "First we make sure that the resolution of the simulation is 0.1 ms. This is\n",
    "important, since the slop of the action potential is very steep."
   ]
  },
  {
   "cell_type": "code",
   "execution_count": null,
   "id": "f6962c7d",
   "metadata": {},
   "outputs": [],
   "source": [
    "nest.resolution = 0.1\n",
    "neuron = nest.Create(\"aeif_cond_alpha\")"
   ]
  },
  {
   "cell_type": "markdown",
   "id": "e642a25e",
   "metadata": {},
   "source": [
    "`a` and `b` are parameters of the adex model. Their values come from the\n",
    "publication."
   ]
  },
  {
   "cell_type": "code",
   "execution_count": null,
   "id": "17634e38",
   "metadata": {},
   "outputs": [],
   "source": [
    "neuron.set(a=4.0, b=80.5)"
   ]
  },
  {
   "cell_type": "markdown",
   "id": "ee12cb1c",
   "metadata": {},
   "source": [
    "Next we define the stimulus protocol. There are two DC generators,\n",
    "producing stimulus currents during two time-intervals."
   ]
  },
  {
   "cell_type": "code",
   "execution_count": null,
   "id": "b9b2ea18",
   "metadata": {},
   "outputs": [],
   "source": [
    "dc = nest.Create(\"dc_generator\", 2)\n",
    "dc.set(amplitude=[500.0, 800.0], start=[0.0, 500.0], stop=[200.0, 1000.0])"
   ]
  },
  {
   "cell_type": "markdown",
   "id": "657234aa",
   "metadata": {},
   "source": [
    "We connect the DC generators."
   ]
  },
  {
   "cell_type": "code",
   "execution_count": null,
   "id": "4ccdd6d8",
   "metadata": {},
   "outputs": [],
   "source": [
    "nest.Connect(dc, neuron, \"all_to_all\")"
   ]
  },
  {
   "cell_type": "markdown",
   "id": "c82e295e",
   "metadata": {},
   "source": [
    "And add a ``voltmeter`` to sample the membrane potentials from the neuron\n",
    "in intervals of 0.1 ms."
   ]
  },
  {
   "cell_type": "code",
   "execution_count": null,
   "id": "2b540b45",
   "metadata": {},
   "outputs": [],
   "source": [
    "voltmeter = nest.Create(\"voltmeter\", params={\"interval\": 0.1})\n",
    "nest.Connect(voltmeter, neuron)"
   ]
  },
  {
   "cell_type": "markdown",
   "id": "ad163c43",
   "metadata": {},
   "source": [
    "Finally, we simulate for 1000 ms and plot a voltage trace to produce the\n",
    "figure."
   ]
  },
  {
   "cell_type": "code",
   "execution_count": null,
   "id": "faa6b1cd",
   "metadata": {},
   "outputs": [],
   "source": [
    "nest.Simulate(1000.0)\n",
    "\n",
    "nest.voltage_trace.from_device(voltmeter)\n",
    "plt.axis([0, 1000, -80, -20])\n",
    "plt.show()"
   ]
  }
 ],
 "metadata": {
  "jupytext": {
   "cell_metadata_filter": "-all",
   "encoding": "# -*- coding: utf-8 -*-"
  },
  "kernelspec": {
   "display_name": "EBRAINS-24.04",
   "language": "python",
   "name": "ebrains-24.04"
  }
 },
 "nbformat": 4,
 "nbformat_minor": 5
}
