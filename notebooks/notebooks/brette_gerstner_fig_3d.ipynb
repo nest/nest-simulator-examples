{
 "cells": [
  {
   "cell_type": "code",
   "execution_count": null,
   "id": "8fd34a01",
   "metadata": {},
   "outputs": [],
   "source": [
    "%matplotlib inline"
   ]
  },
  {
   "cell_type": "code",
   "execution_count": null,
   "id": "ed82c2b5",
   "metadata": {},
   "outputs": [],
   "source": [
    "#\n",
    "# brette_gerstner_fig_3d.py\n",
    "#\n",
    "# This file is part of NEST.\n",
    "#\n",
    "# Copyright (C) 2004 The NEST Initiative\n",
    "#\n",
    "# NEST is free software: you can redistribute it and/or modify\n",
    "# it under the terms of the GNU General Public License as published by\n",
    "# the Free Software Foundation, either version 2 of the License, or\n",
    "# (at your option) any later version.\n",
    "#\n",
    "# NEST is distributed in the hope that it will be useful,\n",
    "# but WITHOUT ANY WARRANTY; without even the implied warranty of\n",
    "# MERCHANTABILITY or FITNESS FOR A PARTICULAR PURPOSE.  See the\n",
    "# GNU General Public License for more details.\n",
    "#\n",
    "# You should have received a copy of the GNU General Public License\n",
    "# along with NEST.  If not, see <http://www.gnu.org/licenses/>."
   ]
  },
  {
   "cell_type": "markdown",
   "id": "786f94d2",
   "metadata": {
    "cell_marker": "\"\"\""
   },
   "source": [
    "Testing the adapting exponential integrate and fire model in NEST (Brette and Gerstner Fig 3D)\n",
    "----------------------------------------------------------------------------------------------\n",
    "\n",
    "This example tests the adaptive integrate and fire model (AdEx) according to\n",
    "Brette and Gerstner [1]_ reproduces Figure 3D of the paper.\n",
    "\n",
    "Note that Brette and Gerstner give the value for `b` in `nA`.\n",
    "To be consistent with the other parameters in the equations, `b` must be\n",
    "converted to `pA` (pico Ampere).\n",
    "\n",
    "References\n",
    "~~~~~~~~~~\n",
    "\n",
    ".. [1] Brette R and Gerstner W (2005). Adaptive exponential integrate-and-fire model as an effective\n",
    "       description of neuronal activity J. Neurophysiology. https://doi.org/10.1152/jn.00686.2005\n"
   ]
  },
  {
   "cell_type": "code",
   "execution_count": null,
   "id": "31405019",
   "metadata": {},
   "outputs": [],
   "source": [
    "import matplotlib.pyplot as plt\n",
    "import nest\n",
    "import nest.voltage_trace\n",
    "\n",
    "nest.ResetKernel()"
   ]
  },
  {
   "cell_type": "markdown",
   "id": "bbe51171",
   "metadata": {},
   "source": [
    "First we make sure that the resolution of the simulation is 0.1 ms. This is\n",
    "important, since the slop of the action potential is very steep."
   ]
  },
  {
   "cell_type": "code",
   "execution_count": null,
   "id": "5d77083e",
   "metadata": {},
   "outputs": [],
   "source": [
    "nest.resolution = 0.1\n",
    "neuron = nest.Create(\"aeif_cond_exp\")"
   ]
  },
  {
   "cell_type": "markdown",
   "id": "2117a73a",
   "metadata": {},
   "source": [
    "Set the parameters of the neuron according to the paper."
   ]
  },
  {
   "cell_type": "code",
   "execution_count": null,
   "id": "7ba23a2f",
   "metadata": {},
   "outputs": [],
   "source": [
    "neuron.set(V_peak=20.0, E_L=-60.0, a=80.0, b=80.5, tau_w=720.0)"
   ]
  },
  {
   "cell_type": "markdown",
   "id": "d0301fd9",
   "metadata": {},
   "source": [
    "Create and configure the stimulus which is a step current."
   ]
  },
  {
   "cell_type": "code",
   "execution_count": null,
   "id": "ffcc1fc2",
   "metadata": {},
   "outputs": [],
   "source": [
    "dc = nest.Create(\"dc_generator\")\n",
    "\n",
    "dc.set(amplitude=-800.0, start=0.0, stop=400.0)"
   ]
  },
  {
   "cell_type": "markdown",
   "id": "17e25c97",
   "metadata": {},
   "source": [
    "We connect the DC generators."
   ]
  },
  {
   "cell_type": "code",
   "execution_count": null,
   "id": "a8e35b3a",
   "metadata": {},
   "outputs": [],
   "source": [
    "nest.Connect(dc, neuron, \"all_to_all\")"
   ]
  },
  {
   "cell_type": "markdown",
   "id": "26d55ef0",
   "metadata": {},
   "source": [
    "And add a ``voltmeter`` to sample the membrane potentials from the neuron\n",
    "in intervals of 0.1 ms."
   ]
  },
  {
   "cell_type": "code",
   "execution_count": null,
   "id": "71bfc8d0",
   "metadata": {},
   "outputs": [],
   "source": [
    "voltmeter = nest.Create(\"voltmeter\", params={\"interval\": 0.1})\n",
    "nest.Connect(voltmeter, neuron)"
   ]
  },
  {
   "cell_type": "markdown",
   "id": "088b4cf5",
   "metadata": {},
   "source": [
    "Finally, we simulate for 1000 ms and plot a voltage trace to produce the\n",
    "figure."
   ]
  },
  {
   "cell_type": "code",
   "execution_count": null,
   "id": "879407e6",
   "metadata": {},
   "outputs": [],
   "source": [
    "nest.Simulate(1000.0)\n",
    "\n",
    "nest.voltage_trace.from_device(voltmeter)\n",
    "plt.axis([0, 1000, -85, 0])\n",
    "plt.show()"
   ]
  }
 ],
 "metadata": {
  "jupytext": {
   "cell_metadata_filter": "-all",
   "encoding": "# -*- coding: utf-8 -*-",
   "main_language": "python",
   "notebook_metadata_filter": "-all"
  },
  "kernelspec": {
   "display_name": "EBRAINS-experimental",
   "language": "python",
   "name": "ebrains-experimental"
  }
 },
 "nbformat": 4,
 "nbformat_minor": 5
}