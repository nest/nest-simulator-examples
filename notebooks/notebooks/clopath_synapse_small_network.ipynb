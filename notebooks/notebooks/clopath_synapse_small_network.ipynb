{
 "cells": [
  {
   "cell_type": "code",
   "execution_count": null,
   "id": "6d8b9a96",
   "metadata": {},
   "outputs": [],
   "source": [
    "%matplotlib inline"
   ]
  },
  {
   "cell_type": "code",
   "execution_count": null,
   "id": "82a21d33",
   "metadata": {},
   "outputs": [],
   "source": [
    "#\n",
    "# clopath_synapse_small_network.py\n",
    "#\n",
    "# This file is part of NEST.\n",
    "#\n",
    "# Copyright (C) 2004 The NEST Initiative\n",
    "#\n",
    "# NEST is free software: you can redistribute it and/or modify\n",
    "# it under the terms of the GNU General Public License as published by\n",
    "# the Free Software Foundation, either version 2 of the License, or\n",
    "# (at your option) any later version.\n",
    "#\n",
    "# NEST is distributed in the hope that it will be useful,\n",
    "# but WITHOUT ANY WARRANTY; without even the implied warranty of\n",
    "# MERCHANTABILITY or FITNESS FOR A PARTICULAR PURPOSE.  See the\n",
    "# GNU General Public License for more details.\n",
    "#\n",
    "# You should have received a copy of the GNU General Public License\n",
    "# along with NEST.  If not, see <http://www.gnu.org/licenses/>."
   ]
  },
  {
   "cell_type": "markdown",
   "id": "94f07e61",
   "metadata": {
    "cell_marker": "\"\"\""
   },
   "source": [
    "Clopath Rule: Bidirectional connections\n",
    "---------------------------------------\n",
    "\n",
    "This script simulates a small network of ten excitatory and three\n",
    "inhibitory ``aeif_psc_delta_clopath`` neurons. The neurons are randomly connected\n",
    "and driven by 500 Poisson generators. The synapses from the Poisson generators\n",
    "to the excitatory population and those among the neurons of the network\n",
    "are Clopath synapses. The rate of the Poisson generators is modulated with\n",
    "a Gaussian profile whose center shifts randomly each 100 ms between ten\n",
    "equally spaced positions.\n",
    "This setup demonstrates that the Clopath synapse is able to establish\n",
    "bidirectional connections. The example is adapted from [1]_ (cf. fig. 5).\n",
    "\n",
    "References\n",
    "~~~~~~~~~~\n",
    "\n",
    ".. [1] Clopath C, Büsing L, Vasilaki E, Gerstner W (2010). Connectivity reflects coding:\n",
    "       a model of voltage-based STDP with homeostasis.\n",
    "       Nature Neuroscience 13:3, 344--352"
   ]
  },
  {
   "cell_type": "code",
   "execution_count": null,
   "id": "04a87f69",
   "metadata": {},
   "outputs": [],
   "source": [
    "import random\n",
    "\n",
    "import matplotlib.pyplot as plt\n",
    "import nest\n",
    "import numpy as np"
   ]
  },
  {
   "cell_type": "markdown",
   "id": "17cc424a",
   "metadata": {
    "cell_marker": "##############################################################################"
   },
   "source": [
    "Set the parameters"
   ]
  },
  {
   "cell_type": "code",
   "execution_count": null,
   "id": "42d2e656",
   "metadata": {},
   "outputs": [],
   "source": [
    "simulation_time = 1.0e4\n",
    "resolution = 0.1\n",
    "delay = resolution\n",
    "\n",
    "# Poisson_generator parameters\n",
    "pg_A = 30.0  # amplitude of Gaussian\n",
    "pg_sigma = 10.0  # std deviation\n",
    "\n",
    "nest.ResetKernel()\n",
    "nest.resolution = resolution\n",
    "\n",
    "# Create neurons and devices\n",
    "nrn_model = \"aeif_psc_delta_clopath\"\n",
    "nrn_params = {\n",
    "    \"V_m\": -30.6,\n",
    "    \"g_L\": 30.0,\n",
    "    \"w\": 0.0,\n",
    "    \"tau_u_bar_plus\": 7.0,\n",
    "    \"tau_u_bar_minus\": 10.0,\n",
    "    \"tau_w\": 144.0,\n",
    "    \"a\": 4.0,\n",
    "    \"C_m\": 281.0,\n",
    "    \"Delta_T\": 2.0,\n",
    "    \"V_peak\": 20.0,\n",
    "    \"t_clamp\": 2.0,\n",
    "    \"A_LTP\": 8.0e-6,\n",
    "    \"A_LTD\": 14.0e-6,\n",
    "    \"A_LTD_const\": False,\n",
    "    \"b\": 0.0805,\n",
    "    \"u_ref_squared\": 60.0**2,\n",
    "}\n",
    "\n",
    "pop_exc = nest.Create(nrn_model, 10, nrn_params)\n",
    "pop_inh = nest.Create(nrn_model, 3, nrn_params)"
   ]
  },
  {
   "cell_type": "markdown",
   "id": "c37a96e8",
   "metadata": {
    "cell_marker": "##############################################################################"
   },
   "source": [
    "We need parrot neurons since Poisson generators can only be connected\n",
    "with static connections"
   ]
  },
  {
   "cell_type": "code",
   "execution_count": null,
   "id": "3b9c1346",
   "metadata": {},
   "outputs": [],
   "source": [
    "pop_input = nest.Create(\"parrot_neuron\", 500)  # helper neurons\n",
    "pg = nest.Create(\"poisson_generator\", 500)\n",
    "wr = nest.Create(\"weight_recorder\")"
   ]
  },
  {
   "cell_type": "markdown",
   "id": "8a7e8250",
   "metadata": {
    "cell_marker": "##############################################################################",
    "lines_to_next_cell": 0
   },
   "source": [
    "First connect Poisson generators to helper neurons"
   ]
  },
  {
   "cell_type": "code",
   "execution_count": null,
   "id": "65f52ce0",
   "metadata": {},
   "outputs": [],
   "source": [
    "nest.Connect(pg, pop_input, \"one_to_one\", {\"synapse_model\": \"static_synapse\", \"weight\": 1.0, \"delay\": delay})"
   ]
  },
  {
   "cell_type": "markdown",
   "id": "e4aab79d",
   "metadata": {
    "cell_marker": "##############################################################################"
   },
   "source": [
    "Create all the connections"
   ]
  },
  {
   "cell_type": "code",
   "execution_count": null,
   "id": "415926df",
   "metadata": {},
   "outputs": [],
   "source": [
    "nest.CopyModel(\"clopath_synapse\", \"clopath_input_to_exc\", {\"Wmax\": 3.0})\n",
    "conn_dict_input_to_exc = {\"rule\": \"all_to_all\"}\n",
    "syn_dict_input_to_exc = {\n",
    "    \"synapse_model\": \"clopath_input_to_exc\",\n",
    "    \"weight\": nest.random.uniform(0.5, 2.0),\n",
    "    \"delay\": delay,\n",
    "}\n",
    "nest.Connect(pop_input, pop_exc, conn_dict_input_to_exc, syn_dict_input_to_exc)\n",
    "\n",
    "# Create input->inh connections\n",
    "conn_dict_input_to_inh = {\"rule\": \"all_to_all\"}\n",
    "syn_dict_input_to_inh = {\"synapse_model\": \"static_synapse\", \"weight\": nest.random.uniform(0.0, 0.5), \"delay\": delay}\n",
    "nest.Connect(pop_input, pop_inh, conn_dict_input_to_inh, syn_dict_input_to_inh)\n",
    "\n",
    "# Create exc->exc connections\n",
    "nest.CopyModel(\"clopath_synapse\", \"clopath_exc_to_exc\", {\"Wmax\": 0.75, \"weight_recorder\": wr})\n",
    "syn_dict_exc_to_exc = {\"synapse_model\": \"clopath_exc_to_exc\", \"weight\": 0.25, \"delay\": delay}\n",
    "conn_dict_exc_to_exc = {\"rule\": \"all_to_all\", \"allow_autapses\": False}\n",
    "nest.Connect(pop_exc, pop_exc, conn_dict_exc_to_exc, syn_dict_exc_to_exc)\n",
    "\n",
    "# Create exc->inh connections\n",
    "syn_dict_exc_to_inh = {\"synapse_model\": \"static_synapse\", \"weight\": 1.0, \"delay\": delay}\n",
    "conn_dict_exc_to_inh = {\"rule\": \"fixed_indegree\", \"indegree\": 8}\n",
    "nest.Connect(pop_exc, pop_inh, conn_dict_exc_to_inh, syn_dict_exc_to_inh)\n",
    "\n",
    "# Create inh->exc connections\n",
    "syn_dict_inh_to_exc = {\"synapse_model\": \"static_synapse\", \"weight\": 1.0, \"delay\": delay}\n",
    "conn_dict_inh_to_exc = {\"rule\": \"fixed_outdegree\", \"outdegree\": 6}\n",
    "nest.Connect(pop_inh, pop_exc, conn_dict_inh_to_exc, syn_dict_inh_to_exc)"
   ]
  },
  {
   "cell_type": "markdown",
   "id": "4d7e239c",
   "metadata": {
    "cell_marker": "##############################################################################"
   },
   "source": [
    "Randomize the initial membrane potential"
   ]
  },
  {
   "cell_type": "code",
   "execution_count": null,
   "id": "6cdffa87",
   "metadata": {},
   "outputs": [],
   "source": [
    "pop_exc.V_m = nest.random.normal(-60.0, 25.0)\n",
    "pop_inh.V_m = nest.random.normal(-60.0, 25.0)"
   ]
  },
  {
   "cell_type": "markdown",
   "id": "0a50b735",
   "metadata": {
    "cell_marker": "##############################################################################"
   },
   "source": [
    "Simulation divided into intervals of 100ms for shifting the Gaussian"
   ]
  },
  {
   "cell_type": "code",
   "execution_count": null,
   "id": "0047c7ca",
   "metadata": {},
   "outputs": [],
   "source": [
    "sim_interval = 100.0\n",
    "for i in range(int(simulation_time / sim_interval)):\n",
    "    # set rates of poisson generators\n",
    "    rates = np.empty(500)\n",
    "    # pg_mu will be randomly chosen out of 25,75,125,...,425,475\n",
    "    pg_mu = 25 + random.randint(0, 9) * 50\n",
    "    for j in range(500):\n",
    "        rates[j] = pg_A * np.exp((-1 * (j - pg_mu) ** 2) / (2 * pg_sigma**2))\n",
    "        pg[j].rate = rates[j] * 1.75\n",
    "    nest.Simulate(sim_interval)"
   ]
  },
  {
   "cell_type": "markdown",
   "id": "bbddd13c",
   "metadata": {
    "cell_marker": "##############################################################################"
   },
   "source": [
    "Plot results"
   ]
  },
  {
   "cell_type": "code",
   "execution_count": null,
   "id": "d283c7a9",
   "metadata": {},
   "outputs": [],
   "source": [
    "fig, ax = plt.subplots(1, sharex=False)\n",
    "\n",
    "# Plot synapse weights of the synapses within the excitatory population\n",
    "# Sort weights according to sender and reshape\n",
    "exc_conns = nest.GetConnections(pop_exc, pop_exc)\n",
    "exc_conns_senders = np.array(exc_conns.source)\n",
    "exc_conns_targets = np.array(exc_conns.target)\n",
    "exc_conns_weights = np.array(exc_conns.weight)\n",
    "idx_array = np.argsort(exc_conns_senders)\n",
    "targets = np.reshape(exc_conns_targets[idx_array], (10, 10 - 1))\n",
    "weights = np.reshape(exc_conns_weights[idx_array], (10, 10 - 1))\n",
    "\n",
    "# Sort according to target\n",
    "for i, (trgs, ws) in enumerate(zip(targets, weights)):\n",
    "    idx_array = np.argsort(trgs)\n",
    "    weights[i] = ws[idx_array]\n",
    "\n",
    "weight_matrix = np.zeros((10, 10))\n",
    "tu9 = np.triu_indices_from(weights)\n",
    "tl9 = np.tril_indices_from(weights, -1)\n",
    "tu10 = np.triu_indices_from(weight_matrix, 1)\n",
    "tl10 = np.tril_indices_from(weight_matrix, -1)\n",
    "weight_matrix[tu10[0], tu10[1]] = weights[tu9[0], tu9[1]]\n",
    "weight_matrix[tl10[0], tl10[1]] = weights[tl9[0], tl9[1]]\n",
    "\n",
    "# Difference between initial and final value\n",
    "init_w_matrix = np.ones((10, 10)) * 0.25\n",
    "init_w_matrix -= np.identity(10) * 0.25\n",
    "\n",
    "cax = ax.imshow(weight_matrix - init_w_matrix)\n",
    "cbarB = fig.colorbar(cax, ax=ax)\n",
    "ax.set_xticks([0, 2, 4, 6, 8])\n",
    "ax.set_xticklabels([\"1\", \"3\", \"5\", \"7\", \"9\"])\n",
    "ax.set_yticks([0, 2, 4, 6, 8])\n",
    "ax.set_xticklabels([\"1\", \"3\", \"5\", \"7\", \"9\"])\n",
    "ax.set_xlabel(\"to neuron\")\n",
    "ax.set_ylabel(\"from neuron\")\n",
    "ax.set_title(\"Change of syn weights before and after simulation\")\n",
    "plt.show()"
   ]
  }
 ],
 "metadata": {
  "jupytext": {
   "cell_metadata_filter": "-all",
   "encoding": "# -*- coding: utf-8 -*-",
   "main_language": "python",
   "notebook_metadata_filter": "-all"
  },
  "kernelspec": {
   "display_name": "EBRAINS-experimental",
   "language": "python",
   "name": "ebrains-experimental"
  }
 },
 "nbformat": 4,
 "nbformat_minor": 5
}