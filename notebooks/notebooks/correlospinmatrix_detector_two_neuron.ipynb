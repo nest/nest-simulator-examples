{
 "cells": [
  {
   "cell_type": "markdown",
   "id": "636d58e9",
   "metadata": {},
   "source": [
    "\n",
    "correlospinmatrix_detector_two_neuron.py\n",
    "\n",
    "This file is part of NEST.\n",
    "\n",
    "Copyright (C) 2004 The NEST Initiative\n",
    "\n",
    "NEST is free software: you can redistribute it and/or modify\n",
    "it under the terms of the GNU General Public License as published by\n",
    "the Free Software Foundation, either version 2 of the License, or\n",
    "(at your option) any later version.\n",
    "\n",
    "NEST is distributed in the hope that it will be useful,\n",
    "but WITHOUT ANY WARRANTY; without even the implied warranty of\n",
    "MERCHANTABILITY or FITNESS FOR A PARTICULAR PURPOSE.  See the\n",
    "GNU General Public License for more details.\n",
    "\n",
    "You should have received a copy of the GNU General Public License\n",
    "along with NEST.  If not, see <http://www.gnu.org/licenses/>."
   ]
  },
  {
   "cell_type": "code",
   "execution_count": null,
   "id": "2adb9be8",
   "metadata": {},
   "outputs": [],
   "source": [
    "\"\"\"\n",
    "Correlospinmatrix detector example\n",
    "----------------------------------\n",
    "\n",
    "This scripts simulates two connected binary neurons, similar\n",
    "as in [1]_. It measures and plots the auto- and cross covariance functions\n",
    "of the individual neurons and between them, respectively.\n",
    "\n",
    "References\n",
    "~~~~~~~~~~\n",
    "\n",
    ".. [1] Ginzburg and Sompolinsky (1994). Theory of correlations in stochastic neural networks. 50(4) p. 3175. Fig. 1.\n",
    "\n",
    "\"\"\""
   ]
  },
  {
   "cell_type": "code",
   "execution_count": null,
   "id": "e12757b7",
   "metadata": {},
   "outputs": [],
   "source": [
    "import matplotlib.pyplot as plt\n",
    "import nest\n",
    "import numpy as np"
   ]
  },
  {
   "cell_type": "code",
   "execution_count": null,
   "id": "f2dc882b",
   "metadata": {},
   "outputs": [],
   "source": [
    "m_x = 0.5\n",
    "tau_m = 10.0\n",
    "h = 0.1\n",
    "T = 1000000.0\n",
    "tau_max = 100.0"
   ]
  },
  {
   "cell_type": "code",
   "execution_count": null,
   "id": "5a4e8218",
   "metadata": {},
   "outputs": [],
   "source": [
    "csd = nest.Create(\"correlospinmatrix_detector\")\n",
    "csd.set(N_channels=2, tau_max=tau_max, Tstart=tau_max, delta_tau=h)"
   ]
  },
  {
   "cell_type": "code",
   "execution_count": null,
   "id": "720f74ae",
   "metadata": {},
   "outputs": [],
   "source": [
    "n1 = nest.Create(\"ginzburg_neuron\")\n",
    "n1.set(theta=0.0, tau_m=tau_m, c_1=0.0, c_2=2.0 * m_x, c_3=1.0)"
   ]
  },
  {
   "cell_type": "code",
   "execution_count": null,
   "id": "9d0da6c1",
   "metadata": {},
   "outputs": [],
   "source": [
    "n2 = nest.Create(\"mcculloch_pitts_neuron\")\n",
    "n2.set(theta=0.5, tau_m=tau_m)"
   ]
  },
  {
   "cell_type": "code",
   "execution_count": null,
   "id": "84bbe08a",
   "metadata": {},
   "outputs": [],
   "source": [
    "nest.Connect(n1, n2, syn_spec={\"weight\": 1.0})"
   ]
  },
  {
   "cell_type": "code",
   "execution_count": null,
   "id": "bd6de7ea",
   "metadata": {},
   "outputs": [],
   "source": [
    "nest.Connect(n1, csd, syn_spec={\"receptor_type\": 0})\n",
    "nest.Connect(n2, csd, syn_spec={\"receptor_type\": 1})"
   ]
  },
  {
   "cell_type": "code",
   "execution_count": null,
   "id": "fc01fa42",
   "metadata": {},
   "outputs": [],
   "source": [
    "nest.Simulate(T)"
   ]
  },
  {
   "cell_type": "code",
   "execution_count": null,
   "id": "02a2ed5a",
   "metadata": {},
   "outputs": [],
   "source": [
    "count_covariance = csd.count_covariance"
   ]
  },
  {
   "cell_type": "code",
   "execution_count": null,
   "id": "3aaeadd5",
   "metadata": {},
   "outputs": [],
   "source": [
    "mean_activities = np.zeros(2, dtype=np.float)\n",
    "for i in range(2):\n",
    "    mean_activities[i] = count_covariance[i][i][int(tau_max / h)] * (h / T)"
   ]
  },
  {
   "cell_type": "code",
   "execution_count": null,
   "id": "7cf53660",
   "metadata": {},
   "outputs": [],
   "source": [
    "print(\"mean activities =\", mean_activities)"
   ]
  },
  {
   "cell_type": "code",
   "execution_count": null,
   "id": "500d6866",
   "metadata": {},
   "outputs": [],
   "source": [
    "covariance_matrix = np.zeros((2, 2, int(2 * tau_max / h) + 1), dtype=np.float)\n",
    "for i in range(2):\n",
    "    for j in range(2):\n",
    "        covariance_matrix[i, j] = count_covariance[i][j] * (h / T) - mean_activities[i] * mean_activities[j]"
   ]
  },
  {
   "cell_type": "code",
   "execution_count": null,
   "id": "9422f047",
   "metadata": {},
   "outputs": [],
   "source": [
    "ts = np.arange(-tau_max, tau_max + h, h)"
   ]
  },
  {
   "cell_type": "code",
   "execution_count": null,
   "id": "ad0aa395",
   "metadata": {},
   "outputs": [],
   "source": [
    "plt.title(\"auto- and cross covariance functions\")"
   ]
  },
  {
   "cell_type": "code",
   "execution_count": null,
   "id": "232cf963",
   "metadata": {},
   "outputs": [],
   "source": [
    "plt.plot(ts, covariance_matrix[0, 1], \"r\", label=r\"$c_{12}$\")\n",
    "plt.plot(ts, covariance_matrix[1, 0], \"b\", label=r\"$c_{21}$\")\n",
    "plt.plot(ts, covariance_matrix[0, 0], \"g\", label=r\"$c_{11}$\")\n",
    "plt.plot(ts, covariance_matrix[1, 1], \"y\", label=r\"$c_{22}$\")\n",
    "plt.xlabel(r\"time $t \\; \\mathrm{ms}$\")\n",
    "plt.ylabel(r\"$c$\")\n",
    "plt.legend()"
   ]
  },
  {
   "cell_type": "code",
   "execution_count": null,
   "id": "1b859e31",
   "metadata": {},
   "outputs": [],
   "source": [
    "plt.show()"
   ]
  }
 ],
 "metadata": {
  "jupytext": {
   "cell_metadata_filter": "-all",
   "encoding": "# -*- coding: utf-8 -*-",
   "main_language": "python",
   "notebook_metadata_filter": "-all"
  },
  "kernelspec": {
   "display_name": "EBRAINS-experimental",
   "language": "python",
   "name": "ebrains-experimental"
  }
 },
 "nbformat": 4,
 "nbformat_minor": 5
}