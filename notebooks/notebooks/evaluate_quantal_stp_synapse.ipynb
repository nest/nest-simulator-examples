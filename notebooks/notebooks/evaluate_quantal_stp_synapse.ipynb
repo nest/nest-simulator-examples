{
 "cells": [
  {
   "cell_type": "code",
   "execution_count": null,
   "id": "32b3d979",
   "metadata": {},
   "outputs": [],
   "source": [
    "%matplotlib inline"
   ]
  },
  {
   "cell_type": "code",
   "execution_count": null,
   "id": "60b628c0",
   "metadata": {},
   "outputs": [],
   "source": [
    "#\n",
    "# evaluate_quantal_stp_synapse.py\n",
    "#\n",
    "# This file is part of NEST.\n",
    "#\n",
    "# Copyright (C) 2004 The NEST Initiative\n",
    "#\n",
    "# NEST is free software: you can redistribute it and/or modify\n",
    "# it under the terms of the GNU General Public License as published by\n",
    "# the Free Software Foundation, either version 2 of the License, or\n",
    "# (at your option) any later version.\n",
    "#\n",
    "# NEST is distributed in the hope that it will be useful,\n",
    "# but WITHOUT ANY WARRANTY; without even the implied warranty of\n",
    "# MERCHANTABILITY or FITNESS FOR A PARTICULAR PURPOSE.  See the\n",
    "# GNU General Public License for more details.\n",
    "#\n",
    "# You should have received a copy of the GNU General Public License\n",
    "# along with NEST.  If not, see <http://www.gnu.org/licenses/>."
   ]
  },
  {
   "cell_type": "markdown",
   "id": "0d4f4c49",
   "metadata": {
    "cell_marker": "\"\"\""
   },
   "source": [
    "Example for the quantal_stp_synapse\n",
    "-----------------------------------\n",
    "\n",
    "The ``quantal_stp_synapse`` is a stochastic version of the Tsodys-Markram model\n",
    "for synaptic short term plasticity (STP).\n",
    "This script compares the two variants of the Tsodyks/Markram synapse in NEST.\n",
    "\n",
    "This synapse model implements synaptic short-term depression and short-term\n",
    "facilitation according to the quantal release model described by Fuhrmann et\n",
    "al. [1]_ and Loebel et al. [2]_.\n",
    "\n",
    "Each presynaptic spike will stochastically activate a fraction of the\n",
    "available release sites.  This fraction is binomially distributed and the\n",
    "release probability per site is governed by the Fuhrmann et al. (2002) model.\n",
    "The solution of the differential equations is taken from Maass and Markram\n",
    "2002 [3]_.\n",
    "\n",
    "The connection weight is interpreted as the maximal weight that can be\n",
    "obtained if all n release sites are activated.\n",
    "\n",
    "Parameters\n",
    "~~~~~~~~~~\n",
    "\n",
    "The following parameters can be set in the status dictionary:\n",
    "\n",
    "* U         - Maximal fraction of available resources [0,1], default=0.5\n",
    "* u         - available fraction of resources [0,1], default=0.5\n",
    "* p         - probability that a vesicle is available, default = 1.0\n",
    "* n         - total number of release sites, default = 1\n",
    "* a         - number of available release sites, default = n\n",
    "* tau_rec   - time constant for depression in ms, default=800 ms\n",
    "* tau_rec   - time constant for facilitation in ms, default=0 (off)\n",
    "\n",
    "\n",
    "References\n",
    "~~~~~~~~~~\n",
    "\n",
    ".. [1] Fuhrmann G, Segev I, Markram H, and Tsodyks MV. (2002). Coding of\n",
    "       temporal information by activity-dependent synapses. Journal of\n",
    "       Neurophysiology, 8. https://doi.org/10.1152/jn.00258.2001\n",
    ".. [2] Loebel, A., Silberberg, G., Helbig, D., Markram, H., Tsodyks,\n",
    "       M. V, & Richardson, M. J. E. (2009). Multiquantal release underlies\n",
    "       the distribution of synaptic efficacies in the neocortex. Frontiers\n",
    "       in Computational Neuroscience, 3:27. doi:10.3389/neuro.10.027.\n",
    ".. [3] Maass W, and Markram H. (2002). Synapses as dynamic memory buffers.\n",
    "       Neural Networks, 15(2), 155-161.\n",
    "       http://dx.doi.org/10.1016/S0893-6080(01)00144-7\n"
   ]
  },
  {
   "cell_type": "code",
   "execution_count": null,
   "id": "59e7492b",
   "metadata": {},
   "outputs": [],
   "source": [
    "import matplotlib.pyplot as plt\n",
    "import nest"
   ]
  },
  {
   "cell_type": "markdown",
   "id": "a2745061",
   "metadata": {
    "cell_marker": "################################################################################"
   },
   "source": [
    "On average, the ``quantal_stp_synapse`` converges to the ``tsodyks2_synapse``,\n",
    "so we can compare the two by running multiple trials.\n",
    "\n",
    "First we define simulation time step and random seed"
   ]
  },
  {
   "cell_type": "code",
   "execution_count": null,
   "id": "538d0730",
   "metadata": {},
   "outputs": [],
   "source": [
    "resolution = 0.1  # [ms]\n",
    "seed = 12345\n",
    "\n",
    "# We define the number of trials as well as the number of release sites.\n",
    "\n",
    "n_sites = 10  # number of synaptic release sites\n",
    "n_trials = 500  # number of measurement trials\n",
    "\n",
    "# The pre-synaptic neuron is driven by an injected current for a part of each\n",
    "# simulation cycle. We define here the parameters for this stimulation cycle.\n",
    "\n",
    "I_stim = 376.0  # [pA] stimulation current\n",
    "T_on = 500.0  # [ms] stimulation is on\n",
    "T_off = 1000.0  # [ms] stimulation is off\n",
    "\n",
    "T_cycle = T_on + T_off  # total duration of each stimulation cycle"
   ]
  },
  {
   "cell_type": "markdown",
   "id": "7f0075ae",
   "metadata": {},
   "source": [
    "Next, we define parameter sets for facilitation and initial weight."
   ]
  },
  {
   "cell_type": "code",
   "execution_count": null,
   "id": "5918e3ef",
   "metadata": {},
   "outputs": [],
   "source": [
    "fac_params = {\"U\": 0.02, \"u\": 0.02, \"tau_fac\": 500.0, \"tau_rec\": 200.0, \"weight\": 1.0}"
   ]
  },
  {
   "cell_type": "markdown",
   "id": "68d32cfa",
   "metadata": {},
   "source": [
    "Then, we assign the parameter set to the synapse models"
   ]
  },
  {
   "cell_type": "code",
   "execution_count": null,
   "id": "3fea17fa",
   "metadata": {},
   "outputs": [],
   "source": [
    "tsyn_params = fac_params  # for tsodyks2_synapse\n",
    "qsyn_params = tsyn_params.copy()  # for quantal_stp_synapse\n",
    "\n",
    "tsyn_params[\"x\"] = tsyn_params[\"U\"]\n",
    "qsyn_params[\"n\"] = n_sites"
   ]
  },
  {
   "cell_type": "markdown",
   "id": "828e7bd9",
   "metadata": {},
   "source": [
    "To make the responses comparable, we have to scale the weight by the\n",
    "number of release sites."
   ]
  },
  {
   "cell_type": "code",
   "execution_count": null,
   "id": "3f19a9d8",
   "metadata": {},
   "outputs": [],
   "source": [
    "qsyn_params[\"weight\"] = 1.0 / n_sites"
   ]
  },
  {
   "cell_type": "markdown",
   "id": "f2866b9a",
   "metadata": {},
   "source": [
    "We reset NEST to have a well-defined starting point,\n",
    "make NEST less verbose, and set some kernel attributes."
   ]
  },
  {
   "cell_type": "code",
   "execution_count": null,
   "id": "76570a40",
   "metadata": {},
   "outputs": [],
   "source": [
    "nest.ResetKernel()\n",
    "nest.set_verbosity(\"M_ERROR\")\n",
    "nest.resolution = resolution\n",
    "nest.rng_seed = seed"
   ]
  },
  {
   "cell_type": "markdown",
   "id": "ce9ea712",
   "metadata": {},
   "source": [
    "We create three different neurons.\n",
    "Neuron one is the sender, the two other neurons receive the synapses.\n",
    "We exploit Python's unpacking mechanism to assign the neurons to named\n",
    "variables directly."
   ]
  },
  {
   "cell_type": "code",
   "execution_count": null,
   "id": "48cd3b2d",
   "metadata": {},
   "outputs": [],
   "source": [
    "pre_neuron, tsyn_neuron, qsyn_neuron = nest.Create(\"iaf_psc_exp\", params={\"tau_syn_ex\": 3.0}, n=3)"
   ]
  },
  {
   "cell_type": "markdown",
   "id": "4fc8b27d",
   "metadata": {},
   "source": [
    "We create two voltmeters, one for each of the postsynaptic neurons.\n",
    "We start recording only after a first cycle, which is used for equilibration."
   ]
  },
  {
   "cell_type": "code",
   "execution_count": null,
   "id": "318c5cb9",
   "metadata": {},
   "outputs": [],
   "source": [
    "tsyn_voltmeter, qsyn_voltmeter = nest.Create(\"voltmeter\", params={\"start\": T_cycle, \"interval\": resolution}, n=2)"
   ]
  },
  {
   "cell_type": "markdown",
   "id": "4809d5e0",
   "metadata": {},
   "source": [
    "Connect one neuron with the deterministic tsodyks2 synapse and the other neuron\n",
    "with the stochastic quantal stp synapse; then, connect a voltmeter to each neuron.\n",
    "Here, ``**tsyn_params`` inserts the content of the ``tsyn_params`` dict into the\n",
    "dict passed to ``syn_spec``."
   ]
  },
  {
   "cell_type": "code",
   "execution_count": null,
   "id": "27273c69",
   "metadata": {},
   "outputs": [],
   "source": [
    "nest.Connect(pre_neuron, tsyn_neuron, syn_spec={\"synapse_model\": \"tsodyks2_synapse\", **tsyn_params})\n",
    "\n",
    "# For technical reasons, we currently must set the parameters of the\n",
    "# quantal_stp_synapse via default values. This will change in a future version\n",
    "# of NEST.\n",
    "nest.SetDefaults(\"quantal_stp_synapse\", qsyn_params)\n",
    "nest.Connect(pre_neuron, qsyn_neuron, syn_spec={\"synapse_model\": \"quantal_stp_synapse\"})\n",
    "\n",
    "nest.Connect(tsyn_voltmeter, tsyn_neuron)\n",
    "nest.Connect(qsyn_voltmeter, qsyn_neuron)"
   ]
  },
  {
   "cell_type": "markdown",
   "id": "8a2068e7",
   "metadata": {},
   "source": [
    "This loop runs over the `n_trials` trials and performs a standard protocol\n",
    "of a high-rate response, followed by a pause and then a recovery response.\n",
    "\n",
    "We actually run over ``n_trials + 1`` rounds, since the first trial is for\n",
    "equilibration and is not recorded (see voltmeter parameters above).\n",
    "\n",
    "We use the NEST ``:class:.RunManager`` to improve performance and call ``:func:.Run``\n",
    "inside for each part of the simulation.\n",
    "\n",
    "We print a line of breadcrumbs to indicate progress."
   ]
  },
  {
   "cell_type": "code",
   "execution_count": null,
   "id": "755cb8e1",
   "metadata": {},
   "outputs": [],
   "source": [
    "print(f\"Simulating {n_trials} times \", end=\"\", flush=True)\n",
    "with nest.RunManager():\n",
    "    for t in range(n_trials + 1):\n",
    "        pre_neuron.I_e = I_stim\n",
    "        nest.Run(T_on)\n",
    "\n",
    "        pre_neuron.I_e = 0.0\n",
    "        nest.Run(T_off)\n",
    "\n",
    "        if t % 10 == 0:\n",
    "            print(\".\", end=\"\", flush=True)\n",
    "print()"
   ]
  },
  {
   "cell_type": "markdown",
   "id": "b18bd545",
   "metadata": {
    "lines_to_next_cell": 0
   },
   "source": [
    "Simulate one additional time step. This ensures that the\n",
    "voltage traces for all trials, including the last, have the full length, so we\n",
    "can easily transform them into a matrix below."
   ]
  },
  {
   "cell_type": "code",
   "execution_count": null,
   "id": "71ee7895",
   "metadata": {},
   "outputs": [],
   "source": [
    "nest.Simulate(nest.resolution)"
   ]
  },
  {
   "cell_type": "markdown",
   "id": "91068f17",
   "metadata": {
    "lines_to_next_cell": 0
   },
   "source": [
    "Extract voltage traces and reshape the matrix with one column per trial\n",
    "and one row per time step. NEST returns results as NumPy arrays.\n",
    "We extract times only once and keep only times for a single trial."
   ]
  },
  {
   "cell_type": "code",
   "execution_count": null,
   "id": "436af569",
   "metadata": {},
   "outputs": [],
   "source": [
    "vm_tsyn = tsyn_voltmeter.get(\"events\", \"V_m\")\n",
    "vm_qsyn = qsyn_voltmeter.get(\"events\", \"V_m\")\n",
    "\n",
    "steps_per_trial = round(T_cycle / tsyn_voltmeter.get(\"interval\"))\n",
    "vm_tsyn.shape = (n_trials, steps_per_trial)\n",
    "vm_qsyn.shape = (n_trials, steps_per_trial)\n",
    "\n",
    "t_vm = tsyn_voltmeter.get(\"events\", \"times\")\n",
    "t_trial = t_vm[:steps_per_trial]"
   ]
  },
  {
   "cell_type": "markdown",
   "id": "7e4a0bf4",
   "metadata": {},
   "source": [
    "Now compute the mean of all trials and plot against trials and references."
   ]
  },
  {
   "cell_type": "code",
   "execution_count": null,
   "id": "3e7779ef",
   "metadata": {},
   "outputs": [],
   "source": [
    "vm_tsyn_mean = vm_tsyn.mean(axis=0)\n",
    "vm_qsyn_mean = vm_qsyn.mean(axis=0)\n",
    "rms_error = ((vm_tsyn_mean - vm_qsyn_mean) ** 2).mean() ** 0.5\n",
    "\n",
    "plt.plot(t_trial, vm_tsyn_mean, lw=2, alpha=0.7, label=\"Tsodyks-2 synapse (deterministic)\")\n",
    "plt.plot(t_trial, vm_qsyn_mean, lw=2, alpha=0.7, label=\"Quantal STP synapse (stochastic)\")\n",
    "plt.xlabel(\"Time [ms]\")\n",
    "plt.ylabel(\"Membrane potential [mV]\")\n",
    "plt.title(\"Comparison of deterministic and stochastic plasicity rules\")\n",
    "plt.text(\n",
    "    0.95,\n",
    "    0.05,\n",
    "    f\"RMS error: {rms_error:.3g}\",\n",
    "    horizontalalignment=\"right\",\n",
    "    verticalalignment=\"bottom\",\n",
    "    transform=plt.gca().transAxes,\n",
    ")  # relative coordinates for text placement\n",
    "plt.legend()\n",
    "plt.show()"
   ]
  }
 ],
 "metadata": {
  "jupytext": {
   "cell_metadata_filter": "-all",
   "encoding": "# -*- coding: utf-8 -*-",
   "main_language": "python",
   "notebook_metadata_filter": "-all"
  },
  "kernelspec": {
   "display_name": "EBRAINS-experimental",
   "language": "python",
   "name": "ebrains-experimental"
  }
 },
 "nbformat": 4,
 "nbformat_minor": 5
}