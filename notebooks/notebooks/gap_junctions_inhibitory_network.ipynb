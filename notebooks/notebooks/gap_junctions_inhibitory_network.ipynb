{
 "cells": [
  {
   "cell_type": "code",
   "execution_count": null,
   "id": "dca526e9",
   "metadata": {},
   "outputs": [],
   "source": [
    "%matplotlib inline"
   ]
  },
  {
   "cell_type": "code",
   "execution_count": null,
   "id": "47d3b770",
   "metadata": {},
   "outputs": [],
   "source": [
    "#\n",
    "# gap_junctions_inhibitory_network.py\n",
    "#\n",
    "# This file is part of NEST.\n",
    "#\n",
    "# Copyright (C) 2004 The NEST Initiative\n",
    "#\n",
    "# NEST is free software: you can redistribute it and/or modify\n",
    "# it under the terms of the GNU General Public License as published by\n",
    "# the Free Software Foundation, either version 2 of the License, or\n",
    "# (at your option) any later version.\n",
    "#\n",
    "# NEST is distributed in the hope that it will be useful,\n",
    "# but WITHOUT ANY WARRANTY; without even the implied warranty of\n",
    "# MERCHANTABILITY or FITNESS FOR A PARTICULAR PURPOSE.  See the\n",
    "# GNU General Public License for more details.\n",
    "#\n",
    "# You should have received a copy of the GNU General Public License\n",
    "# along with NEST.  If not, see <http://www.gnu.org/licenses/>."
   ]
  },
  {
   "cell_type": "markdown",
   "id": "f9328d10",
   "metadata": {
    "cell_marker": "\"\"\""
   },
   "source": [
    "Gap Junctions: Inhibitory network example\n",
    "-----------------------------------------\n",
    "\n",
    "This script simulates an inhibitory network of 500 Hodgkin-Huxley neurons.\n",
    "Without the gap junctions (meaning for ``gap_weight = 0.0``) the network shows\n",
    "an asynchronous irregular state that is caused by the external excitatory\n",
    "Poissonian drive being balanced by the inhibitory feedback within the\n",
    "network. With increasing `gap_weight` the network synchronizes:\n",
    "\n",
    "For a lower gap weight of 0.3 nS the network remains in an asynchronous\n",
    "state. With a weight of 0.54 nS the network switches randomly between the\n",
    "asynchronous to the synchronous state, while for a gap weight of 0.7 nS a\n",
    "stable synchronous state is reached.\n",
    "\n",
    "This example is also used as test case 2 (see Figure 9 and 10)\n",
    "in [1]_.\n",
    "\n",
    "References\n",
    "~~~~~~~~~~\n",
    "\n",
    ".. [1] Hahne et al. (2015) A unified framework for spiking and gap-junction\n",
    "       interactions in distributed neuronal network simulations, Front.\n",
    "       Neuroinform. http://dx.doi.org/10.3389/neuro.11.012.2008"
   ]
  },
  {
   "cell_type": "code",
   "execution_count": null,
   "id": "4e66d799",
   "metadata": {},
   "outputs": [],
   "source": [
    "import matplotlib.pyplot as plt\n",
    "import nest\n",
    "import numpy\n",
    "\n",
    "n_neuron = 500\n",
    "gap_per_neuron = 60\n",
    "inh_per_neuron = 50\n",
    "delay = 1.0\n",
    "j_exc = 300.0\n",
    "j_inh = -50.0\n",
    "threads = 8\n",
    "stepsize = 0.05\n",
    "simtime = 501.0\n",
    "gap_weight = 0.3\n",
    "\n",
    "nest.ResetKernel()"
   ]
  },
  {
   "cell_type": "markdown",
   "id": "e7d367ee",
   "metadata": {},
   "source": [
    "First we set the random seed, adjust the kernel settings and create\n",
    "``hh_psc_alpha_gap`` neurons, ``spike_recorder`` and ``poisson_generator``."
   ]
  },
  {
   "cell_type": "code",
   "execution_count": null,
   "id": "5c685be5",
   "metadata": {},
   "outputs": [],
   "source": [
    "numpy.random.seed(1)\n",
    "\n",
    "nest.resolution = 0.05\n",
    "nest.total_num_virtual_procs = threads\n",
    "nest.print_time = True\n",
    "\n",
    "# Settings for waveform relaxation. If 'use_wfr' is set to False,\n",
    "# communication takes place in every step instead of using an\n",
    "# iterative solution\n",
    "nest.use_wfr = True\n",
    "nest.wfr_comm_interval = 1.0\n",
    "nest.wfr_tol = 0.0001\n",
    "nest.wfr_max_iterations = 15\n",
    "nest.wfr_interpolation_order = 3\n",
    "\n",
    "neurons = nest.Create(\"hh_psc_alpha_gap\", n_neuron)\n",
    "\n",
    "sr = nest.Create(\"spike_recorder\")\n",
    "pg = nest.Create(\"poisson_generator\", params={\"rate\": 500.0})"
   ]
  },
  {
   "cell_type": "markdown",
   "id": "487b25fd",
   "metadata": {},
   "source": [
    "Each neuron shall receive ``inh_per_neuron = 50`` inhibitory synaptic inputs\n",
    "that are randomly selected from all other neurons, each with synaptic\n",
    "weight ``j_inh = -50.0`` pA and a synaptic delay of 1.0 ms. Furthermore each\n",
    "neuron shall receive an excitatory external Poissonian input of 500.0 Hz\n",
    "with synaptic weight ``j_exc = 300.0`` pA and the same delay.\n",
    "The desired connections are created with the following commands:"
   ]
  },
  {
   "cell_type": "code",
   "execution_count": null,
   "id": "317ff068",
   "metadata": {},
   "outputs": [],
   "source": [
    "conn_dict = {\"rule\": \"fixed_indegree\", \"indegree\": inh_per_neuron, \"allow_autapses\": False, \"allow_multapses\": True}\n",
    "\n",
    "syn_dict = {\"synapse_model\": \"static_synapse\", \"weight\": j_inh, \"delay\": delay}\n",
    "\n",
    "nest.Connect(neurons, neurons, conn_dict, syn_dict)\n",
    "\n",
    "nest.Connect(pg, neurons, \"all_to_all\", syn_spec={\"synapse_model\": \"static_synapse\", \"weight\": j_exc, \"delay\": delay})"
   ]
  },
  {
   "cell_type": "markdown",
   "id": "e67c9be4",
   "metadata": {},
   "source": [
    "Then the neurons are connected to the ``spike_recorder`` and the initial\n",
    "membrane potential of each neuron is set randomly between -40 and -80 mV."
   ]
  },
  {
   "cell_type": "code",
   "execution_count": null,
   "id": "3e85d32b",
   "metadata": {},
   "outputs": [],
   "source": [
    "nest.Connect(neurons, sr)\n",
    "\n",
    "neurons.V_m = nest.random.uniform(min=-80.0, max=-40.0)"
   ]
  },
  {
   "cell_type": "markdown",
   "id": "c6997f2d",
   "metadata": {
    "cell_marker": "#######################################################################################"
   },
   "source": [
    "Finally gap junctions are added to the network. :math:`(60*500)/2` ``gap_junction``\n",
    "connections are added randomly resulting in an average of 60 gap-junction\n",
    "connections per neuron. We must not use the ``fixed_indegree`` oder\n",
    "``fixed_outdegree`` functionality of ``nest.Connect()`` to create the\n",
    "connections, as ``gap_junction`` connections are bidirectional connections\n",
    "and we need to make sure that the same neurons are connected in both ways.\n",
    "This is achieved by creating the connections on the Python level with the\n",
    "`random` module of the Python Standard Library and connecting the neurons\n",
    "using the ``make_symmetric`` flag for ``one_to_one`` connections."
   ]
  },
  {
   "cell_type": "code",
   "execution_count": null,
   "id": "b7b07067",
   "metadata": {},
   "outputs": [],
   "source": [
    "n_connection = int(n_neuron * gap_per_neuron / 2)\n",
    "neuron_list = neurons.tolist()\n",
    "connections = numpy.random.choice(neuron_list, [n_connection, 2])\n",
    "\n",
    "for source_node_id, target_node_id in connections:\n",
    "    nest.Connect(\n",
    "        nest.NodeCollection([source_node_id]),\n",
    "        nest.NodeCollection([target_node_id]),\n",
    "        {\"rule\": \"one_to_one\", \"make_symmetric\": True},\n",
    "        {\"synapse_model\": \"gap_junction\", \"weight\": gap_weight},\n",
    "    )"
   ]
  },
  {
   "cell_type": "markdown",
   "id": "11027703",
   "metadata": {},
   "source": [
    "In the end we start the simulation and plot the spike pattern."
   ]
  },
  {
   "cell_type": "code",
   "execution_count": null,
   "id": "acd416cf",
   "metadata": {},
   "outputs": [],
   "source": [
    "nest.Simulate(simtime)\n",
    "\n",
    "events = sr.events\n",
    "times = events[\"times\"]\n",
    "spikes = events[\"senders\"]\n",
    "n_spikes = sr.n_events\n",
    "\n",
    "spike_rate = (1000.0 * n_spikes / simtime) / n_neuron\n",
    "\n",
    "plt.figure(1)\n",
    "plt.plot(times, spikes, \"o\")\n",
    "plt.title(f\"Average spike rate: {spike_rate:.2f} spks/s\")\n",
    "plt.xlabel(\"time (ms)\")\n",
    "plt.ylabel(\"neuron no\")\n",
    "plt.show()"
   ]
  }
 ],
 "metadata": {
  "jupytext": {
   "cell_metadata_filter": "-all",
   "encoding": "# -*- coding: utf-8 -*-",
   "main_language": "python",
   "notebook_metadata_filter": "-all"
  },
  "kernelspec": {
   "display_name": "EBRAINS-experimental",
   "language": "python",
   "name": "ebrains-experimental"
  }
 },
 "nbformat": 4,
 "nbformat_minor": 5
}