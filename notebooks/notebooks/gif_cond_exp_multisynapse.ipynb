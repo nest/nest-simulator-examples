{
  "cells": [
    {
      "cell_type": "markdown",
      "metadata": {},
      "source": [
        "\n# Example network using generalized IAF neuron with postsynaptic conductances\n"
      ]
    },
    {
      "cell_type": "code",
      "execution_count": null,
      "metadata": {
        "collapsed": false
      },
      "outputs": [],
      "source": [
        "import nest\nimport numpy as np\n\nneuron = nest.Create(\"gif_cond_exp_multisynapse\", params={\"E_rev\": [0.0, -85.0], \"tau_syn\": [4.0, 8.0]})\n\nspike = nest.Create(\"spike_generator\", params={\"spike_times\": np.array([10.0])})\n\ndelays = [1.0, 30.0]\nw = [1.0, 5.0]\nfor syn in range(2):\n    nest.Connect(\n        spike,\n        neuron,\n        syn_spec={\"synapse_model\": \"static_synapse\", \"receptor_type\": 1 + syn, \"weight\": w[syn], \"delay\": delays[syn]},\n    )\nnest.Simulate(100.0)"
      ]
    }
  ],
  "metadata": {
    "kernelspec": {
      "display_name": "EBRAINS-23.09",
      "language": "python",
      "name": "ebrains-23.09"
    },
    "language_info": {
      "codemirror_mode": {
        "name": "ipython",
        "version": 3
      },
      "file_extension": ".py",
      "mimetype": "text/x-python",
      "name": "python",
      "nbconvert_exporter": "python",
      "pygments_lexer": "ipython3",
      "version": "3.10.13"
    }
  },
  "nbformat": 4,
  "nbformat_minor": 0
}