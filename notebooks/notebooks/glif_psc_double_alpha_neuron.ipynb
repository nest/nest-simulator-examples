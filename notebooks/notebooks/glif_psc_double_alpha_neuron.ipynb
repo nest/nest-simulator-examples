{
  "cells": [
    {
      "cell_type": "markdown",
      "metadata": {},
      "source": [
        "\n# Current-based generalized leaky integrate and fire (GLIF) neuron with double alpha synaptic function example\n\nSimple example of how to use the ``glif_psc_double_alpha`` neuron model that illustrates\ndifferences from the ``glif_psc`` neuron model.\n\nThe behavior of the ``glif_psc_double_alpha`` neuron model is the same as the ``glif_psc``\nneuron model, except that the synaptic currents are modeled as a double alpha function.\nTherefore, in this example, we only compare the difference in the synaptic currents\nbetween the two models. Compared to the single alpha function, the double alpha function\nhas much more control over the shape of the tail of the synaptic current.\n\nSimple synaptic inputs are applied to the neuron and the resulting voltage and\ncurrent traces are shown for the two models.\n"
      ]
    },
    {
      "cell_type": "markdown",
      "metadata": {},
      "source": [
        "First, we import all necessary modules to simulate, analyze and plot this\nexample.\n\n"
      ]
    },
    {
      "cell_type": "code",
      "execution_count": null,
      "metadata": {
        "collapsed": false
      },
      "outputs": [],
      "source": [
        "import matplotlib.gridspec as gridspec\nimport matplotlib.pyplot as plt\nimport nest"
      ]
    },
    {
      "cell_type": "markdown",
      "metadata": {},
      "source": [
        "We initialize NEST and set the simulation resolution.\n\n"
      ]
    },
    {
      "cell_type": "code",
      "execution_count": null,
      "metadata": {
        "collapsed": false
      },
      "outputs": [],
      "source": [
        "nest.ResetKernel()\nresolution = 0.05\nnest.resolution = resolution"
      ]
    },
    {
      "cell_type": "markdown",
      "metadata": {},
      "source": [
        "We also pre-define the synapse time constant arrays.\nIn contrast to ``glif_psc`` models, ``glif_psc_double_alpha`` models have\ntwo components of synaptic currents, one for the fast component and the other\nfor the slow component. The relative amplitude also needs to be set, so there\nare three parameters to define per receptor port. For this example, we keep the\n``tau_syn_fast`` to 2 ms for simplicity, and vary the ``tau_syn_slow`` and\n``amp_slow`` to illustrate how the parameters affect the shape of the synaptic\ncurrents.\n\n"
      ]
    },
    {
      "cell_type": "code",
      "execution_count": null,
      "metadata": {
        "collapsed": false
      },
      "outputs": [],
      "source": [
        "tau_syn_glif_psc = [2.0, 2.0, 2.0]  # value for the ``glif_psc`` model\n\ntau_syn_fast = [2.0, 2.0, 2.0]  # common between 'timing' and 'amp' manipulations\n\n# for the slow component timing manipuation\ntau_syn_slow_timing = [4.0, 6.0, 8.0]\namp_slow_timing = [0.5, 0.5, 0.5]\n\n# for the slow component amplitude manipulation\ntau_syn_slow_amp = [6.0, 6.0, 6.0]\namp_slow_amp = [0.2, 0.5, 0.8]"
      ]
    },
    {
      "cell_type": "markdown",
      "metadata": {},
      "source": [
        "Now we create three neurons: ``glif_psc``, ``glif_psc_double_alpha_timing``,\nand ``glif_psc_double_alpha_amp``. The parameters for the ``glif_psc`` neuron\nare set as default. The parameters for the ``glif_psc_double_alpha_timing``\nneuron are set to have the same ``tau_syn_fast`` as the ``glif_psc`` neuron,\nand the ``tau_syn_slow`` and ``amp_slow`` are set to the values defined above\nfor the timing manipulation.\n\n"
      ]
    },
    {
      "cell_type": "code",
      "execution_count": null,
      "metadata": {
        "collapsed": false
      },
      "outputs": [],
      "source": [
        "n_glif_psc = nest.Create(\n    \"glif_psc\",\n    params={\n        \"spike_dependent_threshold\": False,\n        \"after_spike_currents\": False,\n        \"adapting_threshold\": False,\n        \"tau_syn\": tau_syn_glif_psc,\n    },\n)\n\nn_glif_psc_double_alpha_timing = nest.Create(\n    \"glif_psc_double_alpha\",\n    params={\n        \"spike_dependent_threshold\": False,\n        \"after_spike_currents\": False,\n        \"adapting_threshold\": False,\n        \"tau_syn_fast\": tau_syn_fast,\n        \"tau_syn_slow\": tau_syn_slow_timing,\n        \"amp_slow\": amp_slow_timing,\n    },\n)\n\nn_glif_psc_double_alpha_amp = nest.Create(\n    \"glif_psc_double_alpha\",\n    params={\n        \"spike_dependent_threshold\": False,\n        \"after_spike_currents\": False,\n        \"adapting_threshold\": False,\n        \"tau_syn_fast\": tau_syn_fast,\n        \"tau_syn_slow\": tau_syn_slow_amp,\n        \"amp_slow\": amp_slow_amp,\n    },\n)\n\nneurons = n_glif_psc + n_glif_psc_double_alpha_timing + n_glif_psc_double_alpha_amp"
      ]
    },
    {
      "cell_type": "markdown",
      "metadata": {},
      "source": [
        "For the stimulation input to the ``glif_psc`` neurons, we create three excitation\nspike generators, each one with a single spike.\n\n"
      ]
    },
    {
      "cell_type": "code",
      "execution_count": null,
      "metadata": {
        "collapsed": false
      },
      "outputs": [],
      "source": [
        "espike1 = nest.Create(\"spike_generator\", params={\"spike_times\": [10.0], \"spike_weights\": [20.0]})\nespike2 = nest.Create(\"spike_generator\", params={\"spike_times\": [110.0], \"spike_weights\": [20.0]})\nespike3 = nest.Create(\"spike_generator\", params={\"spike_times\": [210.0], \"spike_weights\": [20.0]})"
      ]
    },
    {
      "cell_type": "markdown",
      "metadata": {},
      "source": [
        "The generators are then connected to the neurons. Specification of\nthe ``receptor_type`` uniquely defines the target receptor.\nWe connect each of the spikes generator to a different receptor that have different\nparameters.\n\n"
      ]
    },
    {
      "cell_type": "code",
      "execution_count": null,
      "metadata": {
        "collapsed": false
      },
      "outputs": [],
      "source": [
        "nest.Connect(espike1, neurons, syn_spec={\"delay\": resolution, \"receptor_type\": 1})\nnest.Connect(espike2, neurons, syn_spec={\"delay\": resolution, \"receptor_type\": 2})\nnest.Connect(espike3, neurons, syn_spec={\"delay\": resolution, \"receptor_type\": 3})"
      ]
    },
    {
      "cell_type": "markdown",
      "metadata": {},
      "source": [
        "A ``multimeter`` is created and connected to the neurons. The parameters\nspecified for the multimeter include the list of quantities that should be\nrecorded and the time interval at which quantities are measured.\n\n"
      ]
    },
    {
      "cell_type": "code",
      "execution_count": null,
      "metadata": {
        "collapsed": false
      },
      "outputs": [],
      "source": [
        "mm = nest.Create(\n    \"multimeter\",\n    params={\n        \"interval\": resolution,\n        \"record_from\": [\"V_m\", \"I_syn\"],\n    },\n)\nnest.Connect(mm, neurons)"
      ]
    },
    {
      "cell_type": "markdown",
      "metadata": {},
      "source": [
        "Run the simulation for 300 ms and retrieve recorded data from\nthe multimeter and spike recorder.\n\n"
      ]
    },
    {
      "cell_type": "code",
      "execution_count": null,
      "metadata": {
        "collapsed": false
      },
      "outputs": [],
      "source": [
        "nest.Simulate(300.0)\ndata = mm.events"
      ]
    },
    {
      "cell_type": "markdown",
      "metadata": {},
      "source": [
        "We plot the time traces of the synaptic current and the  membrane potential.\nEach input current is annotated with the corresponding parameter value of the\nreceptor. The blue line is the synaptic current of the ``glif_psc`` neuron, and\nthe red line is the synaptic current of the ``glif_psc_double_alpha`` neuron.\n\n"
      ]
    },
    {
      "cell_type": "code",
      "execution_count": null,
      "metadata": {
        "collapsed": false
      },
      "outputs": [],
      "source": [
        "# defining the figure property for each parameter variation type,\nvariation_types = [\"timing\", \"amp\"]\nannotate_variable = [\"tau_syn_slow\", \"amp_slow\"]\nannotate_values = [tau_syn_slow_timing, amp_slow_amp]\nfig_titles = [\n    \"Variation of tau_syn_slow: tau_syn_fast = 2.0, amp_slow = 0.5\",\n    \"Variation of amp_slow: tau_syn_fast = 2.0, tau_syn_slow = 6.0\",\n]\n\n\nsenders = data[\"senders\"]\nt = data[\"times\"][senders == 1]\n\nfor i, variation_type in enumerate(variation_types):\n    plt.figure(variation_type, figsize=(10, 5))\n    gs = gridspec.GridSpec(2, 1, height_ratios=[1, 1])\n    data_types = [\"I_syn\", \"V_m\"]\n    data_types_names = [\"Synaptic current (pA)\", \"Membrane potential (mV)\"]\n    for j, data_type in enumerate(data_types):\n        d = data[data_type]\n        ax = plt.subplot(gs[j])\n        ax.plot(t, d[senders == 1], \"b\", label=\"glif_psc (tau_syn=2.0)\")\n        ax.plot(t, d[senders == 2 + i], \"r\", label=\"glif_psc_double_alpha\")\n        if j == 0:\n            # place legend outside the plot\n            ax.legend(bbox_to_anchor=(1.05, 1), loc=\"upper left\", borderaxespad=0)\n        else:\n            ax.set_xlabel(\"time (ms)\")\n\n        ax.set_ylabel(data_types_names[j])\n\n    # now let's annotate each of the input with the corresponding parameter.\n    spike_timings = [10.0, 110.0, 210.0]\n    ax = plt.subplot(gs[0])\n    for j, spike_timing in enumerate(spike_timings):\n        ax.annotate(\n            f\"{annotate_variable[i]}={annotate_values[i][j]}\",\n            xy=(spike_timing + 10, 20),\n            xytext=(spike_timing + 10, 25),\n            arrowprops=dict(arrowstyle=\"->\", connectionstyle=\"arc3\"),\n        )\n    plt.title(fig_titles[i])\n    plt.tight_layout()\n\n\nplt.show()"
      ]
    }
  ],
  "metadata": {
    "kernelspec": {
      "display_name": "EBRAINS-23.09",
      "language": "python",
      "name": "ebrains-23.09"
    },
    "language_info": {
      "codemirror_mode": {
        "name": "ipython",
        "version": 3
      },
      "file_extension": ".py",
      "mimetype": "text/x-python",
      "name": "python",
      "nbconvert_exporter": "python",
      "pygments_lexer": "ipython3",
      "version": "3.10.13"
    }
  },
  "nbformat": 4,
  "nbformat_minor": 0
}