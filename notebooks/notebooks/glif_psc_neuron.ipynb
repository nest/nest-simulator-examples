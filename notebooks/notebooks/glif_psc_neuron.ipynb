{
 "cells": [
  {
   "cell_type": "code",
   "execution_count": null,
   "id": "e8b1b6d2",
   "metadata": {},
   "outputs": [],
   "source": [
    "%matplotlib inline"
   ]
  },
  {
   "cell_type": "code",
   "execution_count": null,
   "id": "174e72bb",
   "metadata": {},
   "outputs": [],
   "source": [
    "#\n",
    "# glif_psc_neuron.py\n",
    "#\n",
    "# This file is part of NEST.\n",
    "#\n",
    "# Copyright (C) 2004 The NEST Initiative\n",
    "#\n",
    "# NEST is free software: you can redistribute it and/or modify\n",
    "# it under the terms of the GNU General Public License as published by\n",
    "# the Free Software Foundation, either version 2 of the License, or\n",
    "# (at your option) any later version.\n",
    "#\n",
    "# NEST is distributed in the hope that it will be useful,\n",
    "# but WITHOUT ANY WARRANTY; without even the implied warranty of\n",
    "# MERCHANTABILITY or FITNESS FOR A PARTICULAR PURPOSE.  See the\n",
    "# GNU General Public License for more details.\n",
    "#\n",
    "# You should have received a copy of the GNU General Public License\n",
    "# along with NEST.  If not, see <http://www.gnu.org/licenses/>."
   ]
  },
  {
   "cell_type": "markdown",
   "id": "bda4ada4",
   "metadata": {
    "cell_marker": "\"\"\""
   },
   "source": [
    "Current-based generalized leaky integrate and fire (GLIF) neuron example\n",
    "------------------------------------------------------------------------\n",
    "\n",
    "Simple example of how to use the ``glif_psc`` neuron model for\n",
    "five different levels of GLIF neurons.\n",
    "\n",
    "Four stimulation paradigms are illustrated for the GLIF model\n",
    "with externally applied current and spikes impinging\n",
    "\n",
    "Voltage traces, current traces, threshold traces, and spikes are shown.\n"
   ]
  },
  {
   "cell_type": "markdown",
   "id": "a58961d7",
   "metadata": {
    "cell_marker": "##############################################################################"
   },
   "source": [
    "First, we import all necessary modules to simulate, analyze and plot this\n",
    "example."
   ]
  },
  {
   "cell_type": "code",
   "execution_count": null,
   "id": "e21d7686",
   "metadata": {},
   "outputs": [],
   "source": [
    "import matplotlib.gridspec as gridspec\n",
    "import matplotlib.pyplot as plt\n",
    "import nest"
   ]
  },
  {
   "cell_type": "markdown",
   "id": "de71c1f1",
   "metadata": {
    "cell_marker": "##############################################################################"
   },
   "source": [
    "We initialize NEST and set the simulation resolution."
   ]
  },
  {
   "cell_type": "code",
   "execution_count": null,
   "id": "e45372b6",
   "metadata": {},
   "outputs": [],
   "source": [
    "nest.ResetKernel()\n",
    "resolution = 0.05\n",
    "nest.resolution = resolution"
   ]
  },
  {
   "cell_type": "markdown",
   "id": "7c79a948",
   "metadata": {
    "cell_marker": "##############################################################################"
   },
   "source": [
    "We also pre-define the synapse time constant array, [2.0, 1.0] ms for\n",
    "the two desired synaptic ports of the GLIF neurons. Note that the default\n",
    "synapse time constant is [2.0] ms, which is for neuron with one port."
   ]
  },
  {
   "cell_type": "code",
   "execution_count": null,
   "id": "0a834642",
   "metadata": {},
   "outputs": [],
   "source": [
    "syn_tau = [2.0, 1.0]"
   ]
  },
  {
   "cell_type": "markdown",
   "id": "64d42e6f",
   "metadata": {},
   "source": [
    "We create the five levels of GLIF model to be tested, i.e.,\n",
    "``lif``, ``lif_r``, ``lif_asc``, ``lif_r_asc``, ``lif_r_asc_a``.\n",
    "For each level of GLIF model, we create  a ``glif_psc`` node. The node is\n",
    "created by setting relative model mechanism parameters and the time constant\n",
    "of the 2 synaptic ports as mentioned above. Other neuron parameters are set\n",
    "as default. The five ``glif_psc`` node handles were combined as a list."
   ]
  },
  {
   "cell_type": "code",
   "execution_count": null,
   "id": "09d4f26f",
   "metadata": {},
   "outputs": [],
   "source": [
    "n_lif = nest.Create(\n",
    "    \"glif_psc\",\n",
    "    params={\n",
    "        \"spike_dependent_threshold\": False,\n",
    "        \"after_spike_currents\": False,\n",
    "        \"adapting_threshold\": False,\n",
    "        \"tau_syn\": syn_tau,\n",
    "    },\n",
    ")\n",
    "n_lif_r = nest.Create(\n",
    "    \"glif_psc\",\n",
    "    params={\n",
    "        \"spike_dependent_threshold\": True,\n",
    "        \"after_spike_currents\": False,\n",
    "        \"adapting_threshold\": False,\n",
    "        \"tau_syn\": syn_tau,\n",
    "    },\n",
    ")\n",
    "n_lif_asc = nest.Create(\n",
    "    \"glif_psc\",\n",
    "    params={\n",
    "        \"spike_dependent_threshold\": False,\n",
    "        \"after_spike_currents\": True,\n",
    "        \"adapting_threshold\": False,\n",
    "        \"tau_syn\": syn_tau,\n",
    "    },\n",
    ")\n",
    "n_lif_r_asc = nest.Create(\n",
    "    \"glif_psc\",\n",
    "    params={\n",
    "        \"spike_dependent_threshold\": True,\n",
    "        \"after_spike_currents\": True,\n",
    "        \"adapting_threshold\": False,\n",
    "        \"tau_syn\": syn_tau,\n",
    "    },\n",
    ")\n",
    "n_lif_r_asc_a = nest.Create(\n",
    "    \"glif_psc\",\n",
    "    params={\n",
    "        \"spike_dependent_threshold\": True,\n",
    "        \"after_spike_currents\": True,\n",
    "        \"adapting_threshold\": True,\n",
    "        \"tau_syn\": syn_tau,\n",
    "    },\n",
    ")\n",
    "\n",
    "neurons = n_lif + n_lif_r + n_lif_asc + n_lif_r_asc + n_lif_r_asc_a"
   ]
  },
  {
   "cell_type": "markdown",
   "id": "b2f4df28",
   "metadata": {},
   "source": [
    "For the stimulation input to the glif_psc neurons, we create one excitation\n",
    "spike generator and one inhibition spike generator, each of which generates\n",
    "three spikes; we also create one step current generator and a Poisson\n",
    "generator, a parrot neuron (to be paired with the Poisson generator).\n",
    "The three different injections are spread to three different time periods,\n",
    "i.e., 0 ms ~ 200 ms, 200 ms ~ 500 ms, 600 ms ~ 900 ms.\n",
    "Each of the excitation and inhibition spike generators generates three spikes\n",
    "at different time points. Configuration of the current generator includes the\n",
    "definition of the start and stop times and the amplitude of the injected\n",
    "current. Configuration of the Poisson generator includes the definition of\n",
    "the start and stop times and the rate of the injected spike train."
   ]
  },
  {
   "cell_type": "code",
   "execution_count": null,
   "id": "008b0444",
   "metadata": {},
   "outputs": [],
   "source": [
    "espikes = nest.Create(\"spike_generator\", params={\"spike_times\": [10.0, 100.0, 150.0], \"spike_weights\": [20.0] * 3})\n",
    "ispikes = nest.Create(\"spike_generator\", params={\"spike_times\": [15.0, 99.0, 150.0], \"spike_weights\": [-20.0] * 3})\n",
    "cg = nest.Create(\n",
    "    \"step_current_generator\",\n",
    "    params={\n",
    "        \"amplitude_values\": [\n",
    "            400.0,\n",
    "        ],\n",
    "        \"amplitude_times\": [\n",
    "            200.0,\n",
    "        ],\n",
    "        \"start\": 200.0,\n",
    "        \"stop\": 500.0,\n",
    "    },\n",
    ")\n",
    "pg = nest.Create(\"poisson_generator\", params={\"rate\": 150000.0, \"start\": 600.0, \"stop\": 900.0})\n",
    "pn = nest.Create(\"parrot_neuron\")"
   ]
  },
  {
   "cell_type": "markdown",
   "id": "1c2f8419",
   "metadata": {},
   "source": [
    "The generators are then connected to the neurons. Specification of\n",
    "the ``receptor_type`` uniquely defines the target receptor.\n",
    "We connect current generator, the spike generators, Poisson generator (via\n",
    "parrot neuron) to receptor 0, 1, and 2 of the GLIF neurons, respectively.\n",
    "Note that Poisson generator is connected to parrot neuron to transit the\n",
    "spikes to the glif_psc neuron."
   ]
  },
  {
   "cell_type": "code",
   "execution_count": null,
   "id": "cb7e4057",
   "metadata": {},
   "outputs": [],
   "source": [
    "nest.Connect(cg, neurons, syn_spec={\"delay\": resolution})\n",
    "nest.Connect(espikes, neurons, syn_spec={\"delay\": resolution, \"receptor_type\": 1})\n",
    "nest.Connect(ispikes, neurons, syn_spec={\"delay\": resolution, \"receptor_type\": 1})\n",
    "nest.Connect(pg, pn, syn_spec={\"delay\": resolution})\n",
    "nest.Connect(pn, neurons, syn_spec={\"delay\": resolution, \"receptor_type\": 2})"
   ]
  },
  {
   "cell_type": "markdown",
   "id": "4c86b291",
   "metadata": {},
   "source": [
    "A ``multimeter`` is created and connected to the neurons. The parameters\n",
    "specified for the multimeter include the list of quantities that should be\n",
    "recorded and the time interval at which quantities are measured."
   ]
  },
  {
   "cell_type": "code",
   "execution_count": null,
   "id": "2b1cfcd0",
   "metadata": {},
   "outputs": [],
   "source": [
    "mm = nest.Create(\n",
    "    \"multimeter\",\n",
    "    params={\n",
    "        \"interval\": resolution,\n",
    "        \"record_from\": [\"V_m\", \"I\", \"I_syn\", \"threshold\", \"threshold_spike\", \"threshold_voltage\", \"ASCurrents_sum\"],\n",
    "    },\n",
    ")\n",
    "nest.Connect(mm, neurons)"
   ]
  },
  {
   "cell_type": "markdown",
   "id": "14ef9ec1",
   "metadata": {},
   "source": [
    "A ``spike_recorder`` is created and connected to the neurons record the\n",
    "spikes generated by the glif_psc neurons."
   ]
  },
  {
   "cell_type": "code",
   "execution_count": null,
   "id": "9eee3434",
   "metadata": {},
   "outputs": [],
   "source": [
    "sr = nest.Create(\"spike_recorder\")\n",
    "nest.Connect(neurons, sr)"
   ]
  },
  {
   "cell_type": "markdown",
   "id": "e9ee488d",
   "metadata": {},
   "source": [
    "Run the simulation for 1000 ms and retrieve recorded data from\n",
    "the multimeter and spike recorder."
   ]
  },
  {
   "cell_type": "code",
   "execution_count": null,
   "id": "c67f8f0a",
   "metadata": {},
   "outputs": [],
   "source": [
    "nest.Simulate(1000.0)\n",
    "\n",
    "data = mm.events\n",
    "senders = data[\"senders\"]\n",
    "\n",
    "spike_data = sr.events\n",
    "spike_senders = spike_data[\"senders\"]\n",
    "spikes = spike_data[\"times\"]"
   ]
  },
  {
   "cell_type": "markdown",
   "id": "a48e2658",
   "metadata": {},
   "source": [
    "We plot the time traces of the membrane potential (in blue) and\n",
    "the overall threshold (in green), and the spikes (as red dots) in one panel;\n",
    "the spike component of threshold (in yellow) and the voltage component of\n",
    "threshold (in black) in another panel; the injected currents (in strong blue),\n",
    "the sum of after spike currents (in cyan), and the synaptic currents (in\n",
    "magenta) in responding to the spike inputs to the neurons in the third panel.\n",
    "We plot all these three panels for each level of GLIF model in a separated\n",
    "figure."
   ]
  },
  {
   "cell_type": "code",
   "execution_count": null,
   "id": "b116a82f",
   "metadata": {},
   "outputs": [],
   "source": [
    "glif_models = [\"lif\", \"lif_r\", \"lif_asc\", \"lif_r_asc\", \"lif_r_asc_a\"]\n",
    "for i in range(len(glif_models)):\n",
    "    glif_model = glif_models[i]\n",
    "    node_id = neurons[i].global_id\n",
    "    plt.figure(glif_model)\n",
    "    gs = gridspec.GridSpec(3, 1, height_ratios=[2, 1, 1])\n",
    "    t = data[\"times\"][senders == 1]\n",
    "\n",
    "    ax1 = plt.subplot(gs[0])\n",
    "    plt.plot(t, data[\"V_m\"][senders == node_id], \"b\")\n",
    "    plt.plot(t, data[\"threshold\"][senders == node_id], \"g--\")\n",
    "    plt.plot(\n",
    "        spikes[spike_senders == node_id],\n",
    "        [max(data[\"threshold\"][senders == node_id]) * 0.95] * len(spikes[spike_senders == node_id]),\n",
    "        \"r.\",\n",
    "    )\n",
    "    plt.legend([\"V_m\", \"threshold\", \"spike\"])\n",
    "    plt.ylabel(\"V (mV)\")\n",
    "    plt.title(\"Simulation of glif_psc neuron of \" + glif_model)\n",
    "\n",
    "    ax2 = plt.subplot(gs[1])\n",
    "    plt.plot(t, data[\"threshold_spike\"][senders == node_id], \"y\")\n",
    "    plt.plot(t, data[\"threshold_voltage\"][senders == node_id], \"k--\")\n",
    "    plt.legend([\"threshold_spike\", \"threshold_voltage\"])\n",
    "    plt.ylabel(\"V (mV)\")\n",
    "\n",
    "    ax3 = plt.subplot(gs[2])\n",
    "    plt.plot(t, data[\"I\"][senders == node_id], \"--\")\n",
    "    plt.plot(t, data[\"ASCurrents_sum\"][senders == node_id], \"c-.\")\n",
    "    plt.plot(t, data[\"I_syn\"][senders == node_id], \"m\")\n",
    "    plt.legend([\"I_e\", \"ASCurrents_sum\", \"I_syn\"])\n",
    "    plt.ylabel(\"I (pA)\")\n",
    "    plt.xlabel(\"t (ms)\")\n",
    "\n",
    "plt.show()"
   ]
  }
 ],
 "metadata": {
  "jupytext": {
   "cell_metadata_filter": "-all",
   "encoding": "# -*- coding: utf-8 -*-",
   "main_language": "python",
   "notebook_metadata_filter": "-all"
  },
  "kernelspec": {
   "display_name": "EBRAINS-experimental",
   "language": "python",
   "name": "ebrains-experimental"
  }
 },
 "nbformat": 4,
 "nbformat_minor": 5
}