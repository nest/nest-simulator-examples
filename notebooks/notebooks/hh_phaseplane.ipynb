{
 "cells": [
  {
   "cell_type": "markdown",
   "id": "7e408a6d",
   "metadata": {},
   "source": [
    "\n",
    "hh_phaseplane.py\n",
    "\n",
    "This file is part of NEST.\n",
    "\n",
    "Copyright (C) 2004 The NEST Initiative\n",
    "\n",
    "NEST is free software: you can redistribute it and/or modify\n",
    "it under the terms of the GNU General Public License as published by\n",
    "the Free Software Foundation, either version 2 of the License, or\n",
    "(at your option) any later version.\n",
    "\n",
    "NEST is distributed in the hope that it will be useful,\n",
    "but WITHOUT ANY WARRANTY; without even the implied warranty of\n",
    "MERCHANTABILITY or FITNESS FOR A PARTICULAR PURPOSE.  See the\n",
    "GNU General Public License for more details.\n",
    "\n",
    "You should have received a copy of the GNU General Public License\n",
    "along with NEST.  If not, see <http://www.gnu.org/licenses/>."
   ]
  },
  {
   "cell_type": "code",
   "execution_count": null,
   "id": "567720ec",
   "metadata": {},
   "outputs": [],
   "source": [
    "\"\"\"\n",
    "Numerical phase-plane analysis of the Hodgkin-Huxley neuron\n",
    "-----------------------------------------------------------\n",
    "\n",
    "hh_phaseplane makes a numerical phase-plane analysis of the Hodgkin-Huxley\n",
    "neuron (``hh_psc_alpha``). Dynamics is investigated in the V-n space (see remark\n",
    "below). A constant DC can be specified  and its influence on the nullclines\n",
    "can be studied.\n",
    "\n",
    "Remark\n",
    "~~~~~~\n",
    "\n",
    "To make the two-dimensional analysis possible, the (four-dimensional)\n",
    "Hodgkin-Huxley formalism needs to be artificially reduced to two dimensions,\n",
    "in this case by 'clamping' the two other variables, `m` and `h`, to\n",
    "constant values (`m_eq` and `h_eq`).\n",
    "\n",
    "\"\"\""
   ]
  },
  {
   "cell_type": "code",
   "execution_count": null,
   "id": "c0b007d1",
   "metadata": {},
   "outputs": [],
   "source": [
    "import nest\n",
    "import numpy as np\n",
    "from matplotlib import pyplot as plt"
   ]
  },
  {
   "cell_type": "code",
   "execution_count": null,
   "id": "47a9edbf",
   "metadata": {},
   "outputs": [],
   "source": [
    "amplitude = 100.0  # Set externally applied current amplitude in pA\n",
    "dt = 0.1  # simulation step length [ms]"
   ]
  },
  {
   "cell_type": "code",
   "execution_count": null,
   "id": "e2981e6f",
   "metadata": {},
   "outputs": [],
   "source": [
    "v_min = -100.0  # Min membrane potential\n",
    "v_max = 42.0  # Max membrane potential\n",
    "n_min = 0.1  # Min inactivation variable\n",
    "n_max = 0.81  # Max inactivation variable\n",
    "delta_v = 2.0  # Membrane potential step length\n",
    "delta_n = 0.01  # Inactivation variable step length"
   ]
  },
  {
   "cell_type": "code",
   "execution_count": null,
   "id": "fc1aaab6",
   "metadata": {},
   "outputs": [],
   "source": [
    "V_vec = np.arange(v_min, v_max, delta_v)\n",
    "n_vec = np.arange(n_min, n_max, delta_n)"
   ]
  },
  {
   "cell_type": "code",
   "execution_count": null,
   "id": "523a9863",
   "metadata": {},
   "outputs": [],
   "source": [
    "num_v_steps = len(V_vec)\n",
    "num_n_steps = len(n_vec)"
   ]
  },
  {
   "cell_type": "code",
   "execution_count": null,
   "id": "649d2ba9",
   "metadata": {},
   "outputs": [],
   "source": [
    "nest.ResetKernel()\n",
    "nest.set_verbosity(\"M_ERROR\")\n",
    "nest.resolution = dt"
   ]
  },
  {
   "cell_type": "code",
   "execution_count": null,
   "id": "0216b505",
   "metadata": {},
   "outputs": [],
   "source": [
    "neuron = nest.Create(\"hh_psc_alpha\")"
   ]
  },
  {
   "cell_type": "code",
   "execution_count": null,
   "id": "63a3d8ce",
   "metadata": {},
   "outputs": [],
   "source": [
    "# Numerically obtain equilibrium state\n",
    "nest.Simulate(1000)"
   ]
  },
  {
   "cell_type": "code",
   "execution_count": null,
   "id": "6ad7ed55",
   "metadata": {},
   "outputs": [],
   "source": [
    "m_eq = neuron.Act_m\n",
    "h_eq = neuron.Inact_h"
   ]
  },
  {
   "cell_type": "code",
   "execution_count": null,
   "id": "1844098f",
   "metadata": {},
   "outputs": [],
   "source": [
    "neuron.I_e = amplitude  # Apply external current"
   ]
  },
  {
   "cell_type": "code",
   "execution_count": null,
   "id": "1d589480",
   "metadata": {},
   "outputs": [],
   "source": [
    "# Scan state space\n",
    "print(\"Scanning phase space\")"
   ]
  },
  {
   "cell_type": "code",
   "execution_count": null,
   "id": "e8b33d4b",
   "metadata": {},
   "outputs": [],
   "source": [
    "V_matrix = np.zeros([num_n_steps, num_v_steps])\n",
    "n_matrix = np.zeros([num_n_steps, num_v_steps])"
   ]
  },
  {
   "cell_type": "code",
   "execution_count": null,
   "id": "64f505b8",
   "metadata": {},
   "outputs": [],
   "source": [
    "# pp_data will contain the phase-plane data as a vector field\n",
    "pp_data = np.zeros([num_n_steps * num_v_steps, 4])"
   ]
  },
  {
   "cell_type": "code",
   "execution_count": null,
   "id": "c0870dda",
   "metadata": {},
   "outputs": [],
   "source": [
    "count = 0\n",
    "for i, V in enumerate(V_vec):\n",
    "    for j, n in enumerate(n_vec):\n",
    "        # Set V_m and n\n",
    "        neuron.set(V_m=V, Act_n=n, Act_m=m_eq, Inact_h=h_eq)\n",
    "        # Find state\n",
    "        V_m = neuron.V_m\n",
    "        Act_n = neuron.Act_n\n",
    "\n",
    "        # Simulate a short while\n",
    "        nest.Simulate(dt)\n",
    "\n",
    "        # Find difference between new state and old state\n",
    "        V_m_new = neuron.V_m - V\n",
    "        Act_n_new = neuron.Act_n - n\n",
    "\n",
    "        # Store in vector for later analysis\n",
    "        V_matrix[j, i] = abs(V_m_new)\n",
    "        n_matrix[j, i] = abs(Act_n_new)\n",
    "        pp_data[count] = np.array([V_m, Act_n, V_m_new, Act_n_new])\n",
    "\n",
    "        if count % 10 == 0:\n",
    "            # Write updated state next to old state\n",
    "            print(\"\")\n",
    "            print(\"Vm:  \\t\", V_m)\n",
    "            print(\"new Vm:\\t\", V_m_new)\n",
    "            print(\"Act_n:\", Act_n)\n",
    "            print(\"new Act_n:\", Act_n_new)\n",
    "\n",
    "        count += 1"
   ]
  },
  {
   "cell_type": "code",
   "execution_count": null,
   "id": "1f5f8a4c",
   "metadata": {},
   "outputs": [],
   "source": [
    "# Set state for AP generation\n",
    "neuron.set(V_m=-34.0, Act_n=0.2, Act_m=m_eq, Inact_h=h_eq)"
   ]
  },
  {
   "cell_type": "code",
   "execution_count": null,
   "id": "c943e4bb",
   "metadata": {},
   "outputs": [],
   "source": [
    "print(\"\")\n",
    "print(\"AP-trajectory\")\n",
    "# ap will contain the trace of a single action potential as one possible\n",
    "# numerical solution in the vector field\n",
    "ap = np.zeros([1000, 2])\n",
    "for i in range(1000):\n",
    "    # Find state\n",
    "    V_m = neuron.V_m\n",
    "    Act_n = neuron.Act_n\n",
    "\n",
    "    if i % 10 == 0:\n",
    "        # Write new state next to old state\n",
    "        print(\"Vm: \\t\", V_m)\n",
    "        print(\"Act_n:\", Act_n)\n",
    "    ap[i] = np.array([V_m, Act_n])\n",
    "\n",
    "    # Simulate again\n",
    "    neuron.set(Act_m=m_eq, Inact_h=h_eq)\n",
    "    nest.Simulate(dt)"
   ]
  },
  {
   "cell_type": "code",
   "execution_count": null,
   "id": "e2a665a4",
   "metadata": {},
   "outputs": [],
   "source": [
    "# Make analysis\n",
    "print(\"\")\n",
    "print(\"Plot analysis\")"
   ]
  },
  {
   "cell_type": "code",
   "execution_count": null,
   "id": "918a0aa8",
   "metadata": {},
   "outputs": [],
   "source": [
    "nullcline_V = []\n",
    "nullcline_n = []"
   ]
  },
  {
   "cell_type": "code",
   "execution_count": null,
   "id": "d7ff0bd6",
   "metadata": {},
   "outputs": [],
   "source": [
    "print(\"Searching nullclines\")\n",
    "for i in range(0, len(V_vec)):\n",
    "    index = np.nanargmin(V_matrix[:][i])\n",
    "    if index != 0 and index != len(n_vec):\n",
    "        nullcline_V.append([V_vec[i], n_vec[index]])\n",
    "\n",
    "    index = np.nanargmin(n_matrix[:][i])\n",
    "    if index != 0 and index != len(n_vec):\n",
    "        nullcline_n.append([V_vec[i], n_vec[index]])"
   ]
  },
  {
   "cell_type": "code",
   "execution_count": null,
   "id": "b444a1d0",
   "metadata": {},
   "outputs": [],
   "source": [
    "print(\"Plotting vector field\")\n",
    "factor = 0.1\n",
    "for i in range(0, np.shape(pp_data)[0], 3):\n",
    "    plt.plot(\n",
    "        [pp_data[i][0], pp_data[i][0] + factor * pp_data[i][2]],\n",
    "        [pp_data[i][1], pp_data[i][1] + factor * pp_data[i][3]],\n",
    "        color=[0.6, 0.6, 0.6],\n",
    "    )"
   ]
  },
  {
   "cell_type": "code",
   "execution_count": null,
   "id": "c4f53f96",
   "metadata": {},
   "outputs": [],
   "source": [
    "plt.plot(nullcline_V[:][0], nullcline_V[:][1], linewidth=2.0)\n",
    "plt.plot(nullcline_n[:][0], nullcline_n[:][1], linewidth=2.0)"
   ]
  },
  {
   "cell_type": "code",
   "execution_count": null,
   "id": "0ff666ef",
   "metadata": {},
   "outputs": [],
   "source": [
    "plt.xlim([V_vec[0], V_vec[-1]])\n",
    "plt.ylim([n_vec[0], n_vec[-1]])"
   ]
  },
  {
   "cell_type": "code",
   "execution_count": null,
   "id": "09d41295",
   "metadata": {},
   "outputs": [],
   "source": [
    "plt.plot(ap[:][0], ap[:][1], color=\"black\", linewidth=1.0)"
   ]
  },
  {
   "cell_type": "code",
   "execution_count": null,
   "id": "72f6f547",
   "metadata": {},
   "outputs": [],
   "source": [
    "plt.xlabel(\"Membrane potential V [mV]\")\n",
    "plt.ylabel(\"Inactivation variable n\")\n",
    "plt.title(\"Phase space of the Hodgkin-Huxley Neuron\")"
   ]
  },
  {
   "cell_type": "code",
   "execution_count": null,
   "id": "2780a69a",
   "metadata": {},
   "outputs": [],
   "source": [
    "plt.show()"
   ]
  }
 ],
 "metadata": {
  "jupytext": {
   "cell_metadata_filter": "-all",
   "encoding": "# -*- coding: utf-8 -*-"
  },
  "kernelspec": {
   "display_name": "EBRAINS-24.04",
   "language": "python",
   "name": "ebrains-24.04"
  }
 },
 "nbformat": 4,
 "nbformat_minor": 5
}
