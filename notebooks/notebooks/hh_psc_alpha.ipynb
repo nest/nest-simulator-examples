{
 "cells": [
  {
   "cell_type": "markdown",
   "id": "b748a0f9",
   "metadata": {},
   "source": [
    "\n",
    "hh_psc_alpha.py\n",
    "\n",
    "This file is part of NEST.\n",
    "\n",
    "Copyright (C) 2004 The NEST Initiative\n",
    "\n",
    "NEST is free software: you can redistribute it and/or modify\n",
    "it under the terms of the GNU General Public License as published by\n",
    "the Free Software Foundation, either version 2 of the License, or\n",
    "(at your option) any later version.\n",
    "\n",
    "NEST is distributed in the hope that it will be useful,\n",
    "but WITHOUT ANY WARRANTY; without even the implied warranty of\n",
    "MERCHANTABILITY or FITNESS FOR A PARTICULAR PURPOSE.  See the\n",
    "GNU General Public License for more details.\n",
    "\n",
    "You should have received a copy of the GNU General Public License\n",
    "along with NEST.  If not, see <http://www.gnu.org/licenses/>."
   ]
  },
  {
   "cell_type": "code",
   "execution_count": null,
   "id": "c18c52b4",
   "metadata": {},
   "outputs": [],
   "source": [
    "\"\"\"\n",
    "Example using Hodgkin-Huxley neuron\n",
    "-----------------------------------\n",
    "\n",
    "This example produces a rate-response (FI) curve of the Hodgkin-Huxley\n",
    "neuron ``hh_psc_alpha`` in response to a range of different current (DC) stimulations.\n",
    "The result is plotted using matplotlib.\n",
    "\n",
    "Since a DC input affects only the neuron's channel dynamics, this routine\n",
    "does not yet check correctness of synaptic response.\n",
    "\"\"\""
   ]
  },
  {
   "cell_type": "code",
   "execution_count": null,
   "id": "fbf61f30",
   "metadata": {},
   "outputs": [],
   "source": [
    "import matplotlib.pyplot as plt\n",
    "import nest\n",
    "import numpy as np"
   ]
  },
  {
   "cell_type": "code",
   "execution_count": null,
   "id": "2cc55d6f",
   "metadata": {},
   "outputs": [],
   "source": [
    "nest.set_verbosity(\"M_WARNING\")\n",
    "nest.ResetKernel()"
   ]
  },
  {
   "cell_type": "code",
   "execution_count": null,
   "id": "dabdd1b8",
   "metadata": {},
   "outputs": [],
   "source": [
    "simtime = 1000"
   ]
  },
  {
   "cell_type": "code",
   "execution_count": null,
   "id": "2eb6dfb2",
   "metadata": {},
   "outputs": [],
   "source": [
    "# Amplitude range, in pA\n",
    "dcfrom = 0\n",
    "dcstep = 20\n",
    "dcto = 2000"
   ]
  },
  {
   "cell_type": "code",
   "execution_count": null,
   "id": "c209a3e2",
   "metadata": {},
   "outputs": [],
   "source": [
    "h = 0.1  # simulation step size in mS"
   ]
  },
  {
   "cell_type": "code",
   "execution_count": null,
   "id": "f76b22c7",
   "metadata": {},
   "outputs": [],
   "source": [
    "neuron = nest.Create(\"hh_psc_alpha\")\n",
    "sr = nest.Create(\"spike_recorder\")"
   ]
  },
  {
   "cell_type": "code",
   "execution_count": null,
   "id": "1b881a33",
   "metadata": {},
   "outputs": [],
   "source": [
    "sr.record_to = \"memory\""
   ]
  },
  {
   "cell_type": "code",
   "execution_count": null,
   "id": "3c574614",
   "metadata": {},
   "outputs": [],
   "source": [
    "nest.Connect(neuron, sr, syn_spec={\"weight\": 1.0, \"delay\": h})"
   ]
  },
  {
   "cell_type": "code",
   "execution_count": null,
   "id": "cb9ac584",
   "metadata": {},
   "outputs": [],
   "source": [
    "# Simulation loop\n",
    "n_data = int(dcto / float(dcstep))\n",
    "amplitudes = np.zeros(n_data)\n",
    "event_freqs = np.zeros(n_data)\n",
    "for i, amp in enumerate(range(dcfrom, dcto, dcstep)):\n",
    "    neuron.I_e = float(amp)\n",
    "    print(f\"Simulating with current I={amp} pA\")\n",
    "    nest.Simulate(1000)  # one second warm-up time for equilibrium state\n",
    "    sr.n_events = 0  # then reset spike counts\n",
    "    nest.Simulate(simtime)  # another simulation call to record firing rate\n",
    "\n",
    "    n_events = sr.n_events\n",
    "    amplitudes[i] = amp\n",
    "    event_freqs[i] = n_events / (simtime / 1000.0)"
   ]
  },
  {
   "cell_type": "code",
   "execution_count": null,
   "id": "8d36d202",
   "metadata": {},
   "outputs": [],
   "source": [
    "plt.plot(amplitudes, event_freqs)\n",
    "plt.show()"
   ]
  }
 ],
 "metadata": {
  "jupytext": {
   "cell_metadata_filter": "-all",
   "encoding": "# -*- coding: utf-8 -*-",
   "main_language": "python",
   "notebook_metadata_filter": "-all"
  },
  "kernelspec": {
   "display_name": "EBRAINS-experimental",
   "language": "python",
   "name": "ebrains-experimental"
  }
 },
 "nbformat": 4,
 "nbformat_minor": 5
}