{
 "cells": [
  {
   "cell_type": "code",
   "execution_count": null,
   "id": "97d72ef0",
   "metadata": {},
   "outputs": [],
   "source": [
    "%matplotlib inline"
   ]
  },
  {
   "cell_type": "code",
   "execution_count": null,
   "id": "f40c3380",
   "metadata": {},
   "outputs": [],
   "source": [
    "#\n",
    "# intrinsic_currents_spiking.py\n",
    "#\n",
    "# This file is part of NEST.\n",
    "#\n",
    "# Copyright (C) 2004 The NEST Initiative\n",
    "#\n",
    "# NEST is free software: you can redistribute it and/or modify\n",
    "# it under the terms of the GNU General Public License as published by\n",
    "# the Free Software Foundation, either version 2 of the License, or\n",
    "# (at your option) any later version.\n",
    "#\n",
    "# NEST is distributed in the hope that it will be useful,\n",
    "# but WITHOUT ANY WARRANTY; without even the implied warranty of\n",
    "# MERCHANTABILITY or FITNESS FOR A PARTICULAR PURPOSE.  See the\n",
    "# GNU General Public License for more details.\n",
    "#\n",
    "# You should have received a copy of the GNU General Public License\n",
    "# along with NEST.  If not, see <http://www.gnu.org/licenses/>.\n",
    "#"
   ]
  },
  {
   "cell_type": "markdown",
   "id": "0b2688fd",
   "metadata": {
    "cell_marker": "\"\"\""
   },
   "source": [
    "Intrinsic currents spiking\n",
    "--------------------------\n",
    "\n",
    "This example illustrates a neuron receiving spiking input through\n",
    "several different receptors (AMPA, NMDA, GABA_A, GABA_B), provoking\n",
    "spike output. The model, ``ht_neuron``, also has intrinsic currents\n",
    "(``I_NaP``, ``I_KNa``, ``I_T``, and ``I_h``). It is a slightly simplified implementation of\n",
    "neuron model proposed in [1]_.\n",
    "\n",
    "The neuron is bombarded with spike trains from four Poisson generators,\n",
    "which are connected to the AMPA, NMDA, GABA_A, and GABA_B receptors,\n",
    "respectively.\n",
    "\n",
    "References\n",
    "~~~~~~~~~~\n",
    "\n",
    ".. [1] Hill and Tononi (2005) Modeling sleep and wakefulness in the\n",
    "       thalamocortical system. J Neurophysiol 93:1671\n",
    "       https://doi.org/10.1152/jn.00915.2004\n",
    "\n",
    "See Also\n",
    "~~~~~~~~\n",
    "\n",
    ":doc:`intrinsic_currents_subthreshold`\n"
   ]
  },
  {
   "cell_type": "markdown",
   "id": "fce84166",
   "metadata": {},
   "source": [
    "We imported all necessary modules for simulation, analysis and plotting."
   ]
  },
  {
   "cell_type": "code",
   "execution_count": null,
   "id": "e8207352",
   "metadata": {},
   "outputs": [],
   "source": [
    "import matplotlib.pyplot as plt\n",
    "import nest"
   ]
  },
  {
   "cell_type": "markdown",
   "id": "0f2d3ef5",
   "metadata": {},
   "source": [
    "Additionally, we set the verbosity using ``set_verbosity`` to suppress info\n",
    "messages. We also reset the kernel to be sure to start with a clean NEST."
   ]
  },
  {
   "cell_type": "code",
   "execution_count": null,
   "id": "cc611405",
   "metadata": {},
   "outputs": [],
   "source": [
    "nest.set_verbosity(\"M_WARNING\")\n",
    "nest.ResetKernel()"
   ]
  },
  {
   "cell_type": "markdown",
   "id": "dc90edfa",
   "metadata": {},
   "source": [
    "We define the simulation parameters:\n",
    "\n",
    "- The rate of the input spike trains\n",
    "- The weights of the different receptors (names must match receptor types)\n",
    "- The time to simulate\n",
    "\n",
    "Note that all parameter values should be doubles, since NEST expects doubles."
   ]
  },
  {
   "cell_type": "code",
   "execution_count": null,
   "id": "327de9d2",
   "metadata": {},
   "outputs": [],
   "source": [
    "rate_in = 100.0\n",
    "w_recep = {\"AMPA\": 30.0, \"NMDA\": 30.0, \"GABA_A\": 5.0, \"GABA_B\": 10.0}\n",
    "t_sim = 250.0\n",
    "\n",
    "num_recep = len(w_recep)"
   ]
  },
  {
   "cell_type": "markdown",
   "id": "03e675f7",
   "metadata": {},
   "source": [
    "We create\n",
    "\n",
    "- one neuron instance\n",
    "- one Poisson generator instance for each synapse type\n",
    "- one multimeter to record from the neuron:"
   ]
  },
  {
   "cell_type": "code",
   "execution_count": null,
   "id": "4f36ddbc",
   "metadata": {},
   "outputs": [],
   "source": [
    "#   - membrane potential\n",
    "#   - threshold potential\n",
    "#   - synaptic conductances\n",
    "#   - intrinsic currents\n",
    "#\n",
    "# See :doc:`intrinsic_currents_subthreshold` for more details on ``multimeter``\n",
    "# configuration.\n",
    "\n",
    "nrn = nest.Create(\"ht_neuron\")\n",
    "p_gens = nest.Create(\"poisson_generator\", 4, params={\"rate\": rate_in})\n",
    "mm = nest.Create(\n",
    "    \"multimeter\",\n",
    "    params={\n",
    "        \"interval\": 0.1,\n",
    "        \"record_from\": [\"V_m\", \"theta\", \"g_AMPA\", \"g_NMDA\", \"g_GABA_A\", \"g_GABA_B\", \"I_NaP\", \"I_KNa\", \"I_T\", \"I_h\"],\n",
    "    },\n",
    ")"
   ]
  },
  {
   "cell_type": "markdown",
   "id": "25905daa",
   "metadata": {},
   "source": [
    "We now connect each Poisson generator with the neuron through a different\n",
    "receptor type.\n",
    "\n",
    "First, we need to obtain the numerical codes for the receptor types from\n",
    "the model. The ``receptor_types`` entry of the default dictionary for the\n",
    "``ht_neuron`` model is a dictionary mapping receptor names to codes.\n",
    "\n",
    "In the loop, we use Python's tuple unpacking mechanism to unpack\n",
    "dictionary entries from our `w_recep` dictionary.\n",
    "\n",
    "Note that we need to pack the `pg` variable into a list before\n",
    "passing it to ``Connect``, because iterating over the `p_gens` list\n",
    "makes `pg` a \"naked\" node ID."
   ]
  },
  {
   "cell_type": "code",
   "execution_count": null,
   "id": "01f025d5",
   "metadata": {},
   "outputs": [],
   "source": [
    "receptors = nest.GetDefaults(\"ht_neuron\")[\"receptor_types\"]\n",
    "for index, (rec_name, rec_wgt) in enumerate(w_recep.items()):\n",
    "    nest.Connect(p_gens[index], nrn, syn_spec={\"receptor_type\": receptors[rec_name], \"weight\": rec_wgt})"
   ]
  },
  {
   "cell_type": "markdown",
   "id": "824c674c",
   "metadata": {},
   "source": [
    "We then connect the ``multimeter``. Note that the multimeter is connected to\n",
    "the neuron, not the other way around."
   ]
  },
  {
   "cell_type": "code",
   "execution_count": null,
   "id": "9de1b98c",
   "metadata": {},
   "outputs": [],
   "source": [
    "nest.Connect(mm, nrn)"
   ]
  },
  {
   "cell_type": "markdown",
   "id": "7e1b2af4",
   "metadata": {},
   "source": [
    "We are now ready to simulate."
   ]
  },
  {
   "cell_type": "code",
   "execution_count": null,
   "id": "06fb6ff9",
   "metadata": {},
   "outputs": [],
   "source": [
    "nest.Simulate(t_sim)"
   ]
  },
  {
   "cell_type": "markdown",
   "id": "10a757c2",
   "metadata": {},
   "source": [
    "We now fetch the data recorded by the multimeter. The data are returned as\n",
    "a dictionary with entry ``times`` containing timestamps for all\n",
    "recorded data, plus one entry per recorded quantity.\n",
    "All data is contained in the ``events`` entry of the status dictionary\n",
    "returned by the multimeter."
   ]
  },
  {
   "cell_type": "code",
   "execution_count": null,
   "id": "62299483",
   "metadata": {},
   "outputs": [],
   "source": [
    "data = mm.events\n",
    "t = data[\"times\"]"
   ]
  },
  {
   "cell_type": "markdown",
   "id": "c56bbac7",
   "metadata": {},
   "source": [
    "The following function turns a name such as ``I_NaP`` into proper TeX code\n",
    ":math:`I_{\\mathrm{NaP}}` for a pretty label."
   ]
  },
  {
   "cell_type": "code",
   "execution_count": null,
   "id": "81a83d47",
   "metadata": {},
   "outputs": [],
   "source": [
    "\n",
    "def texify_name(name):\n",
    "    return r\"${}_{{\\mathrm{{{}}}}}$\".format(*name.split(\"_\"))\n"
   ]
  },
  {
   "cell_type": "markdown",
   "id": "f5ae13a1",
   "metadata": {},
   "source": [
    "The next step is to plot the results. We create a new figure, and add one\n",
    "subplot each for membrane and threshold potential, synaptic conductances,\n",
    "and intrinsic currents."
   ]
  },
  {
   "cell_type": "code",
   "execution_count": null,
   "id": "13cb7ee7",
   "metadata": {},
   "outputs": [],
   "source": [
    "\n",
    "fig = plt.figure()\n",
    "\n",
    "Vax = fig.add_subplot(311)\n",
    "Vax.plot(t, data[\"V_m\"], \"b\", lw=2, label=r\"$V_m$\")\n",
    "Vax.plot(t, data[\"theta\"], \"g\", lw=2, label=r\"$\\Theta$\")\n",
    "Vax.set_ylabel(\"Potential [mV]\")\n",
    "\n",
    "try:\n",
    "    Vax.legend(fontsize=\"small\")\n",
    "except TypeError:\n",
    "    Vax.legend()  # work-around for older Matplotlib versions\n",
    "Vax.set_title(\"ht_neuron driven by Poisson processes\")\n",
    "\n",
    "Gax = fig.add_subplot(312)\n",
    "for gname in (\"g_AMPA\", \"g_NMDA\", \"g_GABA_A\", \"g_GABA_B\"):\n",
    "    Gax.plot(t, data[gname], lw=2, label=texify_name(gname))\n",
    "\n",
    "try:\n",
    "    Gax.legend(fontsize=\"small\")\n",
    "except TypeError:\n",
    "    Gax.legend()  # work-around for older Matplotlib versions\n",
    "Gax.set_ylabel(\"Conductance [nS]\")\n",
    "\n",
    "Iax = fig.add_subplot(313)\n",
    "for iname, color in ((\"I_h\", \"maroon\"), (\"I_T\", \"orange\"), (\"I_NaP\", \"crimson\"), (\"I_KNa\", \"aqua\")):\n",
    "    Iax.plot(t, data[iname], color=color, lw=2, label=texify_name(iname))\n",
    "\n",
    "try:\n",
    "    Iax.legend(fontsize=\"small\")\n",
    "except TypeError:\n",
    "    Iax.legend()  # work-around for older Matplotlib versions\n",
    "Iax.set_ylabel(\"Current [pA]\")\n",
    "Iax.set_xlabel(\"Time [ms]\")"
   ]
  }
 ],
 "metadata": {
  "jupytext": {
   "cell_metadata_filter": "-all",
   "encoding": "# -*- coding: utf-8 -*-"
  },
  "kernelspec": {
   "display_name": "EBRAINS-24.04",
   "language": "python",
   "name": "ebrains-24.04"
  }
 },
 "nbformat": 4,
 "nbformat_minor": 5
}
