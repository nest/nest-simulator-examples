{
 "cells": [
  {
   "cell_type": "code",
   "execution_count": null,
   "id": "45782ad8",
   "metadata": {},
   "outputs": [],
   "source": [
    "%matplotlib inline"
   ]
  },
  {
   "cell_type": "code",
   "execution_count": null,
   "id": "46df31ed",
   "metadata": {},
   "outputs": [],
   "source": [
    "#\n",
    "# precise_spiking.py\n",
    "#\n",
    "# This file is part of NEST.\n",
    "#\n",
    "# Copyright (C) 2004 The NEST Initiative\n",
    "#\n",
    "# NEST is free software: you can redistribute it and/or modify\n",
    "# it under the terms of the GNU General Public License as published by\n",
    "# the Free Software Foundation, either version 2 of the License, or\n",
    "# (at your option) any later version.\n",
    "#\n",
    "# NEST is distributed in the hope that it will be useful,\n",
    "# but WITHOUT ANY WARRANTY; without even the implied warranty of\n",
    "# MERCHANTABILITY or FITNESS FOR A PARTICULAR PURPOSE.  See the\n",
    "# GNU General Public License for more details.\n",
    "#\n",
    "# You should have received a copy of the GNU General Public License\n",
    "# along with NEST.  If not, see <http://www.gnu.org/licenses/>."
   ]
  },
  {
   "cell_type": "markdown",
   "id": "1e3f7032",
   "metadata": {
    "cell_marker": "\"\"\""
   },
   "source": [
    "Comparing precise and grid-based neuron models\n",
    "----------------------------------------------\n",
    "\n",
    "In traditional time-driven simulations, spikes are constrained to the\n",
    "time grid at a user-defined resolution. The precise spiking models\n",
    "overcome this by handling spikes in continuous time [1]_ and [2]_.\n",
    "\n",
    "The precise spiking neuron models in NEST include: ``iaf_psc_exp_ps``,\n",
    "``iaf_psc_alpha_ps`` and ``iaf_psc_delta_ps``.\n",
    "More detailed information about the precise spiking models can be\n",
    "found here:\n",
    "https://www.nest-simulator.org/simulations-with-precise-spike-times/\n",
    "\n",
    "This example compares the conventional grid-constrained model and the\n",
    "precise version for an integrate-and-fire neuron model with exponential\n",
    "postsynaptic currents [2]_.\n",
    "\n",
    "References\n",
    "~~~~~~~~~~\n",
    "\n",
    ".. [1] Morrison A, Straube S, Plesser HE, Diesmann M. 2007. Exact subthreshold\n",
    "       integration with continuous spike times in discrete-time neural network\n",
    "       simulations. Neural Computation. 19(1):47-79.\n",
    "       https://doi.org/10.1162/neco.2007.19.1.47\n",
    "\n",
    ".. [2] Hanuschkin A, Kunkel S, Helias M, Morrison A and Diesmann M. 2010. A\n",
    "       general and efficient method for incorporating precise spike times in\n",
    "       globally time-driven simulations. Froniers in Neuroinformatics. 4:113.\n",
    "       https://doi.org/10.3389/fninf.2010.00113\n"
   ]
  },
  {
   "cell_type": "code",
   "execution_count": null,
   "id": "3eb9ac28",
   "metadata": {},
   "outputs": [],
   "source": []
  },
  {
   "cell_type": "markdown",
   "id": "f1927d13",
   "metadata": {},
   "source": [
    "First, we import all necessary modules for simulation, analysis, and\n",
    "plotting."
   ]
  },
  {
   "cell_type": "code",
   "execution_count": null,
   "id": "82c070e1",
   "metadata": {},
   "outputs": [],
   "source": [
    "\n",
    "import matplotlib.pyplot as plt\n",
    "import nest"
   ]
  },
  {
   "cell_type": "markdown",
   "id": "a644ac0c",
   "metadata": {},
   "source": [
    "Second, we assign the simulation parameters to variables."
   ]
  },
  {
   "cell_type": "code",
   "execution_count": null,
   "id": "81e46c9f",
   "metadata": {},
   "outputs": [],
   "source": [
    "\n",
    "simtime = 100.0  # ms\n",
    "stim_current = 700.0  # pA\n",
    "resolutions = [0.1, 0.5, 1.0]  # ms\n"
   ]
  },
  {
   "cell_type": "markdown",
   "id": "9857a0be",
   "metadata": {
    "cell_marker": "###################################################################################"
   },
   "source": [
    "Now, we simulate the two versions of the neuron models (i.e. discrete-time:\n",
    "``iaf_psc_exp``; precise: ``iaf_psc_exp_ps``) for each of the defined\n",
    "resolutions. The neurons use their default parameters and we stimulate them\n",
    "by injecting a current using a ``dc_generator`` device. The membrane\n",
    "potential is recorded by a ``voltmeter``, the spikes are recorded by\n",
    "a ``spike_recorder``.  The data is stored in a dictionary for later\n",
    "use."
   ]
  },
  {
   "cell_type": "code",
   "execution_count": null,
   "id": "dcba0e2b",
   "metadata": {},
   "outputs": [],
   "source": [
    "\n",
    "data = {}\n",
    "\n",
    "for resolution in resolutions:\n",
    "    data[resolution] = {}\n",
    "    for model in [\"iaf_psc_exp\", \"iaf_psc_exp_ps\"]:\n",
    "        nest.ResetKernel()\n",
    "        nest.resolution = resolution\n",
    "\n",
    "        neuron = nest.Create(model)\n",
    "        voltmeter = nest.Create(\"voltmeter\", params={\"interval\": resolution})\n",
    "        dc = nest.Create(\"dc_generator\", params={\"amplitude\": stim_current})\n",
    "        sr = nest.Create(\"spike_recorder\")\n",
    "\n",
    "        nest.Connect(voltmeter, neuron)\n",
    "        nest.Connect(dc, neuron)\n",
    "        nest.Connect(neuron, sr)\n",
    "\n",
    "        nest.Simulate(simtime)\n",
    "\n",
    "        vm_status = voltmeter.events\n",
    "        sr_status = sr.events\n",
    "        data[resolution][model] = {\n",
    "            \"vm_times\": vm_status[\"times\"],\n",
    "            \"vm_values\": vm_status[\"V_m\"],\n",
    "            \"spikes\": sr_status[\"times\"],\n",
    "            \"V_th\": neuron.V_th,\n",
    "        }\n"
   ]
  },
  {
   "cell_type": "markdown",
   "id": "b6d2cdb9",
   "metadata": {},
   "source": [
    "After simulation, we plot the results from the simulation. The figure\n",
    "illustrates the membrane potential excursion of the two models due to\n",
    "injected current simulated for 100 ms for a different timestep in each panel.\n",
    "The blue line is the voltage trace of the discrete-time neuron, the red line\n",
    "is that of the precise spiking version of the same model.\n",
    "\n",
    "Please note that the temporal differences between the traces in the different\n",
    "panels is caused by the different resolutions used."
   ]
  },
  {
   "cell_type": "code",
   "execution_count": null,
   "id": "3d848079",
   "metadata": {},
   "outputs": [],
   "source": [
    "\n",
    "colors = [\"#3465a4\", \"#cc0000\"]\n",
    "\n",
    "for v, resolution in enumerate(sorted(data)):\n",
    "    plot = plt.subplot(len(data), 1, v + 1)\n",
    "    plot.set_title(\"Resolution: {0} ms\".format(resolution))\n",
    "\n",
    "    for i, model in enumerate(data[resolution]):\n",
    "        times = data[resolution][model][\"vm_times\"]\n",
    "        potentials = data[resolution][model][\"vm_values\"]\n",
    "        spikes = data[resolution][model][\"spikes\"]\n",
    "        spikes_y = [data[resolution][model][\"V_th\"]] * len(spikes)\n",
    "\n",
    "        plot.plot(times, potentials, \"-\", c=colors[i], ms=5, lw=2, label=model)\n",
    "        plot.plot(spikes, spikes_y, \".\", c=colors[i], ms=5, lw=2)\n",
    "\n",
    "    if v == 2:\n",
    "        plot.legend(loc=4)\n",
    "    else:\n",
    "        plot.set_xticklabels(\"\")\n",
    "\n",
    "plt.show()"
   ]
  }
 ],
 "metadata": {
  "jupytext": {
   "cell_metadata_filter": "-all",
   "encoding": "# -*- coding: utf-8 -*-",
   "main_language": "python",
   "notebook_metadata_filter": "-all"
  },
  "kernelspec": {
   "display_name": "EBRAINS-experimental",
   "language": "python",
   "name": "ebrains-experimental"
  }
 },
 "nbformat": 4,
 "nbformat_minor": 5
}