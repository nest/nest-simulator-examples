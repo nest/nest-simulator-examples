{
 "cells": [
  {
   "cell_type": "code",
   "execution_count": null,
   "id": "48dcf900",
   "metadata": {},
   "outputs": [],
   "source": [
    "%matplotlib inline"
   ]
  },
  {
   "cell_type": "code",
   "execution_count": null,
   "id": "b70e9769",
   "metadata": {},
   "outputs": [],
   "source": [
    "#\n",
    "# sinusoidal_poisson_generator.py\n",
    "#\n",
    "# This file is part of NEST.\n",
    "#\n",
    "# Copyright (C) 2004 The NEST Initiative\n",
    "#\n",
    "# NEST is free software: you can redistribute it and/or modify\n",
    "# it under the terms of the GNU General Public License as published by\n",
    "# the Free Software Foundation, either version 2 of the License, or\n",
    "# (at your option) any later version.\n",
    "#\n",
    "# NEST is distributed in the hope that it will be useful,\n",
    "# but WITHOUT ANY WARRANTY; without even the implied warranty of\n",
    "# MERCHANTABILITY or FITNESS FOR A PARTICULAR PURPOSE.  See the\n",
    "# GNU General Public License for more details.\n",
    "#\n",
    "# You should have received a copy of the GNU General Public License\n",
    "# along with NEST.  If not, see <http://www.gnu.org/licenses/>.\n",
    "#"
   ]
  },
  {
   "cell_type": "markdown",
   "id": "bfb1ad97",
   "metadata": {
    "cell_marker": "\"\"\""
   },
   "source": [
    "Sinusoidal poisson generator example\n",
    "------------------------------------\n",
    "\n",
    "This script demonstrates the use of the ``sinusoidal_poisson_generator``\n",
    "and its different parameters and modes. The source code of the model\n",
    "can be found in ``models/sinusoidal_poisson_generator.h``.\n",
    "\n",
    "The script is structured into two parts and creates one common figure.\n",
    "In Part 1, two instances of the ``sinusoidal_poisson_generator`` are\n",
    "created with different parameters. Part 2 illustrates the effect of\n",
    "the ``individual_spike_trains`` switch.\n"
   ]
  },
  {
   "cell_type": "code",
   "execution_count": null,
   "id": "a5f9a6dd",
   "metadata": {},
   "outputs": [],
   "source": []
  },
  {
   "cell_type": "markdown",
   "id": "0a7f0b6b",
   "metadata": {},
   "source": [
    "We import the modules required to simulate, analyze and plot this example."
   ]
  },
  {
   "cell_type": "code",
   "execution_count": null,
   "id": "69d12592",
   "metadata": {},
   "outputs": [],
   "source": [
    "\n",
    "import matplotlib.pyplot as plt\n",
    "import nest\n",
    "import numpy as np\n",
    "\n",
    "nest.ResetKernel()  # in case we run the script multiple times from iPython\n"
   ]
  },
  {
   "cell_type": "markdown",
   "id": "e49a6528",
   "metadata": {
    "cell_marker": "####################################################################################"
   },
   "source": [
    "We create two instances of the ``sinusoidal_poisson_generator`` with two\n",
    "different parameter sets using ``Create``. Moreover, we create devices to\n",
    "record firing rates (``multimeter``) and spikes (``spike_recorder``) and connect\n",
    "them to the generators using ``Connect``."
   ]
  },
  {
   "cell_type": "code",
   "execution_count": null,
   "id": "f45a76df",
   "metadata": {},
   "outputs": [],
   "source": [
    "\n",
    "nest.resolution = 0.01\n",
    "\n",
    "num_nodes = 2\n",
    "g = nest.Create(\n",
    "    \"sinusoidal_poisson_generator\",\n",
    "    n=num_nodes,\n",
    "    params={\"rate\": [10000.0, 0.0], \"amplitude\": [5000.0, 10000.0], \"frequency\": [10.0, 5.0], \"phase\": [0.0, 90.0]},\n",
    ")\n",
    "\n",
    "m = nest.Create(\"multimeter\", num_nodes, {\"interval\": 0.1, \"record_from\": [\"rate\"]})\n",
    "s = nest.Create(\"spike_recorder\", num_nodes)\n",
    "\n",
    "nest.Connect(m, g, \"one_to_one\")\n",
    "nest.Connect(g, s, \"one_to_one\")\n",
    "print(m.get())\n",
    "nest.Simulate(200)\n"
   ]
  },
  {
   "cell_type": "markdown",
   "id": "6244d118",
   "metadata": {},
   "source": [
    "After simulating, the spikes are extracted from the ``spike_recorder`` and\n",
    "plots are created with panels for the PST and ISI histograms."
   ]
  },
  {
   "cell_type": "code",
   "execution_count": null,
   "id": "a5099e4d",
   "metadata": {},
   "outputs": [],
   "source": [
    "\n",
    "colors = [\"b\", \"g\"]\n",
    "\n",
    "for j in range(num_nodes):\n",
    "    ev = m[j].events\n",
    "    t = ev[\"times\"]\n",
    "    r = ev[\"rate\"]\n",
    "\n",
    "    spike_times = s[j].events[\"times\"]\n",
    "    plt.subplot(221)\n",
    "    h, e = np.histogram(spike_times, bins=np.arange(0.0, 201.0, 5.0))\n",
    "    plt.plot(t, r, color=colors[j])\n",
    "    plt.step(e[:-1], h * 1000 / 5.0, color=colors[j], where=\"post\")\n",
    "    plt.title(\"PST histogram and firing rates\")\n",
    "    plt.ylabel(\"Spikes per second\")\n",
    "\n",
    "    plt.subplot(223)\n",
    "    plt.hist(np.diff(spike_times), bins=np.arange(0.0, 1.005, 0.02), histtype=\"step\", color=colors[j])\n",
    "    plt.title(\"ISI histogram\")\n"
   ]
  },
  {
   "cell_type": "markdown",
   "id": "e6eccc2d",
   "metadata": {},
   "source": [
    "The kernel is reset and the number of threads set to 4."
   ]
  },
  {
   "cell_type": "code",
   "execution_count": null,
   "id": "0734463d",
   "metadata": {},
   "outputs": [],
   "source": [
    "\n",
    "nest.ResetKernel()\n",
    "nest.local_num_threads = 4\n"
   ]
  },
  {
   "cell_type": "markdown",
   "id": "ef88199b",
   "metadata": {},
   "source": [
    "A ``sinusoidal_poisson_generator`` with  ``individual_spike_trains`` set to\n",
    "`True` is created and connected to 20 parrot neurons whose spikes are\n",
    "recorded by a ``spike_recorder``. After simulating, a raster plot of the spikes\n",
    "is created."
   ]
  },
  {
   "cell_type": "code",
   "execution_count": null,
   "id": "63c092ed",
   "metadata": {},
   "outputs": [],
   "source": [
    "\n",
    "g = nest.Create(\n",
    "    \"sinusoidal_poisson_generator\",\n",
    "    params={\"rate\": 100.0, \"amplitude\": 50.0, \"frequency\": 10.0, \"phase\": 0.0, \"individual_spike_trains\": True},\n",
    ")\n",
    "p = nest.Create(\"parrot_neuron\", 20)\n",
    "s = nest.Create(\"spike_recorder\")\n",
    "\n",
    "nest.Connect(g, p, \"all_to_all\")\n",
    "nest.Connect(p, s, \"all_to_all\")\n",
    "\n",
    "nest.Simulate(200)\n",
    "ev = s.events\n",
    "plt.subplot(222)\n",
    "plt.plot(ev[\"times\"], ev[\"senders\"] - min(ev[\"senders\"]), \"o\")\n",
    "plt.ylim([-0.5, 19.5])\n",
    "plt.yticks([])\n",
    "plt.title(\"Individual spike trains for each target\")\n"
   ]
  },
  {
   "cell_type": "markdown",
   "id": "ba9b1253",
   "metadata": {},
   "source": [
    "The kernel is reset again and the whole procedure is repeated for a\n",
    "``sinusoidal_poisson_generator`` with `individual_spike_trains` set to\n",
    "`False`. The plot shows that in this case, all neurons receive the same\n",
    "spike train from the ``sinusoidal_poisson_generator``."
   ]
  },
  {
   "cell_type": "code",
   "execution_count": null,
   "id": "4e9089d2",
   "metadata": {},
   "outputs": [],
   "source": [
    "\n",
    "nest.ResetKernel()\n",
    "nest.local_num_threads = 4\n",
    "\n",
    "g = nest.Create(\n",
    "    \"sinusoidal_poisson_generator\",\n",
    "    params={\"rate\": 100.0, \"amplitude\": 50.0, \"frequency\": 10.0, \"phase\": 0.0, \"individual_spike_trains\": False},\n",
    ")\n",
    "p = nest.Create(\"parrot_neuron\", 20)\n",
    "s = nest.Create(\"spike_recorder\")\n",
    "\n",
    "nest.Connect(g, p, \"all_to_all\")\n",
    "nest.Connect(p, s, \"all_to_all\")\n",
    "\n",
    "nest.Simulate(200)\n",
    "ev = s.events\n",
    "plt.subplot(224)\n",
    "plt.plot(ev[\"times\"], ev[\"senders\"] - min(ev[\"senders\"]), \"o\")\n",
    "plt.ylim([-0.5, 19.5])\n",
    "plt.yticks([])\n",
    "plt.title(\"One spike train for all targets\")\n",
    "plt.show()"
   ]
  }
 ],
 "metadata": {
  "jupytext": {
   "cell_metadata_filter": "-all",
   "encoding": "# -*- coding: utf-8 -*-"
  },
  "kernelspec": {
   "display_name": "EBRAINS-24.04",
   "language": "python",
   "name": "ebrains-24.04"
  }
 },
 "nbformat": 4,
 "nbformat_minor": 5
}
