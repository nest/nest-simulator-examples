{
 "cells": [
  {
   "cell_type": "code",
   "execution_count": null,
   "id": "0b94d79c",
   "metadata": {},
   "outputs": [],
   "source": [
    "%matplotlib inline"
   ]
  },
  {
   "cell_type": "code",
   "execution_count": null,
   "id": "e53f3aed",
   "metadata": {},
   "outputs": [],
   "source": [
    "#\n",
    "# sonata_network.py\n",
    "#\n",
    "# This file is part of NEST.\n",
    "#\n",
    "# Copyright (C) 2004 The NEST Initiative\n",
    "#\n",
    "# NEST is free software: you can redistribute it and/or modify\n",
    "# it under the terms of the GNU General Public License as published by\n",
    "# the Free Software Foundation, either version 2 of the License, or\n",
    "# (at your option) any later version.\n",
    "#\n",
    "# NEST is distributed in the hope that it will be useful,\n",
    "# but WITHOUT ANY WARRANTY; without even the implied warranty of\n",
    "# MERCHANTABILITY or FITNESS FOR A PARTICULAR PURPOSE.  See the\n",
    "# GNU General Public License for more details.\n",
    "#\n",
    "# You should have received a copy of the GNU General Public License\n",
    "# along with NEST.  If not, see <http://www.gnu.org/licenses/>."
   ]
  },
  {
   "cell_type": "markdown",
   "id": "23217fb6",
   "metadata": {
    "cell_marker": "\"\"\""
   },
   "source": [
    "NEST SONATA network\n",
    "-------------------\n",
    "\n",
    "This script builds and simulates a network of point neurons represented by\n",
    "the SONATA format [1]_. The network model consists of 300 internal nodes\n",
    "(explicitly simulated) and 100 external nodes (only provide inputs to the\n",
    "simulated system). The SONATA files can be found in the\n",
    "`pynest/examples/sonata_example/300_pointneurons\n",
    "<https://github.com/nest/nest-simulator/tree/master/pynest/examples/sonata_example/300_pointneurons>`_\n",
    "directory.\n",
    "\n",
    "See the :ref:`nest_sonata` for details on the NEST support of the SONATA format.\n",
    "\n",
    "References\n",
    "~~~~~~~~~~\n",
    "\n",
    ".. [1] Dai K, Hernando J, Billeh YN, Gratiy SL, Planas J, et al. (2020).\n",
    "       The SONATA data format for efficient description of large-scale network models.\n",
    "       PLOS Computational Biology 16(2): e1007696. https://doi.org/10.1371/journal.pcbi.1007696\n"
   ]
  },
  {
   "cell_type": "markdown",
   "id": "1cc0f88e",
   "metadata": {},
   "source": [
    "Import all necessary packages for simulation, analysis and plotting."
   ]
  },
  {
   "cell_type": "code",
   "execution_count": null,
   "id": "9eee35c2",
   "metadata": {},
   "outputs": [],
   "source": [
    "from pathlib import Path\n",
    "\n",
    "import matplotlib.pyplot as plt\n",
    "import nest\n",
    "\n",
    "nest.set_verbosity(\"M_ERROR\")\n",
    "nest.ResetKernel()"
   ]
  },
  {
   "cell_type": "markdown",
   "id": "a42a8c9d",
   "metadata": {},
   "source": [
    "Specify the path to the SONATA .json configuration file(s).\n",
    "The `300_pointneurons` model has two configuration files:\n",
    "One circuit and one simulation configuration file.\n",
    "We locate the configuration files relative to this example script."
   ]
  },
  {
   "cell_type": "code",
   "execution_count": null,
   "id": "a7adfe75",
   "metadata": {},
   "outputs": [],
   "source": [
    "base_path = Path(__file__).resolve().parent\n",
    "sonata_path = base_path / \"300_pointneurons\"\n",
    "net_config = sonata_path / \"circuit_config.json\"\n",
    "sim_config = sonata_path / \"simulation_config.json\""
   ]
  },
  {
   "cell_type": "markdown",
   "id": "4b1a2f0b",
   "metadata": {},
   "source": [
    "SONATA networks are built and simulated through the :py:class:`.SonataNetwork`\n",
    "class. SONATA config files are passed to the class constructor. Passing a\n",
    "second config is optional and only relevant if the network and simulation\n",
    "configurations are specified separately.\n",
    "\n",
    "First, we instantiate the class."
   ]
  },
  {
   "cell_type": "code",
   "execution_count": null,
   "id": "fd276f22",
   "metadata": {},
   "outputs": [],
   "source": [
    "sonata_net = nest.SonataNetwork(net_config, sim_config=sim_config)"
   ]
  },
  {
   "cell_type": "markdown",
   "id": "426f718a",
   "metadata": {},
   "source": [
    "Next, we build the network. The network nodes are created by the membership\n",
    "function :py:meth:`~.SonataNetwork.Create` and their connections by the\n",
    "membership function :py:meth:`~.SonataNetwork.Connect`. For convenience,\n",
    "we only need to call the membership function\n",
    ":py:meth:`~.SonataNetwork.BuildNetwork` which internally calls\n",
    ":py:meth:`~.SonataNetwork.Create` and :py:meth:`~.SonataNetwork.Connect`\n",
    "\n",
    "For large networks, the edges HDF5 files might not fit into memory in their\n",
    "entirety. In the NEST kernel, the edges HDF5 datasets are therefore\n",
    "read sequentially in blocks of contiguous hyperslabs. The hyperslab size is\n",
    "modifiable through the keyword argument ``hdf5_hyperslab_size``. This allows\n",
    "the user to control the balance between the number of read operations and\n",
    "memory overhead.\n",
    "\n",
    ":py:meth:`~.SonataNetwork.BuildNetwork()` returns a dictionary containing\n",
    "the created :py:class:`.NodeCollection`\\s. The population names are the\n",
    "dictionary keys."
   ]
  },
  {
   "cell_type": "code",
   "execution_count": null,
   "id": "276fbc8d",
   "metadata": {},
   "outputs": [],
   "source": [
    "node_collections = sonata_net.BuildNetwork(hdf5_hyperslab_size=2**20)"
   ]
  },
  {
   "cell_type": "markdown",
   "id": "f328e86d",
   "metadata": {},
   "source": [
    "We can now verify whether the built network has the expected number of\n",
    "nodes and connections."
   ]
  },
  {
   "cell_type": "code",
   "execution_count": null,
   "id": "64b34ab1",
   "metadata": {},
   "outputs": [],
   "source": [
    "print(f'Network built from SONATA specifications in directory \"{sonata_path.name}\"')\n",
    "print(f\"  Number of nodes      : {nest.network_size}\")\n",
    "print(f\"  Number of connections: {nest.num_connections}\")"
   ]
  },
  {
   "cell_type": "markdown",
   "id": "1888744b",
   "metadata": {},
   "source": [
    "NEST does not currently support SONATA Spike Train Reports or utilize other\n",
    "``output`` components in the SONATA config. This means that recording devices\n",
    "must be created and connected manually.\n",
    "\n",
    "Here, we create a ``spike_recorder`` to record the spiking events of neurons.\n",
    "We wish to connect the spike recorder to the internal population and only\n",
    "record from a subset of the neurons in the population. We extract the\n",
    "internal population's :py:class:`.NodeCollection` from the ``node_collections`` dictionary\n",
    "by using the internal population's name. Then we slice the :py:class:`.NodeCollection`\n",
    "with a list specifying the node ids of the neurons we wish to record from."
   ]
  },
  {
   "cell_type": "code",
   "execution_count": null,
   "id": "f5965ad4",
   "metadata": {},
   "outputs": [],
   "source": [
    "s_rec = nest.Create(\"spike_recorder\")\n",
    "pop_name = \"internal\"\n",
    "record_node_ids = [1, 80, 160, 240, 270]\n",
    "nest.Connect(node_collections[pop_name][record_node_ids], s_rec)"
   ]
  },
  {
   "cell_type": "markdown",
   "id": "355a7fe2",
   "metadata": {},
   "source": [
    "Finally, we call the membership function :py:meth:`~.SonataNetwork.Simulate`\n",
    "to simulate the network. Note that the simulation time and resolution are\n",
    "expected to be provided in the SONATA config."
   ]
  },
  {
   "cell_type": "code",
   "execution_count": null,
   "id": "80c1b12b",
   "metadata": {},
   "outputs": [],
   "source": [
    "sonata_net.Simulate()"
   ]
  },
  {
   "cell_type": "markdown",
   "id": "c0ef47bf",
   "metadata": {},
   "source": [
    "After the simulation has finished, we can obtain the data recorded by the\n",
    "spike recorder for further analysis."
   ]
  },
  {
   "cell_type": "code",
   "execution_count": null,
   "id": "aaa52f08",
   "metadata": {},
   "outputs": [],
   "source": [
    "nest.raster_plot.from_device(s_rec)\n",
    "plt.show()"
   ]
  }
 ],
 "metadata": {
  "jupytext": {
   "cell_metadata_filter": "-all",
   "encoding": "# -*- coding: utf-8 -*-",
   "main_language": "python",
   "notebook_metadata_filter": "-all"
  },
  "kernelspec": {
   "display_name": "EBRAINS-experimental",
   "language": "python",
   "name": "ebrains-experimental"
  }
 },
 "nbformat": 4,
 "nbformat_minor": 5
}