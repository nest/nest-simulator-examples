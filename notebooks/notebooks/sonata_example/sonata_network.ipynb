{
  "cells": [
    {
      "cell_type": "markdown",
      "metadata": {},
      "source": [
        "\n# NEST SONATA network\n\nThis script builds and simulates a network of point neurons represented by\nthe SONATA format [1]_. The network model consists of 300 internal nodes\n(explicitly simulated) and 100 external nodes (only provide inputs to the\nsimulated system). The SONATA files can be found in the\n[pynest/examples/300_pointneurons](https://github.com/nest/nest-simulator/tree/master/pynest/examples/300_pointneurons)\ndirectory.\n\nSee the `nest_sonata` for details on the NEST support of the SONATA format.\n\n## References\n\n.. [1] Dai K, Hernando J, Billeh YN, Gratiy SL, Planas J, et al. (2020).\n       The SONATA data format for efficient description of large-scale network models.\n       PLOS Computational Biology 16(2): e1007696. https://doi.org/10.1371/journal.pcbi.1007696\n"
      ]
    },
    {
      "cell_type": "markdown",
      "metadata": {},
      "source": [
        "Import all necessary packages for simulation, analysis and plotting.\n\n"
      ]
    },
    {
      "cell_type": "code",
      "execution_count": null,
      "metadata": {
        "collapsed": false
      },
      "outputs": [],
      "source": [
        "import nest\nimport matplotlib.pyplot as plt\nfrom pathlib import Path\n\nnest.set_verbosity(\"M_ERROR\")\nnest.ResetKernel()"
      ]
    },
    {
      "cell_type": "markdown",
      "metadata": {},
      "source": [
        "Specify the path to the SONATA .json configuration file(s).\nThe `300_pointneurons` model has two configuration files:\nOne circuit and one simulation configuration file.\nWe locate the configuration files relative to this example script.\n\n"
      ]
    },
    {
      "cell_type": "code",
      "execution_count": null,
      "metadata": {
        "collapsed": false
      },
      "outputs": [],
      "source": [
        "base_path = Path.cwd()\nsonata_path = base_path / \"300_pointneurons\"\nnet_config = sonata_path / \"circuit_config.json\"\nsim_config = sonata_path / \"simulation_config.json\""
      ]
    },
    {
      "cell_type": "markdown",
      "metadata": {},
      "source": [
        "SONATA networks are built and simulated through the :py:class:`.SonataNetwork`\nclass. SONATA config files are passed to the class constructor. Passing a\nsecond config is optional and only relevant if the network and simulation\nconfigurations are specified separately.\n\nFirst, we instantiate the class.\n\n"
      ]
    },
    {
      "cell_type": "code",
      "execution_count": null,
      "metadata": {
        "collapsed": false
      },
      "outputs": [],
      "source": [
        "sonata_net = nest.SonataNetwork(net_config, sim_config=sim_config)"
      ]
    },
    {
      "cell_type": "markdown",
      "metadata": {},
      "source": [
        "Next, we build the network. The network nodes are created by the membership\nfunction :py:meth:`~.SonataNetwork.Create` and their connections by the\nmembership function :py:meth:`~.SonataNetwork.Connect`. For convenience,\nwe only need to call the membership function\n:py:meth:`~.SonataNetwork.BuildNetwork` which internally calls\n:py:meth:`~.SonataNetwork.Create` and :py:meth:`~.SonataNetwork.Connect`\n\nFor large networks, the edges HDF5 files might not fit into memory in their\nentirety. In the NEST kernel, the edges HDF5 datasets are therefore\nread sequentially in blocks of contiguous hyperslabs. The hyperslab size is\nmodifiable through the keyword argument ``hdf5_hyperslab_size``. This allows\nthe user to control the balance between the number of read operations and\nmemory overhead.\n\n:py:meth:`~.SonataNetwork.BuildNetwork()` returns a dictionary containing\nthe created :py:class:`.NodeCollection`\\s. The population names are the\ndictionary keys.\n\n"
      ]
    },
    {
      "cell_type": "code",
      "execution_count": null,
      "metadata": {
        "collapsed": false
      },
      "outputs": [],
      "source": [
        "node_collections = sonata_net.BuildNetwork(hdf5_hyperslab_size=2**20)"
      ]
    },
    {
      "cell_type": "markdown",
      "metadata": {},
      "source": [
        "We can now verify whether the built network has the expected number of\nnodes and connections.\n\n"
      ]
    },
    {
      "cell_type": "code",
      "execution_count": null,
      "metadata": {
        "collapsed": false
      },
      "outputs": [],
      "source": [
        "print(f'Network built from SONATA specifications in directory \"{sonata_path.name}\"')\nprint(f\"  Number of nodes      : {nest.network_size}\")\nprint(f\"  Number of connections: {nest.num_connections}\")"
      ]
    },
    {
      "cell_type": "markdown",
      "metadata": {},
      "source": [
        "NEST does not currently support SONATA Spike Train Reports or utilize other\n``output`` components in the SONATA config. This means that recording devices\nmust be created and connected manually.\n\nHere, we create a ``spike_recorder`` to record the spiking events of neurons.\nWe wish to connect the spike recorder to the internal population and only\nrecord from a subset of the neurons in the population. We extract the\ninternal population's :py:class:`.NodeCollection` from the ``node_collections`` dictionary\nby using the internal population's name. Then we slice the :py:class:`.NodeCollection`\nwith a list specifying the node ids of the neurons we wish to record from.\n\n"
      ]
    },
    {
      "cell_type": "code",
      "execution_count": null,
      "metadata": {
        "collapsed": false
      },
      "outputs": [],
      "source": [
        "s_rec = nest.Create(\"spike_recorder\")\npop_name = \"internal\"\nrecord_node_ids = [1, 80, 160, 240, 270]\nnest.Connect(node_collections[pop_name][record_node_ids], s_rec)"
      ]
    },
    {
      "cell_type": "markdown",
      "metadata": {},
      "source": [
        "Finally, we call the membership function :py:meth:`~.SonataNetwork.Simulate`\nto simulate the network. Note that the simulation time and resolution are\nexpected to be provided in the SONATA config.\n\n"
      ]
    },
    {
      "cell_type": "code",
      "execution_count": null,
      "metadata": {
        "collapsed": false
      },
      "outputs": [],
      "source": [
        "sonata_net.Simulate()"
      ]
    },
    {
      "cell_type": "markdown",
      "metadata": {},
      "source": [
        "After the simulation has finished, we can obtain the data recorded by the\nspike recorder for further analysis.\n\n"
      ]
    },
    {
      "cell_type": "code",
      "execution_count": null,
      "metadata": {
        "collapsed": false
      },
      "outputs": [],
      "source": [
        "nest.raster_plot.from_device(s_rec)\nplt.show()"
      ]
    }
  ],
  "metadata": {
    "kernelspec": {
      "display_name": "EBRAINS-23.06",
      "language": "python",
      "name": "ebrains-23.06"
    },
    "language_info": {
      "codemirror_mode": {
        "name": "ipython",
        "version": 3
      },
      "file_extension": ".py",
      "mimetype": "text/x-python",
      "name": "python",
      "nbconvert_exporter": "python",
      "pygments_lexer": "ipython3",
      "version": "3.9.16"
    }
  },
  "nbformat": 4,
  "nbformat_minor": 0
}
