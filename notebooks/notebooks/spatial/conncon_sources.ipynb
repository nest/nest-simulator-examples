{
 "cells": [
  {
   "cell_type": "code",
   "execution_count": null,
   "id": "08524332",
   "metadata": {},
   "outputs": [],
   "source": [
    "%matplotlib inline"
   ]
  },
  {
   "cell_type": "code",
   "execution_count": null,
   "id": "bacca9cc",
   "metadata": {},
   "outputs": [],
   "source": [
    "#\n",
    "# conncon_sources.py\n",
    "#\n",
    "# This file is part of NEST.\n",
    "#\n",
    "# Copyright (C) 2004 The NEST Initiative\n",
    "#\n",
    "# NEST is free software: you can redistribute it and/or modify\n",
    "# it under the terms of the GNU General Public License as published by\n",
    "# the Free Software Foundation, either version 2 of the License, or\n",
    "# (at your option) any later version.\n",
    "#\n",
    "# NEST is distributed in the hope that it will be useful,\n",
    "# but WITHOUT ANY WARRANTY; without even the implied warranty of\n",
    "# MERCHANTABILITY or FITNESS FOR A PARTICULAR PURPOSE.  See the\n",
    "# GNU General Public License for more details.\n",
    "#\n",
    "# You should have received a copy of the GNU General Public License\n",
    "# along with NEST.  If not, see <http://www.gnu.org/licenses/>."
   ]
  },
  {
   "cell_type": "markdown",
   "id": "7e98fd30",
   "metadata": {
    "cell_marker": "\"\"\""
   },
   "source": [
    "Spatial networks: Convergent projection and rectangular mask, from target perspective\n",
    "-------------------------------------------------------------------------------------\n",
    "\n",
    "Create two populations of iaf_psc_alpha neurons on a 30x30 grid\n",
    "\n",
    "Connect the two populations with convergent projection and rectangular mask\n",
    "and visualize connection from target perspective.\n",
    "\n",
    "BCCN Tutorial @ CNS*09\n",
    "Hans Ekkehard Plesser, UMB"
   ]
  },
  {
   "cell_type": "code",
   "execution_count": null,
   "id": "bad533e5",
   "metadata": {},
   "outputs": [],
   "source": [
    "import matplotlib.pyplot as plt\n",
    "import nest\n",
    "import numpy as np\n",
    "\n",
    "nest.ResetKernel()\n",
    "nest.set_verbosity(\"M_WARNING\")\n",
    "\n",
    "pos = nest.spatial.grid(shape=[30, 30], extent=[3.0, 3.0], edge_wrap=True)"
   ]
  },
  {
   "cell_type": "markdown",
   "id": "f696c5f8",
   "metadata": {
    "cell_marker": "#########################################################################",
    "lines_to_next_cell": 0
   },
   "source": [
    "create and connect two populations"
   ]
  },
  {
   "cell_type": "code",
   "execution_count": null,
   "id": "22afceff",
   "metadata": {},
   "outputs": [],
   "source": [
    "a = nest.Create(\"iaf_psc_alpha\", positions=pos)\n",
    "b = nest.Create(\"iaf_psc_alpha\", positions=pos)\n",
    "\n",
    "nest.Connect(\n",
    "    a,\n",
    "    b,\n",
    "    conn_spec={\n",
    "        \"rule\": \"pairwise_bernoulli\",\n",
    "        \"p\": 0.5,\n",
    "        \"use_on_source\": True,\n",
    "        \"mask\": {\"rectangular\": {\"lower_left\": [-0.2, -0.5], \"upper_right\": [0.2, 0.5]}},\n",
    "    },\n",
    "    syn_spec={\"weight\": nest.random.uniform(0.5, 2.0)},\n",
    ")\n",
    "plt.clf()"
   ]
  },
  {
   "cell_type": "markdown",
   "id": "643f3e5a",
   "metadata": {
    "cell_marker": "############################################################################",
    "lines_to_next_cell": 0
   },
   "source": [
    "plot sources of neurons in different grid locations"
   ]
  },
  {
   "cell_type": "code",
   "execution_count": null,
   "id": "040ef77b",
   "metadata": {},
   "outputs": [],
   "source": [
    "for tgt_index in [30 * 15 + 15, 0]:\n",
    "    # obtain node id for center\n",
    "    tgt = a[tgt_index : tgt_index + 1]\n",
    "\n",
    "    # obtain list of outgoing connections for ctr\n",
    "    spos = nest.GetTargetPositions(tgt, b)[0]\n",
    "\n",
    "    spos_x = np.array([x for x, y in spos])\n",
    "    spos_y = np.array([y for x, y in spos])\n",
    "\n",
    "    print(spos_x)\n",
    "    print(spos_y)\n",
    "\n",
    "    # scatter-plot\n",
    "    plt.scatter(spos_x, spos_y, 20, zorder=10)\n",
    "\n",
    "    # mark sender position with transparent red circle\n",
    "    ctrpos = np.array(nest.GetPosition(tgt))\n",
    "    plt.gca().add_patch(plt.Circle(ctrpos, radius=0.1, zorder=99, fc=\"r\", alpha=0.4, ec=\"none\"))\n",
    "\n",
    "    # mark mask position with open red rectangle\n",
    "    plt.gca().add_patch(plt.Rectangle(ctrpos - (0.2, 0.5), 0.4, 1.0, zorder=1, fc=\"none\", ec=\"r\", lw=3))\n",
    "\n",
    "# mark layer edge\n",
    "plt.gca().add_patch(plt.Rectangle((-1.5, -1.5), 3.0, 3.0, zorder=1, fc=\"none\", ec=\"k\", lw=3))\n",
    "\n",
    "# beautify\n",
    "plt.axes().set_xticks(np.arange(-1.5, 1.55, 0.5))\n",
    "plt.axes().set_yticks(np.arange(-1.5, 1.55, 0.5))\n",
    "plt.grid(True)\n",
    "plt.axis([-2.0, 2.0, -2.0, 2.0])\n",
    "plt.axes().set_aspect(\"equal\", \"box\")\n",
    "plt.title(\"Connection sources\")\n",
    "plt.show()"
   ]
  }
 ],
 "metadata": {
  "jupytext": {
   "cell_metadata_filter": "-all",
   "encoding": "# -*- coding: utf-8 -*-",
   "main_language": "python",
   "notebook_metadata_filter": "-all"
  },
  "kernelspec": {
   "display_name": "EBRAINS-experimental",
   "language": "python",
   "name": "ebrains-experimental"
  }
 },
 "nbformat": 4,
 "nbformat_minor": 5
}