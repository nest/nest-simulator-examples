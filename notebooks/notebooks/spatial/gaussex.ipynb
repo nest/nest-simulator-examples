{
  "cells": [
    {
      "cell_type": "markdown",
      "metadata": {},
      "source": [
        "\n# Spatial networks: Gaussian probabilistic kernel\n\nCreate two populations on a 30x30 grid and connect them using a Gaussian probabilistic kernel\nBCCN Tutorial @ CNS*09\nHans Ekkehard Plesser, UMB\n"
      ]
    },
    {
      "cell_type": "code",
      "execution_count": null,
      "metadata": {
        "collapsed": false
      },
      "outputs": [],
      "source": [
        "import matplotlib.pyplot as plt\nimport nest\nimport numpy as np\n\nnest.ResetKernel()"
      ]
    },
    {
      "cell_type": "markdown",
      "metadata": {},
      "source": [
        "create two test layers\n\n"
      ]
    },
    {
      "cell_type": "code",
      "execution_count": null,
      "metadata": {
        "collapsed": false
      },
      "outputs": [],
      "source": [
        "pos = nest.spatial.grid(shape=[30, 30], extent=[3.0, 3.0])"
      ]
    },
    {
      "cell_type": "markdown",
      "metadata": {},
      "source": [
        "create and connect two populations\n\n"
      ]
    },
    {
      "cell_type": "code",
      "execution_count": null,
      "metadata": {
        "collapsed": false
      },
      "outputs": [],
      "source": [
        "a = nest.Create(\"iaf_psc_alpha\", positions=pos)\nb = nest.Create(\"iaf_psc_alpha\", positions=pos)\n\ncdict = {\n    \"rule\": \"pairwise_bernoulli\",\n    \"p\": nest.spatial_distributions.gaussian(nest.spatial.distance, std=0.5),\n    \"mask\": {\"circular\": {\"radius\": 3.0}},\n}\n\nnest.Connect(a, b, cdict)"
      ]
    },
    {
      "cell_type": "markdown",
      "metadata": {},
      "source": [
        "plot targets of neurons in different grid locations\n\nplot targets of two source neurons into same figure, with mask\nuse different colors\n\n"
      ]
    },
    {
      "cell_type": "code",
      "execution_count": null,
      "metadata": {
        "collapsed": false
      },
      "outputs": [],
      "source": [
        "for src_index, color, cmap in [(30 * 15 + 15, \"blue\", \"Blues\"), (0, \"green\", \"Greens\")]:\n    # obtain node id for center\n    src = a[src_index : src_index + 1]\n    fig = plt.figure()\n    nest.PlotTargets(\n        src,\n        b,\n        mask=cdict[\"mask\"],\n        probability_parameter=cdict[\"p\"],\n        src_color=color,\n        tgt_color=color,\n        mask_color=color,\n        probability_cmap=cmap,\n        src_size=100,\n        fig=fig,\n    )\n\n    # beautify\n    plt.axes().set_xticks(np.arange(-1.5, 1.55, 0.5))\n    plt.axes().set_yticks(np.arange(-1.5, 1.55, 0.5))\n    plt.grid(True)\n    plt.axis([-2.0, 2.0, -2.0, 2.0])\n    plt.axes().set_aspect(\"equal\", \"box\")\n    plt.title(\"Connection targets, Gaussian kernel\")\n\nplt.show()\n\n# plt.savefig('gaussex.pdf')"
      ]
    }
  ],
  "metadata": {
    "kernelspec": {
      "display_name": "EBRAINS-23.09",
      "language": "python",
      "name": "ebrains-23.09"
    },
    "language_info": {
      "codemirror_mode": {
        "name": "ipython",
        "version": 3
      },
      "file_extension": ".py",
      "mimetype": "text/x-python",
      "name": "python",
      "nbconvert_exporter": "python",
      "pygments_lexer": "ipython3",
      "version": "3.10.13"
    }
  },
  "nbformat": 4,
  "nbformat_minor": 0
}