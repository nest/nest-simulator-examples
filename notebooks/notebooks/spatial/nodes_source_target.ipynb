{
 "cells": [
  {
   "cell_type": "markdown",
   "id": "c21d6ec4",
   "metadata": {},
   "source": [
    "\n",
    "nodes_source_target.py\n",
    "\n",
    "This file is part of NEST.\n",
    "\n",
    "Copyright (C) 2004 The NEST Initiative\n",
    "\n",
    "NEST is free software: you can redistribute it and/or modify\n",
    "it under the terms of the GNU General Public License as published by\n",
    "the Free Software Foundation, either version 2 of the License, or\n",
    "(at your option) any later version.\n",
    "\n",
    "NEST is distributed in the hope that it will be useful,\n",
    "but WITHOUT ANY WARRANTY; without even the implied warranty of\n",
    "MERCHANTABILITY or FITNESS FOR A PARTICULAR PURPOSE.  See the\n",
    "GNU General Public License for more details.\n",
    "\n",
    "You should have received a copy of the GNU General Public License\n",
    "along with NEST.  If not, see <http://www.gnu.org/licenses/>."
   ]
  },
  {
   "cell_type": "code",
   "execution_count": null,
   "id": "98342dfc",
   "metadata": {},
   "outputs": [],
   "source": [
    "\"\"\"\n",
    "Spatial networks: Showcase of PlotTargets, PlotSources, GetTargetNodes, GetSourceNodes\n",
    "--------------------------------------------------------------------------------------\n",
    "\n",
    "Anno Christopher Kurth, INM-6\n",
    "\"\"\""
   ]
  },
  {
   "cell_type": "code",
   "execution_count": null,
   "id": "931256c3",
   "metadata": {},
   "outputs": [],
   "source": [
    "import nest\n",
    "from matplotlib import pyplot as plt"
   ]
  },
  {
   "cell_type": "code",
   "execution_count": null,
   "id": "e6ba244b",
   "metadata": {},
   "outputs": [],
   "source": [
    "# create a spatial population\n",
    "s_nodes = nest.Create(\"iaf_psc_alpha\", positions=nest.spatial.grid(shape=[11, 11], extent=[11.0, 11.0]))\n",
    "# connectivity specifications with a mask\n",
    "conndict = {\n",
    "    \"rule\": \"pairwise_bernoulli\",\n",
    "    \"p\": 1.0,\n",
    "    \"mask\": {\"rectangular\": {\"lower_left\": [-1.0, -1.0], \"upper_right\": [1.0, 1.0]}, \"anchor\": [3.0, 3.0]},\n",
    "}"
   ]
  },
  {
   "cell_type": "code",
   "execution_count": null,
   "id": "bcc019ff",
   "metadata": {},
   "outputs": [],
   "source": [
    "# get center element\n",
    "center_neuron = nest.FindCenterElement(s_nodes)"
   ]
  },
  {
   "cell_type": "code",
   "execution_count": null,
   "id": "642e07e0",
   "metadata": {},
   "outputs": [],
   "source": [
    "# connect population s_nodes with itself according to the given\n",
    "# specifications\n",
    "nest.Connect(s_nodes, s_nodes, conndict)"
   ]
  },
  {
   "cell_type": "code",
   "execution_count": null,
   "id": "ddb642af",
   "metadata": {},
   "outputs": [],
   "source": [
    "# Plot target neurons of center neuron\n",
    "fig = nest.PlotLayer(s_nodes, nodesize=80, nodecolor=\"coral\")\n",
    "nest.PlotTargets(center_neuron, s_nodes, fig=fig)\n",
    "plt.title(\"Target neurons of center neuron\")\n",
    "plt.show()"
   ]
  },
  {
   "cell_type": "code",
   "execution_count": null,
   "id": "5c3362bd",
   "metadata": {},
   "outputs": [],
   "source": [
    "# Plot source neurons of center neuron\n",
    "fig = nest.PlotLayer(s_nodes, nodesize=80, nodecolor=\"coral\")\n",
    "nest.PlotSources(s_nodes, center_neuron, fig=fig)\n",
    "plt.title(\"Source neurons of center neuron\")\n",
    "plt.show()"
   ]
  },
  {
   "cell_type": "code",
   "execution_count": null,
   "id": "cb9c3a24",
   "metadata": {},
   "outputs": [],
   "source": [
    "print(\"Target neurons of center neuron\")\n",
    "print(nest.GetTargetNodes(center_neuron, s_nodes))"
   ]
  },
  {
   "cell_type": "code",
   "execution_count": null,
   "id": "ce917120",
   "metadata": {},
   "outputs": [],
   "source": [
    "print(\"Source neurons of center neuron\")\n",
    "print(nest.GetSourceNodes(s_nodes, center_neuron))"
   ]
  },
  {
   "cell_type": "code",
   "execution_count": null,
   "id": "56bca90d",
   "metadata": {},
   "outputs": [],
   "source": [
    "print(\"Positions of target neurons of center neuron\")\n",
    "print(nest.GetTargetPositions(center_neuron, s_nodes))"
   ]
  },
  {
   "cell_type": "code",
   "execution_count": null,
   "id": "fab28165",
   "metadata": {},
   "outputs": [],
   "source": [
    "print(\"Positions of source neurons of center neuron\")\n",
    "print(nest.GetSourcePositions(s_nodes, center_neuron))"
   ]
  }
 ],
 "metadata": {
  "jupytext": {
   "cell_metadata_filter": "-all",
   "encoding": "# -*- coding: utf-8 -*-",
   "main_language": "python",
   "notebook_metadata_filter": "-all"
  },
  "kernelspec": {
   "display_name": "EBRAINS-experimental",
   "language": "python",
   "name": "ebrains-experimental"
  }
 },
 "nbformat": 4,
 "nbformat_minor": 5
}