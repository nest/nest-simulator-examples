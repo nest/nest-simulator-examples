{
  "cells": [
    {
      "cell_type": "code",
      "execution_count": null,
      "metadata": {
        "collapsed": false
      },
      "outputs": [],
      "source": [
        "%matplotlib inline"
      ]
    },
    {
      "cell_type": "markdown",
      "metadata": {},
      "source": [
        "\n# Showcase of PlotTargets, PlotSources, GetTargetNodes, GetSourceNodes\n\nAnno Christopher Kurth, INM-6\n"
      ]
    },
    {
      "cell_type": "code",
      "execution_count": null,
      "metadata": {
        "collapsed": false
      },
      "outputs": [],
      "source": [
        "import nest\nfrom matplotlib import pyplot as plt\n\n# create a spatial population\ns_nodes = nest.Create('iaf_psc_alpha',\n                      positions=nest.spatial.grid(shape=[11, 11],\n                                                  extent=[11., 11.]))\n# connectivity specifications with a mask\nconndict = {'rule': 'pairwise_bernoulli', 'p': 1.,\n            'mask': {'rectangular': {'lower_left': [-1.0, -1.0],\n                                     'upper_right': [1.0, 1.0]},\n                     'anchor': [3., 3.]}\n            }\n\n# get center element\ncenter_neuron = nest.FindCenterElement(s_nodes)\n\n# connect population s_nodes with itself according to the given\n# specifications\nnest.Connect(s_nodes, s_nodes, conndict)\n\n# Plot target neurons of center neuron\nfig = nest.PlotLayer(s_nodes, nodesize=80, nodecolor='coral')\nnest.PlotTargets(center_neuron, s_nodes, fig=fig)\nplt.title('Target neurons of center neuron')\nplt.show()\n\n# Plot source neurons of center neuron\nfig = nest.PlotLayer(s_nodes, nodesize=80, nodecolor='coral')\nnest.PlotSources(s_nodes, center_neuron, fig=fig)\nplt.title('Source neurons of center neuron')\nplt.show()\n\nprint('Target neurons of center neuron')\nprint(nest.GetTargetNodes(center_neuron, s_nodes))\n\nprint('Source neurons of center neuron')\nprint(nest.GetSourceNodes(s_nodes, center_neuron))\n\nprint('Positions of target neurons of center neuron')\nprint(nest.GetTargetPositions(center_neuron, s_nodes))\n\nprint('Positions of source neurons of center neuron')\nprint(nest.GetSourcePositions(s_nodes, center_neuron))"
      ]
    }
  ],
  "metadata": {
    "kernelspec": {
      "display_name": ""EBRAINS-23.06",
      "language": "python",
      "name": ""ebrains-23.06"
    },
    "language_info": {
      "codemirror_mode": {
        "name": "ipython",
        "version": 3
      },
      "file_extension": ".py",
      "mimetype": "text/x-python",
      "name": "python",
      "nbconvert_exporter": "python",
      "pygments_lexer": "ipython3",
      "version": "3.9.16"
    }
  },
  "nbformat": 4,
  "nbformat_minor": 0
}