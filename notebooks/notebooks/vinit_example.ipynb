{
 "cells": [
  {
   "cell_type": "code",
   "execution_count": null,
   "id": "de3246c9",
   "metadata": {},
   "outputs": [],
   "source": [
    "%matplotlib inline"
   ]
  },
  {
   "cell_type": "code",
   "execution_count": null,
   "id": "b38c6ec7",
   "metadata": {},
   "outputs": [],
   "source": [
    "#\n",
    "# vinit_example.py\n",
    "#\n",
    "# This file is part of NEST.\n",
    "#\n",
    "# Copyright (C) 2004 The NEST Initiative\n",
    "#\n",
    "# NEST is free software: you can redistribute it and/or modify\n",
    "# it under the terms of the GNU General Public License as published by\n",
    "# the Free Software Foundation, either version 2 of the License, or\n",
    "# (at your option) any later version.\n",
    "#\n",
    "# NEST is distributed in the hope that it will be useful,\n",
    "# but WITHOUT ANY WARRANTY; without even the implied warranty of\n",
    "# MERCHANTABILITY or FITNESS FOR A PARTICULAR PURPOSE.  See the\n",
    "# GNU General Public License for more details.\n",
    "#\n",
    "# You should have received a copy of the GNU General Public License\n",
    "# along with NEST.  If not, see <http://www.gnu.org/licenses/>."
   ]
  },
  {
   "cell_type": "markdown",
   "id": "ab712ffc",
   "metadata": {
    "cell_marker": "\"\"\""
   },
   "source": [
    "Initial membrane voltage\n",
    "------------------------\n",
    "\n",
    "Plot several runs of the ``iaf_cond_exp_sfa_rr`` neuron without input for various\n",
    "initial values of the membrane potential.\n",
    "\n",
    "References\n",
    "~~~~~~~~~~\n",
    "\n",
    ".. [1] Dayan, P. and Abbott, L.F. (2001) Theoretical neuroscience,\n",
    "       MIT Press, page 166\n"
   ]
  },
  {
   "cell_type": "markdown",
   "id": "0a757887",
   "metadata": {},
   "source": [
    "First, the necessary modules for simulation and plotting are imported."
   ]
  },
  {
   "cell_type": "code",
   "execution_count": null,
   "id": "70f53036",
   "metadata": {},
   "outputs": [],
   "source": [
    "import matplotlib.pyplot as plt\n",
    "import nest\n",
    "import numpy"
   ]
  },
  {
   "cell_type": "markdown",
   "id": "cc9fb657",
   "metadata": {},
   "source": [
    "A loop runs over a range of initial membrane voltages.\n",
    "\n",
    "In the beginning of each iteration, the simulation kernel is put back to\n",
    "its initial state using `ResetKernel`.\n",
    "\n",
    "Next, a neuron is instantiated with ``Create``. The used neuron model\n",
    "``iaf_cond_exp_sfa_rr`` is an implementation of a spiking neuron with\n",
    "integrate-and-fire dynamics, conductance-based synapses, an additional\n",
    "spike-frequency adaptation and relative refractory mechanisms as described\n",
    "in [1]_. Incoming spike events induce a postsynaptic change of\n",
    "conductance  modeled  by an  exponential  function. ``SetStatus`` allows to\n",
    "assign the initial membrane voltage of the current loop run to the neuron.\n",
    "\n",
    "``Create`` is used once more to instantiate a ``voltmeter`` as recording device\n",
    "which is subsequently connected to the neuron with ``Connect``.\n",
    "\n",
    "Then, a simulation with a duration of 75 ms is started with ``Simulate``.\n",
    "\n",
    "When the simulation has finished, the recorded times and membrane voltages\n",
    "are read from the voltmeter via ``get``.\n",
    "\n",
    "Finally, the time course of the membrane voltages is plotted for each of\n",
    "the different initial values."
   ]
  },
  {
   "cell_type": "code",
   "execution_count": null,
   "id": "533a7354",
   "metadata": {},
   "outputs": [],
   "source": [
    "for vinit in numpy.arange(-100, -50, 10, float):\n",
    "    nest.ResetKernel()\n",
    "\n",
    "    cbn = nest.Create(\"iaf_cond_exp_sfa_rr\")\n",
    "    cbn.V_m = vinit\n",
    "\n",
    "    voltmeter = nest.Create(\"voltmeter\")\n",
    "    nest.Connect(voltmeter, cbn)\n",
    "\n",
    "    nest.Simulate(75.0)\n",
    "\n",
    "    t = voltmeter.get(\"events\", \"times\")\n",
    "    v = voltmeter.get(\"events\", \"V_m\")\n",
    "\n",
    "    plt.plot(t, v, label=\"initial V_m = %.2f mV\" % vinit)"
   ]
  },
  {
   "cell_type": "markdown",
   "id": "400fef22",
   "metadata": {},
   "source": [
    "Set the legend and the labels for the plot outside of the loop."
   ]
  },
  {
   "cell_type": "code",
   "execution_count": null,
   "id": "9f00e361",
   "metadata": {},
   "outputs": [],
   "source": [
    "plt.legend(loc=4)\n",
    "plt.xlabel(\"time (ms)\")\n",
    "plt.ylabel(\"V_m (mV)\")\n",
    "plt.show()"
   ]
  }
 ],
 "metadata": {
  "jupytext": {
   "cell_metadata_filter": "-all",
   "encoding": "# -*- coding: utf-8 -*-"
  },
  "kernelspec": {
   "display_name": "EBRAINS-24.04",
   "language": "python",
   "name": "ebrains-24.04"
  }
 },
 "nbformat": 4,
 "nbformat_minor": 5
}
