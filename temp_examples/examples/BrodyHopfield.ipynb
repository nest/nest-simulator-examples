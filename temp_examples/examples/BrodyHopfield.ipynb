{
 "cells": [
  {
   "cell_type": "code",
   "execution_count": null,
   "id": "c7136aff",
   "metadata": {},
   "outputs": [],
   "source": [
    "%matplotlib inline"
   ]
  },
  {
   "cell_type": "code",
   "execution_count": null,
   "id": "fdfd3e85",
   "metadata": {},
   "outputs": [],
   "source": [
    "#\n",
    "# BrodyHopfield.py\n",
    "#\n",
    "# This file is part of NEST.\n",
    "#\n",
    "# Copyright (C) 2004 The NEST Initiative\n",
    "#\n",
    "# NEST is free software: you can redistribute it and/or modify\n",
    "# it under the terms of the GNU General Public License as published by\n",
    "# the Free Software Foundation, either version 2 of the License, or\n",
    "# (at your option) any later version.\n",
    "#\n",
    "# NEST is distributed in the hope that it will be useful,\n",
    "# but WITHOUT ANY WARRANTY; without even the implied warranty of\n",
    "# MERCHANTABILITY or FITNESS FOR A PARTICULAR PURPOSE.  See the\n",
    "# GNU General Public License for more details.\n",
    "#\n",
    "# You should have received a copy of the GNU General Public License\n",
    "# along with NEST.  If not, see <http://www.gnu.org/licenses/>.\n"
   ]
  },
  {
   "cell_type": "markdown",
   "id": "7ef9b736",
   "metadata": {
    "cell_marker": "\"\"\""
   },
   "source": [
    "Spike synchronization through subthreshold oscillation\n",
    "------------------------------------------------------\n",
    "\n",
    "This script reproduces the spike synchronization behavior\n",
    "of integrate-and-fire neurons in response to a subthreshold\n",
    "oscillation. This phenomenon is shown in Fig. 1 of [1]_\n",
    "\n",
    "Neurons receive a weak 35 Hz oscillation, a gaussian noise current\n",
    "and an increasing DC. The time-locking capability is shown to\n",
    "depend on the input current given. The result is then plotted using\n",
    "matplotlib. All parameters are taken from the above paper.\n",
    "\n",
    "References\n",
    "~~~~~~~~~~\n",
    "\n",
    ".. [1] Brody CD and Hopfield JJ (2003). Simple networks for\n",
    "       spike-timing-based computation, with application to olfactory\n",
    "       processing. Neuron 37, 843-852.\n"
   ]
  },
  {
   "cell_type": "markdown",
   "id": "f4f45b4b",
   "metadata": {
    "cell_marker": "#################################################################################"
   },
   "source": [
    "First, we import all necessary modules for simulation, analysis, and plotting."
   ]
  },
  {
   "cell_type": "code",
   "execution_count": null,
   "id": "c8b3cd96",
   "metadata": {},
   "outputs": [],
   "source": [
    "import matplotlib.pyplot as plt\n",
    "import nest\n",
    "import nest.raster_plot"
   ]
  },
  {
   "cell_type": "markdown",
   "id": "f0f7cd5b",
   "metadata": {},
   "source": [
    "Second, the simulation parameters are assigned to variables."
   ]
  },
  {
   "cell_type": "code",
   "execution_count": null,
   "id": "20830782",
   "metadata": {},
   "outputs": [],
   "source": [
    "N = 1000  # number of neurons\n",
    "bias_begin = 140.0  # minimal value for the bias current injection [pA]\n",
    "bias_end = 200.0  # maximal value for the bias current injection [pA]\n",
    "T = 600  # simulation time (ms)\n",
    "\n",
    "# parameters for the alternating-current generator\n",
    "driveparams = {\"amplitude\": 50.0, \"frequency\": 35.0}\n",
    "# parameters for the noise generator\n",
    "noiseparams = {\"mean\": 0.0, \"std\": 200.0}\n",
    "neuronparams = {\n",
    "    \"tau_m\": 20.0,  # membrane time constant\n",
    "    \"V_th\": 20.0,  # threshold potential\n",
    "    \"E_L\": 10.0,  # membrane resting potential\n",
    "    \"t_ref\": 2.0,  # refractory period\n",
    "    \"V_reset\": 0.0,  # reset potential\n",
    "    \"C_m\": 200.0,  # membrane capacitance\n",
    "    \"V_m\": 0.0,\n",
    "}  # initial membrane potential"
   ]
  },
  {
   "cell_type": "markdown",
   "id": "fdc17a20",
   "metadata": {},
   "source": [
    "Third, the nodes are created using ``Create``. We store the returned handles\n",
    "in variables for later reference."
   ]
  },
  {
   "cell_type": "code",
   "execution_count": null,
   "id": "7acd3687",
   "metadata": {},
   "outputs": [],
   "source": [
    "neurons = nest.Create(\"iaf_psc_alpha\", N)\n",
    "sr = nest.Create(\"spike_recorder\")\n",
    "noise = nest.Create(\"noise_generator\")\n",
    "drive = nest.Create(\"ac_generator\")"
   ]
  },
  {
   "cell_type": "markdown",
   "id": "6fdb24ac",
   "metadata": {},
   "source": [
    "Set the parameters specified above for the generators using ``set``."
   ]
  },
  {
   "cell_type": "code",
   "execution_count": null,
   "id": "84a7dfba",
   "metadata": {},
   "outputs": [],
   "source": [
    "drive.set(driveparams)\n",
    "noise.set(noiseparams)"
   ]
  },
  {
   "cell_type": "markdown",
   "id": "d8cc7ada",
   "metadata": {},
   "source": [
    "Set the parameters specified above for the neurons. Neurons get an internal\n",
    "current. The first neuron additionally receives the current with amplitude\n",
    "``bias_begin``, the last neuron with amplitude ``bias_end``."
   ]
  },
  {
   "cell_type": "code",
   "execution_count": null,
   "id": "b58bafa2",
   "metadata": {},
   "outputs": [],
   "source": [
    "neurons.set(neuronparams)\n",
    "neurons.I_e = [(n * (bias_end - bias_begin) / N + bias_begin) for n in range(1, len(neurons) + 1)]"
   ]
  },
  {
   "cell_type": "markdown",
   "id": "a3e879e5",
   "metadata": {},
   "source": [
    "Connect alternating current and noise generators as well as\n",
    "spike_recorders to neurons"
   ]
  },
  {
   "cell_type": "code",
   "execution_count": null,
   "id": "c095f3aa",
   "metadata": {},
   "outputs": [],
   "source": [
    "nest.Connect(drive, neurons)\n",
    "nest.Connect(noise, neurons)\n",
    "nest.Connect(neurons, sr)"
   ]
  },
  {
   "cell_type": "markdown",
   "id": "5a2b4017",
   "metadata": {},
   "source": [
    "Simulate the network for time ``T``."
   ]
  },
  {
   "cell_type": "code",
   "execution_count": null,
   "id": "271d42cc",
   "metadata": {},
   "outputs": [],
   "source": [
    "nest.Simulate(T)"
   ]
  },
  {
   "cell_type": "markdown",
   "id": "0785d494",
   "metadata": {},
   "source": [
    "Plot the raster plot of the neuronal spiking activity."
   ]
  },
  {
   "cell_type": "code",
   "execution_count": null,
   "id": "c4410717",
   "metadata": {},
   "outputs": [],
   "source": [
    "nest.raster_plot.from_device(sr, hist=True)\n",
    "plt.show()"
   ]
  }
 ],
 "metadata": {
  "jupytext": {
   "cell_metadata_filter": "-all",
   "encoding": "# -*- coding: utf-8 -*-",
   "main_language": "python",
   "notebook_metadata_filter": "-all"
  }
 },
 "nbformat": 4,
 "nbformat_minor": 5
}
