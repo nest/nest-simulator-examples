{
 "cells": [
  {
   "cell_type": "markdown",
   "id": "ce4edae6",
   "metadata": {},
   "source": [
    "\n",
    "run_simulation_EI.py\n",
    "\n",
    "This file is part of NEST.\n",
    "\n",
    "Copyright (C) 2004 The NEST Initiative\n",
    "\n",
    "NEST is free software: you can redistribute it and/or modify\n",
    "it under the terms of the GNU General Public License as published by\n",
    "the Free Software Foundation, either version 2 of the License, or\n",
    "(at your option) any later version.\n",
    "\n",
    "NEST is distributed in the hope that it will be useful,\n",
    "but WITHOUT ANY WARRANTY; without even the implied warranty of\n",
    "MERCHANTABILITY or FITNESS FOR A PARTICULAR PURPOSE.  See the\n",
    "GNU General Public License for more details.\n",
    "\n",
    "You should have received a copy of the GNU General Public License\n",
    "along with NEST.  If not, see <http://www.gnu.org/licenses/>."
   ]
  },
  {
   "cell_type": "code",
   "execution_count": null,
   "id": "d4754751",
   "metadata": {},
   "outputs": [],
   "source": [
    "\"\"\"PyNEST EI-clustered network: Run Simulation\n",
    "-----------------------------------------------\n",
    "\n",
    "This is an example script for running the EI-clustered model\n",
    "with two stimulations and generating a raster plot.\n",
    "\"\"\""
   ]
  },
  {
   "cell_type": "code",
   "execution_count": null,
   "id": "18a4229b",
   "metadata": {},
   "outputs": [],
   "source": [
    "import matplotlib.pyplot as plt\n",
    "import network\n",
    "from helper import raster_plot\n",
    "from network_params import net_dict\n",
    "from sim_params import sim_dict\n",
    "from stimulus_params import stim_dict"
   ]
  },
  {
   "cell_type": "code",
   "execution_count": null,
   "id": "8ff2ced8",
   "metadata": {},
   "outputs": [],
   "source": [
    "if __name__ == \"__main__\":\n",
    "    # Creates object which creates the EI clustered network in NEST\n",
    "    ei_network = network.ClusteredNetwork(sim_dict, net_dict, stim_dict)\n",
    "\n",
    "    # Runs the simulation and returns the spiketimes\n",
    "    # get simulation initializes the network in NEST\n",
    "    # and runs the simulation\n",
    "    # it returns a dict with the average rates,\n",
    "    # the spiketimes and the used parameters\n",
    "    result = ei_network.get_simulation()\n",
    "    ax = raster_plot(\n",
    "        result[\"spiketimes\"],\n",
    "        tlim=(0, sim_dict[\"simtime\"]),\n",
    "        colorgroups=[\n",
    "            (\"k\", 0, net_dict[\"N_E\"]),\n",
    "            (\"darkred\", net_dict[\"N_E\"], net_dict[\"N_E\"] + net_dict[\"N_I\"]),\n",
    "        ],\n",
    "    )\n",
    "    plt.savefig(\"clustered_ei_raster.png\")\n",
    "    print(f\"Firing rate of excitatory neurons: {result['e_rate']:6.2f} spikes/s\")\n",
    "    print(f\"Firing rate of inhibitory neurons: {result['i_rate']:6.2f} spikes/s\")"
   ]
  }
 ],
 "metadata": {
  "jupytext": {
   "cell_metadata_filter": "-all",
   "encoding": "# -*- coding: utf-8 -*-"
  },
  "kernelspec": {
   "display_name": "EBRAINS-experimental",
   "language": "python",
   "name": "ebrains-experimental"
  }
 },
 "nbformat": 4,
 "nbformat_minor": 5
}
