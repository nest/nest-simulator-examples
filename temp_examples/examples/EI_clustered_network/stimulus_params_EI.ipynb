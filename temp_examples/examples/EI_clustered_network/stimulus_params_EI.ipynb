{
 "cells": [
  {
   "cell_type": "markdown",
   "id": "3295fc4d",
   "metadata": {},
   "source": [
    "\n",
    "stimulus_params_EI.py\n",
    "\n",
    "This file is part of NEST.\n",
    "\n",
    "Copyright (C) 2004 The NEST Initiative\n",
    "\n",
    "NEST is free software: you can redistribute it and/or modify\n",
    "it under the terms of the GNU General Public License as published by\n",
    "the Free Software Foundation, either version 2 of the License, or\n",
    "(at your option) any later version.\n",
    "\n",
    "NEST is distributed in the hope that it will be useful,\n",
    "but WITHOUT ANY WARRANTY; without even the implied warranty of\n",
    "MERCHANTABILITY or FITNESS FOR A PARTICULAR PURPOSE.  See the\n",
    "GNU General Public License for more details.\n",
    "\n",
    "You should have received a copy of the GNU General Public License\n",
    "along with NEST.  If not, see <http://www.gnu.org/licenses/>."
   ]
  },
  {
   "cell_type": "code",
   "execution_count": null,
   "id": "2bdca7a4",
   "metadata": {},
   "outputs": [],
   "source": [
    "\"\"\" PyNEST EI-clustered network: Stimulus Parameters\n",
    "-----------------------------------------------------\n",
    "\n",
    "A dictionary with parameters for an optinal stimulation of clusters.\n",
    "\n",
    "\"\"\""
   ]
  },
  {
   "cell_type": "code",
   "execution_count": null,
   "id": "ac8efafc",
   "metadata": {},
   "outputs": [],
   "source": [
    "stim_dict = {\n",
    "    # list of clusters to be stimulated (None: no stimulation, 0-n_clusters-1)\n",
    "    \"stim_clusters\": [2, 3, 4],\n",
    "    # stimulus amplitude (in pA)\n",
    "    \"stim_amp\": 0.15,\n",
    "    # stimulus start times in ms: list (warmup time is added automatically)\n",
    "    \"stim_starts\": [2000, 6000],\n",
    "    # list of stimulus end times in ms (warmup time is added automatically)\n",
    "    \"stim_ends\": [3500, 7500],\n",
    "}"
   ]
  }
 ],
 "metadata": {
  "jupytext": {
   "cell_metadata_filter": "-all",
   "encoding": "# -*- coding: utf-8 -*-"
  },
  "kernelspec": {
   "display_name": "EBRAINS-experimental",
   "language": "python",
   "name": "ebrains-experimental"
  }
 },
 "nbformat": 4,
 "nbformat_minor": 5
}
