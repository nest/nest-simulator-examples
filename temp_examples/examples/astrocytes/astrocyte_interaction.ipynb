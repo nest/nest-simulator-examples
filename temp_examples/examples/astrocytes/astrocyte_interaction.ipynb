{
 "cells": [
  {
   "cell_type": "code",
   "execution_count": null,
   "id": "137f1729",
   "metadata": {},
   "outputs": [],
   "source": [
    "%matplotlib inline"
   ]
  },
  {
   "cell_type": "code",
   "execution_count": null,
   "id": "dafc5e98",
   "metadata": {},
   "outputs": [],
   "source": [
    "#\n",
    "# astrocyte_interaction.py\n",
    "#\n",
    "# This file is part of NEST.\n",
    "#\n",
    "# Copyright (C) 2004 The NEST Initiative\n",
    "#\n",
    "# NEST is free software: you can redistribute it and/or modify\n",
    "# it under the terms of the GNU General Public License as published by\n",
    "# the Free Software Foundation, either version 2 of the License, or\n",
    "# (at your option) any later version.\n",
    "#\n",
    "# NEST is distributed in the hope that it will be useful,\n",
    "# but WITHOUT ANY WARRANTY; without even the implied warranty of\n",
    "# MERCHANTABILITY or FITNESS FOR A PARTICULAR PURPOSE.  See the\n",
    "# GNU General Public License for more details.\n",
    "#\n",
    "# You should have received a copy of the GNU General Public License\n",
    "# along with NEST.  If not, see <http://www.gnu.org/licenses/>."
   ]
  },
  {
   "cell_type": "markdown",
   "id": "4e5e1db7",
   "metadata": {
    "cell_marker": "\"\"\""
   },
   "source": [
    "A tripartite interaction between two neurons and one astrocyte\n",
    "--------------------------------------------------------------\n",
    "\n",
    "This script simulates a tripartite interaction between two neurons and one\n",
    "astrocyte. This interaction is part of the astrocyte biology described in\n",
    "[1]_ that involves the neuron-astrocyte glutamate signaling and the astrocytic\n",
    "calcium dynamics.\n",
    "\n",
    "``astrocyte_lr_1994`` is used to model the astrocyte, which implements the\n",
    "dynamics in the astrocyte based on the articles [2]_, [3]_, and [4]_.\n",
    "``tsodyks_synapse`` is used to create connections from the presynaptic neuron\n",
    "to the postsynaptic neuron, and from the presynaptic neuron to the astrocyte.\n",
    "``sic_connection`` is used to create a connection from the astrocyte to the\n",
    "postsynaptic neuron. Recordings are made for the following variables: membrance\n",
    "voltage of the presynaptic neuron, inositol 1,4,5-trisphosphate (IP3), and\n",
    "calcium in the astrocyte, and slow inward current (SIC) in the postsynaptic\n",
    "neuron. The result demonstrates a tripartite interaction where the presynaptic\n",
    "spikes induce changes in IP3 and calcium in the astrocyte, which then induces\n",
    "the generation of SIC in the postsynaptic neuron.\n",
    "\n",
    "See Also\n",
    "~~~~~~~~\n",
    "\n",
    ":doc:`astrocyte_single`\n",
    "\n",
    "References\n",
    "~~~~~~~~~~\n",
    "\n",
    ".. [1] Bazargani, N., & Attwell, D. (2016). Astrocyte calcium signaling: the\n",
    "       third wave. Nature neuroscience, 19(2), 182-189. DOI:\n",
    "       https://doi.org/10.1038/nn.4201\n",
    "\n",
    ".. [2] Li, Y. X., & Rinzel, J. (1994). Equations for InsP3 receptor-mediated\n",
    "       [Ca2+]i oscillations derived from a detailed kinetic model: a\n",
    "       Hodgkin-Huxley like formalism. Journal of theoretical Biology, 166(4),\n",
    "       461-473. DOI: https://doi.org/10.1006/jtbi.1994.1041\n",
    "\n",
    ".. [3] De Young, G. W., & Keizer, J. (1992). A single-pool inositol\n",
    "       1,4,5-trisphosphate-receptor-based model for agonist-stimulated\n",
    "       oscillations in Ca2+ concentration. Proceedings of the National Academy\n",
    "       of Sciences, 89(20), 9895-9899. DOI:\n",
    "       https://doi.org/10.1073/pnas.89.20.9895\n",
    "\n",
    ".. [4] Nadkarni, S., & Jung, P. (2003). Spontaneous oscillations of dressed\n",
    "       neurons: a new mechanism for epilepsy?. Physical review letters, 91(26),\n",
    "       268101. DOI: https://doi.org/10.1103/PhysRevLett.91.268101\n"
   ]
  },
  {
   "cell_type": "markdown",
   "id": "26114111",
   "metadata": {},
   "source": [
    "Import all necessary modules for simulation and plotting."
   ]
  },
  {
   "cell_type": "code",
   "execution_count": null,
   "id": "b4d6ab22",
   "metadata": {},
   "outputs": [],
   "source": [
    "import matplotlib.pyplot as plt\n",
    "import nest"
   ]
  },
  {
   "cell_type": "markdown",
   "id": "6c6f0f6b",
   "metadata": {},
   "source": [
    "Set parameters for the simulation."
   ]
  },
  {
   "cell_type": "code",
   "execution_count": null,
   "id": "15b91a5b",
   "metadata": {},
   "outputs": [],
   "source": [
    "# simulation time\n",
    "sim_time = 60000\n",
    "# Poisson input for the presynaptic neuron\n",
    "poisson_rate_neuro = 1500.0\n",
    "# neuron parameters\n",
    "params_neuro = {\"tau_syn_ex\": 2.0}\n",
    "# astrocyte parameters\n",
    "params_astro = {\"delta_IP3\": 0.2}\n",
    "# weights of connections\n",
    "w_pre2astro = 1.0\n",
    "w_pre2post = 1.0\n",
    "w_astro2post = 1.0"
   ]
  },
  {
   "cell_type": "markdown",
   "id": "1b366480",
   "metadata": {},
   "source": [
    "Create and connect the astrocyte and its devices."
   ]
  },
  {
   "cell_type": "code",
   "execution_count": null,
   "id": "4e5432b9",
   "metadata": {},
   "outputs": [],
   "source": [
    "astrocyte = nest.Create(\"astrocyte_lr_1994\", params=params_astro)\n",
    "mm_astro = nest.Create(\"multimeter\", params={\"record_from\": [\"IP3\", \"Ca_astro\"]})\n",
    "nest.Connect(mm_astro, astrocyte)"
   ]
  },
  {
   "cell_type": "markdown",
   "id": "16e89a02",
   "metadata": {},
   "source": [
    "Create and connect the neurons and their devices."
   ]
  },
  {
   "cell_type": "code",
   "execution_count": null,
   "id": "4c18488b",
   "metadata": {},
   "outputs": [],
   "source": [
    "pre_neuron = nest.Create(\"aeif_cond_alpha_astro\", params=params_neuro)\n",
    "post_neuron = nest.Create(\"aeif_cond_alpha_astro\", params=params_neuro)\n",
    "ps_pre = nest.Create(\"poisson_generator\", params={\"rate\": poisson_rate_neuro})\n",
    "mm_pre = nest.Create(\"multimeter\", params={\"record_from\": [\"V_m\"]})\n",
    "mm_post = nest.Create(\"multimeter\", params={\"record_from\": [\"I_SIC\"]})\n",
    "nest.Connect(ps_pre, pre_neuron)\n",
    "nest.Connect(mm_pre, pre_neuron)\n",
    "nest.Connect(mm_post, post_neuron)"
   ]
  },
  {
   "cell_type": "markdown",
   "id": "26a6e97a",
   "metadata": {},
   "source": [
    "Create tripartite connectivity."
   ]
  },
  {
   "cell_type": "code",
   "execution_count": null,
   "id": "5f07afba",
   "metadata": {},
   "outputs": [],
   "source": [
    "nest.Connect(pre_neuron, post_neuron, syn_spec={\"weight\": w_pre2post})\n",
    "nest.Connect(pre_neuron, astrocyte, syn_spec={\"weight\": w_pre2astro})\n",
    "nest.Connect(astrocyte, post_neuron, syn_spec={\"synapse_model\": \"sic_connection\", \"weight\": w_astro2post})"
   ]
  },
  {
   "cell_type": "markdown",
   "id": "ebe37a11",
   "metadata": {},
   "source": [
    "Run simulation and get results."
   ]
  },
  {
   "cell_type": "code",
   "execution_count": null,
   "id": "f665cf81",
   "metadata": {},
   "outputs": [],
   "source": [
    "nest.Simulate(sim_time)\n",
    "data_pre = mm_pre.events\n",
    "data_post = mm_post.events\n",
    "data_astro = mm_astro.events"
   ]
  },
  {
   "cell_type": "markdown",
   "id": "0dc0773b",
   "metadata": {},
   "source": [
    "Create and show plots."
   ]
  },
  {
   "cell_type": "code",
   "execution_count": null,
   "id": "8e7ec0ce",
   "metadata": {},
   "outputs": [],
   "source": [
    "fig, ax = plt.subplots(2, 2, sharex=True, figsize=(6.4, 4.8), dpi=100)\n",
    "axes = ax.flat\n",
    "axes[0].plot(data_pre[\"times\"], data_pre[\"V_m\"])\n",
    "axes[1].plot(data_astro[\"times\"], data_astro[\"IP3\"])\n",
    "axes[2].plot(data_post[\"times\"], data_post[\"I_SIC\"])\n",
    "axes[3].plot(data_astro[\"times\"], data_astro[\"Ca_astro\"])\n",
    "axes[0].set_title(f\"Presynaptic neuron\\n(Poisson rate = {poisson_rate_neuro} spks/s)\")\n",
    "axes[0].set_ylabel(\"Membrane potential (mV)\")\n",
    "axes[2].set_title(\"Postsynaptic neuron\")\n",
    "axes[2].set_ylabel(\"Slow inward current (pA)\")\n",
    "axes[2].set_xlabel(\"Time (ms)\")\n",
    "axes[1].set_title(\"Astrocyte\")\n",
    "axes[1].set_ylabel(r\"[IP$_{3}$] ($\\mu$M)\")\n",
    "axes[3].set_ylabel(r\"[Ca$^{2+}$] ($\\mu$M)\")\n",
    "axes[3].set_xlabel(\"Time (ms)\")\n",
    "plt.tight_layout()\n",
    "plt.show()\n",
    "plt.close()"
   ]
  }
 ],
 "metadata": {
  "jupytext": {
   "cell_metadata_filter": "-all",
   "encoding": "# -*- coding: utf-8 -*-",
   "main_language": "python",
   "notebook_metadata_filter": "-all"
  }
 },
 "nbformat": 4,
 "nbformat_minor": 5
}
