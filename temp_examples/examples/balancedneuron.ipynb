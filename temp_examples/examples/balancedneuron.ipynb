{
 "cells": [
  {
   "cell_type": "code",
   "execution_count": null,
   "id": "643c30cf",
   "metadata": {},
   "outputs": [],
   "source": [
    "%matplotlib inline"
   ]
  },
  {
   "cell_type": "code",
   "execution_count": null,
   "id": "7b4e8ba6",
   "metadata": {},
   "outputs": [],
   "source": [
    "#\n",
    "# balancedneuron.py\n",
    "#\n",
    "# This file is part of NEST.\n",
    "#\n",
    "# Copyright (C) 2004 The NEST Initiative\n",
    "#\n",
    "# NEST is free software: you can redistribute it and/or modify\n",
    "# it under the terms of the GNU General Public License as published by\n",
    "# the Free Software Foundation, either version 2 of the License, or\n",
    "# (at your option) any later version.\n",
    "#\n",
    "# NEST is distributed in the hope that it will be useful,\n",
    "# but WITHOUT ANY WARRANTY; without even the implied warranty of\n",
    "# MERCHANTABILITY or FITNESS FOR A PARTICULAR PURPOSE.  See the\n",
    "# GNU General Public License for more details.\n",
    "#\n",
    "# You should have received a copy of the GNU General Public License\n",
    "# along with NEST.  If not, see <http://www.gnu.org/licenses/>."
   ]
  },
  {
   "cell_type": "markdown",
   "id": "07245d9b",
   "metadata": {
    "cell_marker": "\"\"\""
   },
   "source": [
    "Balanced neuron example\n",
    "-----------------------\n",
    "\n",
    "This script simulates a neuron driven by an excitatory and an\n",
    "inhibitory population of neurons firing Poisson spike trains. The aim\n",
    "is to find a firing rate for the inhibitory population that will make\n",
    "the neuron fire at the same rate as the excitatory population.\n",
    "\n",
    "Optimization is performed using the ``bisection`` method from Scipy,\n",
    "simulating the network repeatedly.\n",
    "\n",
    "This example is also shown in the article [1]_\n",
    "\n",
    "References\n",
    "~~~~~~~~~~\n",
    "\n",
    ".. [1] Eppler JM, Helias M, Mulller E, Diesmann M, Gewaltig MO (2009). PyNEST: A convenient interface to the NEST\n",
    "       simulator, Front. Neuroinform.\n",
    "       http://dx.doi.org/10.3389/neuro.11.012.2008\n"
   ]
  },
  {
   "cell_type": "markdown",
   "id": "1c75e970",
   "metadata": {},
   "source": [
    "First, we import all necessary modules for simulation, analysis and\n",
    "plotting. Scipy should be imported before nest."
   ]
  },
  {
   "cell_type": "code",
   "execution_count": null,
   "id": "80b9a035",
   "metadata": {},
   "outputs": [],
   "source": [
    "import matplotlib.pyplot as plt\n",
    "import nest\n",
    "import nest.voltage_trace\n",
    "from scipy.optimize import bisect"
   ]
  },
  {
   "cell_type": "markdown",
   "id": "127cbd53",
   "metadata": {},
   "source": [
    "Additionally, we set the verbosity using ``set_verbosity`` to\n",
    "suppress info messages."
   ]
  },
  {
   "cell_type": "code",
   "execution_count": null,
   "id": "781b71dd",
   "metadata": {},
   "outputs": [],
   "source": [
    "\n",
    "nest.set_verbosity(\"M_WARNING\")\n",
    "nest.ResetKernel()"
   ]
  },
  {
   "cell_type": "markdown",
   "id": "41b9c369",
   "metadata": {},
   "source": [
    "Second, the simulation parameters are assigned to variables."
   ]
  },
  {
   "cell_type": "code",
   "execution_count": null,
   "id": "f82996f2",
   "metadata": {},
   "outputs": [],
   "source": [
    "\n",
    "t_sim = 25000.0  # how long we simulate\n",
    "n_ex = 16000  # size of the excitatory population\n",
    "n_in = 4000  # size of the inhibitory population\n",
    "r_ex = 5.0  # mean rate of the excitatory population\n",
    "r_in = 20.5  # initial rate of the inhibitory population\n",
    "epsc = 45.0  # peak amplitude of excitatory synaptic currents\n",
    "ipsc = -45.0  # peak amplitude of inhibitory synaptic currents\n",
    "d = 1.0  # synaptic delay\n",
    "lower = 15.0  # lower bound of the search interval\n",
    "upper = 25.0  # upper bound of the search interval\n",
    "prec = 0.01  # how close need the excitatory rates be"
   ]
  },
  {
   "cell_type": "markdown",
   "id": "61f4c17e",
   "metadata": {},
   "source": [
    "Third, the nodes are created using ``Create``. We store the returned\n",
    "handles in variables for later reference."
   ]
  },
  {
   "cell_type": "code",
   "execution_count": null,
   "id": "1fe4d027",
   "metadata": {},
   "outputs": [],
   "source": [
    "neuron = nest.Create(\"iaf_psc_alpha\")\n",
    "noise = nest.Create(\"poisson_generator\", 2)\n",
    "voltmeter = nest.Create(\"voltmeter\")\n",
    "spikerecorder = nest.Create(\"spike_recorder\")"
   ]
  },
  {
   "cell_type": "markdown",
   "id": "6bf65116",
   "metadata": {
    "cell_marker": "###################################################################################"
   },
   "source": [
    "Fourth, the ``poisson_generator`` (`noise`) is configured.\n",
    "Note that we need not set parameters for the neuron, the spike recorder, and\n",
    "the voltmeter, since they have satisfactory defaults."
   ]
  },
  {
   "cell_type": "code",
   "execution_count": null,
   "id": "b6b9cd85",
   "metadata": {},
   "outputs": [],
   "source": [
    "noise.rate = [n_ex * r_ex, n_in * r_in]"
   ]
  },
  {
   "cell_type": "markdown",
   "id": "61f515e8",
   "metadata": {},
   "source": [
    "Fifth, the ``iaf_psc_alpha`` is connected to the ``spike_recorder`` and the\n",
    "``voltmeter``, as are the two Poisson generators to the neuron. The command\n",
    "``Connect`` has different variants. Plain `Connect` just takes the handles of\n",
    "pre- and postsynaptic nodes and uses the default values for weight and\n",
    "delay. It can also be called with a list of weights, as in the connection\n",
    "of the noise below.\n",
    "Note that the connection direction for the ``voltmeter`` is reversed compared\n",
    "to the ``spike_recorder``, because it observes the neuron instead of\n",
    "receiving events from it. Thus, ``Connect`` reflects the direction of signal\n",
    "flow in the simulation kernel rather than the physical process of inserting\n",
    "an electrode into the neuron. The latter semantics is presently not\n",
    "available in NEST."
   ]
  },
  {
   "cell_type": "code",
   "execution_count": null,
   "id": "1e93904c",
   "metadata": {},
   "outputs": [],
   "source": [
    "\n",
    "nest.Connect(neuron, spikerecorder)\n",
    "nest.Connect(voltmeter, neuron)\n",
    "nest.Connect(noise, neuron, syn_spec={\"weight\": [[epsc, ipsc]], \"delay\": 1.0})"
   ]
  },
  {
   "cell_type": "markdown",
   "id": "1ff7cbf9",
   "metadata": {},
   "source": [
    "To determine the optimal rate of the neurons in the inhibitory population,\n",
    "the network is simulated several times for different values of the\n",
    "inhibitory rate while measuring the rate of the target neuron. This is done\n",
    "by calling ``Simulate`` until the rate of the target neuron matches the rate\n",
    "of the neurons in the excitatory population with a certain accuracy. The\n",
    "algorithm is implemented in two steps:\n",
    "\n",
    "First, the function ``output_rate`` is defined to measure the firing rate\n",
    "of the target neuron for a given rate of the inhibitory neurons."
   ]
  },
  {
   "cell_type": "code",
   "execution_count": null,
   "id": "0790bb56",
   "metadata": {
    "lines_to_next_cell": 1
   },
   "outputs": [],
   "source": [
    "\n",
    "def output_rate(guess):\n",
    "    print(f\"Inhibitory rate estimate: {guess:5.2f} spks/s\")\n",
    "    rate = float(abs(n_in * guess))\n",
    "    noise[1].rate = rate\n",
    "    spikerecorder.n_events = 0\n",
    "    nest.Simulate(t_sim)\n",
    "    out = spikerecorder.n_events * 1000.0 / t_sim\n",
    "    print(f\"  -> Neuron rate: {out:6.2f} spks/s (goal: {r_ex:4.2f} spks/s)\")\n",
    "    return out\n"
   ]
  },
  {
   "cell_type": "markdown",
   "id": "8cc1c2e0",
   "metadata": {},
   "source": [
    "The function takes the firing rate of the inhibitory neurons as an\n",
    "argument. It scales the rate with the size of the inhibitory population and\n",
    "configures the inhibitory Poisson generator (`noise[1]`) accordingly.\n",
    "Then, the spike counter of the ``spike_recorder`` is reset to zero. The\n",
    "network is simulated using ``Simulate``, which takes the desired simulation\n",
    "time in milliseconds and advances the network state by this amount of time.\n",
    "During simulation, the ``spike_recorder`` counts the spikes of the target\n",
    "neuron and the total number is read out at the end of the simulation\n",
    "period. The return value of ``output_rate()`` is the firing rate of the\n",
    "target neuron in spks/s.\n",
    "\n",
    "Second, the scipy function ``bisect`` is used to determine the optimal\n",
    "firing rate of the neurons of the inhibitory population."
   ]
  },
  {
   "cell_type": "code",
   "execution_count": null,
   "id": "e685d3ec",
   "metadata": {},
   "outputs": [],
   "source": [
    "in_rate = bisect(lambda x: output_rate(x) - r_ex, lower, upper, xtol=prec)\n",
    "print(f\"Optimal rate for the inhibitory population: {in_rate:.2f} spks/s\")"
   ]
  },
  {
   "cell_type": "markdown",
   "id": "a99df88f",
   "metadata": {},
   "source": [
    "The function ``bisect`` takes four arguments: first a function whose\n",
    "zero crossing is to be determined. Here, the firing rate of the target\n",
    "neuron should equal the firing rate of the neurons of the excitatory\n",
    "population. Thus we define an anonymous function (using `lambda`) that\n",
    "returns the difference between the actual rate of the target neuron and the\n",
    "rate of the excitatory Poisson generator, given a rate for the inhibitory\n",
    "neurons. The next two arguments are the lower and upper bound of the\n",
    "interval in which to search for the zero crossing. The fourth argument of\n",
    "``bisect`` is the desired relative precision of the zero crossing.\n",
    "\n",
    "Finally, we plot the target neuron's membrane potential as a function of\n",
    "time."
   ]
  },
  {
   "cell_type": "code",
   "execution_count": null,
   "id": "77749bdf",
   "metadata": {},
   "outputs": [],
   "source": [
    "nest.voltage_trace.from_device(voltmeter)\n",
    "plt.show()"
   ]
  }
 ],
 "metadata": {
  "jupytext": {
   "cell_metadata_filter": "-all",
   "encoding": "# -*- coding: utf-8 -*-",
   "main_language": "python",
   "notebook_metadata_filter": "-all"
  }
 },
 "nbformat": 4,
 "nbformat_minor": 5
}
