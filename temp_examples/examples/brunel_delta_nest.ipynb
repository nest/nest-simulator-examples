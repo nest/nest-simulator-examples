{
 "cells": [
  {
   "cell_type": "code",
   "execution_count": null,
   "id": "89a6ff8c",
   "metadata": {},
   "outputs": [],
   "source": [
    "%matplotlib inline"
   ]
  },
  {
   "cell_type": "code",
   "execution_count": null,
   "id": "58764009",
   "metadata": {},
   "outputs": [],
   "source": [
    "#\n",
    "# brunel_delta_nest.py\n",
    "#\n",
    "# This file is part of NEST.\n",
    "#\n",
    "# Copyright (C) 2004 The NEST Initiative\n",
    "#\n",
    "# NEST is free software: you can redistribute it and/or modify\n",
    "# it under the terms of the GNU General Public License as published by\n",
    "# the Free Software Foundation, either version 2 of the License, or\n",
    "# (at your option) any later version.\n",
    "#\n",
    "# NEST is distributed in the hope that it will be useful,\n",
    "# but WITHOUT ANY WARRANTY; without even the implied warranty of\n",
    "# MERCHANTABILITY or FITNESS FOR A PARTICULAR PURPOSE.  See the\n",
    "# GNU General Public License for more details.\n",
    "#\n",
    "# You should have received a copy of the GNU General Public License\n",
    "# along with NEST.  If not, see <http://www.gnu.org/licenses/>."
   ]
  },
  {
   "cell_type": "markdown",
   "id": "8c2568b5",
   "metadata": {
    "cell_marker": "\"\"\""
   },
   "source": [
    "Random balanced network (delta synapses)\n",
    "----------------------------------------\n",
    "\n",
    "This script simulates an excitatory and an inhibitory population on\n",
    "the basis of the network used in [1]_\n",
    "\n",
    "When connecting the network, customary synapse models are used, which\n",
    "allow for querying the number of created synapses. Using spike\n",
    "recorders, the average firing rates of the neurons in the populations\n",
    "are established. The building as well as the simulation time of the\n",
    "network are recorded.\n",
    "\n",
    "References\n",
    "~~~~~~~~~~\n",
    "\n",
    ".. [1] Brunel N (2000). Dynamics of sparsely connected networks of excitatory and\n",
    "       inhibitory spiking neurons. Journal of Computational Neuroscience 8,\n",
    "       183-208.\n"
   ]
  },
  {
   "cell_type": "markdown",
   "id": "1426f051",
   "metadata": {},
   "source": [
    "Import all necessary modules for simulation, analysis and plotting."
   ]
  },
  {
   "cell_type": "code",
   "execution_count": null,
   "id": "4f8503f1",
   "metadata": {},
   "outputs": [],
   "source": [
    "import time\n",
    "\n",
    "import matplotlib.pyplot as plt\n",
    "import nest\n",
    "import nest.raster_plot\n",
    "\n",
    "nest.ResetKernel()"
   ]
  },
  {
   "cell_type": "markdown",
   "id": "889bc600",
   "metadata": {},
   "source": [
    "Assigning the current time to a variable in order to determine the build\n",
    "time of the network."
   ]
  },
  {
   "cell_type": "code",
   "execution_count": null,
   "id": "74e19aba",
   "metadata": {},
   "outputs": [],
   "source": [
    "startbuild = time.time()"
   ]
  },
  {
   "cell_type": "markdown",
   "id": "6a6735f4",
   "metadata": {},
   "source": [
    "Assigning the simulation parameters to variables."
   ]
  },
  {
   "cell_type": "code",
   "execution_count": null,
   "id": "254991a2",
   "metadata": {},
   "outputs": [],
   "source": [
    "dt = 0.1  # the resolution in ms\n",
    "simtime = 1000.0  # Simulation time in ms\n",
    "delay = 1.5  # synaptic delay in ms\n"
   ]
  },
  {
   "cell_type": "markdown",
   "id": "f3668413",
   "metadata": {},
   "source": [
    "Definition of the parameters crucial for asynchronous irregular firing of\n",
    "the neurons."
   ]
  },
  {
   "cell_type": "code",
   "execution_count": null,
   "id": "2f4812fe",
   "metadata": {},
   "outputs": [],
   "source": [
    "g = 5.0  # ratio inhibitory weight/excitatory weight\n",
    "eta = 2.0  # external rate relative to threshold rate\n",
    "epsilon = 0.1  # connection probability"
   ]
  },
  {
   "cell_type": "markdown",
   "id": "b774910f",
   "metadata": {},
   "source": [
    "Definition of the number of neurons in the network and the number of neurons\n",
    "recorded from"
   ]
  },
  {
   "cell_type": "code",
   "execution_count": null,
   "id": "65e2b568",
   "metadata": {},
   "outputs": [],
   "source": [
    "order = 2500\n",
    "NE = 4 * order  # number of excitatory neurons\n",
    "NI = 1 * order  # number of inhibitory neurons\n",
    "N_neurons = NE + NI  # number of neurons in total\n",
    "N_rec = 50  # record from 50 neurons"
   ]
  },
  {
   "cell_type": "markdown",
   "id": "12ef4a97",
   "metadata": {},
   "source": [
    "Definition of connectivity parameters"
   ]
  },
  {
   "cell_type": "code",
   "execution_count": null,
   "id": "cf0e188a",
   "metadata": {},
   "outputs": [],
   "source": [
    "CE = int(epsilon * NE)  # number of excitatory synapses per neuron\n",
    "CI = int(epsilon * NI)  # number of inhibitory synapses per neuron\n",
    "C_tot = int(CI + CE)  # total number of synapses per neuron"
   ]
  },
  {
   "cell_type": "markdown",
   "id": "851f961d",
   "metadata": {},
   "source": [
    "Initialization of the parameters of the integrate and fire neuron and the\n",
    "synapses. The parameters of the neuron are stored in a dictionary."
   ]
  },
  {
   "cell_type": "code",
   "execution_count": null,
   "id": "16694e97",
   "metadata": {},
   "outputs": [],
   "source": [
    "tauMem = 20.0  # time constant of membrane potential in ms\n",
    "theta = 20.0  # membrane threshold potential in mV\n",
    "neuron_params = {\"C_m\": 1.0, \"tau_m\": tauMem, \"t_ref\": 2.0, \"E_L\": 0.0, \"V_reset\": 0.0, \"V_m\": 0.0, \"V_th\": theta}\n",
    "J = 0.1  # postsynaptic amplitude in mV\n",
    "J_ex = J  # amplitude of excitatory postsynaptic potential\n",
    "J_in = -g * J_ex  # amplitude of inhibitory postsynaptic potential"
   ]
  },
  {
   "cell_type": "markdown",
   "id": "8b2a2e65",
   "metadata": {},
   "source": [
    "Definition of threshold rate, which is the external rate needed to fix the\n",
    "membrane potential around its threshold, the external firing rate and the\n",
    "rate of the poisson generator which is multiplied by the in-degree CE and\n",
    "converted to spks/s by multiplication by 1000."
   ]
  },
  {
   "cell_type": "code",
   "execution_count": null,
   "id": "fe2fb419",
   "metadata": {},
   "outputs": [],
   "source": [
    "nu_th = theta / (J * CE * tauMem)\n",
    "nu_ex = eta * nu_th\n",
    "p_rate = 1000.0 * nu_ex * CE"
   ]
  },
  {
   "cell_type": "markdown",
   "id": "2a6465a4",
   "metadata": {},
   "source": [
    "Configuration of the simulation kernel by the previously defined time\n",
    "resolution used in the simulation. Setting ``print_time`` to `True` prints the\n",
    "already processed simulation time as well as its percentage of the total\n",
    "simulation time."
   ]
  },
  {
   "cell_type": "code",
   "execution_count": null,
   "id": "0b2089e7",
   "metadata": {},
   "outputs": [],
   "source": [
    "nest.resolution = dt\n",
    "nest.print_time = True\n",
    "nest.overwrite_files = True\n",
    "\n",
    "print(\"Building network\")"
   ]
  },
  {
   "cell_type": "markdown",
   "id": "f2b60691",
   "metadata": {},
   "source": [
    "Creation of the nodes using ``Create``. We store the returned handles in\n",
    "variables for later reference. Here the excitatory and inhibitory, as well\n",
    "as the poisson generator and two spike recorders. The spike recorders will\n",
    "later be used to record excitatory and inhibitory spikes. Properties of the\n",
    "nodes are specified via ``params``, which expects a dictionary."
   ]
  },
  {
   "cell_type": "code",
   "execution_count": null,
   "id": "707f4697",
   "metadata": {},
   "outputs": [],
   "source": [
    "nodes_ex = nest.Create(\"iaf_psc_delta\", NE, params=neuron_params)\n",
    "nodes_in = nest.Create(\"iaf_psc_delta\", NI, params=neuron_params)\n",
    "noise = nest.Create(\"poisson_generator\", params={\"rate\": p_rate})\n",
    "espikes = nest.Create(\"spike_recorder\")\n",
    "ispikes = nest.Create(\"spike_recorder\")"
   ]
  },
  {
   "cell_type": "markdown",
   "id": "e7233d1b",
   "metadata": {},
   "source": [
    "Configuration of the spike recorders recording excitatory and inhibitory\n",
    "spikes by sending parameter dictionaries to ``set``. Setting the property\n",
    "`record_to` to *\"ascii\"* ensures that the spikes will be recorded to a file,\n",
    "whose name starts with the string assigned to the property `label`."
   ]
  },
  {
   "cell_type": "code",
   "execution_count": null,
   "id": "c9a0de6a",
   "metadata": {},
   "outputs": [],
   "source": [
    "espikes.set(label=\"brunel-py-ex\", record_to=\"ascii\")\n",
    "ispikes.set(label=\"brunel-py-in\", record_to=\"ascii\")\n",
    "\n",
    "print(\"Connecting devices\")"
   ]
  },
  {
   "cell_type": "markdown",
   "id": "e94444d4",
   "metadata": {},
   "source": [
    "Definition of a synapse using ``CopyModel``, which expects the model name of\n",
    "a pre-defined synapse, the name of the customary synapse and an optional\n",
    "parameter dictionary. The parameters defined in the dictionary will be the\n",
    "default parameter for the customary synapse. Here we define one synapse for\n",
    "the excitatory and one for the inhibitory connections giving the\n",
    "previously defined weights and equal delays."
   ]
  },
  {
   "cell_type": "code",
   "execution_count": null,
   "id": "6cc3c579",
   "metadata": {},
   "outputs": [],
   "source": [
    "nest.CopyModel(\"static_synapse\", \"excitatory\", {\"weight\": J_ex, \"delay\": delay})\n",
    "nest.CopyModel(\"static_synapse\", \"inhibitory\", {\"weight\": J_in, \"delay\": delay})"
   ]
  },
  {
   "cell_type": "markdown",
   "id": "a76139ed",
   "metadata": {},
   "source": [
    "Connecting the previously defined poisson generator to the excitatory and\n",
    "inhibitory neurons using the excitatory synapse. Since the poisson\n",
    "generator is connected to all neurons in the population the default rule\n",
    "(# ``all_to_all``) of ``Connect`` is used. The synaptic properties are inserted\n",
    "via ``syn_spec`` which expects a dictionary when defining multiple variables\n",
    "or a string when simply using a pre-defined synapse."
   ]
  },
  {
   "cell_type": "code",
   "execution_count": null,
   "id": "de82a8ca",
   "metadata": {},
   "outputs": [],
   "source": [
    "nest.Connect(noise, nodes_ex, syn_spec=\"excitatory\")\n",
    "nest.Connect(noise, nodes_in, syn_spec=\"excitatory\")"
   ]
  },
  {
   "cell_type": "markdown",
   "id": "a7f0d80f",
   "metadata": {},
   "source": [
    "Connecting the first ``N_rec`` nodes of the excitatory and inhibitory\n",
    "population to the associated spike recorders using excitatory synapses.\n",
    "Here the same shortcut for the specification of the synapse as defined\n",
    "above is used."
   ]
  },
  {
   "cell_type": "code",
   "execution_count": null,
   "id": "7187d100",
   "metadata": {},
   "outputs": [],
   "source": [
    "nest.Connect(nodes_ex[:N_rec], espikes, syn_spec=\"excitatory\")\n",
    "nest.Connect(nodes_in[:N_rec], ispikes, syn_spec=\"excitatory\")\n",
    "\n",
    "print(\"Connecting network\")\n",
    "\n",
    "print(\"Excitatory connections\")"
   ]
  },
  {
   "cell_type": "markdown",
   "id": "a2fe08bf",
   "metadata": {},
   "source": [
    "Connecting the excitatory population to all neurons using the pre-defined\n",
    "excitatory synapse. Beforehand, the connection parameter are defined in a\n",
    "dictionary. Here we use the connection rule ``fixed_indegree``,\n",
    "which requires the definition of the indegree. Since the synapse\n",
    "specification is reduced to assigning the pre-defined excitatory synapse it\n",
    "suffices to insert a string."
   ]
  },
  {
   "cell_type": "code",
   "execution_count": null,
   "id": "e82d4d1d",
   "metadata": {},
   "outputs": [],
   "source": [
    "conn_params_ex = {\"rule\": \"fixed_indegree\", \"indegree\": CE}\n",
    "nest.Connect(nodes_ex, nodes_ex + nodes_in, conn_params_ex, \"excitatory\")\n",
    "\n",
    "print(\"Inhibitory connections\")"
   ]
  },
  {
   "cell_type": "markdown",
   "id": "b3e16f32",
   "metadata": {},
   "source": [
    "Connecting the inhibitory population to all neurons using the pre-defined\n",
    "inhibitory synapse. The connection parameters as well as the synapse\n",
    "parameters are defined analogously to the connection from the excitatory\n",
    "population defined above."
   ]
  },
  {
   "cell_type": "code",
   "execution_count": null,
   "id": "fbc33eed",
   "metadata": {},
   "outputs": [],
   "source": [
    "conn_params_in = {\"rule\": \"fixed_indegree\", \"indegree\": CI}\n",
    "nest.Connect(nodes_in, nodes_ex + nodes_in, conn_params_in, \"inhibitory\")"
   ]
  },
  {
   "cell_type": "markdown",
   "id": "c83f9261",
   "metadata": {},
   "source": [
    "Storage of the time point after the buildup of the network in a variable."
   ]
  },
  {
   "cell_type": "code",
   "execution_count": null,
   "id": "40999288",
   "metadata": {},
   "outputs": [],
   "source": [
    "endbuild = time.time()"
   ]
  },
  {
   "cell_type": "markdown",
   "id": "48aaedca",
   "metadata": {},
   "source": [
    "Simulation of the network."
   ]
  },
  {
   "cell_type": "code",
   "execution_count": null,
   "id": "044b3501",
   "metadata": {},
   "outputs": [],
   "source": [
    "print(\"Simulating\")\n",
    "\n",
    "nest.Simulate(simtime)"
   ]
  },
  {
   "cell_type": "markdown",
   "id": "015d0c62",
   "metadata": {},
   "source": [
    "Storage of the time point after the simulation of the network in a variable."
   ]
  },
  {
   "cell_type": "code",
   "execution_count": null,
   "id": "0a959b7e",
   "metadata": {},
   "outputs": [],
   "source": [
    "endsimulate = time.time()"
   ]
  },
  {
   "cell_type": "markdown",
   "id": "b2f55b4b",
   "metadata": {},
   "source": [
    "Reading out the total number of spikes received from the spike recorder\n",
    "connected to the excitatory population and the inhibitory population."
   ]
  },
  {
   "cell_type": "code",
   "execution_count": null,
   "id": "09278042",
   "metadata": {},
   "outputs": [],
   "source": [
    "events_ex = espikes.n_events\n",
    "events_in = ispikes.n_events"
   ]
  },
  {
   "cell_type": "markdown",
   "id": "b794ffd9",
   "metadata": {},
   "source": [
    "Calculation of the average firing rate of the excitatory and the inhibitory\n",
    "neurons by dividing the total number of recorded spikes by the number of\n",
    "neurons recorded from and the simulation time. The multiplication by 1000.0\n",
    "converts the unit 1/ms to 1/s."
   ]
  },
  {
   "cell_type": "code",
   "execution_count": null,
   "id": "96b4ce31",
   "metadata": {},
   "outputs": [],
   "source": [
    "rate_ex = events_ex / simtime * 1000.0 / N_rec\n",
    "rate_in = events_in / simtime * 1000.0 / N_rec"
   ]
  },
  {
   "cell_type": "markdown",
   "id": "08f9425a",
   "metadata": {},
   "source": [
    "Reading out the number of connections established using the excitatory and\n",
    "inhibitory synapse model. The numbers are summed up resulting in the total\n",
    "number of synapses."
   ]
  },
  {
   "cell_type": "code",
   "execution_count": null,
   "id": "f5e55ddc",
   "metadata": {},
   "outputs": [],
   "source": [
    "num_synapses_ex = nest.GetDefaults(\"excitatory\")[\"num_connections\"]\n",
    "num_synapses_in = nest.GetDefaults(\"inhibitory\")[\"num_connections\"]\n",
    "num_synapses = num_synapses_ex + num_synapses_in"
   ]
  },
  {
   "cell_type": "markdown",
   "id": "304f8236",
   "metadata": {},
   "source": [
    "Establishing the time it took to build and simulate the network by taking\n",
    "the difference of the pre-defined time variables."
   ]
  },
  {
   "cell_type": "code",
   "execution_count": null,
   "id": "925ac114",
   "metadata": {},
   "outputs": [],
   "source": [
    "build_time = endbuild - startbuild\n",
    "sim_time = endsimulate - endbuild"
   ]
  },
  {
   "cell_type": "markdown",
   "id": "61ade70f",
   "metadata": {},
   "source": [
    "Printing the network properties, firing rates and building times."
   ]
  },
  {
   "cell_type": "code",
   "execution_count": null,
   "id": "196f1807",
   "metadata": {},
   "outputs": [],
   "source": [
    "print(\"Brunel network simulation (Python)\")\n",
    "print(f\"Number of neurons : {N_neurons}\")\n",
    "print(f\"Number of synapses: {num_synapses}\")\n",
    "print(f\"       Excitatory : {num_synapses_ex}\")\n",
    "print(f\"       Inhibitory : {num_synapses_in}\")\n",
    "print(f\"Excitatory rate   : {rate_ex:.2f} spks/s\")\n",
    "print(f\"Inhibitory rate   : {rate_in:.2f} spks/s\")\n",
    "print(f\"Building time     : {build_time:.2f} s\")\n",
    "print(f\"Simulation time   : {sim_time:.2f} s\")"
   ]
  },
  {
   "cell_type": "markdown",
   "id": "bbcba4bf",
   "metadata": {},
   "source": [
    "Plot a raster of the excitatory neurons and a histogram."
   ]
  },
  {
   "cell_type": "code",
   "execution_count": null,
   "id": "eae99a9f",
   "metadata": {},
   "outputs": [],
   "source": [
    "nest.raster_plot.from_device(espikes, hist=True)\n",
    "plt.show()"
   ]
  }
 ],
 "metadata": {
  "jupytext": {
   "cell_metadata_filter": "-all",
   "encoding": "# -*- coding: utf-8 -*-",
   "main_language": "python",
   "notebook_metadata_filter": "-all"
  }
 },
 "nbformat": 4,
 "nbformat_minor": 5
}
