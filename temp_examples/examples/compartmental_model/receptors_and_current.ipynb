{
 "cells": [
  {
   "cell_type": "code",
   "execution_count": null,
   "id": "85f8ba8d",
   "metadata": {},
   "outputs": [],
   "source": [
    "%matplotlib inline"
   ]
  },
  {
   "cell_type": "code",
   "execution_count": null,
   "id": "3a7c4689",
   "metadata": {},
   "outputs": [],
   "source": [
    "#\n",
    "# receptors_and_current.py\n",
    "#\n",
    "# This file is part of NEST.\n",
    "#\n",
    "# Copyright (C) 2004 The NEST Initiative\n",
    "#\n",
    "# NEST is free software: you can redistribute it and/or modify\n",
    "# it under the terms of the GNU General Public License as published by\n",
    "# the Free Software Foundation, either version 2 of the License, or\n",
    "# (at your option) any later version.\n",
    "#\n",
    "# NEST is distributed in the hope that it will be useful,\n",
    "# but WITHOUT ANY WARRANTY; without even the implied warranty of\n",
    "# MERCHANTABILITY or FITNESS FOR A PARTICULAR PURPOSE.  See the\n",
    "# GNU General Public License for more details.\n",
    "#\n",
    "# You should have received a copy of the GNU General Public License\n",
    "# along with NEST.  If not, see <http://www.gnu.org/licenses/>.\n",
    "\n",
    "r\"\"\"Constructing and simulating compartmental models with different receptor types\n",
    "------------------------------------------------------------------------------\n",
    "This example demonstrates how to initialize a three-compartment model with\n",
    "different receptor types. Each compartment receives a different receptor.\n",
    "\n",
    "The output shows the voltage in each of the three compartments.\n",
    "\n",
    ":Authors: WAM Wybo\n",
    "\"\"\"\n",
    "\n",
    "import matplotlib.pyplot as plt\n",
    "import nest\n",
    "\n",
    "nest.ResetKernel()"
   ]
  },
  {
   "cell_type": "markdown",
   "id": "962088c0",
   "metadata": {
    "lines_to_next_cell": 0
   },
   "source": [
    "somatic and dendritic parameters"
   ]
  },
  {
   "cell_type": "code",
   "execution_count": null,
   "id": "525f791a",
   "metadata": {},
   "outputs": [],
   "source": [
    "soma_params = {\n",
    "    \"C_m\": 10.0,  # [pF] Capacitance\n",
    "    \"g_C\": 0.0,  # soma has no parent\n",
    "    \"g_L\": 1.0,  # [nS] Leak conductance\n",
    "    \"e_L\": -70.0,  # [mV] leak reversal\n",
    "    \"v_comp\": -70.0,  # [mV] voltage initialization\n",
    "}\n",
    "dend_params = {\n",
    "    \"C_m\": 0.1,  # [pF] Capacitance\n",
    "    \"g_C\": 0.1,  # [nS] Coupling conductance to parent (soma here)\n",
    "    \"g_L\": 0.1,  # [nS] Leak conductance\n",
    "    \"e_L\": -70.0,  # [mV] leak reversal\n",
    "    \"v_comp\": -70.0,  # [mV] voltage initialization\n",
    "}"
   ]
  },
  {
   "cell_type": "markdown",
   "id": "634fd95b",
   "metadata": {
    "lines_to_next_cell": 0
   },
   "source": [
    "create a model with three compartments"
   ]
  },
  {
   "cell_type": "code",
   "execution_count": null,
   "id": "1aeb7a7f",
   "metadata": {},
   "outputs": [],
   "source": [
    "cm = nest.Create(\"cm_default\")\n",
    "cm.compartments = [\n",
    "    {\"parent_idx\": -1, \"params\": soma_params},\n",
    "    {\"parent_idx\": 0, \"params\": dend_params},\n",
    "    {\"parent_idx\": 0, \"params\": dend_params},\n",
    "]"
   ]
  },
  {
   "cell_type": "markdown",
   "id": "cd3d6fd2",
   "metadata": {
    "lines_to_next_cell": 0
   },
   "source": [
    "spike threshold"
   ]
  },
  {
   "cell_type": "code",
   "execution_count": null,
   "id": "0cf7921f",
   "metadata": {},
   "outputs": [],
   "source": [
    "nest.SetStatus(cm, {\"V_th\": -50.0})"
   ]
  },
  {
   "cell_type": "markdown",
   "id": "14441e45",
   "metadata": {
    "lines_to_next_cell": 0
   },
   "source": [
    "- GABA receptor in compartment 0 (soma)\n",
    "- AMPA receptor in compartment 1\n",
    "  note that it is also possible to specify the receptor parameters, if we want\n",
    "  to overwrite the default values\n",
    "- AMPA+NMDA receptor in compartment 2"
   ]
  },
  {
   "cell_type": "code",
   "execution_count": null,
   "id": "31d7b2c3",
   "metadata": {
    "lines_to_next_cell": 0
   },
   "outputs": [],
   "source": [
    "receptors = [\n",
    "    {\"comp_idx\": 0, \"receptor_type\": \"GABA\"},\n",
    "    {\"comp_idx\": 1, \"receptor_type\": \"AMPA\", \"params\": {\"tau_r_AMPA\": 0.2, \"tau_d_AMPA\": 3.0, \"e_AMPA\": 0.0}},\n",
    "    {\"comp_idx\": 2, \"receptor_type\": \"AMPA_NMDA\"},\n",
    "]\n",
    "cm.receptors = receptors"
   ]
  },
  {
   "cell_type": "markdown",
   "id": "9165a36b",
   "metadata": {
    "lines_to_next_cell": 0
   },
   "source": [
    "receptors get assigned an index which corresponds to the order in which they\n",
    "are added. For clearer bookkeeping, we explicitly define these indices here."
   ]
  },
  {
   "cell_type": "code",
   "execution_count": null,
   "id": "42a6783e",
   "metadata": {},
   "outputs": [],
   "source": [
    "syn_idx_GABA, syn_idx_AMPA, syn_idx_NMDA = 0, 1, 2"
   ]
  },
  {
   "cell_type": "markdown",
   "id": "7afdb727",
   "metadata": {
    "lines_to_next_cell": 0
   },
   "source": [
    "create three spike generators"
   ]
  },
  {
   "cell_type": "code",
   "execution_count": null,
   "id": "f7233ba2",
   "metadata": {},
   "outputs": [],
   "source": [
    "sg1 = nest.Create(\"spike_generator\", 1, {\"spike_times\": [101.0, 105.0, 106.0, 110.0, 150.0]})\n",
    "sg2 = nest.Create(\n",
    "    \"spike_generator\", 1, {\"spike_times\": [115.0, 155.0, 160.0, 162.0, 170.0, 254.0, 260.0, 272.0, 278.0]}\n",
    ")\n",
    "sg3 = nest.Create(\"spike_generator\", 1, {\"spike_times\": [250.0, 255.0, 260.0, 262.0, 270.0]})"
   ]
  },
  {
   "cell_type": "markdown",
   "id": "e36c49e9",
   "metadata": {
    "lines_to_next_cell": 0
   },
   "source": [
    "connect the spike generators to the receptors"
   ]
  },
  {
   "cell_type": "code",
   "execution_count": null,
   "id": "f43f44f2",
   "metadata": {},
   "outputs": [],
   "source": [
    "nest.Connect(\n",
    "    sg1, cm, syn_spec={\"synapse_model\": \"static_synapse\", \"weight\": 0.1, \"delay\": 0.5, \"receptor_type\": syn_idx_AMPA}\n",
    ")\n",
    "nest.Connect(\n",
    "    sg2, cm, syn_spec={\"synapse_model\": \"static_synapse\", \"weight\": 0.2, \"delay\": 0.5, \"receptor_type\": syn_idx_NMDA}\n",
    ")\n",
    "nest.Connect(\n",
    "    sg3, cm, syn_spec={\"synapse_model\": \"static_synapse\", \"weight\": 0.3, \"delay\": 0.5, \"receptor_type\": syn_idx_GABA}\n",
    ")"
   ]
  },
  {
   "cell_type": "markdown",
   "id": "59de79b5",
   "metadata": {
    "lines_to_next_cell": 0
   },
   "source": [
    "create and connect a current generator to compartment 1"
   ]
  },
  {
   "cell_type": "code",
   "execution_count": null,
   "id": "ea544229",
   "metadata": {},
   "outputs": [],
   "source": [
    "dcg = nest.Create(\"dc_generator\", {\"amplitude\": 1.0})\n",
    "nest.Connect(dcg, cm, syn_spec={\"synapse_model\": \"static_synapse\", \"weight\": 1.0, \"delay\": 0.1, \"receptor_type\": 1})"
   ]
  },
  {
   "cell_type": "markdown",
   "id": "98063997",
   "metadata": {
    "lines_to_next_cell": 0
   },
   "source": [
    "create and connect a multimeter to measure the three compartmental voltages"
   ]
  },
  {
   "cell_type": "code",
   "execution_count": null,
   "id": "6639939c",
   "metadata": {},
   "outputs": [],
   "source": [
    "mm = nest.Create(\"multimeter\", 1, {\"record_from\": [\"v_comp0\", \"v_comp1\", \"v_comp2\"], \"interval\": 0.1})\n",
    "nest.Connect(mm, cm)\n",
    "\n",
    "nest.Simulate(400.0)\n",
    "res = nest.GetStatus(mm, \"events\")[0]\n",
    "\n",
    "plt.plot(res[\"times\"], res[\"v_comp0\"], c=\"b\", label=\"v_comp0\")\n",
    "plt.plot(res[\"times\"], res[\"v_comp1\"], c=\"r\", label=\"v_comp1\")\n",
    "plt.plot(res[\"times\"], res[\"v_comp2\"], c=\"g\", label=\"v_comp2\")\n",
    "plt.legend()\n",
    "\n",
    "plt.show()"
   ]
  }
 ],
 "metadata": {
  "jupytext": {
   "cell_metadata_filter": "-all",
   "encoding": "# -*- coding: utf-8 -*-"
  },
  "kernelspec": {
   "display_name": "EBRAINS-experimental",
   "language": "python",
   "name": "ebrains-experimental"
  }
 },
 "nbformat": 4,
 "nbformat_minor": 5
}
