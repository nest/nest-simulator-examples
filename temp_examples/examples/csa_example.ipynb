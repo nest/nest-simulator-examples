{
 "cells": [
  {
   "cell_type": "code",
   "execution_count": null,
   "id": "ff8560c5",
   "metadata": {},
   "outputs": [],
   "source": [
    "%matplotlib inline"
   ]
  },
  {
   "cell_type": "code",
   "execution_count": null,
   "id": "e39c6950",
   "metadata": {},
   "outputs": [],
   "source": [
    "#\n",
    "# csa_example.py\n",
    "#\n",
    "# This file is part of NEST.\n",
    "#\n",
    "# Copyright (C) 2004 The NEST Initiative\n",
    "#\n",
    "# NEST is free software: you can redistribute it and/or modify\n",
    "# it under the terms of the GNU General Public License as published by\n",
    "# the Free Software Foundation, either version 2 of the License, or\n",
    "# (at your option) any later version.\n",
    "#\n",
    "# NEST is distributed in the hope that it will be useful,\n",
    "# but WITHOUT ANY WARRANTY; without even the implied warranty of\n",
    "# MERCHANTABILITY or FITNESS FOR A PARTICULAR PURPOSE.  See the\n",
    "# GNU General Public License for more details.\n",
    "#\n",
    "# You should have received a copy of the GNU General Public License\n",
    "# along with NEST.  If not, see <http://www.gnu.org/licenses/>."
   ]
  },
  {
   "cell_type": "markdown",
   "id": "cc674067",
   "metadata": {
    "cell_marker": "\"\"\""
   },
   "source": [
    "Using CSA for connection setup\n",
    "------------------------------\n",
    "\n",
    "This example sets up a simple network in NEST using the Connection Set\n",
    "Algebra (CSA) instead of using the built-in connection routines.\n",
    "\n",
    "Using the CSA requires NEST to be compiled with support for\n",
    "libneurosim. For details, see [1]_.\n",
    "\n",
    "See Also\n",
    "~~~~~~~~\n",
    "\n",
    ":doc:`csa_spatial_example`\n",
    "\n",
    "References\n",
    "~~~~~~~~~~\n",
    "\n",
    ".. [1] Djurfeldt M, Davison AP and Eppler JM (2014). Efficient generation of\n",
    "       connectivity in neuronal networks from simulator-independent\n",
    "       descriptions, Front. Neuroinform.\n",
    "       http://dx.doi.org/10.3389/fninf.2014.00043\n"
   ]
  },
  {
   "cell_type": "markdown",
   "id": "d82f24d7",
   "metadata": {},
   "source": [
    "First, we import all necessary modules for simulation and plotting."
   ]
  },
  {
   "cell_type": "code",
   "execution_count": null,
   "id": "66cacf85",
   "metadata": {},
   "outputs": [],
   "source": [
    "import matplotlib.pyplot as plt\n",
    "import nest\n",
    "from nest import visualization, voltage_trace"
   ]
  },
  {
   "cell_type": "markdown",
   "id": "069cb41e",
   "metadata": {},
   "source": [
    "Next, we check for the availability of the CSA Python module. If it does\n",
    "not import, we exit with an error message."
   ]
  },
  {
   "cell_type": "code",
   "execution_count": null,
   "id": "bdcb49c7",
   "metadata": {},
   "outputs": [],
   "source": [
    "try:\n",
    "    import csa\n",
    "\n",
    "    haveCSA = True\n",
    "except ImportError:\n",
    "    print(\n",
    "        \"This example requires CSA to be installed in order to run.\\n\"\n",
    "        + \"Please make sure you compiled NEST using\\n\"\n",
    "        + \"  -Dwith-libneurosim=[OFF|ON|</path/to/libneurosim>]\\n\"\n",
    "        + \"and CSA and libneurosim are available.\"\n",
    "    )\n",
    "    import sys\n",
    "\n",
    "    sys.exit(1)"
   ]
  },
  {
   "cell_type": "markdown",
   "id": "f14209ca",
   "metadata": {},
   "source": [
    "To set up the connectivity, we create a ``random`` connection set with a\n",
    "probability of 0.1 and two associated values (10000.0 and 1.0) used as\n",
    "weight and delay, respectively."
   ]
  },
  {
   "cell_type": "code",
   "execution_count": null,
   "id": "26148ac0",
   "metadata": {},
   "outputs": [],
   "source": [
    "cg = csa.cset(csa.random(0.1), 10000.0, 1.0)"
   ]
  },
  {
   "cell_type": "markdown",
   "id": "2ea40269",
   "metadata": {},
   "source": [
    "Using the ``Create`` command from PyNEST, we create the neurons of the pre-\n",
    "and postsynaptic populations, each of which containing 16 neurons."
   ]
  },
  {
   "cell_type": "code",
   "execution_count": null,
   "id": "dbdabd87",
   "metadata": {},
   "outputs": [],
   "source": [
    "pre = nest.Create(\"iaf_psc_alpha\", 16)\n",
    "post = nest.Create(\"iaf_psc_alpha\", 16)"
   ]
  },
  {
   "cell_type": "markdown",
   "id": "a6d0b817",
   "metadata": {},
   "source": [
    "We can now connect the populations using the ``Connect`` function\n",
    "with the ``conngen`` rule. It takes the IDs of pre- and postsynaptic\n",
    "neurons (``pre`` and ``post``), the connection set (``cg``) and a\n",
    "dictionary that maps the parameters weight and delay to positions in\n",
    "the value set associated with the connection set (``params_map``)."
   ]
  },
  {
   "cell_type": "code",
   "execution_count": null,
   "id": "e8e1b588",
   "metadata": {},
   "outputs": [],
   "source": [
    "params_map = {\"weight\": 0, \"delay\": 1}\n",
    "connspec = {\"rule\": \"conngen\", \"cg\": cg, \"params_map\": params_map}\n",
    "nest.Connect(pre, post, connspec)"
   ]
  },
  {
   "cell_type": "markdown",
   "id": "84e10adf",
   "metadata": {},
   "source": [
    "To stimulate the network, we create a ``poisson_generator`` and set it up to\n",
    "fire with a rate of 100000 spikes per second. It is connected to the\n",
    "neurons of the pre-synaptic population."
   ]
  },
  {
   "cell_type": "code",
   "execution_count": null,
   "id": "52bd32c8",
   "metadata": {},
   "outputs": [],
   "source": [
    "pg = nest.Create(\"poisson_generator\", params={\"rate\": 100000.0})\n",
    "nest.Connect(pg, pre, \"all_to_all\")"
   ]
  },
  {
   "cell_type": "markdown",
   "id": "ce329a0f",
   "metadata": {},
   "source": [
    "To measure and record the membrane potentials of the neurons, we create a\n",
    "``voltmeter`` and connect it to all postsynaptic nodes."
   ]
  },
  {
   "cell_type": "code",
   "execution_count": null,
   "id": "c255a0cf",
   "metadata": {},
   "outputs": [],
   "source": [
    "vm = nest.Create(\"voltmeter\")\n",
    "nest.Connect(vm, post, \"all_to_all\")"
   ]
  },
  {
   "cell_type": "markdown",
   "id": "36e6888f",
   "metadata": {},
   "source": [
    "We save the whole connection graph of the network as a PNG image using the\n",
    "``plot_network`` function of the ``visualization`` submodule of PyNEST."
   ]
  },
  {
   "cell_type": "code",
   "execution_count": null,
   "id": "efeb6744",
   "metadata": {},
   "outputs": [],
   "source": [
    "allnodes = pg + pre + post + vm\n",
    "visualization.plot_network(allnodes, \"csa_example_graph.png\")"
   ]
  },
  {
   "cell_type": "markdown",
   "id": "346bad51",
   "metadata": {},
   "source": [
    "Finally, we simulate the network for 50 ms. The voltage traces of the\n",
    "postsynaptic nodes are plotted."
   ]
  },
  {
   "cell_type": "code",
   "execution_count": null,
   "id": "41039b25",
   "metadata": {},
   "outputs": [],
   "source": [
    "nest.Simulate(50.0)\n",
    "voltage_trace.from_device(vm)\n",
    "plt.show()"
   ]
  }
 ],
 "metadata": {
  "jupytext": {
   "cell_metadata_filter": "-all",
   "encoding": "# -*- coding: utf-8 -*-"
  },
  "kernelspec": {
   "display_name": "EBRAINS-experimental",
   "language": "python",
   "name": "ebrains-experimental"
  }
 },
 "nbformat": 4,
 "nbformat_minor": 5
}
