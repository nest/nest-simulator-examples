{
 "cells": [
  {
   "cell_type": "code",
   "execution_count": null,
   "id": "df729545",
   "metadata": {},
   "outputs": [],
   "source": [
    "%matplotlib inline"
   ]
  },
  {
   "cell_type": "code",
   "execution_count": null,
   "id": "84948986",
   "metadata": {},
   "outputs": [],
   "source": [
    "#\n",
    "# evaluate_tsodyks2_synapse.py\n",
    "#\n",
    "# This file is part of NEST.\n",
    "#\n",
    "# Copyright (C) 2004 The NEST Initiative\n",
    "#\n",
    "# NEST is free software: you can redistribute it and/or modify\n",
    "# it under the terms of the GNU General Public License as published by\n",
    "# the Free Software Foundation, either version 2 of the License, or\n",
    "# (at your option) any later version.\n",
    "#\n",
    "# NEST is distributed in the hope that it will be useful,\n",
    "# but WITHOUT ANY WARRANTY; without even the implied warranty of\n",
    "# MERCHANTABILITY or FITNESS FOR A PARTICULAR PURPOSE.  See the\n",
    "# GNU General Public License for more details.\n",
    "#\n",
    "# You should have received a copy of the GNU General Public License\n",
    "# along with NEST.  If not, see <http://www.gnu.org/licenses/>."
   ]
  },
  {
   "cell_type": "markdown",
   "id": "144fbe9c",
   "metadata": {
    "cell_marker": "\"\"\""
   },
   "source": [
    "Example of the tsodyks2_synapse in NEST\n",
    "---------------------------------------\n",
    "\n",
    "This synapse model implements synaptic short-term depression and short-term f\n",
    "according to [1]_ and [2]_. It solves Eq (2) from [1]_ and modulates U according\n",
    "\n",
    "This connection merely scales the synaptic weight, based on the spike history\n",
    "parameters of the kinetic model. Thus, it is suitable for any type of synapse\n",
    "that is current or conductance based.\n",
    "\n",
    "The parameter `A_se` from the publications is represented by the\n",
    "synaptic weight. The variable `x` in the synapse properties is the\n",
    "factor that scales the synaptic weight.\n",
    "\n",
    "See also [3]_.\n",
    "\n",
    "Parameters\n",
    "~~~~~~~~~~\n",
    "\n",
    "The following parameters can be set in the status dictionary:\n",
    "\n",
    "* U           - probability of release increment (U1) [0,1], default=0.\n",
    "* u           - Maximum probability of release (U_se) [0,1], default=0.\n",
    "* x           - current scaling factor of the weight, default=U\n",
    "* tau_rec     - time constant for depression in ms, default=800 ms\n",
    "* tau_fac     - time constant for facilitation in ms, default=0 (off)\n",
    "\n",
    "Notes\n",
    "~~~~~\n",
    "\n",
    "Under identical conditions, the ``tsodyks2_synapse`` produces slightly lower\n",
    "peak amplitudes than the ``tsodyks_synapse``. However, the qualitative behavior\n",
    "is identical.\n",
    "\n",
    "This compares the two synapse models.\n",
    "\n",
    "References\n",
    "~~~~~~~~~~\n",
    "\n",
    ".. [1] Tsodyks MV, and Markram H. (1997). The neural code between\n",
    "       neocortical depends on neurotransmitter release probability. PNAS,\n",
    "       94(2), 719-23.\n",
    ".. [2] Fuhrmann G, Segev I, Markram H, and Tsodyks MV. (2002). Coding of\n",
    "       temporal information by activity-dependent synapses. Journal of\n",
    "       Neurophysiology, 8. https://doi.org/10.1152/jn.00258.2001\n",
    ".. [3] Maass W, and Markram H. (2002). Synapses as dynamic memory buffers.\n",
    "       Neural Networks, 15(2), 155-161.\n",
    "       http://dx.doi.org/10.1016/S0893-6080(01)00144-7"
   ]
  },
  {
   "cell_type": "code",
   "execution_count": null,
   "id": "22f630c0",
   "metadata": {},
   "outputs": [],
   "source": [
    "import matplotlib.pyplot as plt\n",
    "import nest\n",
    "import nest.voltage_trace\n",
    "\n",
    "nest.ResetKernel()"
   ]
  },
  {
   "cell_type": "markdown",
   "id": "f161937d",
   "metadata": {},
   "source": [
    "Parameter set for depression"
   ]
  },
  {
   "cell_type": "code",
   "execution_count": null,
   "id": "6628d3cb",
   "metadata": {},
   "outputs": [],
   "source": [
    "dep_params = {\"U\": 0.67, \"u\": 0.67, \"x\": 1.0, \"tau_rec\": 450.0, \"tau_fac\": 0.0, \"weight\": 250.0}"
   ]
  },
  {
   "cell_type": "markdown",
   "id": "7da400ec",
   "metadata": {},
   "source": [
    "Parameter set for facilitation"
   ]
  },
  {
   "cell_type": "code",
   "execution_count": null,
   "id": "14c4c126",
   "metadata": {},
   "outputs": [],
   "source": [
    "fac_params = {\"U\": 0.1, \"u\": 0.1, \"x\": 1.0, \"tau_fac\": 1000.0, \"tau_rec\": 100.0, \"weight\": 250.0}"
   ]
  },
  {
   "cell_type": "markdown",
   "id": "5482eec8",
   "metadata": {},
   "source": [
    "Now we assign the parameter set to the synapse models."
   ]
  },
  {
   "cell_type": "code",
   "execution_count": null,
   "id": "2f4c510a",
   "metadata": {},
   "outputs": [],
   "source": [
    "tsodyks_params = dict(fac_params, synapse_model=\"tsodyks_synapse\")  # for tsodyks_synapse\n",
    "tsodyks2_params = dict(fac_params, synapse_model=\"tsodyks2_synapse\")  # for tsodyks2_synapse"
   ]
  },
  {
   "cell_type": "markdown",
   "id": "822935cc",
   "metadata": {},
   "source": [
    "Create three neurons."
   ]
  },
  {
   "cell_type": "code",
   "execution_count": null,
   "id": "0c1052c4",
   "metadata": {},
   "outputs": [],
   "source": [
    "neuron = nest.Create(\"iaf_psc_exp\", 3, params={\"tau_syn_ex\": 3.0})"
   ]
  },
  {
   "cell_type": "markdown",
   "id": "407bddab",
   "metadata": {},
   "source": [
    "Neuron one produces spikes. Neurons 2 and 3 receive the spikes via the two\n",
    "synapse models."
   ]
  },
  {
   "cell_type": "code",
   "execution_count": null,
   "id": "18b87759",
   "metadata": {},
   "outputs": [],
   "source": [
    "nest.Connect(neuron[0], neuron[1], syn_spec=tsodyks_params)\n",
    "nest.Connect(neuron[0], neuron[2], syn_spec=tsodyks2_params)"
   ]
  },
  {
   "cell_type": "markdown",
   "id": "fad866ee",
   "metadata": {},
   "source": [
    "Now create two voltmeters to record the responses."
   ]
  },
  {
   "cell_type": "code",
   "execution_count": null,
   "id": "5c3b00a8",
   "metadata": {},
   "outputs": [],
   "source": [
    "voltmeter = nest.Create(\"voltmeter\", 2)"
   ]
  },
  {
   "cell_type": "markdown",
   "id": "ea17937e",
   "metadata": {},
   "source": [
    "Connect the voltmeters to the neurons."
   ]
  },
  {
   "cell_type": "code",
   "execution_count": null,
   "id": "60426c42",
   "metadata": {},
   "outputs": [],
   "source": [
    "nest.Connect(voltmeter[0], neuron[1])\n",
    "nest.Connect(voltmeter[1], neuron[2])"
   ]
  },
  {
   "cell_type": "markdown",
   "id": "2fed2e42",
   "metadata": {},
   "source": [
    "Now simulate the standard STP protocol: a burst of spikes, followed by a\n",
    "pause and a recovery response."
   ]
  },
  {
   "cell_type": "code",
   "execution_count": null,
   "id": "4f0db6ec",
   "metadata": {},
   "outputs": [],
   "source": [
    "neuron[0].I_e = 376.0\n",
    "\n",
    "nest.Simulate(500.0)\n",
    "neuron[0].I_e = 0.0\n",
    "nest.Simulate(500.0)\n",
    "neuron[0].I_e = 376.0\n",
    "nest.Simulate(500.0)"
   ]
  },
  {
   "cell_type": "markdown",
   "id": "dd582da6",
   "metadata": {},
   "source": [
    "Finally, generate voltage traces. Both are shown in the same plot and\n",
    "should be almost completely overlapping."
   ]
  },
  {
   "cell_type": "code",
   "execution_count": null,
   "id": "6658776e",
   "metadata": {},
   "outputs": [],
   "source": [
    "nest.voltage_trace.from_device(voltmeter[0])\n",
    "nest.voltage_trace.from_device(voltmeter[1])\n",
    "plt.show()"
   ]
  }
 ],
 "metadata": {
  "jupytext": {
   "cell_metadata_filter": "-all",
   "encoding": "# -*- coding: utf-8 -*-"
  },
  "kernelspec": {
   "display_name": "EBRAINS-experimental",
   "language": "python",
   "name": "ebrains-experimental"
  }
 },
 "nbformat": 4,
 "nbformat_minor": 5
}
