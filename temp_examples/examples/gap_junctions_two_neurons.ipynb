{
 "cells": [
  {
   "cell_type": "code",
   "execution_count": null,
   "id": "c448437a",
   "metadata": {},
   "outputs": [],
   "source": [
    "%matplotlib inline"
   ]
  },
  {
   "cell_type": "code",
   "execution_count": null,
   "id": "d19e27ee",
   "metadata": {},
   "outputs": [],
   "source": [
    "#\n",
    "# gap_junctions_two_neurons.py\n",
    "#\n",
    "# This file is part of NEST.\n",
    "#\n",
    "# Copyright (C) 2004 The NEST Initiative\n",
    "#\n",
    "# NEST is free software: you can redistribute it and/or modify\n",
    "# it under the terms of the GNU General Public License as published by\n",
    "# the Free Software Foundation, either version 2 of the License, or\n",
    "# (at your option) any later version.\n",
    "#\n",
    "# NEST is distributed in the hope that it will be useful,\n",
    "# but WITHOUT ANY WARRANTY; without even the implied warranty of\n",
    "# MERCHANTABILITY or FITNESS FOR A PARTICULAR PURPOSE.  See the\n",
    "# GNU General Public License for more details.\n",
    "#\n",
    "# You should have received a copy of the GNU General Public License\n",
    "# along with NEST.  If not, see <http://www.gnu.org/licenses/>."
   ]
  },
  {
   "cell_type": "markdown",
   "id": "126bc352",
   "metadata": {
    "cell_marker": "\"\"\""
   },
   "source": [
    "Gap Junctions: Two neuron example\n",
    "---------------------------------\n",
    "\n",
    "This script simulates two Hodgkin-Huxley neurons of type ``hh_psc_alpha_gap``\n",
    "connected by a gap junction. Both neurons receive a constant current of\n",
    "100.0 pA. The neurons are initialized with different membrane potentials and\n",
    "synchronize over time due to the gap-junction connection.\n"
   ]
  },
  {
   "cell_type": "code",
   "execution_count": null,
   "id": "8fb18bea",
   "metadata": {},
   "outputs": [],
   "source": [
    "import matplotlib.pyplot as plt\n",
    "import nest\n",
    "import numpy\n",
    "\n",
    "nest.ResetKernel()"
   ]
  },
  {
   "cell_type": "markdown",
   "id": "28da7239",
   "metadata": {},
   "source": [
    "First we set the resolution of the simulation, create two neurons and\n",
    "create a ``voltmeter`` for recording."
   ]
  },
  {
   "cell_type": "code",
   "execution_count": null,
   "id": "eba4ab9e",
   "metadata": {},
   "outputs": [],
   "source": [
    "nest.resolution = 0.05\n",
    "\n",
    "neuron = nest.Create(\"hh_psc_alpha_gap\", 2)\n",
    "\n",
    "vm = nest.Create(\"voltmeter\", params={\"interval\": 0.1})"
   ]
  },
  {
   "cell_type": "markdown",
   "id": "e380d412",
   "metadata": {},
   "source": [
    "Then we set the constant current input, modify the inital membrane\n",
    "potential of one of the neurons and connect the neurons to the ``voltmeter``."
   ]
  },
  {
   "cell_type": "code",
   "execution_count": null,
   "id": "36cc700d",
   "metadata": {},
   "outputs": [],
   "source": [
    "neuron.I_e = 100.0\n",
    "neuron[0].V_m = -10.0\n",
    "\n",
    "nest.Connect(vm, neuron, \"all_to_all\")"
   ]
  },
  {
   "cell_type": "markdown",
   "id": "4fed9c23",
   "metadata": {},
   "source": [
    "In order to create the ``gap_junction`` connection we employ the\n",
    "``all_to_all`` connection rule: Gap junctions are bidirectional connections,\n",
    "therefore we need to connect `neuron[0]` to `neuron[1]` and `neuron[1]` to\n",
    "`neuron[0]`:"
   ]
  },
  {
   "cell_type": "code",
   "execution_count": null,
   "id": "6e8e98dd",
   "metadata": {},
   "outputs": [],
   "source": [
    "nest.Connect(\n",
    "    neuron, neuron, {\"rule\": \"all_to_all\", \"allow_autapses\": False}, {\"synapse_model\": \"gap_junction\", \"weight\": 0.5}\n",
    ")"
   ]
  },
  {
   "cell_type": "markdown",
   "id": "b86c31c4",
   "metadata": {},
   "source": [
    "Finally we start the simulation and plot the membrane potentials of both\n",
    "neurons."
   ]
  },
  {
   "cell_type": "code",
   "execution_count": null,
   "id": "70a603db",
   "metadata": {},
   "outputs": [],
   "source": [
    "nest.Simulate(351.0)\n",
    "\n",
    "senders = vm.events[\"senders\"]\n",
    "times = vm.events[\"times\"]\n",
    "v_m_values = vm.events[\"V_m\"]\n",
    "\n",
    "plt.figure(1)\n",
    "plt.plot(times[numpy.where(senders == 1)], v_m_values[numpy.where(senders == 1)], \"r-\")\n",
    "plt.plot(times[numpy.where(senders == 2)], v_m_values[numpy.where(senders == 2)], \"g-\")\n",
    "plt.xlabel(\"time (ms)\")\n",
    "plt.ylabel(\"membrane potential (mV)\")\n",
    "plt.show()"
   ]
  }
 ],
 "metadata": {
  "jupytext": {
   "cell_metadata_filter": "-all",
   "encoding": "# -*- coding: utf-8 -*-",
   "main_language": "python",
   "notebook_metadata_filter": "-all"
  }
 },
 "nbformat": 4,
 "nbformat_minor": 5
}
