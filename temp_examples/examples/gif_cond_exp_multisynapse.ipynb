{
 "cells": [
  {
   "cell_type": "markdown",
   "id": "e6622953",
   "metadata": {},
   "source": [
    "\n",
    "gif_cond_exp_multisynapse.py\n",
    "\n",
    "This file is part of NEST.\n",
    "\n",
    "Copyright (C) 2004 The NEST Initiative\n",
    "\n",
    "NEST is free software: you can redistribute it and/or modify\n",
    "it under the terms of the GNU General Public License as published by\n",
    "the Free Software Foundation, either version 2 of the License, or\n",
    "(at your option) any later version.\n",
    "\n",
    "NEST is distributed in the hope that it will be useful,\n",
    "but WITHOUT ANY WARRANTY; without even the implied warranty of\n",
    "MERCHANTABILITY or FITNESS FOR A PARTICULAR PURPOSE.  See the\n",
    "GNU General Public License for more details.\n",
    "\n",
    "You should have received a copy of the GNU General Public License\n",
    "along with NEST.  If not, see <http://www.gnu.org/licenses/>."
   ]
  },
  {
   "cell_type": "code",
   "execution_count": null,
   "id": "f9e45ad9",
   "metadata": {},
   "outputs": [],
   "source": [
    "\"\"\"\n",
    "Example network using generalized IAF neuron with postsynaptic conductances\n",
    "---------------------------------------------------------------------------\n",
    "\n",
    "\"\"\""
   ]
  },
  {
   "cell_type": "code",
   "execution_count": null,
   "id": "cad274f6",
   "metadata": {},
   "outputs": [],
   "source": [
    "import nest\n",
    "import numpy as np"
   ]
  },
  {
   "cell_type": "code",
   "execution_count": null,
   "id": "c1b6c36d",
   "metadata": {},
   "outputs": [],
   "source": [
    "neuron = nest.Create(\"gif_cond_exp_multisynapse\", params={\"E_rev\": [0.0, -85.0], \"tau_syn\": [4.0, 8.0]})"
   ]
  },
  {
   "cell_type": "code",
   "execution_count": null,
   "id": "25fd40f8",
   "metadata": {},
   "outputs": [],
   "source": [
    "spike = nest.Create(\"spike_generator\", params={\"spike_times\": np.array([10.0])})"
   ]
  },
  {
   "cell_type": "code",
   "execution_count": null,
   "id": "4852e551",
   "metadata": {},
   "outputs": [],
   "source": [
    "delays = [1.0, 30.0]\n",
    "w = [1.0, 5.0]\n",
    "for syn in range(2):\n",
    "    nest.Connect(\n",
    "        spike,\n",
    "        neuron,\n",
    "        syn_spec={\"synapse_model\": \"static_synapse\", \"receptor_type\": 1 + syn, \"weight\": w[syn], \"delay\": delays[syn]},\n",
    "    )\n",
    "nest.Simulate(100.0)"
   ]
  }
 ],
 "metadata": {
  "jupytext": {
   "cell_metadata_filter": "-all",
   "encoding": "# -*- coding: utf-8 -*-",
   "main_language": "python",
   "notebook_metadata_filter": "-all"
  }
 },
 "nbformat": 4,
 "nbformat_minor": 5
}
