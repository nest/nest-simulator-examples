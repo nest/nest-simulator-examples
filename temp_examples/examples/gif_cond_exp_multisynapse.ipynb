{
 "cells": [
  {
   "cell_type": "markdown",
   "id": "d0fbc791",
   "metadata": {},
   "source": [
    "\n",
    "gif_cond_exp_multisynapse.py\n",
    "\n",
    "This file is part of NEST.\n",
    "\n",
    "Copyright (C) 2004 The NEST Initiative\n",
    "\n",
    "NEST is free software: you can redistribute it and/or modify\n",
    "it under the terms of the GNU General Public License as published by\n",
    "the Free Software Foundation, either version 2 of the License, or\n",
    "(at your option) any later version.\n",
    "\n",
    "NEST is distributed in the hope that it will be useful,\n",
    "but WITHOUT ANY WARRANTY; without even the implied warranty of\n",
    "MERCHANTABILITY or FITNESS FOR A PARTICULAR PURPOSE.  See the\n",
    "GNU General Public License for more details.\n",
    "\n",
    "You should have received a copy of the GNU General Public License\n",
    "along with NEST.  If not, see <http://www.gnu.org/licenses/>."
   ]
  },
  {
   "cell_type": "code",
   "execution_count": null,
   "id": "e265fa44",
   "metadata": {},
   "outputs": [],
   "source": [
    "\"\"\"\n",
    "Example network using generalized IAF neuron with postsynaptic conductances\n",
    "---------------------------------------------------------------------------\n",
    "\n",
    "\"\"\""
   ]
  },
  {
   "cell_type": "code",
   "execution_count": null,
   "id": "37974f0f",
   "metadata": {},
   "outputs": [],
   "source": [
    "import nest\n",
    "import numpy as np"
   ]
  },
  {
   "cell_type": "code",
   "execution_count": null,
   "id": "4d0272be",
   "metadata": {},
   "outputs": [],
   "source": [
    "neuron = nest.Create(\"gif_cond_exp_multisynapse\", params={\"E_rev\": [0.0, -85.0], \"tau_syn\": [4.0, 8.0]})"
   ]
  },
  {
   "cell_type": "code",
   "execution_count": null,
   "id": "a3e24fe6",
   "metadata": {},
   "outputs": [],
   "source": [
    "spike = nest.Create(\"spike_generator\", params={\"spike_times\": np.array([10.0])})"
   ]
  },
  {
   "cell_type": "code",
   "execution_count": null,
   "id": "dc24fd3c",
   "metadata": {},
   "outputs": [],
   "source": [
    "delays = [1.0, 30.0]\n",
    "w = [1.0, 5.0]\n",
    "for syn in range(2):\n",
    "    nest.Connect(\n",
    "        spike,\n",
    "        neuron,\n",
    "        syn_spec={\"synapse_model\": \"static_synapse\", \"receptor_type\": 1 + syn, \"weight\": w[syn], \"delay\": delays[syn]},\n",
    "    )\n",
    "nest.Simulate(100.0)"
   ]
  }
 ],
 "metadata": {
  "jupytext": {
   "cell_metadata_filter": "-all",
   "encoding": "# -*- coding: utf-8 -*-"
  },
  "kernelspec": {
   "display_name": "EBRAINS-experimental",
   "language": "python",
   "name": "ebrains-experimental"
  }
 },
 "nbformat": 4,
 "nbformat_minor": 5
}
