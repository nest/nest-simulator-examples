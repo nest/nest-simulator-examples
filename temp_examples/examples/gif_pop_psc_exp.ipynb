{
 "cells": [
  {
   "cell_type": "code",
   "execution_count": null,
   "id": "0abdb792",
   "metadata": {},
   "outputs": [],
   "source": [
    "%matplotlib inline"
   ]
  },
  {
   "cell_type": "code",
   "execution_count": null,
   "id": "19626440",
   "metadata": {},
   "outputs": [],
   "source": [
    "#\n",
    "# gif_pop_psc_exp.py\n",
    "#\n",
    "# This file is part of NEST.\n",
    "#\n",
    "# Copyright (C) 2004 The NEST Initiative\n",
    "#\n",
    "# NEST is free software: you can redistribute it and/or modify\n",
    "# it under the terms of the GNU General Public License as published by\n",
    "# the Free Software Foundation, either version 2 of the License, or\n",
    "# (at your option) any later version.\n",
    "#\n",
    "# NEST is distributed in the hope that it will be useful,\n",
    "# but WITHOUT ANY WARRANTY; without even the implied warranty of\n",
    "# MERCHANTABILITY or FITNESS FOR A PARTICULAR PURPOSE.  See the\n",
    "# GNU General Public License for more details.\n",
    "#\n",
    "# You should have received a copy of the GNU General Public License\n",
    "# along with NEST.  If not, see <http://www.gnu.org/licenses/>.\n"
   ]
  },
  {
   "cell_type": "markdown",
   "id": "730500e5",
   "metadata": {
    "cell_marker": "\"\"\""
   },
   "source": [
    "Population rate model of generalized integrate-and-fire neurons\n",
    "---------------------------------------------------------------\n",
    "\n",
    "This script simulates a finite network of generalized integrate-and-fire\n",
    "(GIF) neurons directly on the mesoscopic population level using the effective\n",
    "stochastic population rate dynamics derived in the paper [1]_. The stochastic\n",
    "population dynamics is implemented in the NEST model gif_pop_psc_exp. We\n",
    "demonstrate this model using the example of a Brunel network of two coupled\n",
    "populations, one excitatory and one inhibitory population.\n",
    "\n",
    "Note that the population model represents the mesoscopic level\n",
    "description of the corresponding microscopic network based on the\n",
    "NEST model ``gif_psc_exp``.\n",
    "\n",
    "References\n",
    "~~~~~~~~~~\n",
    "\n",
    ".. [1] Schwalger T, Degert M, Gerstner W (2017). Towards a theory of cortical columns: From spiking\n",
    "       neurons to interacting neural populations of finite size. PLoS Comput Biol.\n",
    "       https://doi.org/10.1371/journal.pcbi.1005507\n"
   ]
  },
  {
   "cell_type": "markdown",
   "id": "de7b78cf",
   "metadata": {},
   "source": [
    "Import necessary modules."
   ]
  },
  {
   "cell_type": "code",
   "execution_count": null,
   "id": "f148f480",
   "metadata": {},
   "outputs": [],
   "source": [
    "import matplotlib.pyplot as plt\n",
    "import nest\n",
    "import numpy as np"
   ]
  },
  {
   "cell_type": "markdown",
   "id": "330cf15d",
   "metadata": {},
   "source": [
    "We first set the parameters of the microscopic model:"
   ]
  },
  {
   "cell_type": "code",
   "execution_count": null,
   "id": "0f8c681f",
   "metadata": {},
   "outputs": [],
   "source": [
    "\n",
    "# All times given in milliseconds\n",
    "dt = 0.5\n",
    "dt_rec = 1.0\n",
    "\n",
    "# Simulation time\n",
    "t_end = 2000.0\n",
    "\n",
    "# Parameters\n",
    "size = 200\n",
    "N = np.array([4, 1]) * size\n",
    "M = len(N)  # number of populations\n",
    "\n",
    "# neuronal parameters\n",
    "t_ref = 4.0 * np.ones(M)  # absolute refractory period\n",
    "tau_m = 20 * np.ones(M)  # membrane time constant\n",
    "mu = 24.0 * np.ones(M)  # constant base current mu=R*(I0+Vrest)\n",
    "c = 10.0 * np.ones(M)  # base rate of exponential link function\n",
    "Delta_u = 2.5 * np.ones(M)  # softness of exponential link function\n",
    "V_reset = 0.0 * np.ones(M)  # Reset potential\n",
    "V_th = 15.0 * np.ones(M)  # baseline threshold (non-accumulating part)\n",
    "tau_sfa_exc = [100.0, 1000.0]  # adaptation time constants of excitatory neurons\n",
    "tau_sfa_inh = [100.0, 1000.0]  # adaptation time constants of inhibitory neurons\n",
    "J_sfa_exc = [1000.0, 1000.0]  # size of feedback kernel theta\n",
    "#                              (= area under exponential) in mV*ms\n",
    "J_sfa_inh = [1000.0, 1000.0]  # in mV*ms\n",
    "tau_theta = np.array([tau_sfa_exc, tau_sfa_inh])\n",
    "J_theta = np.array([J_sfa_exc, J_sfa_inh])\n",
    "\n",
    "# connectivity\n",
    "J = 0.3  # excitatory synaptic weight in mV if number of input connections\n",
    "#          is C0 (see below)\n",
    "g = 5.0  # inhibition-to-excitation ratio\n",
    "pconn = 0.2 * np.ones((M, M))\n",
    "delay = 1.0 * np.ones((M, M))\n",
    "\n",
    "C0 = np.array([[800, 200], [800, 200]]) * 0.2  # constant reference matrix\n",
    "C = np.vstack((N, N)) * pconn  # numbers of input connections\n",
    "\n",
    "# final synaptic weights scaling as 1/C\n",
    "J_syn = np.array([[J, -g * J], [J, -g * J]]) * C0 / C\n",
    "\n",
    "taus1_ = [3.0, 6.0]  # time constants of exc./inh. postsynaptic currents (PSC's)\n",
    "taus1 = np.array([taus1_ for k in range(M)])\n",
    "\n",
    "\n",
    "# step current input\n",
    "step = [[20.0], [20.0]]  # jump size of mu in mV\n",
    "tstep = np.array([[1500.0], [1500.0]])  # times of jumps\n",
    "\n",
    "# synaptic time constants of excitatory and inhibitory connections\n",
    "tau_ex = 3.0  # in ms\n",
    "tau_in = 6.0  # in ms"
   ]
  },
  {
   "cell_type": "markdown",
   "id": "31aff513",
   "metadata": {},
   "source": [
    "Simulation on the mesoscopic level\n",
    "~~~~~~~~~~~~~~~~~~~~~~~~~~~~~~~~~~~\n",
    "\n",
    "To directly simulate the mesoscopic population activities (i.e. generating\n",
    "the activity of a finite-size population without simulating single\n",
    "neurons), we can build the populations using the NEST model\n",
    "``gif_pop_psc_exp``:"
   ]
  },
  {
   "cell_type": "code",
   "execution_count": null,
   "id": "d5e1e81d",
   "metadata": {},
   "outputs": [],
   "source": [
    "nest.set_verbosity(\"M_WARNING\")\n",
    "nest.ResetKernel()\n",
    "nest.resolution = dt\n",
    "nest.print_time = True\n",
    "nest.local_num_threads = 1\n",
    "\n",
    "t0 = nest.biological_time\n",
    "\n",
    "nest_pops = nest.Create(\"gif_pop_psc_exp\", M)\n",
    "\n",
    "C_m = 250.0  # irrelevant value for membrane capacity, cancels out in simulation\n",
    "g_L = C_m / tau_m\n",
    "\n",
    "params = [\n",
    "    {\n",
    "        \"C_m\": C_m,\n",
    "        \"I_e\": mu[i] * g_L[i],\n",
    "        \"lambda_0\": c[i],  # in Hz!\n",
    "        \"Delta_V\": Delta_u[i],\n",
    "        \"tau_m\": tau_m[i],\n",
    "        \"tau_sfa\": tau_theta[i],\n",
    "        \"q_sfa\": J_theta[i] / tau_theta[i],  # [J_theta]= mV*ms -> [q_sfa]=mV\n",
    "        \"V_T_star\": V_th[i],\n",
    "        \"V_reset\": V_reset[i],\n",
    "        \"len_kernel\": -1,  # -1 triggers automatic history size\n",
    "        \"N\": N[i],\n",
    "        \"t_ref\": t_ref[i],\n",
    "        \"tau_syn_ex\": max([tau_ex, dt]),\n",
    "        \"tau_syn_in\": max([tau_in, dt]),\n",
    "        \"E_L\": 0.0,\n",
    "    }\n",
    "    for i in range(M)\n",
    "]\n",
    "nest_pops.set(params)\n",
    "\n",
    "# connect the populations\n",
    "g_syn = np.ones_like(J_syn)  # synaptic conductance\n",
    "g_syn[:, 0] = C_m / tau_ex\n",
    "g_syn[:, 1] = C_m / tau_in\n",
    "for i in range(M):\n",
    "    for j in range(M):\n",
    "        nest.Connect(\n",
    "            nest_pops[j],\n",
    "            nest_pops[i],\n",
    "            syn_spec={\"weight\": J_syn[i, j] * g_syn[i, j] * pconn[i, j], \"delay\": delay[i, j]},\n",
    "        )"
   ]
  },
  {
   "cell_type": "markdown",
   "id": "07b3a55b",
   "metadata": {},
   "source": [
    "To record the instantaneous population rate `Abar(t)` we use a multimeter,\n",
    "and to get the population activity `A_N(t)` we use spike recorder:"
   ]
  },
  {
   "cell_type": "code",
   "execution_count": null,
   "id": "f7bb8e39",
   "metadata": {},
   "outputs": [],
   "source": [
    "# monitor the output using a multimeter, this only records with dt_rec!\n",
    "nest_mm = nest.Create(\"multimeter\")\n",
    "nest_mm.set(record_from=[\"n_events\", \"mean\"], interval=dt_rec)\n",
    "nest.Connect(nest_mm, nest_pops)\n",
    "\n",
    "# monitor the output using a spike recorder\n",
    "nest_sr = []\n",
    "for i in range(M):\n",
    "    nest_sr.append(nest.Create(\"spike_recorder\"))\n",
    "    nest_sr[i].time_in_steps = True\n",
    "    nest.Connect(nest_pops[i], nest_sr[i], syn_spec={\"weight\": 1.0, \"delay\": dt})"
   ]
  },
  {
   "cell_type": "markdown",
   "id": "31ad9aed",
   "metadata": {},
   "source": [
    "All neurons in a given population will be stimulated with a step input\n",
    "current:"
   ]
  },
  {
   "cell_type": "code",
   "execution_count": null,
   "id": "b23f61a0",
   "metadata": {},
   "outputs": [],
   "source": [
    "# set initial value (at t0+dt) of step current generator to zero\n",
    "tstep = np.hstack((dt * np.ones((M, 1)), tstep))\n",
    "step = np.hstack((np.zeros((M, 1)), step))\n",
    "\n",
    "# create the step current devices\n",
    "nest_stepcurrent = nest.Create(\"step_current_generator\", M)\n",
    "# set the parameters for the step currents\n",
    "for i in range(M):\n",
    "    nest_stepcurrent[i].set(amplitude_times=tstep[i] + t0, amplitude_values=step[i] * g_L[i], origin=t0, stop=t_end)\n",
    "    pop_ = nest_pops[i]\n",
    "    nest.Connect(nest_stepcurrent[i], pop_, syn_spec={\"weight\": 1.0, \"delay\": dt})"
   ]
  },
  {
   "cell_type": "markdown",
   "id": "cbd8e5e4",
   "metadata": {},
   "source": [
    "We can now start the simulation:"
   ]
  },
  {
   "cell_type": "code",
   "execution_count": null,
   "id": "5f34952f",
   "metadata": {},
   "outputs": [],
   "source": [
    "nest.rng_seed = 1\n",
    "\n",
    "t = np.arange(0.0, t_end, dt_rec)\n",
    "A_N = np.ones((t.size, M)) * np.nan\n",
    "Abar = np.ones_like(A_N) * np.nan\n",
    "\n",
    "# simulate 1 step longer to make sure all t are simulated\n",
    "nest.Simulate(t_end + dt)\n",
    "data_mm = nest_mm.events\n",
    "for i, nest_i in enumerate(nest_pops):\n",
    "    a_i = data_mm[\"mean\"][data_mm[\"senders\"] == nest_i.global_id]\n",
    "    a = a_i / N[i] / dt\n",
    "    min_len = np.min([len(a), len(Abar)])\n",
    "    Abar[:min_len, i] = a[:min_len]\n",
    "\n",
    "    data_sr = nest_sr[i].get(\"events\", \"times\")\n",
    "    data_sr = data_sr * dt - t0\n",
    "    bins = np.concatenate((t, np.array([t[-1] + dt_rec])))\n",
    "    A = np.histogram(data_sr, bins=bins)[0] / float(N[i]) / dt_rec\n",
    "    A_N[:, i] = A"
   ]
  },
  {
   "cell_type": "markdown",
   "id": "37d93b07",
   "metadata": {},
   "source": [
    "and plot the activity:"
   ]
  },
  {
   "cell_type": "code",
   "execution_count": null,
   "id": "fb0d81c1",
   "metadata": {},
   "outputs": [],
   "source": [
    "plt.figure(1)\n",
    "plt.clf()\n",
    "plt.subplot(2, 1, 1)\n",
    "plt.plot(t, A_N * 1000)  # plot population activities (in Hz)\n",
    "plt.ylabel(r\"$A_N$ [Hz]\")\n",
    "plt.title(\"Population activities (mesoscopic sim.)\")\n",
    "plt.subplot(2, 1, 2)\n",
    "plt.plot(t, Abar * 1000)  # plot instantaneous population rates (in Hz)\n",
    "plt.ylabel(r\"$\\bar A$ [Hz]\")\n",
    "plt.xlabel(\"time [ms]\")"
   ]
  },
  {
   "cell_type": "markdown",
   "id": "cf779df1",
   "metadata": {},
   "source": [
    "Microscopic (\"direct\") simulation\n",
    "~~~~~~~~~~~~~~~~~~~~~~~~~~~~~~~~~~~\n",
    "\n",
    "As mentioned above, the population model ``gif_pop_psc_exp`` directly\n",
    "simulates the mesoscopic population activities, i.e. without the need to\n",
    "simulate single neurons. On the other hand, if we want to know single\n",
    "neuron activities, we must simulate on the microscopic level. This is\n",
    "possible by building a corresponding network of ``gif_psc_exp`` neuron models:"
   ]
  },
  {
   "cell_type": "code",
   "execution_count": null,
   "id": "246dcbbb",
   "metadata": {},
   "outputs": [],
   "source": [
    "nest.ResetKernel()\n",
    "nest.resolution = dt\n",
    "nest.print_time = True\n",
    "nest.local_num_threads = 1\n",
    "\n",
    "t0 = nest.biological_time\n",
    "\n",
    "nest_pops = []\n",
    "for k in range(M):\n",
    "    nest_pops.append(nest.Create(\"gif_psc_exp\", N[k]))\n",
    "\n",
    "# set single neuron properties\n",
    "for i in range(M):\n",
    "    nest_pops[i].set(\n",
    "        C_m=C_m,\n",
    "        I_e=mu[i] * g_L[i],\n",
    "        lambda_0=c[i],\n",
    "        Delta_V=Delta_u[i],\n",
    "        g_L=g_L[i],\n",
    "        tau_sfa=tau_theta[i],\n",
    "        q_sfa=J_theta[i] / tau_theta[i],\n",
    "        V_T_star=V_th[i],\n",
    "        V_reset=V_reset[i],\n",
    "        t_ref=t_ref[i],\n",
    "        tau_syn_ex=max([tau_ex, dt]),\n",
    "        tau_syn_in=max([tau_in, dt]),\n",
    "        E_L=0.0,\n",
    "        V_m=0.0,\n",
    "    )\n",
    "\n",
    "# connect the populations\n",
    "for i, nest_i in enumerate(nest_pops):\n",
    "    for j, nest_j in enumerate(nest_pops):\n",
    "        if np.allclose(pconn[i, j], 1.0):\n",
    "            conn_spec = {\"rule\": \"all_to_all\"}\n",
    "        else:\n",
    "            conn_spec = {\"rule\": \"fixed_indegree\", \"indegree\": int(pconn[i, j] * N[j])}\n",
    "\n",
    "        nest.Connect(nest_j, nest_i, conn_spec, syn_spec={\"weight\": J_syn[i, j] * g_syn[i, j], \"delay\": delay[i, j]})"
   ]
  },
  {
   "cell_type": "markdown",
   "id": "92634c6c",
   "metadata": {},
   "source": [
    "We want to record all spikes of each population in order to compute the\n",
    "mesoscopic population activities `A_N(t)` from the microscopic simulation.\n",
    "We also record the membrane potentials of five example neurons:"
   ]
  },
  {
   "cell_type": "code",
   "execution_count": null,
   "id": "4e257ba5",
   "metadata": {},
   "outputs": [],
   "source": [
    "# monitor the output using a multimeter and a spike recorder\n",
    "nest_sr = []\n",
    "for i, nest_i in enumerate(nest_pops):\n",
    "    nest_sr.append(nest.Create(\"spike_recorder\"))\n",
    "    nest_sr[i].time_in_steps = True\n",
    "\n",
    "    # record all spikes from population to compute population activity\n",
    "    nest.Connect(nest_i, nest_sr[i], syn_spec={\"weight\": 1.0, \"delay\": dt})\n",
    "\n",
    "Nrecord = [5, 0]  # for each population \"i\" the first Nrecord[i] neurons are recorded\n",
    "nest_mm_Vm = []\n",
    "for i, nest_i in enumerate(nest_pops):\n",
    "    nest_mm_Vm.append(nest.Create(\"multimeter\"))\n",
    "    nest_mm_Vm[i].set(record_from=[\"V_m\"], interval=dt_rec)\n",
    "    if Nrecord[i] != 0:\n",
    "        nest.Connect(nest_mm_Vm[i], nest_i[: Nrecord[i]], syn_spec={\"weight\": 1.0, \"delay\": dt})"
   ]
  },
  {
   "cell_type": "markdown",
   "id": "7bc353c6",
   "metadata": {},
   "source": [
    "As before, all neurons in a given population will be stimulated with a\n",
    "step input current. The following code block is identical to the one for\n",
    "the mesoscopic simulation above:"
   ]
  },
  {
   "cell_type": "code",
   "execution_count": null,
   "id": "c911f4c8",
   "metadata": {},
   "outputs": [],
   "source": [
    "# create the step current devices if they do not exist already\n",
    "nest_stepcurrent = nest.Create(\"step_current_generator\", M)\n",
    "# set the parameters for the step currents\n",
    "for i in range(M):\n",
    "    nest_stepcurrent[i].set(amplitude_times=tstep[i] + t0, amplitude_values=step[i] * g_L[i], origin=t0, stop=t_end)\n",
    "    nest_stepcurrent[i].set(amplitude_times=tstep[i] + t0, amplitude_values=step[i] * g_L[i], origin=t0, stop=t_end)\n",
    "    # optionally a stopping time may be added by: 'stop': sim_T + t0\n",
    "    pop_ = nest_pops[i]\n",
    "    nest.Connect(nest_stepcurrent[i], pop_, syn_spec={\"weight\": 1.0, \"delay\": dt})"
   ]
  },
  {
   "cell_type": "markdown",
   "id": "e01364e0",
   "metadata": {},
   "source": [
    "We can now start the microscopic simulation:"
   ]
  },
  {
   "cell_type": "code",
   "execution_count": null,
   "id": "15abec7f",
   "metadata": {},
   "outputs": [],
   "source": [
    "nest.rng_seed = 1\n",
    "\n",
    "t = np.arange(0.0, t_end, dt_rec)\n",
    "A_N = np.ones((t.size, M)) * np.nan\n",
    "\n",
    "# simulate 1 step longer to make sure all t are simulated\n",
    "nest.Simulate(t_end + dt)"
   ]
  },
  {
   "cell_type": "markdown",
   "id": "06b4bb98",
   "metadata": {},
   "source": [
    "Let's retrieve the data of the spike recorder and plot the activity of the\n",
    "excitatory population (in Hz):"
   ]
  },
  {
   "cell_type": "code",
   "execution_count": null,
   "id": "60bde77b",
   "metadata": {},
   "outputs": [],
   "source": [
    "for i in range(len(nest_pops)):\n",
    "    data_sr = nest_sr[i].get(\"events\", \"times\") * dt - t0\n",
    "    bins = np.concatenate((t, np.array([t[-1] + dt_rec])))\n",
    "    A = np.histogram(data_sr, bins=bins)[0] / float(N[i]) / dt_rec\n",
    "    A_N[:, i] = A * 1000  # in Hz\n",
    "\n",
    "t = np.arange(dt, t_end + dt, dt_rec)\n",
    "plt.figure(2)\n",
    "plt.plot(t, A_N[:, 0])\n",
    "plt.xlabel(\"time [ms]\")\n",
    "plt.ylabel(\"population activity [Hz]\")\n",
    "plt.title(\"Population activities (microscopic sim.)\")"
   ]
  },
  {
   "cell_type": "markdown",
   "id": "020e4e7c",
   "metadata": {},
   "source": [
    "This should look similar to the population activity obtained from the\n",
    "mesoscopic simulation based on the NEST model ``gif_pop_psc_exp`` (cf. figure\n",
    "1). Now we retrieve the data of the multimeter, which allows us to look at\n",
    "the membrane potentials of single neurons. Here we plot the voltage traces\n",
    "(in mV) of five example neurons:"
   ]
  },
  {
   "cell_type": "code",
   "execution_count": null,
   "id": "6127f6ee",
   "metadata": {},
   "outputs": [],
   "source": [
    "voltage = []\n",
    "for i in range(M):\n",
    "    if Nrecord[i] > 0:\n",
    "        senders = nest_mm_Vm[i].get(\"events\", \"senders\")\n",
    "        v = nest_mm_Vm[i].get(\"events\", \"V_m\")\n",
    "        voltage.append(np.array([v[np.where(senders == j)] for j in set(senders)]))\n",
    "    else:\n",
    "        voltage.append(np.array([]))\n",
    "\n",
    "f, axarr = plt.subplots(Nrecord[0], sharex=True)\n",
    "for i in range(Nrecord[0]):\n",
    "    axarr[i].plot(voltage[0][i])\n",
    "    axarr[i].set_yticks((0, 15, 30))\n",
    "axarr[i].set_xlabel(\"time [ms]\")\n",
    "axarr[2].set_ylabel(\"membrane potential [mV]\")\n",
    "axarr[0].set_title(\"5 example GIF neurons (microscopic sim.)\")"
   ]
  },
  {
   "cell_type": "markdown",
   "id": "ea1588d0",
   "metadata": {},
   "source": [
    "Note that this plots only the subthreshold membrane potentials but not the\n",
    "spikes (as with every leaky integrate-and-fire model)."
   ]
  },
  {
   "cell_type": "code",
   "execution_count": null,
   "id": "281f4d05",
   "metadata": {},
   "outputs": [],
   "source": [
    "plt.show()"
   ]
  }
 ],
 "metadata": {
  "jupytext": {
   "cell_metadata_filter": "-all",
   "encoding": "# -*- coding: utf-8 -*-"
  },
  "kernelspec": {
   "display_name": "EBRAINS-experimental",
   "language": "python",
   "name": "ebrains-experimental"
  }
 },
 "nbformat": 4,
 "nbformat_minor": 5
}
