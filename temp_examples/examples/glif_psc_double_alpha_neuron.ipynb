{
 "cells": [
  {
   "cell_type": "code",
   "execution_count": null,
   "id": "30a75cf1",
   "metadata": {},
   "outputs": [],
   "source": [
    "%matplotlib inline"
   ]
  },
  {
   "cell_type": "code",
   "execution_count": null,
   "id": "a6f9bf9b",
   "metadata": {},
   "outputs": [],
   "source": [
    "#\n",
    "# glif_psc_double_alpha_neuron.py\n",
    "#\n",
    "# This file is part of NEST.\n",
    "#\n",
    "# Copyright (C) 2004 The NEST Initiative\n",
    "#\n",
    "# NEST is free software: you can redistribute it and/or modify\n",
    "# it under the terms of the GNU General Public License as published by\n",
    "# the Free Software Foundation, either version 2 of the License, or\n",
    "# (at your option) any later version.\n",
    "#\n",
    "# NEST is distributed in the hope that it will be useful,\n",
    "# but WITHOUT ANY WARRANTY; without even the implied warranty of\n",
    "# MERCHANTABILITY or FITNESS FOR A PARTICULAR PURPOSE.  See the\n",
    "# GNU General Public License for more details.\n",
    "#\n",
    "# You should have received a copy of the GNU General Public License\n",
    "# along with NEST.  If not, see <http://www.gnu.org/licenses/>."
   ]
  },
  {
   "cell_type": "markdown",
   "id": "e3759314",
   "metadata": {
    "cell_marker": "\"\"\""
   },
   "source": [
    "Current-based generalized leaky integrate and fire (GLIF) neuron with double alpha \\\n",
    "synaptic function\n",
    "-------------------------------------------------------------------------------------------------------------\n",
    "\n",
    "Simple example of how to use the ``glif_psc_double_alpha`` neuron model that illustrates\n",
    "differences from the ``glif_psc`` neuron model.\n",
    "\n",
    "The behavior of the ``glif_psc_double_alpha`` neuron model is the same as the ``glif_psc``\n",
    "neuron model, except that the synaptic currents are modeled as a double alpha function.\n",
    "Therefore, in this example, we only compare the difference in the synaptic currents\n",
    "between the two models. Compared to the single alpha function, the double alpha function\n",
    "has much more control over the shape of the tail of the synaptic current.\n",
    "\n",
    "Simple synaptic inputs are applied to the neuron and the resulting voltage and\n",
    "current traces are shown for the two models."
   ]
  },
  {
   "cell_type": "markdown",
   "id": "a432661b",
   "metadata": {
    "cell_marker": "##############################################################################"
   },
   "source": [
    "First, we import all necessary modules to simulate, analyze and plot this\n",
    "example."
   ]
  },
  {
   "cell_type": "code",
   "execution_count": null,
   "id": "0f5fb8fc",
   "metadata": {},
   "outputs": [],
   "source": [
    "import matplotlib.gridspec as gridspec\n",
    "import matplotlib.pyplot as plt\n",
    "import nest"
   ]
  },
  {
   "cell_type": "markdown",
   "id": "c45e8b61",
   "metadata": {
    "cell_marker": "##############################################################################"
   },
   "source": [
    "We initialize NEST and set the simulation resolution."
   ]
  },
  {
   "cell_type": "code",
   "execution_count": null,
   "id": "db77bf18",
   "metadata": {},
   "outputs": [],
   "source": [
    "nest.ResetKernel()\n",
    "resolution = 0.05\n",
    "nest.resolution = resolution"
   ]
  },
  {
   "cell_type": "markdown",
   "id": "0fa0a165",
   "metadata": {
    "cell_marker": "##############################################################################"
   },
   "source": [
    "We also pre-define the synapse time constant arrays.\n",
    "In contrast to ``glif_psc`` models, ``glif_psc_double_alpha`` models have\n",
    "two components of synaptic currents, one for the fast component and the other\n",
    "for the slow component. The relative amplitude also needs to be set, so there\n",
    "are three parameters to define per receptor port. For this example, we keep the\n",
    "``tau_syn_fast`` to 2 ms for simplicity, and vary the ``tau_syn_slow`` and\n",
    "``amp_slow`` to illustrate how the parameters affect the shape of the synaptic\n",
    "currents."
   ]
  },
  {
   "cell_type": "code",
   "execution_count": null,
   "id": "4b37e2f0",
   "metadata": {},
   "outputs": [],
   "source": [
    "tau_syn_glif_psc = [2.0, 2.0, 2.0]  # value for the ``glif_psc`` model\n",
    "\n",
    "tau_syn_fast = [2.0, 2.0, 2.0]  # common between 'timing' and 'amp' manipulations\n",
    "\n",
    "# for the slow component timing manipuation\n",
    "tau_syn_slow_timing = [4.0, 6.0, 8.0]\n",
    "amp_slow_timing = [0.5, 0.5, 0.5]\n",
    "\n",
    "# for the slow component amplitude manipulation\n",
    "tau_syn_slow_amp = [6.0, 6.0, 6.0]\n",
    "amp_slow_amp = [0.2, 0.5, 0.8]"
   ]
  },
  {
   "cell_type": "markdown",
   "id": "0afb13fa",
   "metadata": {},
   "source": [
    "Now we create three neurons: ``glif_psc``, ``glif_psc_double_alpha_timing``,\n",
    "and ``glif_psc_double_alpha_amp``. The parameters for the ``glif_psc`` neuron\n",
    "are set as default. The parameters for the ``glif_psc_double_alpha_timing``\n",
    "neuron are set to have the same ``tau_syn_fast`` as the ``glif_psc`` neuron,\n",
    "and the ``tau_syn_slow`` and ``amp_slow`` are set to the values defined above\n",
    "for the timing manipulation."
   ]
  },
  {
   "cell_type": "code",
   "execution_count": null,
   "id": "aec8667b",
   "metadata": {},
   "outputs": [],
   "source": [
    "n_glif_psc = nest.Create(\n",
    "    \"glif_psc\",\n",
    "    params={\n",
    "        \"spike_dependent_threshold\": False,\n",
    "        \"after_spike_currents\": False,\n",
    "        \"adapting_threshold\": False,\n",
    "        \"tau_syn\": tau_syn_glif_psc,\n",
    "    },\n",
    ")\n",
    "\n",
    "n_glif_psc_double_alpha_timing = nest.Create(\n",
    "    \"glif_psc_double_alpha\",\n",
    "    params={\n",
    "        \"spike_dependent_threshold\": False,\n",
    "        \"after_spike_currents\": False,\n",
    "        \"adapting_threshold\": False,\n",
    "        \"tau_syn_fast\": tau_syn_fast,\n",
    "        \"tau_syn_slow\": tau_syn_slow_timing,\n",
    "        \"amp_slow\": amp_slow_timing,\n",
    "    },\n",
    ")\n",
    "\n",
    "n_glif_psc_double_alpha_amp = nest.Create(\n",
    "    \"glif_psc_double_alpha\",\n",
    "    params={\n",
    "        \"spike_dependent_threshold\": False,\n",
    "        \"after_spike_currents\": False,\n",
    "        \"adapting_threshold\": False,\n",
    "        \"tau_syn_fast\": tau_syn_fast,\n",
    "        \"tau_syn_slow\": tau_syn_slow_amp,\n",
    "        \"amp_slow\": amp_slow_amp,\n",
    "    },\n",
    ")\n",
    "\n",
    "neurons = n_glif_psc + n_glif_psc_double_alpha_timing + n_glif_psc_double_alpha_amp"
   ]
  },
  {
   "cell_type": "markdown",
   "id": "9ef976dd",
   "metadata": {},
   "source": [
    "For the stimulation input to the ``glif_psc`` neurons, we create three excitation\n",
    "spike generators, each one with a single spike."
   ]
  },
  {
   "cell_type": "code",
   "execution_count": null,
   "id": "22b55df7",
   "metadata": {},
   "outputs": [],
   "source": [
    "espike1 = nest.Create(\"spike_generator\", params={\"spike_times\": [10.0], \"spike_weights\": [20.0]})\n",
    "espike2 = nest.Create(\"spike_generator\", params={\"spike_times\": [110.0], \"spike_weights\": [20.0]})\n",
    "espike3 = nest.Create(\"spike_generator\", params={\"spike_times\": [210.0], \"spike_weights\": [20.0]})"
   ]
  },
  {
   "cell_type": "markdown",
   "id": "273c0cfb",
   "metadata": {},
   "source": [
    "The generators are then connected to the neurons. Specification of\n",
    "the ``receptor_type`` uniquely defines the target receptor.\n",
    "We connect each of the spikes generator to a different receptor that have different\n",
    "parameters."
   ]
  },
  {
   "cell_type": "code",
   "execution_count": null,
   "id": "66b4064c",
   "metadata": {},
   "outputs": [],
   "source": [
    "nest.Connect(espike1, neurons, syn_spec={\"delay\": resolution, \"receptor_type\": 1})\n",
    "nest.Connect(espike2, neurons, syn_spec={\"delay\": resolution, \"receptor_type\": 2})\n",
    "nest.Connect(espike3, neurons, syn_spec={\"delay\": resolution, \"receptor_type\": 3})"
   ]
  },
  {
   "cell_type": "markdown",
   "id": "ccd070dc",
   "metadata": {},
   "source": [
    "A ``multimeter`` is created and connected to the neurons. The parameters\n",
    "specified for the multimeter include the list of quantities that should be\n",
    "recorded and the time interval at which quantities are measured."
   ]
  },
  {
   "cell_type": "code",
   "execution_count": null,
   "id": "80022fda",
   "metadata": {},
   "outputs": [],
   "source": [
    "mm = nest.Create(\n",
    "    \"multimeter\",\n",
    "    params={\n",
    "        \"interval\": resolution,\n",
    "        \"record_from\": [\"V_m\", \"I_syn\"],\n",
    "    },\n",
    ")\n",
    "nest.Connect(mm, neurons)"
   ]
  },
  {
   "cell_type": "markdown",
   "id": "2aa54085",
   "metadata": {},
   "source": [
    "Run the simulation for 300 ms and retrieve recorded data from\n",
    "the multimeter and spike recorder."
   ]
  },
  {
   "cell_type": "code",
   "execution_count": null,
   "id": "6dfe4c02",
   "metadata": {},
   "outputs": [],
   "source": [
    "nest.Simulate(300.0)\n",
    "data = mm.events"
   ]
  },
  {
   "cell_type": "markdown",
   "id": "06f71995",
   "metadata": {},
   "source": [
    "We plot the time traces of the synaptic current and the  membrane potential.\n",
    "Each input current is annotated with the corresponding parameter value of the\n",
    "receptor. The blue line is the synaptic current of the ``glif_psc`` neuron, and\n",
    "the red line is the synaptic current of the ``glif_psc_double_alpha`` neuron."
   ]
  },
  {
   "cell_type": "code",
   "execution_count": null,
   "id": "86911aa1",
   "metadata": {},
   "outputs": [],
   "source": [
    "\n",
    "# defining the figure property for each parameter variation type,\n",
    "variation_types = [\"timing\", \"amp\"]\n",
    "annotate_variable = [\"tau_syn_slow\", \"amp_slow\"]\n",
    "annotate_values = [tau_syn_slow_timing, amp_slow_amp]\n",
    "fig_titles = [\n",
    "    \"Variation of tau_syn_slow: tau_syn_fast = 2.0, amp_slow = 0.5\",\n",
    "    \"Variation of amp_slow: tau_syn_fast = 2.0, tau_syn_slow = 6.0\",\n",
    "]\n",
    "\n",
    "\n",
    "senders = data[\"senders\"]\n",
    "t = data[\"times\"][senders == 1]\n",
    "\n",
    "for i, variation_type in enumerate(variation_types):\n",
    "    plt.figure(variation_type, figsize=(10, 5))\n",
    "    gs = gridspec.GridSpec(2, 1, height_ratios=[1, 1])\n",
    "    data_types = [\"I_syn\", \"V_m\"]\n",
    "    data_types_names = [\"Synaptic current (pA)\", \"Membrane potential (mV)\"]\n",
    "    for j, data_type in enumerate(data_types):\n",
    "        d = data[data_type]\n",
    "        ax = plt.subplot(gs[j])\n",
    "        ax.plot(t, d[senders == 1], \"b\", label=\"glif_psc (tau_syn=2.0)\")\n",
    "        ax.plot(t, d[senders == 2 + i], \"r\", label=\"glif_psc_double_alpha\")\n",
    "        if j == 0:\n",
    "            # place legend outside the plot\n",
    "            ax.legend(bbox_to_anchor=(1.05, 1), loc=\"upper left\", borderaxespad=0)\n",
    "        else:\n",
    "            ax.set_xlabel(\"time (ms)\")\n",
    "\n",
    "        ax.set_ylabel(data_types_names[j])\n",
    "\n",
    "    # now let's annotate each of the input with the corresponding parameter.\n",
    "    spike_timings = [10.0, 110.0, 210.0]\n",
    "    ax = plt.subplot(gs[0])\n",
    "    for j, spike_timing in enumerate(spike_timings):\n",
    "        ax.annotate(\n",
    "            f\"{annotate_variable[i]}={annotate_values[i][j]}\",\n",
    "            xy=(spike_timing + 10, 20),\n",
    "            xytext=(spike_timing + 10, 25),\n",
    "            arrowprops=dict(arrowstyle=\"->\", connectionstyle=\"arc3\"),\n",
    "        )\n",
    "    plt.title(fig_titles[i])\n",
    "    plt.tight_layout()\n",
    "\n",
    "\n",
    "plt.show()"
   ]
  }
 ],
 "metadata": {
  "jupytext": {
   "cell_metadata_filter": "-all",
   "encoding": "# -*- coding: utf-8 -*-",
   "main_language": "python",
   "notebook_metadata_filter": "-all"
  }
 },
 "nbformat": 4,
 "nbformat_minor": 5
}
