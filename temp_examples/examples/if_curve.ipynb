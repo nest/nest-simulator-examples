{
 "cells": [
  {
   "cell_type": "code",
   "execution_count": null,
   "id": "239ba097",
   "metadata": {},
   "outputs": [],
   "source": [
    "%matplotlib inline"
   ]
  },
  {
   "cell_type": "code",
   "execution_count": null,
   "id": "61379e16",
   "metadata": {},
   "outputs": [],
   "source": [
    "#\n",
    "# if_curve.py\n",
    "#\n",
    "# This file is part of NEST.\n",
    "#\n",
    "# Copyright (C) 2004 The NEST Initiative\n",
    "#\n",
    "# NEST is free software: you can redistribute it and/or modify\n",
    "# it under the terms of the GNU General Public License as published by\n",
    "# the Free Software Foundation, either version 2 of the License, or\n",
    "# (at your option) any later version.\n",
    "#\n",
    "# NEST is distributed in the hope that it will be useful,\n",
    "# but WITHOUT ANY WARRANTY; without even the implied warranty of\n",
    "# MERCHANTABILITY or FITNESS FOR A PARTICULAR PURPOSE.  See the\n",
    "# GNU General Public License for more details.\n",
    "#\n",
    "# You should have received a copy of the GNU General Public License\n",
    "# along with NEST.  If not, see <http://www.gnu.org/licenses/>."
   ]
  },
  {
   "cell_type": "markdown",
   "id": "0b520cfb",
   "metadata": {
    "cell_marker": "\"\"\""
   },
   "source": [
    "IF curve example\n",
    "----------------\n",
    "\n",
    "This example illustrates how to measure the I-F curve of a neuron.\n",
    "The program creates a small group of neurons and injects a noisy current\n",
    ":math:`I(t) = I_mean + I_std*W(t)`\n",
    "where :math:`W(t)` is a white noise process.\n",
    "The program systematically drives the current through a series of  values in\n",
    "the two-dimensional `(I_mean, I_std)` space and measures the firing rate of\n",
    "the neurons.\n",
    "\n",
    "In this example, we measure the I-F curve of the adaptive exponential\n",
    "integrate and fire neuron (``aeif_cond_exp``), but any other neuron model that\n",
    "accepts current inputs is possible. The model and its parameters are\n",
    "supplied when the IF_curve object is created.\n"
   ]
  },
  {
   "cell_type": "code",
   "execution_count": null,
   "id": "2e33e828",
   "metadata": {},
   "outputs": [],
   "source": [
    "import shelve\n",
    "\n",
    "import nest\n",
    "import numpy"
   ]
  },
  {
   "cell_type": "markdown",
   "id": "d58e9326",
   "metadata": {},
   "source": [
    "Here we define which model and the neuron parameters to use for measuring\n",
    "the transfer function."
   ]
  },
  {
   "cell_type": "code",
   "execution_count": null,
   "id": "757f4e81",
   "metadata": {},
   "outputs": [],
   "source": [
    "model = \"aeif_cond_exp\"\n",
    "params = {\n",
    "    \"a\": 4.0,\n",
    "    \"b\": 80.8,\n",
    "    \"V_th\": -50.4,\n",
    "    \"Delta_T\": 2.0,\n",
    "    \"I_e\": 0.0,\n",
    "    \"C_m\": 281.0,\n",
    "    \"g_L\": 30.0,\n",
    "    \"V_reset\": -70.6,\n",
    "    \"tau_w\": 144.0,\n",
    "    \"t_ref\": 5.0,\n",
    "    \"V_peak\": -40.0,\n",
    "    \"E_L\": -70.6,\n",
    "    \"E_ex\": 0.0,\n",
    "    \"E_in\": -70.0,\n",
    "}\n",
    "\n",
    "\n",
    "class IF_curve:\n",
    "    t_inter_trial = 200.0  # Interval between two successive measurement trials\n",
    "    t_sim = 1000.0  # Duration of a measurement trial\n",
    "    n_neurons = 100  # Number of neurons\n",
    "    n_threads = 4  # Nubmer of threads to run the simulation\n",
    "\n",
    "    def __init__(self, model, params=None):\n",
    "        self.model = model\n",
    "        self.params = params\n",
    "        self.build()\n",
    "        self.connect()\n",
    "\n",
    "    def build(self):\n",
    "        #######################################################################\n",
    "        #  We reset NEST to delete information from previous simulations\n",
    "        # and adjust the number of threads.\n",
    "\n",
    "        nest.ResetKernel()\n",
    "        nest.local_num_threads = self.n_threads\n",
    "\n",
    "        #######################################################################\n",
    "        # We create neurons and devices with specified parameters.\n",
    "\n",
    "        self.neuron = nest.Create(self.model, self.n_neurons, self.params)\n",
    "        self.noise = nest.Create(\"noise_generator\")\n",
    "        self.spike_recorder = nest.Create(\"spike_recorder\")\n",
    "\n",
    "    def connect(self):\n",
    "        #######################################################################\n",
    "        # We connect the noisy current to the neurons and the neurons to\n",
    "        # the spike recorders.\n",
    "\n",
    "        nest.Connect(self.noise, self.neuron, \"all_to_all\")\n",
    "        nest.Connect(self.neuron, self.spike_recorder, \"all_to_all\")\n",
    "\n",
    "    def output_rate(self, mean, std):\n",
    "        self.build()\n",
    "        self.connect()\n",
    "\n",
    "        #######################################################################\n",
    "        # We adjust the parameters of the noise according to the current\n",
    "        # values.\n",
    "\n",
    "        self.noise.set(mean=mean, std=std, start=0.0, stop=1000.0, origin=0.0)\n",
    "\n",
    "        # We simulate the network and calculate the rate.\n",
    "\n",
    "        nest.Simulate(self.t_sim)\n",
    "        rate = self.spike_recorder.n_events * 1000.0 / (1.0 * self.n_neurons * self.t_sim)\n",
    "        return rate\n",
    "\n",
    "    def compute_transfer(self, i_mean=(400.0, 900.0, 50.0), i_std=(0.0, 600.0, 50.0)):\n",
    "        #######################################################################\n",
    "        # We loop through all possible combinations of `(I_mean, I_sigma)`\n",
    "        # and measure the output rate of the neuron.\n",
    "\n",
    "        self.i_range = numpy.arange(*i_mean)\n",
    "        self.std_range = numpy.arange(*i_std)\n",
    "        self.rate = numpy.zeros((self.i_range.size, self.std_range.size))\n",
    "        nest.set_verbosity(\"M_WARNING\")\n",
    "        for n, i in enumerate(self.i_range):\n",
    "            print(\"I  =  {0}\".format(i))\n",
    "            for m, std in enumerate(self.std_range):\n",
    "                self.rate[n, m] = self.output_rate(i, std)\n",
    "\n",
    "\n",
    "transfer = IF_curve(model, params)\n",
    "transfer.compute_transfer()"
   ]
  },
  {
   "cell_type": "markdown",
   "id": "a0f8e46f",
   "metadata": {},
   "source": [
    "After the simulation is finished, we store the data into a file for\n",
    "later analysis."
   ]
  },
  {
   "cell_type": "code",
   "execution_count": null,
   "id": "6576978f",
   "metadata": {},
   "outputs": [],
   "source": [
    "with shelve.open(model + \"_transfer.dat\") as dat:\n",
    "    dat[\"I_mean\"] = transfer.i_range\n",
    "    dat[\"I_std\"] = transfer.std_range\n",
    "    dat[\"rate\"] = transfer.rate"
   ]
  }
 ],
 "metadata": {
  "jupytext": {
   "cell_metadata_filter": "-all",
   "encoding": "# -*- coding: utf-8 -*-"
  },
  "kernelspec": {
   "display_name": "EBRAINS-experimental",
   "language": "python",
   "name": "ebrains-experimental"
  }
 },
 "nbformat": 4,
 "nbformat_minor": 5
}
