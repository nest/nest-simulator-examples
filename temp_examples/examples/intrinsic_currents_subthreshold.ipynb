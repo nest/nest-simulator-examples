{
 "cells": [
  {
   "cell_type": "code",
   "execution_count": null,
   "id": "1125171c",
   "metadata": {},
   "outputs": [],
   "source": [
    "%matplotlib inline"
   ]
  },
  {
   "cell_type": "code",
   "execution_count": null,
   "id": "cb164542",
   "metadata": {},
   "outputs": [],
   "source": [
    "#\n",
    "# intrinsic_currents_subthreshold.py\n",
    "#\n",
    "# This file is part of NEST.\n",
    "#\n",
    "# Copyright (C) 2004 The NEST Initiative\n",
    "#\n",
    "# NEST is free software: you can redistribute it and/or modify\n",
    "# it under the terms of the GNU General Public License as published by\n",
    "# the Free Software Foundation, either version 2 of the License, or\n",
    "# (at your option) any later version.\n",
    "#\n",
    "# NEST is distributed in the hope that it will be useful,\n",
    "# but WITHOUT ANY WARRANTY; without even the implied warranty of\n",
    "# MERCHANTABILITY or FITNESS FOR A PARTICULAR PURPOSE.  See the\n",
    "# GNU General Public License for more details.\n",
    "#\n",
    "# You should have received a copy of the GNU General Public License\n",
    "# along with NEST.  If not, see <http://www.gnu.org/licenses/>."
   ]
  },
  {
   "cell_type": "markdown",
   "id": "f2ffc8c8",
   "metadata": {
    "cell_marker": "\"\"\""
   },
   "source": [
    "Intrinsic currents subthreshold\n",
    "-------------------------------\n",
    "\n",
    "This example illustrates how to record from a model with multiple\n",
    "intrinsic currents and visualize the results. This is illustrated\n",
    "using the ``ht_neuron`` which has four intrinsic currents: ``I_NaP``,\n",
    "``I_KNa``, ``I_T``, and ``I_h``. It is a slightly simplified implementation of\n",
    "neuron model proposed in [1]_.\n",
    "\n",
    "The neuron is driven by DC current, which is alternated\n",
    "between depolarizing and hyperpolarizing. Hyperpolarization\n",
    "intervals become increasingly longer.\n",
    "\n",
    "References\n",
    "~~~~~~~~~~\n",
    "\n",
    ".. [1] Hill and Tononi (2005) Modeling Sleep and Wakefulness in the\n",
    "       Thalamocortical System J Neurophysiol 93:1671\n",
    "       http://dx.doi.org/10.1152/jn.00915.2004.\n",
    "\n",
    "See Also\n",
    "~~~~~~~~\n",
    "\n",
    ":doc:`intrinsic_currents_spiking`\n"
   ]
  },
  {
   "cell_type": "markdown",
   "id": "0ce7513c",
   "metadata": {},
   "source": [
    "We imported all necessary modules for simulation, analysis and plotting."
   ]
  },
  {
   "cell_type": "code",
   "execution_count": null,
   "id": "a9d12cb7",
   "metadata": {},
   "outputs": [],
   "source": [
    "import matplotlib.pyplot as plt\n",
    "import nest"
   ]
  },
  {
   "cell_type": "markdown",
   "id": "8bfa74e8",
   "metadata": {},
   "source": [
    "Additionally, we set the verbosity using ``set_verbosity`` to suppress info\n",
    "messages. We also reset the kernel to be sure to start with a clean NEST."
   ]
  },
  {
   "cell_type": "code",
   "execution_count": null,
   "id": "ea525bbd",
   "metadata": {},
   "outputs": [],
   "source": [
    "nest.set_verbosity(\"M_WARNING\")\n",
    "nest.ResetKernel()"
   ]
  },
  {
   "cell_type": "markdown",
   "id": "71100803",
   "metadata": {},
   "source": [
    "We define simulation parameters:\n",
    "\n",
    "- The length of depolarization intervals\n",
    "- The length of hyperpolarization intervals\n",
    "- The amplitude for de- and hyperpolarizing currents\n",
    "- The end of the time window to plot"
   ]
  },
  {
   "cell_type": "code",
   "execution_count": null,
   "id": "e23d791a",
   "metadata": {},
   "outputs": [],
   "source": [
    "n_blocks = 5\n",
    "t_block = 20.0\n",
    "t_dep = [t_block] * n_blocks\n",
    "t_hyp = [t_block * 2**n for n in range(n_blocks)]\n",
    "I_dep = 10.0\n",
    "I_hyp = -5.0\n",
    "\n",
    "t_end = 500.0"
   ]
  },
  {
   "cell_type": "markdown",
   "id": "afed2059",
   "metadata": {},
   "source": [
    "We create the one neuron instance and the DC current generator and store\n",
    "the returned handles."
   ]
  },
  {
   "cell_type": "code",
   "execution_count": null,
   "id": "bca8d68e",
   "metadata": {},
   "outputs": [],
   "source": [
    "nrn = nest.Create(\"ht_neuron\")\n",
    "dc = nest.Create(\"dc_generator\")"
   ]
  },
  {
   "cell_type": "markdown",
   "id": "1442a0cb",
   "metadata": {},
   "source": [
    "We create a multimeter to record\n",
    "\n",
    "- membrane potential ``V_m``\n",
    "- threshold value ``theta``\n",
    "- intrinsic currents ``I_NaP``, ``I_KNa``, ``I_T``, ``I_h``\n",
    "\n",
    "by passing these names in the ``record_from`` list.\n",
    "\n",
    "To find out which quantities can be recorded from a given neuron,\n",
    "run::\n",
    "\n",
    "  nest.GetDefaults('ht_neuron')['recordables']\n",
    "\n",
    "The result will contain an entry like::\n",
    "\n",
    "  <SLILiteral: V_m>\n",
    "\n",
    "for each recordable quantity. You need to pass the value of the\n",
    "``SLILiteral``, in this case ``V_m`` in the ``record_from`` list.\n",
    "\n",
    "We want to record values with 0.1 ms resolution, so we set the\n",
    "recording interval as well; the default recording resolution is 1 ms."
   ]
  },
  {
   "cell_type": "code",
   "execution_count": null,
   "id": "1dd8ab0c",
   "metadata": {},
   "outputs": [],
   "source": [
    "# create multimeter and configure it to record all information\n",
    "# we want at 0.1 ms resolution\n",
    "mm = nest.Create(\n",
    "    \"multimeter\", params={\"interval\": 0.1, \"record_from\": [\"V_m\", \"theta\", \"I_NaP\", \"I_KNa\", \"I_T\", \"I_h\"]}\n",
    ")"
   ]
  },
  {
   "cell_type": "markdown",
   "id": "ef9e3093",
   "metadata": {},
   "source": [
    "We connect the DC generator and the multimeter to the neuron. Note that\n",
    "the multimeter, just like the voltmeter is connected to the neuron,\n",
    "not the neuron to the multimeter."
   ]
  },
  {
   "cell_type": "code",
   "execution_count": null,
   "id": "81eabe5a",
   "metadata": {},
   "outputs": [],
   "source": [
    "nest.Connect(dc, nrn)\n",
    "nest.Connect(mm, nrn)"
   ]
  },
  {
   "cell_type": "markdown",
   "id": "458e6dd9",
   "metadata": {},
   "source": [
    "We are ready to simulate. We alternate between driving the neuron with\n",
    "depolarizing and hyperpolarizing currents. Before each simulation\n",
    "interval, we set the amplitude of the DC generator to the correct value."
   ]
  },
  {
   "cell_type": "code",
   "execution_count": null,
   "id": "b8f0bbd6",
   "metadata": {},
   "outputs": [],
   "source": [
    "for t_sim_dep, t_sim_hyp in zip(t_dep, t_hyp):\n",
    "    dc.amplitude = I_dep\n",
    "    nest.Simulate(t_sim_dep)\n",
    "\n",
    "    dc.amplitude = I_hyp\n",
    "    nest.Simulate(t_sim_hyp)"
   ]
  },
  {
   "cell_type": "markdown",
   "id": "a339615f",
   "metadata": {},
   "source": [
    "We now fetch the data recorded by the multimeter. The data are returned as\n",
    "a dictionary with entry ``times`` containing timestamps for all recorded\n",
    "data, plus one entry per recorded quantity.\n",
    "\n",
    "All data is contained in the ``events`` entry of the status dictionary\n",
    "returned by the multimeter."
   ]
  },
  {
   "cell_type": "code",
   "execution_count": null,
   "id": "8743a1d3",
   "metadata": {},
   "outputs": [],
   "source": [
    "data = mm.events\n",
    "t = data[\"times\"]"
   ]
  },
  {
   "cell_type": "markdown",
   "id": "33e734ce",
   "metadata": {},
   "source": [
    "The next step is to plot the results. We create a new figure, add a single\n",
    "subplot and plot at first membrane potential and threshold."
   ]
  },
  {
   "cell_type": "code",
   "execution_count": null,
   "id": "fbace49e",
   "metadata": {},
   "outputs": [],
   "source": [
    "fig = plt.figure()\n",
    "Vax = fig.add_subplot(111)\n",
    "Vax.plot(t, data[\"V_m\"], \"b-\", lw=2, label=r\"$V_m$\")\n",
    "Vax.plot(t, data[\"theta\"], \"g-\", lw=2, label=r\"$\\Theta$\")\n",
    "Vax.set_ylim(-80.0, 0.0)\n",
    "Vax.set_ylabel(\"Voltageinf [mV]\")\n",
    "Vax.set_xlabel(\"Time [ms]\")"
   ]
  },
  {
   "cell_type": "markdown",
   "id": "dec3f5a5",
   "metadata": {},
   "source": [
    "To plot the input current, we need to create an input current trace. We\n",
    "construct it from the durations of the de- and hyperpolarizing inputs and\n",
    "add the delay in the connection between DC generator and neuron:\n",
    "\n",
    "* We find the delay by checking the status of the dc->nrn connection.\n",
    "* We find the resolution of the simulation from the kernel status.\n",
    "* Each current interval begins one time step after the previous interval,\n",
    "  is delayed by the delay and effective for the given duration.\n",
    "* We build the time axis incrementally. We only add the delay when adding\n",
    "  the first time point after t=0. All subsequent points are then\n",
    "  automatically shifted by the delay."
   ]
  },
  {
   "cell_type": "code",
   "execution_count": null,
   "id": "133da351",
   "metadata": {},
   "outputs": [],
   "source": [
    "conns = nest.GetConnections(dc, nrn)\n",
    "delay = conns.delay\n",
    "dt = nest.resolution\n",
    "\n",
    "t_dc, I_dc = [0], [0]\n",
    "\n",
    "for td, th in zip(t_dep, t_hyp):\n",
    "    t_prev = t_dc[-1]\n",
    "    t_start_dep = t_prev + dt\n",
    "    if t_prev == 0:\n",
    "        t_start_dep += delay\n",
    "    t_end_dep = t_start_dep + td\n",
    "    t_start_hyp = t_end_dep + dt\n",
    "    t_end_hyp = t_start_hyp + th\n",
    "\n",
    "    t_dc.extend([t_start_dep, t_end_dep, t_start_hyp, t_end_hyp])\n",
    "    I_dc.extend([I_dep, I_dep, I_hyp, I_hyp])"
   ]
  },
  {
   "cell_type": "markdown",
   "id": "20cd9e4f",
   "metadata": {},
   "source": [
    "The following function turns a name such as ``I_NaP`` into proper TeX code\n",
    ":math:`I_{\\mathrm{NaP}}` for a pretty label."
   ]
  },
  {
   "cell_type": "code",
   "execution_count": null,
   "id": "3c943cec",
   "metadata": {},
   "outputs": [],
   "source": [
    "\n",
    "def texify_name(name):\n",
    "    return r\"${}_{{\\mathrm{{{}}}}}$\".format(*name.split(\"_\"))\n"
   ]
  },
  {
   "cell_type": "markdown",
   "id": "bc896574",
   "metadata": {},
   "source": [
    "Next, we add a right vertical axis and plot the currents with respect to\n",
    "that axis."
   ]
  },
  {
   "cell_type": "code",
   "execution_count": null,
   "id": "647d2100",
   "metadata": {},
   "outputs": [],
   "source": [
    "\n",
    "Iax = Vax.twinx()\n",
    "Iax.plot(t_dc, I_dc, \"k-\", lw=2, label=texify_name(\"I_DC\"))\n",
    "\n",
    "for iname, color in ((\"I_h\", \"maroon\"), (\"I_T\", \"orange\"), (\"I_NaP\", \"crimson\"), (\"I_KNa\", \"aqua\")):\n",
    "    Iax.plot(t, data[iname], color=color, lw=2, label=texify_name(iname))\n",
    "\n",
    "Iax.set_xlim(0, t_end)\n",
    "Iax.set_ylim(-10.0, 15.0)\n",
    "Iax.set_ylabel(\"Current [pA]\")\n",
    "Iax.set_title(\"ht_neuron driven by DC current\")"
   ]
  },
  {
   "cell_type": "markdown",
   "id": "79fe70a3",
   "metadata": {},
   "source": [
    "We need to make a little extra effort to combine lines from the two axis\n",
    "into one legend."
   ]
  },
  {
   "cell_type": "code",
   "execution_count": null,
   "id": "6b090ade",
   "metadata": {},
   "outputs": [],
   "source": [
    "lines_V, labels_V = Vax.get_legend_handles_labels()\n",
    "lines_I, labels_I = Iax.get_legend_handles_labels()\n",
    "try:\n",
    "    Iax.legend(lines_V + lines_I, labels_V + labels_I, fontsize=\"small\")\n",
    "except TypeError:\n",
    "    # work-around for older Matplotlib versions\n",
    "    Iax.legend(lines_V + lines_I, labels_V + labels_I)"
   ]
  },
  {
   "cell_type": "markdown",
   "id": "03fcd9b0",
   "metadata": {},
   "source": [
    "Note that ``I_KNa`` is not activated in this example because the neuron does\n",
    "not spike. ``I_T`` has only a very small amplitude."
   ]
  }
 ],
 "metadata": {
  "jupytext": {
   "cell_metadata_filter": "-all",
   "encoding": "# -*- coding: utf-8 -*-"
  },
  "kernelspec": {
   "display_name": "EBRAINS-experimental",
   "language": "python",
   "name": "ebrains-experimental"
  }
 },
 "nbformat": 4,
 "nbformat_minor": 5
}
