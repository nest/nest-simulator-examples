{
 "cells": [
  {
   "cell_type": "code",
   "execution_count": null,
   "id": "c0564fe9",
   "metadata": {},
   "outputs": [],
   "source": [
    "%matplotlib inline"
   ]
  },
  {
   "cell_type": "code",
   "execution_count": null,
   "id": "3774fe5e",
   "metadata": {},
   "outputs": [],
   "source": [
    "#\n",
    "# lin_rate_ipn_network.py\n",
    "#\n",
    "# This file is part of NEST.\n",
    "#\n",
    "# Copyright (C) 2004 The NEST Initiative\n",
    "#\n",
    "# NEST is free software: you can redistribute it and/or modify\n",
    "# it under the terms of the GNU General Public License as published by\n",
    "# the Free Software Foundation, either version 2 of the License, or\n",
    "# (at your option) any later version.\n",
    "#\n",
    "# NEST is distributed in the hope that it will be useful,\n",
    "# but WITHOUT ANY WARRANTY; without even the implied warranty of\n",
    "# MERCHANTABILITY or FITNESS FOR A PARTICULAR PURPOSE.  See the\n",
    "# GNU General Public License for more details.\n",
    "#\n",
    "# You should have received a copy of the GNU General Public License\n",
    "# along with NEST.  If not, see <http://www.gnu.org/licenses/>."
   ]
  },
  {
   "cell_type": "markdown",
   "id": "11b12f40",
   "metadata": {
    "cell_marker": "\"\"\""
   },
   "source": [
    "Network of linear rate neurons\n",
    "------------------------------\n",
    "\n",
    "This script simulates an excitatory and an inhibitory population\n",
    "of ``lin_rate_ipn`` neurons with delayed excitatory and instantaneous\n",
    "inhibitory connections. The rate of all neurons is recorded using\n",
    "a multimeter. The resulting rate for one excitatory and one\n",
    "inhibitory neuron is plotted.\n"
   ]
  },
  {
   "cell_type": "code",
   "execution_count": null,
   "id": "1de6f673",
   "metadata": {},
   "outputs": [],
   "source": [
    "import matplotlib.pyplot as plt\n",
    "import nest\n",
    "import numpy"
   ]
  },
  {
   "cell_type": "markdown",
   "id": "b65f3308",
   "metadata": {},
   "source": [
    "Assigning the simulation parameters to variables."
   ]
  },
  {
   "cell_type": "code",
   "execution_count": null,
   "id": "c745a520",
   "metadata": {},
   "outputs": [],
   "source": [
    "dt = 0.1  # the resolution in ms\n",
    "T = 100.0  # Simulation time in ms"
   ]
  },
  {
   "cell_type": "markdown",
   "id": "0aa0ae75",
   "metadata": {},
   "source": [
    "Definition of the number of neurons"
   ]
  },
  {
   "cell_type": "code",
   "execution_count": null,
   "id": "d88baa6c",
   "metadata": {},
   "outputs": [],
   "source": [
    "order = 50\n",
    "NE = int(4 * order)  # number of excitatory neurons\n",
    "NI = int(1 * order)  # number of inhibitory neurons\n",
    "N = int(NE + NI)  # total number of neurons"
   ]
  },
  {
   "cell_type": "markdown",
   "id": "44bea342",
   "metadata": {},
   "source": [
    "Definition of the connections"
   ]
  },
  {
   "cell_type": "code",
   "execution_count": null,
   "id": "a49677dd",
   "metadata": {},
   "outputs": [],
   "source": [
    "\n",
    "d_e = 5.0  # delay of excitatory connections in ms\n",
    "g = 5.0  # ratio inhibitory weight/excitatory weight\n",
    "epsilon = 0.1  # connection probability\n",
    "w = 0.1 / numpy.sqrt(N)  # excitatory connection strength\n",
    "\n",
    "KE = int(epsilon * NE)  # number of excitatory synapses per neuron (outdegree)\n",
    "KI = int(epsilon * NI)  # number of inhibitory synapses per neuron (outdegree)\n",
    "K_tot = int(KI + KE)  # total number of synapses per neuron\n",
    "connection_rule = \"fixed_outdegree\"  # connection rule"
   ]
  },
  {
   "cell_type": "markdown",
   "id": "5c6124a9",
   "metadata": {},
   "source": [
    "Definition of the neuron model and its neuron parameters"
   ]
  },
  {
   "cell_type": "code",
   "execution_count": null,
   "id": "07adada4",
   "metadata": {},
   "outputs": [],
   "source": [
    "neuron_model = \"lin_rate_ipn\"  # neuron model\n",
    "neuron_params = {\n",
    "    \"linear_summation\": True,\n",
    "    # type of non-linearity (not affecting linear rate models)\n",
    "    \"tau\": 10.0,\n",
    "    # time constant of neuronal dynamics in ms\n",
    "    \"mu\": 2.0,\n",
    "    # mean input\n",
    "    \"sigma\": 5.0\n",
    "    # noise parameter\n",
    "}\n"
   ]
  },
  {
   "cell_type": "markdown",
   "id": "ba6a70b4",
   "metadata": {},
   "source": [
    "Configuration of the simulation kernel by the previously defined time\n",
    "resolution used in the simulation. Setting ``print_time`` to True prints\n",
    "the already processed simulation time as well as its percentage of the\n",
    "total simulation time."
   ]
  },
  {
   "cell_type": "code",
   "execution_count": null,
   "id": "296ffd3d",
   "metadata": {},
   "outputs": [],
   "source": [
    "nest.ResetKernel()\n",
    "nest.resolution = dt\n",
    "nest.use_wfr = False\n",
    "nest.print_time = True\n",
    "nest.overwrite_files = True\n",
    "\n",
    "print(\"Building network\")"
   ]
  },
  {
   "cell_type": "markdown",
   "id": "32fbb506",
   "metadata": {},
   "source": [
    "Creation of the nodes using ``Create``."
   ]
  },
  {
   "cell_type": "code",
   "execution_count": null,
   "id": "c8dfddbe",
   "metadata": {},
   "outputs": [],
   "source": [
    "n_e = nest.Create(neuron_model, NE, neuron_params)\n",
    "n_i = nest.Create(neuron_model, NI, neuron_params)\n"
   ]
  },
  {
   "cell_type": "markdown",
   "id": "d0a0ea13",
   "metadata": {
    "cell_marker": "################################################################################"
   },
   "source": [
    "To record from the rate neurons a ``multimeter`` is created and the parameter\n",
    "``record_from`` is set to `rate` as well as the recording interval to `dt`"
   ]
  },
  {
   "cell_type": "code",
   "execution_count": null,
   "id": "fa4f1676",
   "metadata": {},
   "outputs": [],
   "source": [
    "mm = nest.Create(\"multimeter\", params={\"record_from\": [\"rate\"], \"interval\": dt})"
   ]
  },
  {
   "cell_type": "markdown",
   "id": "357950b4",
   "metadata": {},
   "source": [
    "Specify synapse and connection dictionaries:\n",
    "Connections originating from excitatory neurons are associated\n",
    "with a delay `d` (``rate_connection_delayed``).\n",
    "Connections originating from inhibitory neurons are not associated\n",
    "with a delay (``rate_connection_instantaneous``)."
   ]
  },
  {
   "cell_type": "code",
   "execution_count": null,
   "id": "c9bda5b2",
   "metadata": {},
   "outputs": [],
   "source": [
    "syn_e = {\"weight\": w, \"delay\": d_e, \"synapse_model\": \"rate_connection_delayed\"}\n",
    "syn_i = {\"weight\": -g * w, \"synapse_model\": \"rate_connection_instantaneous\"}\n",
    "conn_e = {\"rule\": connection_rule, \"outdegree\": KE}\n",
    "conn_i = {\"rule\": connection_rule, \"outdegree\": KI}"
   ]
  },
  {
   "cell_type": "markdown",
   "id": "d95330bf",
   "metadata": {},
   "source": [
    "Connect rate units"
   ]
  },
  {
   "cell_type": "code",
   "execution_count": null,
   "id": "64f09823",
   "metadata": {},
   "outputs": [],
   "source": [
    "nest.Connect(n_e, n_e, conn_e, syn_e)\n",
    "nest.Connect(n_i, n_i, conn_i, syn_i)\n",
    "nest.Connect(n_e, n_i, conn_i, syn_e)\n",
    "nest.Connect(n_i, n_e, conn_e, syn_i)"
   ]
  },
  {
   "cell_type": "markdown",
   "id": "b49eb9e7",
   "metadata": {},
   "source": [
    "Connect recording device to rate units"
   ]
  },
  {
   "cell_type": "code",
   "execution_count": null,
   "id": "5df159e9",
   "metadata": {},
   "outputs": [],
   "source": [
    "nest.Connect(mm, n_e + n_i)"
   ]
  },
  {
   "cell_type": "markdown",
   "id": "16e019de",
   "metadata": {},
   "source": [
    "Simulate the network"
   ]
  },
  {
   "cell_type": "code",
   "execution_count": null,
   "id": "7cbcb178",
   "metadata": {},
   "outputs": [],
   "source": [
    "nest.Simulate(T)"
   ]
  },
  {
   "cell_type": "markdown",
   "id": "3761d4fc",
   "metadata": {},
   "source": [
    "Plot rates of one excitatory and one inhibitory neuron"
   ]
  },
  {
   "cell_type": "code",
   "execution_count": null,
   "id": "d324c434",
   "metadata": {},
   "outputs": [],
   "source": [
    "data = mm.events\n",
    "senders = data[\"senders\"]\n",
    "rate = data[\"rate\"]\n",
    "times = data[\"times\"]\n",
    "\n",
    "ne_0_id = n_e[0].global_id\n",
    "ni_0_id = n_i[0].global_id\n",
    "where_sender_is_ne_0 = numpy.where(senders == ne_0_id)\n",
    "where_sender_is_ni_0 = numpy.where(senders == ni_0_id)\n",
    "\n",
    "rate_ex = rate[where_sender_is_ne_0]\n",
    "rate_in = rate[where_sender_is_ni_0]\n",
    "times = times[where_sender_is_ne_0]\n",
    "\n",
    "plt.figure()\n",
    "plt.plot(times, rate_ex, label=\"excitatory\")\n",
    "plt.plot(times, rate_in, label=\"inhibitory\")\n",
    "plt.xlabel(\"time (ms)\")\n",
    "plt.ylabel(\"rate (a.u.)\")\n",
    "plt.show()"
   ]
  }
 ],
 "metadata": {
  "jupytext": {
   "cell_metadata_filter": "-all",
   "encoding": "# -*- coding: utf-8 -*-"
  },
  "kernelspec": {
   "display_name": "EBRAINS-experimental",
   "language": "python",
   "name": "ebrains-experimental"
  }
 },
 "nbformat": 4,
 "nbformat_minor": 5
}
