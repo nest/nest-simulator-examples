{
 "cells": [
  {
   "cell_type": "code",
   "execution_count": null,
   "id": "131e8654",
   "metadata": {},
   "outputs": [],
   "source": [
    "%matplotlib inline"
   ]
  },
  {
   "cell_type": "code",
   "execution_count": null,
   "id": "a1eb3176",
   "metadata": {},
   "outputs": [],
   "source": [
    "#\n",
    "# multimeter_file.py\n",
    "#\n",
    "# This file is part of NEST.\n",
    "#\n",
    "# Copyright (C) 2004 The NEST Initiative\n",
    "#\n",
    "# NEST is free software: you can redistribute it and/or modify\n",
    "# it under the terms of the GNU General Public License as published by\n",
    "# the Free Software Foundation, either version 2 of the License, or\n",
    "# (at your option) any later version.\n",
    "#\n",
    "# NEST is distributed in the hope that it will be useful,\n",
    "# but WITHOUT ANY WARRANTY; without even the implied warranty of\n",
    "# MERCHANTABILITY or FITNESS FOR A PARTICULAR PURPOSE.  See the\n",
    "# GNU General Public License for more details.\n",
    "#\n",
    "# You should have received a copy of the GNU General Public License\n",
    "# along with NEST.  If not, see <http://www.gnu.org/licenses/>."
   ]
  },
  {
   "cell_type": "markdown",
   "id": "7574237c",
   "metadata": {
    "cell_marker": "\"\"\""
   },
   "source": [
    "Example of multimeter recording to file\n",
    "---------------------------------------\n",
    "\n",
    "This file demonstrates recording from an ``iaf_cond_alpha`` neuron using a\n",
    "multimeter and writing data to file.\n"
   ]
  },
  {
   "cell_type": "markdown",
   "id": "e6739503",
   "metadata": {},
   "source": [
    "First, we import the necessary modules to simulate and plot this example.\n",
    "The simulation kernel is put back to its initial state using ``ResetKernel``."
   ]
  },
  {
   "cell_type": "code",
   "execution_count": null,
   "id": "3ea79bd8",
   "metadata": {},
   "outputs": [],
   "source": [
    "import matplotlib.pyplot as plt\n",
    "import nest\n",
    "import numpy\n",
    "\n",
    "nest.ResetKernel()"
   ]
  },
  {
   "cell_type": "markdown",
   "id": "63a51da4",
   "metadata": {},
   "source": [
    "Global properties of the simulation kernel can be set via attributes\n",
    "of the nest module. The following properties are related to writing to file:\n",
    "\n",
    "* ``overwrite_files`` can be set True to permit overwriting of existing files.\n",
    "* ``data_path`` is the path to which all data is written. It is given relative\n",
    "  to  the current working directory.\n",
    "* ``data_prefix`` allows to specify a common prefix for all data files."
   ]
  },
  {
   "cell_type": "code",
   "execution_count": null,
   "id": "0a8c7bcd",
   "metadata": {},
   "outputs": [],
   "source": [
    "nest.overwrite_files = True\n",
    "nest.data_path = \"\"\n",
    "nest.data_prefix = \"\""
   ]
  },
  {
   "cell_type": "markdown",
   "id": "1c4bb8a1",
   "metadata": {},
   "source": [
    "For illustration, the recordables of the ``iaf_cond_alpha`` neuron model are\n",
    "displayed. This model is an implementation of a spiking neuron using\n",
    "integrate-and-fire dynamics with conductance-based synapses. Incoming spike\n",
    "events induce a postsynaptic change of conductance modeled by an alpha\n",
    "function."
   ]
  },
  {
   "cell_type": "code",
   "execution_count": null,
   "id": "641a9449",
   "metadata": {},
   "outputs": [],
   "source": [
    "print(\"iaf_cond_alpha recordables: {0}\".format(nest.GetDefaults(\"iaf_cond_alpha\")[\"recordables\"]))"
   ]
  },
  {
   "cell_type": "markdown",
   "id": "40c2f67b",
   "metadata": {},
   "source": [
    "A neuron, a multimeter as recording device, and two spike generators for\n",
    "excitatory and inhibitory stimulation are instantiated. The command ``Create``\n",
    "expects a model type and, optionally, the desired number of nodes and a\n",
    "dictionary of parameters to overwrite the default values of the model.\n",
    "\n",
    " * For the neuron, the rise time of the excitatory synaptic alpha function\n",
    "   (`tau_syn_ex`, in ms) and the reset potential of the membrane\n",
    "   (`V_reset`, in mV) are specified.\n",
    " * For the ``multimeter``, the time interval for recording (`interval`, in\n",
    "   ms) and the measures to record (membrane potential `V_m` in mV and\n",
    "   excitatory and inhibitory synaptic conductances `g_ex` and`g_in` in nS)\n",
    "   are set.\n",
    "\n",
    " In addition, more parameters can be modified for writing to file:\n",
    "\n",
    " - `record_to` indicates where to put recorded data. All possible values are\n",
    "   available by inspecting the keys of the dictionary obtained from the\n",
    "   kernel attribute ``recording_backends``.\n",
    " - `label` specifies an arbitrary label for the device. If writing to files,\n",
    "   it used in the file name instead of the model name.\n",
    "\n",
    " * For the spike generators, the spike times in ms (`spike_times`) are given\n",
    "   explicitly."
   ]
  },
  {
   "cell_type": "code",
   "execution_count": null,
   "id": "d0bc35a9",
   "metadata": {},
   "outputs": [],
   "source": [
    "n = nest.Create(\"iaf_cond_alpha\", params={\"tau_syn_ex\": 1.0, \"V_reset\": -70.0})\n",
    "\n",
    "m = nest.Create(\n",
    "    \"multimeter\",\n",
    "    params={\"interval\": 0.1, \"record_from\": [\"V_m\", \"g_ex\", \"g_in\"], \"record_to\": \"ascii\", \"label\": \"my_multimeter\"},\n",
    ")\n",
    "\n",
    "s_ex = nest.Create(\"spike_generator\", params={\"spike_times\": numpy.array([10.0, 20.0, 50.0])})\n",
    "s_in = nest.Create(\"spike_generator\", params={\"spike_times\": numpy.array([15.0, 25.0, 55.0])})"
   ]
  },
  {
   "cell_type": "markdown",
   "id": "abb029a2",
   "metadata": {},
   "source": [
    "Next, we connect the spike generators to the neuron with ``Connect``. Synapse\n",
    "specifications can be provided in a dictionary. In this example of a\n",
    "conductance-based neuron, the synaptic weight ``weight`` is given in nS.\n",
    "Note that the values are  positive for excitatory stimulation and negative\n",
    "for inhibitor connections."
   ]
  },
  {
   "cell_type": "code",
   "execution_count": null,
   "id": "c9960d8f",
   "metadata": {},
   "outputs": [],
   "source": [
    "nest.Connect(s_ex, n, syn_spec={\"weight\": 40.0})\n",
    "nest.Connect(s_in, n, syn_spec={\"weight\": -20.0})\n",
    "nest.Connect(m, n)"
   ]
  },
  {
   "cell_type": "markdown",
   "id": "adbd6617",
   "metadata": {},
   "source": [
    "A network simulation with a duration of 100 ms is started with ``Simulate``."
   ]
  },
  {
   "cell_type": "code",
   "execution_count": null,
   "id": "4dc243ae",
   "metadata": {},
   "outputs": [],
   "source": [
    "nest.Simulate(100.0)"
   ]
  },
  {
   "cell_type": "markdown",
   "id": "90f79498",
   "metadata": {},
   "source": [
    "After the simulation, the recordings are obtained from the file the\n",
    "multimeter wrote to, accessed with the `filenames` property of the\n",
    "multimeter. After three header rows, the data is formatted in columns. The\n",
    "first column is the ID of the sender node. The second column is the time\n",
    "of the recording, in ms. Subsequent rows are values of properties specified\n",
    "in the `record_from` property of the multimeter."
   ]
  },
  {
   "cell_type": "code",
   "execution_count": null,
   "id": "3a596e61",
   "metadata": {},
   "outputs": [],
   "source": [
    "data = numpy.loadtxt(m.filenames[0], skiprows=3)\n",
    "sender, t, v_m, g_ex, g_in = data.T"
   ]
  },
  {
   "cell_type": "markdown",
   "id": "2eff5fee",
   "metadata": {},
   "source": [
    "Finally, the time courses of the membrane voltage and the synaptic\n",
    "conductance are displayed."
   ]
  },
  {
   "cell_type": "code",
   "execution_count": null,
   "id": "5cb41ea7",
   "metadata": {},
   "outputs": [],
   "source": [
    "plt.clf()\n",
    "\n",
    "plt.subplot(211)\n",
    "plt.plot(t, v_m)\n",
    "plt.axis([0, 100, -75, -53])\n",
    "plt.ylabel(\"membrane potential (mV)\")\n",
    "\n",
    "plt.subplot(212)\n",
    "plt.plot(t, g_ex, t, g_in)\n",
    "plt.axis([0, 100, 0, 45])\n",
    "plt.xlabel(\"time (ms)\")\n",
    "plt.ylabel(\"synaptic conductance (nS)\")\n",
    "plt.legend((\"g_exc\", \"g_inh\"))\n",
    "plt.show()"
   ]
  }
 ],
 "metadata": {
  "jupytext": {
   "cell_metadata_filter": "-all",
   "encoding": "# -*- coding: utf-8 -*-",
   "main_language": "python",
   "notebook_metadata_filter": "-all"
  }
 },
 "nbformat": 4,
 "nbformat_minor": 5
}
