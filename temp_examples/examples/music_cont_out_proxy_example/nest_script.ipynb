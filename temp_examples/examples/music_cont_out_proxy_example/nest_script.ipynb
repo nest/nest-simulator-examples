{
 "cells": [
  {
   "cell_type": "markdown",
   "id": "26e377dd",
   "metadata": {},
   "source": [
    "\n",
    "nest_script.py\n",
    "\n",
    "This file is part of NEST.\n",
    "\n",
    "Copyright (C) 2004 The NEST Initiative\n",
    "\n",
    "NEST is free software: you can redistribute it and/or modify\n",
    "it under the terms of the GNU General Public License as published by\n",
    "the Free Software Foundation, either version 2 of the License, or\n",
    "(at your option) any later version.\n",
    "\n",
    "NEST is distributed in the hope that it will be useful,\n",
    "but WITHOUT ANY WARRANTY; without even the implied warranty of\n",
    "MERCHANTABILITY or FITNESS FOR A PARTICULAR PURPOSE.  See the\n",
    "GNU General Public License for more details.\n",
    "\n",
    "You should have received a copy of the GNU General Public License\n",
    "along with NEST.  If not, see <http://www.gnu.org/licenses/>."
   ]
  },
  {
   "cell_type": "code",
   "execution_count": null,
   "id": "60e5703e",
   "metadata": {},
   "outputs": [],
   "source": [
    "\"\"\"\n",
    "Music example\n",
    "--------------\n",
    "\n",
    "This example runs 2 NEST instances and one receiver instance. Neurons on\n",
    "the NEST instances are observed by the music_cont_out_proxy and their\n",
    "values are forwarded through MUSIC to the receiver.\n",
    "\n",
    "\"\"\"\n",
    "import nest"
   ]
  },
  {
   "cell_type": "code",
   "execution_count": null,
   "id": "f8fa23ef",
   "metadata": {},
   "outputs": [],
   "source": [
    "proxy = nest.Create(\"music_cont_out_proxy\", 1)\n",
    "proxy.port_name = \"out\"\n",
    "proxy.set(record_from=[\"V_m\"], interval=0.1)"
   ]
  },
  {
   "cell_type": "code",
   "execution_count": null,
   "id": "53db5d65",
   "metadata": {},
   "outputs": [],
   "source": [
    "neuron_grp = nest.Create(\"iaf_cond_exp\", 2)\n",
    "proxy.targets = neuron_grp\n",
    "neuron_grp[0].I_e = 300.0\n",
    "neuron_grp[1].I_e = 600.0"
   ]
  },
  {
   "cell_type": "code",
   "execution_count": null,
   "id": "dcf8e86d",
   "metadata": {},
   "outputs": [],
   "source": [
    "nest.Simulate(200)"
   ]
  }
 ],
 "metadata": {
  "jupytext": {
   "cell_metadata_filter": "-all",
   "encoding": "# -*- coding: utf-8 -*-",
   "executable": "/usr/bin/env python3",
   "main_language": "python",
   "notebook_metadata_filter": "-all"
  }
 },
 "nbformat": 4,
 "nbformat_minor": 5
}
