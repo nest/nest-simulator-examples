{
 "cells": [
  {
   "cell_type": "markdown",
   "id": "f796a545",
   "metadata": {},
   "source": [
    "\n",
    "receiver_script.py\n",
    "\n",
    "This file is part of NEST.\n",
    "\n",
    "Copyright (C) 2004 The NEST Initiative\n",
    "\n",
    "NEST is free software: you can redistribute it and/or modify\n",
    "it under the terms of the GNU General Public License as published by\n",
    "the Free Software Foundation, either version 2 of the License, or\n",
    "(at your option) any later version.\n",
    "\n",
    "NEST is distributed in the hope that it will be useful,\n",
    "but WITHOUT ANY WARRANTY; without even the implied warranty of\n",
    "MERCHANTABILITY or FITNESS FOR A PARTICULAR PURPOSE.  See the\n",
    "GNU General Public License for more details.\n",
    "\n",
    "You should have received a copy of the GNU General Public License\n",
    "along with NEST.  If not, see <http://www.gnu.org/licenses/>."
   ]
  },
  {
   "cell_type": "code",
   "execution_count": null,
   "id": "ba80bf5e",
   "metadata": {},
   "outputs": [],
   "source": [
    "\"\"\"\n",
    "Music example receiver script\n",
    "------------------------------\n",
    "\"\"\""
   ]
  },
  {
   "cell_type": "code",
   "execution_count": null,
   "id": "eeb155c9",
   "metadata": {},
   "outputs": [],
   "source": [
    "import sys\n",
    "from itertools import dropwhile, takewhile"
   ]
  },
  {
   "cell_type": "code",
   "execution_count": null,
   "id": "b6545c90",
   "metadata": {},
   "outputs": [],
   "source": [
    "import music\n",
    "import numpy"
   ]
  },
  {
   "cell_type": "code",
   "execution_count": null,
   "id": "ba1f7e06",
   "metadata": {},
   "outputs": [],
   "source": [
    "setup = music.Setup()\n",
    "stoptime = setup.config(\"stoptime\")\n",
    "timestep = setup.config(\"timestep\")"
   ]
  },
  {
   "cell_type": "code",
   "execution_count": null,
   "id": "25a3aab0",
   "metadata": {},
   "outputs": [],
   "source": [
    "comm = setup.comm\n",
    "rank = comm.Get_rank()"
   ]
  },
  {
   "cell_type": "code",
   "execution_count": null,
   "id": "96ad1ba4",
   "metadata": {},
   "outputs": [],
   "source": [
    "pin = setup.publishContInput(\"in\")\n",
    "data = numpy.array([0.0, 0.0], dtype=numpy.double)\n",
    "pin.map(data, interpolate=False)"
   ]
  },
  {
   "cell_type": "code",
   "execution_count": null,
   "id": "dca8887b",
   "metadata": {},
   "outputs": [],
   "source": [
    "runtime = setup.runtime(timestep)\n",
    "mintime = timestep\n",
    "maxtime = stoptime + timestep\n",
    "start = dropwhile(lambda t: t < mintime, runtime)\n",
    "times = takewhile(lambda t: t < maxtime, start)\n",
    "for time in times:\n",
    "    val = data\n",
    "    sys.stdout.write(f\"t={time}\\treceiver {rank}: received {val}\\n\")"
   ]
  }
 ],
 "metadata": {
  "jupytext": {
   "cell_metadata_filter": "-all",
   "encoding": "# -*- coding: utf-8 -*-",
   "executable": "/usr/bin/env python3",
   "main_language": "python",
   "notebook_metadata_filter": "-all"
  }
 },
 "nbformat": 4,
 "nbformat_minor": 5
}
