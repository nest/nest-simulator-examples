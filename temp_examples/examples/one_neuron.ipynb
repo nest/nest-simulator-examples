{
 "cells": [
  {
   "cell_type": "code",
   "execution_count": null,
   "id": "7c40b066",
   "metadata": {},
   "outputs": [],
   "source": [
    "%matplotlib inline"
   ]
  },
  {
   "cell_type": "code",
   "execution_count": null,
   "id": "d45348ef",
   "metadata": {},
   "outputs": [],
   "source": [
    "#\n",
    "# one_neuron.py\n",
    "#\n",
    "# This file is part of NEST.\n",
    "#\n",
    "# Copyright (C) 2004 The NEST Initiative\n",
    "#\n",
    "# NEST is free software: you can redistribute it and/or modify\n",
    "# it under the terms of the GNU General Public License as published by\n",
    "# the Free Software Foundation, either version 2 of the License, or\n",
    "# (at your option) any later version.\n",
    "#\n",
    "# NEST is distributed in the hope that it will be useful,\n",
    "# but WITHOUT ANY WARRANTY; without even the implied warranty of\n",
    "# MERCHANTABILITY or FITNESS FOR A PARTICULAR PURPOSE.  See the\n",
    "# GNU General Public License for more details.\n",
    "#\n",
    "# You should have received a copy of the GNU General Public License\n",
    "# along with NEST.  If not, see <http://www.gnu.org/licenses/>."
   ]
  },
  {
   "cell_type": "markdown",
   "id": "12ac01c3",
   "metadata": {
    "cell_marker": "\"\"\""
   },
   "source": [
    "One neuron example\n",
    "------------------\n",
    "\n",
    "This script simulates a neuron driven by a constant external current\n",
    "and records its membrane potential.\n",
    "\n",
    "See Also\n",
    "~~~~~~~~\n",
    "\n",
    ":doc:`twoneurons`\n"
   ]
  },
  {
   "cell_type": "markdown",
   "id": "3dd19515",
   "metadata": {},
   "source": [
    "First, we import all necessary modules for simulation, analysis and\n",
    "plotting. Additionally, we set the verbosity to suppress info\n",
    "messages and reset the kernel.\n",
    "Resetting the kernel allows you to execute the script several\n",
    "times in a Python shell without interferences from previous NEST\n",
    "simulations. Thus, without resetting the kernel the network status\n",
    "including connections between nodes, status of neurons, devices and\n",
    "intrinsic time clocks, is kept and influences the next simulations."
   ]
  },
  {
   "cell_type": "code",
   "execution_count": null,
   "id": "afb17775",
   "metadata": {},
   "outputs": [],
   "source": [
    "import matplotlib.pyplot as plt\n",
    "import nest\n",
    "import nest.voltage_trace\n",
    "\n",
    "nest.set_verbosity(\"M_WARNING\")\n",
    "nest.ResetKernel()"
   ]
  },
  {
   "cell_type": "markdown",
   "id": "47905259",
   "metadata": {},
   "source": [
    "Second, the nodes (neurons and devices) are created using ``Create``.\n",
    "We store the returned handles in variables for later reference.\n",
    "The ``Create`` function also allow you to create multiple nodes\n",
    "e.g. ``nest.Create('iaf_psc_alpha',5)``\n",
    "Also default parameters of the model can be configured using ``Create``\n",
    "by including a list of parameter dictionaries\n",
    "e.g. `nest.Create(\"iaf_psc_alpha\", params=[{'I_e':376.0}])`.\n",
    "In this example we will configure these parameters in an additional\n",
    "step, which is explained in the third section."
   ]
  },
  {
   "cell_type": "code",
   "execution_count": null,
   "id": "d6db96d4",
   "metadata": {},
   "outputs": [],
   "source": [
    "neuron = nest.Create(\"iaf_psc_alpha\")\n",
    "voltmeter = nest.Create(\"voltmeter\")"
   ]
  },
  {
   "cell_type": "markdown",
   "id": "ef3233d6",
   "metadata": {},
   "source": [
    "Third, we set the external current of the neuron."
   ]
  },
  {
   "cell_type": "code",
   "execution_count": null,
   "id": "8a71aa0e",
   "metadata": {},
   "outputs": [],
   "source": [
    "neuron.I_e = 376.0"
   ]
  },
  {
   "cell_type": "markdown",
   "id": "45d07d74",
   "metadata": {},
   "source": [
    "Fourth, the neuron is connected to the voltmeter. The command\n",
    "``Connect`` has different variants. Plain ``Connect`` just takes the\n",
    "handles of pre- and postsynaptic nodes and uses the default values\n",
    "for weight and delay. Note that the connection direction for the voltmeter is\n",
    "reversed compared to the spike recorder, because it observes the\n",
    "neuron instead of receiving events from it. Thus, ``Connect``\n",
    "reflects the direction of signal flow in the simulation kernel\n",
    "rather than the physical process of inserting an electrode into the\n",
    "neuron. The latter semantics is presently not available in NEST."
   ]
  },
  {
   "cell_type": "code",
   "execution_count": null,
   "id": "df01afc0",
   "metadata": {},
   "outputs": [],
   "source": [
    "nest.Connect(voltmeter, neuron)"
   ]
  },
  {
   "cell_type": "markdown",
   "id": "74aaa499",
   "metadata": {},
   "source": [
    "Now we simulate the network using ``Simulate``, which takes the\n",
    "desired simulation time in milliseconds."
   ]
  },
  {
   "cell_type": "code",
   "execution_count": null,
   "id": "119da39d",
   "metadata": {},
   "outputs": [],
   "source": [
    "nest.Simulate(1000.0)"
   ]
  },
  {
   "cell_type": "markdown",
   "id": "84871ed2",
   "metadata": {},
   "source": [
    "Finally, we plot the neuron's membrane potential as a function of\n",
    "time and display the plot using pyplot."
   ]
  },
  {
   "cell_type": "code",
   "execution_count": null,
   "id": "dd6caab4",
   "metadata": {},
   "outputs": [],
   "source": [
    "nest.voltage_trace.from_device(voltmeter)\n",
    "plt.show()"
   ]
  }
 ],
 "metadata": {
  "jupytext": {
   "cell_metadata_filter": "-all",
   "encoding": "# -*- coding: utf-8 -*-"
  },
  "kernelspec": {
   "display_name": "EBRAINS-experimental",
   "language": "python",
   "name": "ebrains-experimental"
  }
 },
 "nbformat": 4,
 "nbformat_minor": 5
}
