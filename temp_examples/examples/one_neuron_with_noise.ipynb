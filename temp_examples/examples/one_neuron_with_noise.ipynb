{
 "cells": [
  {
   "cell_type": "code",
   "execution_count": null,
   "id": "fe8cf0c9",
   "metadata": {},
   "outputs": [],
   "source": [
    "%matplotlib inline"
   ]
  },
  {
   "cell_type": "code",
   "execution_count": null,
   "id": "9d1ba88c",
   "metadata": {},
   "outputs": [],
   "source": [
    "#\n",
    "# one_neuron_with_noise.py\n",
    "#\n",
    "# This file is part of NEST.\n",
    "#\n",
    "# Copyright (C) 2004 The NEST Initiative\n",
    "#\n",
    "# NEST is free software: you can redistribute it and/or modify\n",
    "# it under the terms of the GNU General Public License as published by\n",
    "# the Free Software Foundation, either version 2 of the License, or\n",
    "# (at your option) any later version.\n",
    "#\n",
    "# NEST is distributed in the hope that it will be useful,\n",
    "# but WITHOUT ANY WARRANTY; without even the implied warranty of\n",
    "# MERCHANTABILITY or FITNESS FOR A PARTICULAR PURPOSE.  See the\n",
    "# GNU General Public License for more details.\n",
    "#\n",
    "# You should have received a copy of the GNU General Public License\n",
    "# along with NEST.  If not, see <http://www.gnu.org/licenses/>."
   ]
  },
  {
   "cell_type": "markdown",
   "id": "90b4328e",
   "metadata": {
    "cell_marker": "\"\"\""
   },
   "source": [
    "One neuron with noise\n",
    "---------------------\n",
    "\n",
    "This script simulates a neuron with input from the ``poisson_generator``, and\n",
    "records the neuron's membrane potential.\n"
   ]
  },
  {
   "cell_type": "markdown",
   "id": "72cb787f",
   "metadata": {},
   "source": [
    "First, we import all necessary modules needed to simulate, analyze and\n",
    "plot our example. Additionally, we set the verbosity to only show warnings\n",
    "and reset the kernel.\n",
    "Resetting the kernel removes any nodes we may have created previously and\n",
    "resets the internal clock to zero. This allows us to execute the script\n",
    "several times in a Python shell without interference from previous NEST\n",
    "simulations."
   ]
  },
  {
   "cell_type": "code",
   "execution_count": null,
   "id": "2465542f",
   "metadata": {},
   "outputs": [],
   "source": [
    "import matplotlib.pyplot as plt\n",
    "import nest\n",
    "import nest.voltage_trace\n",
    "\n",
    "nest.set_verbosity(\"M_WARNING\")\n",
    "nest.ResetKernel()"
   ]
  },
  {
   "cell_type": "markdown",
   "id": "7a96964c",
   "metadata": {},
   "source": [
    "Second, the nodes (the neuron, poisson generator (two of them), and the\n",
    "voltmeter) are created using  the ``Create`` function.\n",
    "We store the returned handles in variables for later reference."
   ]
  },
  {
   "cell_type": "code",
   "execution_count": null,
   "id": "6708a7ca",
   "metadata": {},
   "outputs": [],
   "source": [
    "neuron = nest.Create(\"iaf_psc_alpha\")\n",
    "noise = nest.Create(\"poisson_generator\", 2)\n",
    "voltmeter = nest.Create(\"voltmeter\")"
   ]
  },
  {
   "cell_type": "markdown",
   "id": "f8b48928",
   "metadata": {},
   "source": [
    "Third, the Poisson generator is configured using ``SetStatus``, which expects\n",
    "a list of node handles and a list of parameter dictionaries. We set the\n",
    "Poisson generators to 80,000 Hz and 15,000 Hz, respectively. Note that we do\n",
    "not need to set parameters for the neuron and the voltmeter, since they have\n",
    "satisfactory defaults."
   ]
  },
  {
   "cell_type": "code",
   "execution_count": null,
   "id": "8f2255c2",
   "metadata": {},
   "outputs": [],
   "source": [
    "noise[0].rate = 80000.0\n",
    "noise[1].rate = 15000.0"
   ]
  },
  {
   "cell_type": "markdown",
   "id": "25df4cb3",
   "metadata": {},
   "source": [
    "Fourth, the neuron is connected to the ``poisson_generator`` and to the\n",
    "``voltmeter``. We also specify the synaptic weight and delay in this step."
   ]
  },
  {
   "cell_type": "code",
   "execution_count": null,
   "id": "d241925e",
   "metadata": {},
   "outputs": [],
   "source": [
    "nest.Connect(noise, neuron, syn_spec={\"weight\": [[1.2, -1.0]], \"delay\": 1.0})\n",
    "nest.Connect(voltmeter, neuron)"
   ]
  },
  {
   "cell_type": "markdown",
   "id": "7346651c",
   "metadata": {},
   "source": [
    "Now we simulate the network using ``Simulate``, which takes the\n",
    "desired simulation time in milliseconds."
   ]
  },
  {
   "cell_type": "code",
   "execution_count": null,
   "id": "9ff37674",
   "metadata": {},
   "outputs": [],
   "source": [
    "nest.Simulate(1000.0)"
   ]
  },
  {
   "cell_type": "markdown",
   "id": "09f026ed",
   "metadata": {},
   "source": [
    "Finally, we plot the neuron's membrane potential as a function of\n",
    "time."
   ]
  },
  {
   "cell_type": "code",
   "execution_count": null,
   "id": "92a433ef",
   "metadata": {},
   "outputs": [],
   "source": [
    "nest.voltage_trace.from_device(voltmeter)\n",
    "plt.show()"
   ]
  }
 ],
 "metadata": {
  "jupytext": {
   "cell_metadata_filter": "-all",
   "encoding": "# -*- coding: utf-8 -*-"
  },
  "kernelspec": {
   "display_name": "EBRAINS-experimental",
   "language": "python",
   "name": "ebrains-experimental"
  }
 },
 "nbformat": 4,
 "nbformat_minor": 5
}
