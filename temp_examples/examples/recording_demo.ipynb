{
 "cells": [
  {
   "cell_type": "markdown",
   "id": "27f65538",
   "metadata": {},
   "source": [
    "\n",
    "recording_demo.py\n",
    "\n",
    "This file is part of NEST.\n",
    "\n",
    "Copyright (C) 2004 The NEST Initiative\n",
    "\n",
    "NEST is free software: you can redistribute it and/or modify\n",
    "it under the terms of the GNU General Public License as published by\n",
    "the Free Software Foundation, either version 2 of the License, or\n",
    "(at your option) any later version.\n",
    "\n",
    "NEST is distributed in the hope that it will be useful,\n",
    "but WITHOUT ANY WARRANTY; without even the implied warranty of\n",
    "MERCHANTABILITY or FITNESS FOR A PARTICULAR PURPOSE.  See the\n",
    "GNU General Public License for more details.\n",
    "\n",
    "You should have received a copy of the GNU General Public License\n",
    "along with NEST.  If not, see <http://www.gnu.org/licenses/>."
   ]
  },
  {
   "cell_type": "code",
   "execution_count": null,
   "id": "633cb5b3",
   "metadata": {},
   "outputs": [],
   "source": [
    "\"\"\"\n",
    "Recording examples\n",
    "------------------\n",
    "\n",
    "This script demonstrates how to select different recording backends\n",
    "and read the result data back in. The simulated network itself is\n",
    "rather boring with only a single poisson generator stimulating a\n",
    "single neuron, so we get some data.\n",
    "\n",
    "\"\"\""
   ]
  },
  {
   "cell_type": "code",
   "execution_count": null,
   "id": "4ed81ca9",
   "metadata": {},
   "outputs": [],
   "source": [
    "import nest\n",
    "import numpy as np"
   ]
  },
  {
   "cell_type": "code",
   "execution_count": null,
   "id": "47e05abf",
   "metadata": {},
   "outputs": [],
   "source": [
    "def setup(record_to, time_in_steps):\n",
    "    \"\"\"Set up the network with the given parameters.\"\"\"\n",
    "\n",
    "    nest.ResetKernel()\n",
    "    nest.overwrite_files = True\n",
    "\n",
    "    pg_params = {\"rate\": 1000000.0}\n",
    "    sr_params = {\"record_to\": record_to, \"time_in_steps\": time_in_steps}\n",
    "\n",
    "    n = nest.Create(\"iaf_psc_exp\")\n",
    "    pg = nest.Create(\"poisson_generator\", 1, pg_params)\n",
    "    sr = nest.Create(\"spike_recorder\", 1, sr_params)\n",
    "\n",
    "    nest.Connect(pg, n, syn_spec={\"weight\": 10.0})\n",
    "    nest.Connect(n, sr)\n",
    "\n",
    "    return sr"
   ]
  },
  {
   "cell_type": "code",
   "execution_count": null,
   "id": "366259cb",
   "metadata": {},
   "outputs": [],
   "source": [
    "def get_data(sr):\n",
    "    \"\"\"Get recorded data from the spike_recorder.\"\"\"\n",
    "\n",
    "    if sr.record_to == \"ascii\":\n",
    "        return np.loadtxt(f\"{sr.filenames[0]}\", dtype=object)\n",
    "    if sr.record_to == \"memory\":\n",
    "        return sr.get(\"events\")"
   ]
  },
  {
   "cell_type": "code",
   "execution_count": null,
   "id": "7ef9940c",
   "metadata": {},
   "outputs": [],
   "source": [
    "# Just loop through some recording backends and settings\n",
    "for time_in_steps in (True, False):\n",
    "    for record_to in (\"ascii\", \"memory\"):\n",
    "        sr = setup(record_to, time_in_steps)\n",
    "        nest.Simulate(30.0)\n",
    "        data = get_data(sr)\n",
    "        print(f\"simulation resolution in ms: {nest.resolution}\")\n",
    "        print(f\"data recorded by recording backend {record_to} (time_in_steps={time_in_steps})\")\n",
    "        print(data)"
   ]
  }
 ],
 "metadata": {
  "jupytext": {
   "cell_metadata_filter": "-all",
   "encoding": "# -*- coding: utf-8 -*-",
   "main_language": "python",
   "notebook_metadata_filter": "-all"
  }
 },
 "nbformat": 4,
 "nbformat_minor": 5
}
