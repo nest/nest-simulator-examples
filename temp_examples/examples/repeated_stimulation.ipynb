{
 "cells": [
  {
   "cell_type": "code",
   "execution_count": null,
   "id": "d7f88bd2",
   "metadata": {},
   "outputs": [],
   "source": [
    "%matplotlib inline"
   ]
  },
  {
   "cell_type": "code",
   "execution_count": null,
   "id": "25606c12",
   "metadata": {},
   "outputs": [],
   "source": [
    "#\n",
    "# repeated_stimulation.py\n",
    "#\n",
    "# This file is part of NEST.\n",
    "#\n",
    "# Copyright (C) 2004 The NEST Initiative\n",
    "#\n",
    "# NEST is free software: you can redistribute it and/or modify\n",
    "# it under the terms of the GNU General Public License as published by\n",
    "# the Free Software Foundation, either version 2 of the License, or\n",
    "# (at your option) any later version.\n",
    "#\n",
    "# NEST is distributed in the hope that it will be useful,\n",
    "# but WITHOUT ANY WARRANTY; without even the implied warranty of\n",
    "# MERCHANTABILITY or FITNESS FOR A PARTICULAR PURPOSE.  See the\n",
    "# GNU General Public License for more details.\n",
    "#\n",
    "# You should have received a copy of the GNU General Public License\n",
    "# along with NEST.  If not, see <http://www.gnu.org/licenses/>."
   ]
  },
  {
   "cell_type": "markdown",
   "id": "766944c0",
   "metadata": {
    "cell_marker": "\"\"\""
   },
   "source": [
    "Repeated Stimulation\n",
    "--------------------\n",
    "\n",
    "Simple example for how to repeat a stimulation protocol\n",
    "using the ``origin`` property of devices.\n",
    "\n",
    "In this example, a ``poisson_generator`` generates a spike train that is\n",
    "recorded directly by a ``spike_recorder``, using the following paradigm:\n",
    "\n",
    "1. A single trial last for 1000 ms.\n",
    "2. Within each trial, the ``poisson_generator`` is active from 100 ms to 500 ms.\n",
    "\n",
    "We achieve this by defining the `start` and `stop` properties of the\n",
    "generator to 100 ms and 500 ms, respectively, and setting the ``origin`` to the\n",
    "simulation time at the beginning of each trial. Start and stop are interpreted\n",
    "relative to the ``origin``.\n"
   ]
  },
  {
   "cell_type": "code",
   "execution_count": null,
   "id": "5a2fc59e",
   "metadata": {},
   "outputs": [],
   "source": []
  },
  {
   "cell_type": "markdown",
   "id": "65d4fa66",
   "metadata": {},
   "source": [
    "First, the modules needed for simulation and analysis are imported."
   ]
  },
  {
   "cell_type": "code",
   "execution_count": null,
   "id": "44f6d2e7",
   "metadata": {},
   "outputs": [],
   "source": [
    "\n",
    "import matplotlib.pyplot as plt\n",
    "import nest\n",
    "import nest.raster_plot"
   ]
  },
  {
   "cell_type": "markdown",
   "id": "dae0e84f",
   "metadata": {},
   "source": [
    "Second, we set the parameters so the ``poisson_generator`` generates 1000\n",
    "spikes per second and is active from 100 to 500 ms"
   ]
  },
  {
   "cell_type": "code",
   "execution_count": null,
   "id": "0604ef93",
   "metadata": {},
   "outputs": [],
   "source": [
    "\n",
    "rate = 1000.0  # generator rate in spikes/s\n",
    "start = 100.0  # start of simulation relative to trial start, in ms\n",
    "stop = 500.0  # end of simulation relative to trial start, in ms\n"
   ]
  },
  {
   "cell_type": "markdown",
   "id": "87a056f1",
   "metadata": {},
   "source": [
    "The simulation is supposed to take 1s (1000 ms) and is repeated 5 times"
   ]
  },
  {
   "cell_type": "code",
   "execution_count": null,
   "id": "4c8490f6",
   "metadata": {},
   "outputs": [],
   "source": [
    "\n",
    "trial_duration = 1000.0  # trial duration, in ms\n",
    "num_trials = 5  # number of trials to perform\n"
   ]
  },
  {
   "cell_type": "markdown",
   "id": "c168367b",
   "metadata": {},
   "source": [
    "Third, the network is set up.  We reset the kernel and create a\n",
    "``poisson_generator``, in which the handle is stored in `pg`.\n",
    "\n",
    "The parameters for rate and start and stop of activity are given as optional\n",
    "parameters in the form of a dictionary."
   ]
  },
  {
   "cell_type": "code",
   "execution_count": null,
   "id": "2dc1b093",
   "metadata": {},
   "outputs": [],
   "source": [
    "\n",
    "nest.ResetKernel()\n",
    "pg_params = {\"rate\": rate, \"start\": start, \"stop\": stop}\n",
    "pg = nest.Create(\"poisson_generator\", params=pg_params)\n"
   ]
  },
  {
   "cell_type": "markdown",
   "id": "b9c6fb72",
   "metadata": {},
   "source": [
    "The ``spike_recorder`` is created and the handle stored in `sr`."
   ]
  },
  {
   "cell_type": "code",
   "execution_count": null,
   "id": "29cef159",
   "metadata": {},
   "outputs": [],
   "source": [
    "\n",
    "sr = nest.Create(\"spike_recorder\")\n"
   ]
  },
  {
   "cell_type": "markdown",
   "id": "b6781da9",
   "metadata": {},
   "source": [
    "The ``Connect`` function connects the nodes so spikes from pg are collected by\n",
    "the ``spike_recorder`` `sr`"
   ]
  },
  {
   "cell_type": "code",
   "execution_count": null,
   "id": "cad48cb4",
   "metadata": {},
   "outputs": [],
   "source": [
    "\n",
    "nest.Connect(pg, sr)\n"
   ]
  },
  {
   "cell_type": "markdown",
   "id": "a217f46f",
   "metadata": {},
   "source": [
    "Before each trial, we set the ``origin`` of the ``poisson_generator`` to the\n",
    "current simulation time. This automatically sets the start and stop time of\n",
    "the ``poisson_generator`` to the specified times with respect to the origin.\n",
    "The simulation is then carried out for the specified time in trial_duration."
   ]
  },
  {
   "cell_type": "code",
   "execution_count": null,
   "id": "7fbd9e4a",
   "metadata": {},
   "outputs": [],
   "source": [
    "\n",
    "for n in range(num_trials):\n",
    "    pg.origin = nest.biological_time\n",
    "    nest.Simulate(trial_duration)\n"
   ]
  },
  {
   "cell_type": "markdown",
   "id": "d794bb52",
   "metadata": {},
   "source": [
    "Now we plot the result, including a histogram using the ``nest.raster_plot``\n",
    "function. Note: The histogram will show spikes seemingly located before\n",
    "100 ms into each trial. This is due to sub-optimal automatic placement of\n",
    "histogram bin borders."
   ]
  },
  {
   "cell_type": "code",
   "execution_count": null,
   "id": "b2238968",
   "metadata": {},
   "outputs": [],
   "source": [
    "nest.raster_plot.from_device(sr, hist=True, hist_binwidth=100.0, title=\"Repeated stimulation by Poisson generator\")\n",
    "plt.show()"
   ]
  }
 ],
 "metadata": {
  "jupytext": {
   "cell_metadata_filter": "-all",
   "encoding": "# -*- coding: utf-8 -*-"
  },
  "kernelspec": {
   "display_name": "EBRAINS-experimental",
   "language": "python",
   "name": "ebrains-experimental"
  }
 },
 "nbformat": 4,
 "nbformat_minor": 5
}
