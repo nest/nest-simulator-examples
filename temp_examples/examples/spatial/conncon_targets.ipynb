{
 "cells": [
  {
   "cell_type": "code",
   "execution_count": null,
   "id": "499d34f9",
   "metadata": {},
   "outputs": [],
   "source": [
    "%matplotlib inline"
   ]
  },
  {
   "cell_type": "code",
   "execution_count": null,
   "id": "80a7c755",
   "metadata": {},
   "outputs": [],
   "source": [
    "#\n",
    "# conncon_targets.py\n",
    "#\n",
    "# This file is part of NEST.\n",
    "#\n",
    "# Copyright (C) 2004 The NEST Initiative\n",
    "#\n",
    "# NEST is free software: you can redistribute it and/or modify\n",
    "# it under the terms of the GNU General Public License as published by\n",
    "# the Free Software Foundation, either version 2 of the License, or\n",
    "# (at your option) any later version.\n",
    "#\n",
    "# NEST is distributed in the hope that it will be useful,\n",
    "# but WITHOUT ANY WARRANTY; without even the implied warranty of\n",
    "# MERCHANTABILITY or FITNESS FOR A PARTICULAR PURPOSE.  See the\n",
    "# GNU General Public License for more details.\n",
    "#\n",
    "# You should have received a copy of the GNU General Public License\n",
    "# along with NEST.  If not, see <http://www.gnu.org/licenses/>."
   ]
  },
  {
   "cell_type": "markdown",
   "id": "89a7b311",
   "metadata": {
    "cell_marker": "\"\"\""
   },
   "source": [
    "Spatial networks: Convergent projection and rectangular mask, from source perspective\n",
    "-------------------------------------------------------------------------------------\n",
    "\n",
    "Create two populations of iaf_psc_alpha neurons on a 30x30 grid\n",
    "Connect the two populations with convergent projection and rectangular mask, and\n",
    "visualize connections from source perspective\n",
    "\n",
    "BCCN Tutorial @ CNS*09\n",
    "Hans Ekkehard Plesser, UMB"
   ]
  },
  {
   "cell_type": "code",
   "execution_count": null,
   "id": "6898f4f3",
   "metadata": {},
   "outputs": [],
   "source": [
    "import matplotlib.pyplot as plt\n",
    "import nest\n",
    "import numpy as np\n",
    "\n",
    "nest.ResetKernel()\n",
    "\n",
    "pos = nest.spatial.grid(shape=[30, 30], extent=[3.0, 3.0], edge_wrap=True)"
   ]
  },
  {
   "cell_type": "markdown",
   "id": "2e6df8f5",
   "metadata": {
    "cell_marker": "########################################################################",
    "lines_to_next_cell": 0
   },
   "source": [
    "create and connect two populations"
   ]
  },
  {
   "cell_type": "code",
   "execution_count": null,
   "id": "6884be62",
   "metadata": {},
   "outputs": [],
   "source": [
    "a = nest.Create(\"iaf_psc_alpha\", positions=pos)\n",
    "b = nest.Create(\"iaf_psc_alpha\", positions=pos)\n",
    "\n",
    "cdict = {\n",
    "    \"rule\": \"pairwise_bernoulli\",\n",
    "    \"p\": 0.5,\n",
    "    \"use_on_source\": True,\n",
    "    \"mask\": {\"rectangular\": {\"lower_left\": [-0.2, -0.5], \"upper_right\": [0.2, 0.5]}},\n",
    "}\n",
    "\n",
    "nest.Connect(a, b, conn_spec=cdict, syn_spec={\"weight\": nest.random.uniform(0.5, 2.0)})"
   ]
  },
  {
   "cell_type": "markdown",
   "id": "f1593117",
   "metadata": {
    "cell_marker": "#####################################################################",
    "lines_to_next_cell": 0
   },
   "source": [
    "first, clear existing figure, get current figure"
   ]
  },
  {
   "cell_type": "code",
   "execution_count": null,
   "id": "af5d7096",
   "metadata": {},
   "outputs": [],
   "source": [
    "plt.clf()\n",
    "fig = plt.gcf()\n",
    "\n",
    "# plot targets of two source neurons into same figure, with mask\n",
    "for src_index in [30 * 15 + 15, 0]:\n",
    "    # obtain node id for center\n",
    "    src = a[src_index : src_index + 1]\n",
    "    nest.PlotTargets(src, b, mask=cdict[\"mask\"], fig=fig)\n",
    "\n",
    "# beautify\n",
    "plt.axes().set_xticks(np.arange(-1.5, 1.55, 0.5))\n",
    "plt.axes().set_yticks(np.arange(-1.5, 1.55, 0.5))\n",
    "plt.grid(True)\n",
    "plt.axis([-2.0, 2.0, -2.0, 2.0])\n",
    "plt.axes().set_aspect(\"equal\", \"box\")\n",
    "plt.title(\"Connection targets\")\n",
    "\n",
    "plt.show()\n",
    "\n",
    "# plt.savefig('conncon_targets.pdf')"
   ]
  }
 ],
 "metadata": {
  "jupytext": {
   "cell_metadata_filter": "-all",
   "encoding": "# -*- coding: utf-8 -*-"
  },
  "kernelspec": {
   "display_name": "EBRAINS-experimental",
   "language": "python",
   "name": "ebrains-experimental"
  }
 },
 "nbformat": 4,
 "nbformat_minor": 5
}
