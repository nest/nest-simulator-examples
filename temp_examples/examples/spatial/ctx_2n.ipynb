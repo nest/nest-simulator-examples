{
 "cells": [
  {
   "cell_type": "markdown",
   "id": "4ae97d2e",
   "metadata": {},
   "source": [
    "\n",
    "ctx_2n.py\n",
    "\n",
    "This file is part of NEST.\n",
    "\n",
    "Copyright (C) 2004 The NEST Initiative\n",
    "\n",
    "NEST is free software: you can redistribute it and/or modify\n",
    "it under the terms of the GNU General Public License as published by\n",
    "the Free Software Foundation, either version 2 of the License, or\n",
    "(at your option) any later version.\n",
    "\n",
    "NEST is distributed in the hope that it will be useful,\n",
    "but WITHOUT ANY WARRANTY; without even the implied warranty of\n",
    "MERCHANTABILITY or FITNESS FOR A PARTICULAR PURPOSE.  See the\n",
    "GNU General Public License for more details.\n",
    "\n",
    "You should have received a copy of the GNU General Public License\n",
    "along with NEST.  If not, see <http://www.gnu.org/licenses/>."
   ]
  },
  {
   "cell_type": "code",
   "execution_count": null,
   "id": "129d7763",
   "metadata": {},
   "outputs": [],
   "source": [
    "\"\"\"\n",
    "Spatial networks: 4x3 grid with pyramidal cells and interneurons\n",
    "----------------------------------------------------------------\n",
    "\n",
    "Create a 4x3 grid with one pyramidal cell and one interneuron at each position.\n",
    "\n",
    "BCCN Tutorial @ CNS*09\n",
    "Hans Ekkehard Plesser, UMB\n",
    "\"\"\""
   ]
  },
  {
   "cell_type": "code",
   "execution_count": null,
   "id": "af0d8a15",
   "metadata": {},
   "outputs": [],
   "source": [
    "import matplotlib.pyplot as plt\n",
    "import nest\n",
    "import numpy as np"
   ]
  },
  {
   "cell_type": "code",
   "execution_count": null,
   "id": "3f046ea7",
   "metadata": {},
   "outputs": [],
   "source": [
    "nest.ResetKernel()"
   ]
  },
  {
   "cell_type": "code",
   "execution_count": null,
   "id": "12aa5858",
   "metadata": {},
   "outputs": [],
   "source": [
    "nest.CopyModel(\"iaf_psc_alpha\", \"pyr\")\n",
    "nest.CopyModel(\"iaf_psc_alpha\", \"in\")"
   ]
  },
  {
   "cell_type": "code",
   "execution_count": null,
   "id": "ef7b5155",
   "metadata": {},
   "outputs": [],
   "source": [
    "pos = nest.spatial.grid(shape=[4, 3], extent=[2.0, 1.5])"
   ]
  },
  {
   "cell_type": "code",
   "execution_count": null,
   "id": "50d0a359",
   "metadata": {},
   "outputs": [],
   "source": [
    "ctx_pyr = nest.Create(\"pyr\", positions=pos)\n",
    "ctx_in = nest.Create(\"in\", positions=pos)"
   ]
  },
  {
   "cell_type": "code",
   "execution_count": null,
   "id": "74ad540e",
   "metadata": {},
   "outputs": [],
   "source": [
    "nest.PrintNodes()"
   ]
  },
  {
   "cell_type": "code",
   "execution_count": null,
   "id": "8fbc9333",
   "metadata": {},
   "outputs": [],
   "source": [
    "# extract position information\n",
    "ppyr = nest.GetPosition(ctx_pyr)\n",
    "pin = nest.GetPosition(ctx_in)"
   ]
  },
  {
   "cell_type": "code",
   "execution_count": null,
   "id": "dcc271be",
   "metadata": {},
   "outputs": [],
   "source": [
    "ppyr_x = np.array([x for x, y in ppyr])\n",
    "ppyr_y = np.array([y for x, y in ppyr])"
   ]
  },
  {
   "cell_type": "code",
   "execution_count": null,
   "id": "552e521c",
   "metadata": {},
   "outputs": [],
   "source": [
    "pin_x = np.array([x for x, y in pin])\n",
    "pin_y = np.array([y for x, y in pin])"
   ]
  },
  {
   "cell_type": "code",
   "execution_count": null,
   "id": "640e495b",
   "metadata": {},
   "outputs": [],
   "source": [
    "# plot\n",
    "plt.clf()\n",
    "plt.plot(pin_x - 0.05, ppyr_y - 0.05, \"bo\", markersize=20, label=\"Pyramidal\", zorder=2)\n",
    "plt.plot(pin_x + 0.05, pin_y + 0.05, \"ro\", markersize=20, label=\"Interneuron\", zorder=2)\n",
    "plt.plot(\n",
    "    pin_x, ppyr_y, \"o\", markerfacecolor=(0.7, 0.7, 0.7), markersize=60, markeredgewidth=0, zorder=1, label=\"_nolegend_\"\n",
    ")"
   ]
  },
  {
   "cell_type": "code",
   "execution_count": null,
   "id": "d61e290b",
   "metadata": {},
   "outputs": [],
   "source": [
    "# beautify\n",
    "plt.axis([-1.0, 1.0, -1.0, 1.0])\n",
    "plt.axes().set_aspect(\"equal\", \"box\")\n",
    "plt.axes().set_xticks((-0.75, -0.25, 0.25, 0.75))\n",
    "plt.axes().set_yticks((-0.5, 0, 0.5))\n",
    "plt.grid(True)\n",
    "plt.xlabel(\"4 Columns, Extent: 1.5\")\n",
    "plt.ylabel(\"3 Rows, Extent: 1.0\")\n",
    "plt.legend(numpoints=1)"
   ]
  },
  {
   "cell_type": "code",
   "execution_count": null,
   "id": "128833de",
   "metadata": {},
   "outputs": [],
   "source": [
    "plt.show()"
   ]
  },
  {
   "cell_type": "markdown",
   "id": "f4f9e7f5",
   "metadata": {},
   "source": [
    "plt.savefig('ctx_2n.png')"
   ]
  }
 ],
 "metadata": {
  "jupytext": {
   "cell_metadata_filter": "-all",
   "encoding": "# -*- coding: utf-8 -*-"
  },
  "kernelspec": {
   "display_name": "EBRAINS-experimental",
   "language": "python",
   "name": "ebrains-experimental"
  }
 },
 "nbformat": 4,
 "nbformat_minor": 5
}
