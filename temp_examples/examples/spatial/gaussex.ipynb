{
 "cells": [
  {
   "cell_type": "code",
   "execution_count": null,
   "id": "23e3161d",
   "metadata": {},
   "outputs": [],
   "source": [
    "%matplotlib inline"
   ]
  },
  {
   "cell_type": "code",
   "execution_count": null,
   "id": "328609ac",
   "metadata": {},
   "outputs": [],
   "source": [
    "#\n",
    "# gaussex.py\n",
    "#\n",
    "# This file is part of NEST.\n",
    "#\n",
    "# Copyright (C) 2004 The NEST Initiative\n",
    "#\n",
    "# NEST is free software: you can redistribute it and/or modify\n",
    "# it under the terms of the GNU General Public License as published by\n",
    "# the Free Software Foundation, either version 2 of the License, or\n",
    "# (at your option) any later version.\n",
    "#\n",
    "# NEST is distributed in the hope that it will be useful,\n",
    "# but WITHOUT ANY WARRANTY; without even the implied warranty of\n",
    "# MERCHANTABILITY or FITNESS FOR A PARTICULAR PURPOSE.  See the\n",
    "# GNU General Public License for more details.\n",
    "#\n",
    "# You should have received a copy of the GNU General Public License\n",
    "# along with NEST.  If not, see <http://www.gnu.org/licenses/>."
   ]
  },
  {
   "cell_type": "markdown",
   "id": "a783b699",
   "metadata": {
    "cell_marker": "\"\"\""
   },
   "source": [
    "Spatial networks: Gaussian probabilistic kernel\n",
    "-----------------------------------------------\n",
    "\n",
    "Create two populations on a 30x30 grid and connect them using a Gaussian probabilistic kernel\n",
    "BCCN Tutorial @ CNS*09\n",
    "Hans Ekkehard Plesser, UMB"
   ]
  },
  {
   "cell_type": "code",
   "execution_count": null,
   "id": "8b7f9a4b",
   "metadata": {},
   "outputs": [],
   "source": [
    "import matplotlib.pyplot as plt\n",
    "import nest\n",
    "import numpy as np\n",
    "\n",
    "nest.ResetKernel()"
   ]
  },
  {
   "cell_type": "markdown",
   "id": "410949a8",
   "metadata": {
    "cell_marker": "#####################################################################",
    "lines_to_next_cell": 0
   },
   "source": [
    "create two test layers"
   ]
  },
  {
   "cell_type": "code",
   "execution_count": null,
   "id": "9b4fbc51",
   "metadata": {},
   "outputs": [],
   "source": [
    "pos = nest.spatial.grid(shape=[30, 30], extent=[3.0, 3.0])"
   ]
  },
  {
   "cell_type": "markdown",
   "id": "c7d9766e",
   "metadata": {
    "cell_marker": "#####################################################################",
    "lines_to_next_cell": 0
   },
   "source": [
    "create and connect two populations"
   ]
  },
  {
   "cell_type": "code",
   "execution_count": null,
   "id": "2e1dd747",
   "metadata": {},
   "outputs": [],
   "source": [
    "a = nest.Create(\"iaf_psc_alpha\", positions=pos)\n",
    "b = nest.Create(\"iaf_psc_alpha\", positions=pos)\n",
    "\n",
    "cdict = {\n",
    "    \"rule\": \"pairwise_bernoulli\",\n",
    "    \"p\": nest.spatial_distributions.gaussian(nest.spatial.distance, std=0.5),\n",
    "    \"mask\": {\"circular\": {\"radius\": 3.0}},\n",
    "}\n",
    "\n",
    "nest.Connect(a, b, cdict)"
   ]
  },
  {
   "cell_type": "markdown",
   "id": "8e7c9984",
   "metadata": {
    "cell_marker": "#####################################################################"
   },
   "source": [
    "plot targets of neurons in different grid locations\n",
    "\n",
    "plot targets of two source neurons into same figure, with mask\n",
    "use different colors"
   ]
  },
  {
   "cell_type": "code",
   "execution_count": null,
   "id": "32963490",
   "metadata": {},
   "outputs": [],
   "source": [
    "for src_index, color, cmap in [(30 * 15 + 15, \"blue\", \"Blues\"), (0, \"green\", \"Greens\")]:\n",
    "    # obtain node id for center\n",
    "    src = a[src_index : src_index + 1]\n",
    "    fig = plt.figure()\n",
    "    nest.PlotTargets(\n",
    "        src,\n",
    "        b,\n",
    "        mask=cdict[\"mask\"],\n",
    "        probability_parameter=cdict[\"p\"],\n",
    "        src_color=color,\n",
    "        tgt_color=color,\n",
    "        mask_color=color,\n",
    "        probability_cmap=cmap,\n",
    "        src_size=100,\n",
    "        fig=fig,\n",
    "    )\n",
    "\n",
    "    # beautify\n",
    "    plt.axes().set_xticks(np.arange(-1.5, 1.55, 0.5))\n",
    "    plt.axes().set_yticks(np.arange(-1.5, 1.55, 0.5))\n",
    "    plt.grid(True)\n",
    "    plt.axis([-2.0, 2.0, -2.0, 2.0])\n",
    "    plt.axes().set_aspect(\"equal\", \"box\")\n",
    "    plt.title(\"Connection targets, Gaussian kernel\")\n",
    "\n",
    "plt.show()\n",
    "\n",
    "# plt.savefig('gaussex.pdf')"
   ]
  }
 ],
 "metadata": {
  "jupytext": {
   "cell_metadata_filter": "-all",
   "encoding": "# -*- coding: utf-8 -*-"
  },
  "kernelspec": {
   "display_name": "EBRAINS-experimental",
   "language": "python",
   "name": "ebrains-experimental"
  }
 },
 "nbformat": 4,
 "nbformat_minor": 5
}
