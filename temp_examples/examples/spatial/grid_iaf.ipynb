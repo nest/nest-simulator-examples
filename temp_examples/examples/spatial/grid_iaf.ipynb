{
 "cells": [
  {
   "cell_type": "markdown",
   "id": "c2741248",
   "metadata": {},
   "source": [
    "\n",
    "grid_iaf.py\n",
    "\n",
    "This file is part of NEST.\n",
    "\n",
    "Copyright (C) 2004 The NEST Initiative\n",
    "\n",
    "NEST is free software: you can redistribute it and/or modify\n",
    "it under the terms of the GNU General Public License as published by\n",
    "the Free Software Foundation, either version 2 of the License, or\n",
    "(at your option) any later version.\n",
    "\n",
    "NEST is distributed in the hope that it will be useful,\n",
    "but WITHOUT ANY WARRANTY; without even the implied warranty of\n",
    "MERCHANTABILITY or FITNESS FOR A PARTICULAR PURPOSE.  See the\n",
    "GNU General Public License for more details.\n",
    "\n",
    "You should have received a copy of the GNU General Public License\n",
    "along with NEST.  If not, see <http://www.gnu.org/licenses/>."
   ]
  },
  {
   "cell_type": "code",
   "execution_count": null,
   "id": "2fc283e6",
   "metadata": {},
   "outputs": [],
   "source": [
    "\"\"\"\n",
    "Spatial networks: 4x3 grid\n",
    "--------------------------\n",
    "\n",
    "Create a population of iaf_psc_alpha neurons on a 4x3 grid.\n",
    "\n",
    "BCCN Tutorial @ CNS*09\n",
    "Hans Ekkehard Plesser, UMB\n",
    "\"\"\""
   ]
  },
  {
   "cell_type": "code",
   "execution_count": null,
   "id": "71eb48b8",
   "metadata": {},
   "outputs": [],
   "source": [
    "import matplotlib.pyplot as plt\n",
    "import nest"
   ]
  },
  {
   "cell_type": "code",
   "execution_count": null,
   "id": "63407ccf",
   "metadata": {},
   "outputs": [],
   "source": [
    "nest.ResetKernel()"
   ]
  },
  {
   "cell_type": "code",
   "execution_count": null,
   "id": "35076b79",
   "metadata": {},
   "outputs": [],
   "source": [
    "l1 = nest.Create(\"iaf_psc_alpha\", positions=nest.spatial.grid(shape=[4, 3], extent=[2.0, 1.5]))"
   ]
  },
  {
   "cell_type": "code",
   "execution_count": null,
   "id": "12b694a6",
   "metadata": {},
   "outputs": [],
   "source": [
    "nest.PrintNodes()"
   ]
  },
  {
   "cell_type": "code",
   "execution_count": null,
   "id": "bcac5bed",
   "metadata": {},
   "outputs": [],
   "source": [
    "nest.PlotLayer(l1, nodesize=50)"
   ]
  },
  {
   "cell_type": "code",
   "execution_count": null,
   "id": "fbc61f42",
   "metadata": {},
   "outputs": [],
   "source": [
    "# beautify\n",
    "plt.axis([-1.0, 1.0, -0.75, 0.75])\n",
    "plt.axes().set_aspect(\"equal\", \"box\")\n",
    "plt.axes().set_xticks((-0.75, -0.25, 0.25, 0.75))\n",
    "plt.axes().set_yticks((-0.5, 0, 0.5))\n",
    "plt.grid(True)\n",
    "plt.xlabel(\"4 Columns, Extent: 1.5\")\n",
    "plt.ylabel(\"2 Rows, Extent: 1.0\")"
   ]
  },
  {
   "cell_type": "code",
   "execution_count": null,
   "id": "99548b0a",
   "metadata": {},
   "outputs": [],
   "source": [
    "plt.show()"
   ]
  },
  {
   "cell_type": "markdown",
   "id": "660b7e57",
   "metadata": {},
   "source": [
    "plt.savefig('grid_iaf.png')"
   ]
  }
 ],
 "metadata": {
  "jupytext": {
   "cell_metadata_filter": "-all",
   "encoding": "# -*- coding: utf-8 -*-",
   "main_language": "python",
   "notebook_metadata_filter": "-all"
  }
 },
 "nbformat": 4,
 "nbformat_minor": 5
}
