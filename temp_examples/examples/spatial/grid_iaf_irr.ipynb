{
 "cells": [
  {
   "cell_type": "markdown",
   "id": "b5465086",
   "metadata": {},
   "source": [
    "\n",
    "grid_iaf_irr.py\n",
    "\n",
    "This file is part of NEST.\n",
    "\n",
    "Copyright (C) 2004 The NEST Initiative\n",
    "\n",
    "NEST is free software: you can redistribute it and/or modify\n",
    "it under the terms of the GNU General Public License as published by\n",
    "the Free Software Foundation, either version 2 of the License, or\n",
    "(at your option) any later version.\n",
    "\n",
    "NEST is distributed in the hope that it will be useful,\n",
    "but WITHOUT ANY WARRANTY; without even the implied warranty of\n",
    "MERCHANTABILITY or FITNESS FOR A PARTICULAR PURPOSE.  See the\n",
    "GNU General Public License for more details.\n",
    "\n",
    "You should have received a copy of the GNU General Public License\n",
    "along with NEST.  If not, see <http://www.gnu.org/licenses/>."
   ]
  },
  {
   "cell_type": "code",
   "execution_count": null,
   "id": "93104cf7",
   "metadata": {},
   "outputs": [],
   "source": [
    "\"\"\"\n",
    "Spatial networks: Freely placed neurons\n",
    "---------------------------------------\n",
    "\n",
    "Create 12 freely placed iaf_psc_alpha neurons.\n",
    "\n",
    "BCCN Tutorial @ CNS*09\n",
    "Hans Ekkehard Plesser, UMB\n",
    "\"\"\""
   ]
  },
  {
   "cell_type": "code",
   "execution_count": null,
   "id": "deed9953",
   "metadata": {},
   "outputs": [],
   "source": [
    "import matplotlib.pyplot as plt\n",
    "import nest"
   ]
  },
  {
   "cell_type": "code",
   "execution_count": null,
   "id": "511f10f4",
   "metadata": {},
   "outputs": [],
   "source": [
    "nest.ResetKernel()"
   ]
  },
  {
   "cell_type": "code",
   "execution_count": null,
   "id": "b0f3f31c",
   "metadata": {},
   "outputs": [],
   "source": [
    "pos = nest.spatial.free([nest.random.uniform(-0.75, 0.75), nest.random.uniform(-0.5, 0.5)], extent=[2.0, 1.5])"
   ]
  },
  {
   "cell_type": "code",
   "execution_count": null,
   "id": "5723b7e7",
   "metadata": {},
   "outputs": [],
   "source": [
    "l1 = nest.Create(\"iaf_psc_alpha\", 12, positions=pos)"
   ]
  },
  {
   "cell_type": "code",
   "execution_count": null,
   "id": "8e5d9dd9",
   "metadata": {},
   "outputs": [],
   "source": [
    "nest.PrintNodes()"
   ]
  },
  {
   "cell_type": "code",
   "execution_count": null,
   "id": "f0899727",
   "metadata": {},
   "outputs": [],
   "source": [
    "nest.PlotLayer(l1, nodesize=50)"
   ]
  },
  {
   "cell_type": "code",
   "execution_count": null,
   "id": "43ba2b04",
   "metadata": {},
   "outputs": [],
   "source": [
    "# beautify\n",
    "plt.axis([-1.0, 1.0, -0.75, 0.75])\n",
    "plt.axes().set_aspect(\"equal\", \"box\")\n",
    "plt.axes().set_xticks((-0.75, -0.25, 0.25, 0.75))\n",
    "plt.axes().set_yticks((-0.5, 0, 0.5))\n",
    "plt.grid(True)\n",
    "plt.xlabel(\"Extent: 2.0\")\n",
    "plt.ylabel(\"Extent: 1.5\")"
   ]
  },
  {
   "cell_type": "code",
   "execution_count": null,
   "id": "d681fbc7",
   "metadata": {},
   "outputs": [],
   "source": [
    "plt.show()"
   ]
  },
  {
   "cell_type": "markdown",
   "id": "6e969791",
   "metadata": {},
   "source": [
    "plt.savefig('grid_iaf_irr.png')"
   ]
  }
 ],
 "metadata": {
  "jupytext": {
   "cell_metadata_filter": "-all",
   "encoding": "# -*- coding: utf-8 -*-"
  },
  "kernelspec": {
   "display_name": "EBRAINS-experimental",
   "language": "python",
   "name": "ebrains-experimental"
  }
 },
 "nbformat": 4,
 "nbformat_minor": 5
}
