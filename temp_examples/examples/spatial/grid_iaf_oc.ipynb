{
 "cells": [
  {
   "cell_type": "markdown",
   "id": "63605c4c",
   "metadata": {},
   "source": [
    "\n",
    "grid_iaf_oc.py\n",
    "\n",
    "This file is part of NEST.\n",
    "\n",
    "Copyright (C) 2004 The NEST Initiative\n",
    "\n",
    "NEST is free software: you can redistribute it and/or modify\n",
    "it under the terms of the GNU General Public License as published by\n",
    "the Free Software Foundation, either version 2 of the License, or\n",
    "(at your option) any later version.\n",
    "\n",
    "NEST is distributed in the hope that it will be useful,\n",
    "but WITHOUT ANY WARRANTY; without even the implied warranty of\n",
    "MERCHANTABILITY or FITNESS FOR A PARTICULAR PURPOSE.  See the\n",
    "GNU General Public License for more details.\n",
    "\n",
    "You should have received a copy of the GNU General Public License\n",
    "along with NEST.  If not, see <http://www.gnu.org/licenses/>."
   ]
  },
  {
   "cell_type": "code",
   "execution_count": null,
   "id": "8a30863c",
   "metadata": {},
   "outputs": [],
   "source": [
    "\"\"\"\n",
    "Spatial networks: 4x3 grid for three populations\n",
    "------------------------------------------------\n",
    "\n",
    "Create three populations of iaf_psc_alpha neurons on a 4x3 grid, each with different center.\n",
    "\n",
    "BCCN Tutorial @ CNS*09\n",
    "Hans Ekkehard Plesser, UMB\n",
    "\"\"\""
   ]
  },
  {
   "cell_type": "code",
   "execution_count": null,
   "id": "bd98c5e8",
   "metadata": {},
   "outputs": [],
   "source": [
    "import matplotlib.pyplot as plt\n",
    "import nest\n",
    "import numpy as np"
   ]
  },
  {
   "cell_type": "code",
   "execution_count": null,
   "id": "4196afaf",
   "metadata": {},
   "outputs": [],
   "source": [
    "for ctr in [(0.0, 0.0), (-2.0, 2.0), (0.5, 1.0)]:\n",
    "    plt.figure()\n",
    "    nest.ResetKernel()\n",
    "\n",
    "    l1 = nest.Create(\"iaf_psc_alpha\", positions=nest.spatial.grid(shape=[4, 3], extent=[2.0, 1.5], center=ctr))\n",
    "\n",
    "    nest.PlotLayer(l1, nodesize=50, fig=plt.gcf())\n",
    "\n",
    "    # beautify\n",
    "    plt.axis([-3, 3, -3, 3])\n",
    "    plt.axes().set_aspect(\"equal\", \"box\")\n",
    "    plt.axes().set_xticks(np.arange(-3.0, 3.1, 1.0))\n",
    "    plt.axes().set_yticks(np.arange(-3.0, 3.1, 1.0))\n",
    "    plt.grid(True)\n",
    "    plt.xlabel(f\"4 Columns, Extent: 1.5, Center: {ctr[0]:.1f}\")\n",
    "    plt.ylabel(f\"2 Rows, Extent: 1.0, Center: {ctr[1]:.1f}\")\n",
    "\n",
    "    plt.show()\n",
    "    # plt.savefig('grid_iaf_oc_{}_{}.png'.format(ctr[0], ctr[1]))"
   ]
  }
 ],
 "metadata": {
  "jupytext": {
   "cell_metadata_filter": "-all",
   "encoding": "# -*- coding: utf-8 -*-",
   "main_language": "python",
   "notebook_metadata_filter": "-all"
  }
 },
 "nbformat": 4,
 "nbformat_minor": 5
}
