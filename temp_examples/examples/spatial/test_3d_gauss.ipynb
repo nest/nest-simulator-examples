{
 "cells": [
  {
   "cell_type": "markdown",
   "id": "2718e98f",
   "metadata": {},
   "source": [
    "\n",
    "test_3d_gauss.py\n",
    "\n",
    "This file is part of NEST.\n",
    "\n",
    "Copyright (C) 2004 The NEST Initiative\n",
    "\n",
    "NEST is free software: you can redistribute it and/or modify\n",
    "it under the terms of the GNU General Public License as published by\n",
    "the Free Software Foundation, either version 2 of the License, or\n",
    "(at your option) any later version.\n",
    "\n",
    "NEST is distributed in the hope that it will be useful,\n",
    "but WITHOUT ANY WARRANTY; without even the implied warranty of\n",
    "MERCHANTABILITY or FITNESS FOR A PARTICULAR PURPOSE.  See the\n",
    "GNU General Public License for more details.\n",
    "\n",
    "You should have received a copy of the GNU General Public License\n",
    "along with NEST.  If not, see <http://www.gnu.org/licenses/>."
   ]
  },
  {
   "cell_type": "code",
   "execution_count": null,
   "id": "be4b1e59",
   "metadata": {},
   "outputs": [],
   "source": [
    "\"\"\"\n",
    "Spatial networks: A spatial network in 3D with Gaussian connection probabilities\n",
    "--------------------------------------------------------------------------------\n",
    "\n",
    "Hans Ekkehard Plesser, UMB\n",
    "\"\"\""
   ]
  },
  {
   "cell_type": "code",
   "execution_count": null,
   "id": "7ab5b1ec",
   "metadata": {},
   "outputs": [],
   "source": [
    "import matplotlib.pyplot as plt\n",
    "import nest"
   ]
  },
  {
   "cell_type": "code",
   "execution_count": null,
   "id": "cc88d6da",
   "metadata": {},
   "outputs": [],
   "source": [
    "nest.ResetKernel()"
   ]
  },
  {
   "cell_type": "code",
   "execution_count": null,
   "id": "087b64b7",
   "metadata": {},
   "outputs": [],
   "source": [
    "pos = nest.spatial.free(nest.random.uniform(-0.5, 0.5), extent=[1.5, 1.5, 1.5])"
   ]
  },
  {
   "cell_type": "code",
   "execution_count": null,
   "id": "f3b68882",
   "metadata": {},
   "outputs": [],
   "source": [
    "l1 = nest.Create(\"iaf_psc_alpha\", 1000, positions=pos)"
   ]
  },
  {
   "cell_type": "markdown",
   "id": "0cb76cbe",
   "metadata": {},
   "source": [
    "visualize"
   ]
  },
  {
   "cell_type": "code",
   "execution_count": null,
   "id": "13d16b84",
   "metadata": {},
   "outputs": [],
   "source": [
    "# extract position information, transpose to list of x, y and z positions\n",
    "xpos, ypos, zpos = zip(*nest.GetPosition(l1))\n",
    "fig = plt.figure()\n",
    "ax = fig.add_subplot(111, projection=\"3d\")\n",
    "ax.scatter(xpos, ypos, zpos, s=15, facecolor=\"b\")"
   ]
  },
  {
   "cell_type": "code",
   "execution_count": null,
   "id": "81eff6ac",
   "metadata": {},
   "outputs": [],
   "source": [
    "# Gaussian connections in full box volume [-0.75,0.75]**3\n",
    "nest.Connect(\n",
    "    l1,\n",
    "    l1,\n",
    "    {\n",
    "        \"rule\": \"pairwise_bernoulli\",\n",
    "        \"p\": nest.spatial_distributions.gaussian(nest.spatial.distance, std=0.25),\n",
    "        \"allow_autapses\": False,\n",
    "        \"mask\": {\"box\": {\"lower_left\": [-0.75, -0.75, -0.75], \"upper_right\": [0.75, 0.75, 0.75]}},\n",
    "    },\n",
    ")"
   ]
  },
  {
   "cell_type": "code",
   "execution_count": null,
   "id": "916a4bc0",
   "metadata": {},
   "outputs": [],
   "source": [
    "# show connections from center element\n",
    "# sender shown in red, targets in green\n",
    "ctr = nest.FindCenterElement(l1)\n",
    "xtgt, ytgt, ztgt = zip(*nest.GetTargetPositions(ctr, l1)[0])\n",
    "xctr, yctr, zctr = nest.GetPosition(ctr)\n",
    "ax.scatter([xctr], [yctr], [zctr], s=40, facecolor=\"r\")\n",
    "ax.scatter(xtgt, ytgt, ztgt, s=40, facecolor=\"g\", edgecolor=\"g\")"
   ]
  },
  {
   "cell_type": "code",
   "execution_count": null,
   "id": "8f19b8e7",
   "metadata": {},
   "outputs": [],
   "source": [
    "tgts = nest.GetTargetNodes(ctr, l1)[0]\n",
    "distances = nest.Distance(ctr, l1)\n",
    "tgt_distances = [d for i, d in enumerate(distances) if i + 1 in tgts]"
   ]
  },
  {
   "cell_type": "code",
   "execution_count": null,
   "id": "2a8a433e",
   "metadata": {},
   "outputs": [],
   "source": [
    "plt.figure()\n",
    "plt.hist(tgt_distances, 25)\n",
    "plt.show()"
   ]
  }
 ],
 "metadata": {
  "jupytext": {
   "cell_metadata_filter": "-all",
   "encoding": "# -*- coding: utf-8 -*-"
  },
  "kernelspec": {
   "display_name": "EBRAINS-experimental",
   "language": "python",
   "name": "ebrains-experimental"
  }
 },
 "nbformat": 4,
 "nbformat_minor": 5
}
