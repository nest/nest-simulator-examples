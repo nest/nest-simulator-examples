{
 "cells": [
  {
   "cell_type": "markdown",
   "id": "c3dfbd94",
   "metadata": {},
   "source": [
    "\n",
    "sudoku_solver.py\n",
    "\n",
    "This file is part of NEST.\n",
    "\n",
    "Copyright (C) 2004 The NEST Initiative\n",
    "\n",
    "NEST is free software: you can redistribute it and/or modify\n",
    "it under the terms of the GNU General Public License as published by\n",
    "the Free Software Foundation, either version 2 of the License, or\n",
    "(at your option) any later version.\n",
    "\n",
    "NEST is distributed in the hope that it will be useful,\n",
    "but WITHOUT ANY WARRANTY; without even the implied warranty of\n",
    "MERCHANTABILITY or FITNESS FOR A PARTICULAR PURPOSE.  See the\n",
    "GNU General Public License for more details.\n",
    "\n",
    "You should have received a copy of the GNU General Public License\n",
    "along with NEST.  If not, see <http://www.gnu.org/licenses/>."
   ]
  },
  {
   "cell_type": "code",
   "execution_count": null,
   "id": "e7edd1e0",
   "metadata": {},
   "outputs": [],
   "source": [
    "r\"\"\"Script controlling the simulation of a single game of Sudoku\n",
    "----------------------------------------------------------------\n",
    "\n",
    "This script instantiates a network and configures it to solve\n",
    "a Sudoku puzzle. It then simulates the network until it either\n",
    "converges on a solution or a maximum simulation time has been\n",
    "reached.\n",
    "\n",
    "The output shows the solved Sudoku puzzle in black and white if\n",
    "the network converges within the specified timeframe. If it does\n",
    "not, the output indicates which of the rows, columns and boxes\n",
    "are invalid by highlighting them in red.\n",
    "\n",
    "Credit to the original SpiNNaker implementation of the network used here goes\n",
    "to Steve Furber and Andrew Rowley from the University of Manchester.\n",
    "\n",
    "See Also\n",
    "~~~~~~~~\n",
    "`Original implementation of this Network on SpiNNaker\n",
    "<https://github.com/SpiNNakerManchester/IntroLab/tree/master/sudoku>`_\n",
    "\n",
    ":doc:`Network class <sudoku_net>`\n",
    "\n",
    ":doc:`Script for generating output gifs <plot_progress>`\n",
    "\n",
    ":doc:`Helper functions <helpers_sudoku>`\n",
    "\n",
    "Notes\n",
    "~~~~~\n",
    "Terminology used in variable names and documentation:\n",
    "cell:       One of the 81 squares that make up the sudoku field\n",
    "box:        One of the 9 collections of 3x3 cells necessary to solve a Sudoku\n",
    "digit:      Number between 1 and 9\n",
    "population: Collection of neurons coding for a single digit in a cell\n",
    "\n",
    ":Authors: J Gille, S Furber, A Rowley\n",
    "\"\"\"\n",
    "import logging\n",
    "import pickle"
   ]
  },
  {
   "cell_type": "code",
   "execution_count": null,
   "id": "4b06e1cd",
   "metadata": {},
   "outputs": [],
   "source": [
    "import matplotlib.pyplot as plt\n",
    "import nest\n",
    "import numpy as np\n",
    "import sudoku_net\n",
    "from helpers_sudoku import get_puzzle, plot_field, validate_solution"
   ]
  },
  {
   "cell_type": "code",
   "execution_count": null,
   "id": "3f5e9990",
   "metadata": {},
   "outputs": [],
   "source": [
    "nest.SetKernelStatus({\"local_num_threads\": 8})\n",
    "nest.set_verbosity(\"M_WARNING\")\n",
    "logging.basicConfig(level=logging.INFO)"
   ]
  },
  {
   "cell_type": "code",
   "execution_count": null,
   "id": "a4d26c14",
   "metadata": {},
   "outputs": [],
   "source": [
    "puzzle_index = 4\n",
    "noise_rate = 350\n",
    "sim_time = 100\n",
    "max_sim_time = 10000\n",
    "max_iterations = max_sim_time // sim_time"
   ]
  },
  {
   "cell_type": "code",
   "execution_count": null,
   "id": "1d9a1026",
   "metadata": {},
   "outputs": [],
   "source": [
    "puzzle = get_puzzle(puzzle_index)\n",
    "network = sudoku_net.SudokuNet(pop_size=5, input=puzzle, noise_rate=noise_rate)"
   ]
  },
  {
   "cell_type": "code",
   "execution_count": null,
   "id": "92d8987c",
   "metadata": {},
   "outputs": [],
   "source": [
    "solution_states = np.zeros((max_iterations, 9, 9), dtype=int)"
   ]
  },
  {
   "cell_type": "code",
   "execution_count": null,
   "id": "11fae308",
   "metadata": {},
   "outputs": [],
   "source": [
    "run = 0\n",
    "valid = False"
   ]
  },
  {
   "cell_type": "code",
   "execution_count": null,
   "id": "f43923ad",
   "metadata": {},
   "outputs": [],
   "source": [
    "while not valid:\n",
    "    network.reset_spike_recorders()\n",
    "    nest.Simulate(sim_time)\n",
    "\n",
    "    spiketrains = network.get_spike_trains()\n",
    "    solution = np.zeros((9, 9), dtype=np.uint8)\n",
    "\n",
    "    for row in range(9):\n",
    "        for col in range(9):\n",
    "            # obtain indices of the spike recorders coding for digits in\n",
    "            # the current cell\n",
    "            spike_recorders = network.io_indices[row, col]\n",
    "\n",
    "            # spiketrains for all digits in the current cells\n",
    "            cell_spikes = spiketrains[spike_recorders]\n",
    "            spike_counts = np.array([len(s[\"times\"]) for s in cell_spikes])\n",
    "\n",
    "            # if two digits have the same activation, pick one at random\n",
    "            winning_digit = int(np.random.choice(np.flatnonzero(spike_counts == spike_counts.max()))) + 1\n",
    "            solution[row, col] = winning_digit\n",
    "\n",
    "    solution_states[run] = solution\n",
    "    valid, cells, rows, cols = validate_solution(puzzle, solution)\n",
    "\n",
    "    if not valid:\n",
    "        ratio_correct = (np.sum(cells) + np.sum(rows) + np.sum(cols)) / 27\n",
    "        logging.info(f\"{run*sim_time}ms, performance: \" f\"{np.round(ratio_correct, 3)}\")\n",
    "    else:\n",
    "        logging.info(f\"{run*sim_time}ms, valid solution found.\")\n",
    "        break\n",
    "\n",
    "    run += 1\n",
    "    if run >= max_iterations:\n",
    "        logging.info(f\"no solution found after {run*sim_time}ms, aborting.\")\n",
    "        break"
   ]
  },
  {
   "cell_type": "code",
   "execution_count": null,
   "id": "5e475af6",
   "metadata": {},
   "outputs": [],
   "source": [
    "img_name = \"sudoku_solution.png\"\n",
    "logging.info(f\"storing final state to: {img_name}...\")\n",
    "fig, ax = plt.subplots()\n",
    "plot_field(puzzle, solution, ax, True)\n",
    "plt.show()\n",
    "plt.savefig(img_name)"
   ]
  },
  {
   "cell_type": "code",
   "execution_count": null,
   "id": "cda2363a",
   "metadata": {},
   "outputs": [],
   "source": [
    "out_name = f\"{noise_rate}Hz_puzzle_{puzzle_index}.pkl\"\n",
    "logging.info(f\"storing simulation data to {out_name}...\")\n",
    "output = {}\n",
    "output[\"noise_rate\"] = noise_rate\n",
    "output[\"sim_time\"] = sim_time\n",
    "output[\"max_sim_time\"] = max_sim_time\n",
    "output[\"solution_states\"] = solution_states[: run + 1]\n",
    "output[\"puzzle\"] = puzzle"
   ]
  },
  {
   "cell_type": "code",
   "execution_count": null,
   "id": "48b8db58",
   "metadata": {},
   "outputs": [],
   "source": [
    "with open(out_name, \"wb\") as f:\n",
    "    pickle.dump(output, f)"
   ]
  },
  {
   "cell_type": "code",
   "execution_count": null,
   "id": "227116ab",
   "metadata": {},
   "outputs": [],
   "source": [
    "print(\"done.\")"
   ]
  }
 ],
 "metadata": {
  "jupytext": {
   "cell_metadata_filter": "-all",
   "encoding": "# -*- coding: utf-8 -*-"
  },
  "kernelspec": {
   "display_name": "EBRAINS-experimental",
   "language": "python",
   "name": "ebrains-experimental"
  }
 },
 "nbformat": 4,
 "nbformat_minor": 5
}
