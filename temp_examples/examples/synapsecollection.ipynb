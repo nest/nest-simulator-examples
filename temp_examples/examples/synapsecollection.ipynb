{
 "cells": [
  {
   "cell_type": "code",
   "execution_count": null,
   "id": "033ab913",
   "metadata": {},
   "outputs": [],
   "source": [
    "%matplotlib inline"
   ]
  },
  {
   "cell_type": "code",
   "execution_count": null,
   "id": "ae962c11",
   "metadata": {},
   "outputs": [],
   "source": [
    "#\n",
    "# synapsecollection.py\n",
    "#\n",
    "# This file is part of NEST.\n",
    "#\n",
    "# Copyright (C) 2004 The NEST Initiative\n",
    "#\n",
    "# NEST is free software: you can redistribute it and/or modify\n",
    "# it under the terms of the GNU General Public License as published by\n",
    "# the Free Software Foundation, either version 2 of the License, or\n",
    "# (at your option) any later version.\n",
    "#\n",
    "# NEST is distributed in the hope that it will be useful,\n",
    "# but WITHOUT ANY WARRANTY; without even the implied warranty of\n",
    "# MERCHANTABILITY or FITNESS FOR A PARTICULAR PURPOSE.  See the\n",
    "# GNU General Public License for more details.\n",
    "#\n",
    "# You should have received a copy of the GNU General Public License\n",
    "# along with NEST.  If not, see <http://www.gnu.org/licenses/>."
   ]
  },
  {
   "cell_type": "markdown",
   "id": "e3691a0f",
   "metadata": {
    "cell_marker": "\"\"\""
   },
   "source": [
    "Synapse Collection usage example\n",
    "--------------------------------\n",
    "\n",
    "Example script to show some of the possibilities of the SynapseCollection class. We\n",
    "connect neurons, and get the SynapseCollection with a GetConnections call. To get\n",
    "a better understanding of the connections, we plot the weights between the\n",
    "source and targets."
   ]
  },
  {
   "cell_type": "code",
   "execution_count": null,
   "id": "5be2192c",
   "metadata": {
    "lines_to_next_cell": 1
   },
   "outputs": [],
   "source": [
    "import matplotlib.pyplot as plt\n",
    "import nest\n",
    "import numpy as np\n",
    "\n",
    "\n",
    "def makeMatrix(sources, targets, weights):\n",
    "    \"\"\"\n",
    "    Returns a matrix with the weights between the source and target node_ids.\n",
    "    \"\"\"\n",
    "    aa = np.zeros((max(sources) + 1, max(targets) + 1))\n",
    "\n",
    "    for src, trg, wght in zip(sources, targets, weights):\n",
    "        aa[src, trg] += wght\n",
    "\n",
    "    return aa\n",
    "\n",
    "\n",
    "def plotMatrix(srcs, tgts, weights, title, pos):\n",
    "    \"\"\"\n",
    "    Plots weight matrix.\n",
    "    \"\"\"\n",
    "    plt.subplot(pos)\n",
    "    plt.matshow(makeMatrix(srcs, tgts, weights), fignum=False)\n",
    "    plt.xlim([min(tgts) - 0.5, max(tgts) + 0.5])\n",
    "    plt.xlabel(\"target\")\n",
    "    plt.ylim([max(srcs) + 0.5, min(srcs) - 0.5])\n",
    "    plt.ylabel(\"source\")\n",
    "    plt.title(title)\n",
    "    plt.colorbar(fraction=0.046, pad=0.04)\n"
   ]
  },
  {
   "cell_type": "markdown",
   "id": "0a1d3d12",
   "metadata": {
    "cell_marker": "#################################################################################"
   },
   "source": [
    "Start with a simple, one_to_one example.\n",
    "We create the neurons, connect them, and get the connections. From this we can\n",
    "get the connected sources, targets, and weights. The corresponding matrix will\n",
    "be the identity matrix, as we have a one_to_one connection."
   ]
  },
  {
   "cell_type": "code",
   "execution_count": null,
   "id": "fb509f50",
   "metadata": {},
   "outputs": [],
   "source": [
    "nest.ResetKernel()\n",
    "\n",
    "nrns = nest.Create(\"iaf_psc_alpha\", 10)\n",
    "\n",
    "nest.Connect(nrns, nrns, \"one_to_one\")\n",
    "conns = nest.GetConnections(nrns, nrns)  # This returns a SynapseCollection"
   ]
  },
  {
   "cell_type": "markdown",
   "id": "a3043cbf",
   "metadata": {
    "cell_marker": "#################################################################################"
   },
   "source": [
    "We can get desired information of the SynapseCollection with simple get() call."
   ]
  },
  {
   "cell_type": "code",
   "execution_count": null,
   "id": "5ec1e408",
   "metadata": {},
   "outputs": [],
   "source": [
    "g = conns.get([\"source\", \"target\", \"weight\"])\n",
    "srcs = g[\"source\"]\n",
    "tgts = g[\"target\"]\n",
    "weights = g[\"weight\"]"
   ]
  },
  {
   "cell_type": "markdown",
   "id": "46881c6d",
   "metadata": {
    "cell_marker": "#################################################################################"
   },
   "source": [
    "Plot the matrix consisting of the weights between the sources and targets"
   ]
  },
  {
   "cell_type": "code",
   "execution_count": null,
   "id": "263dc61f",
   "metadata": {},
   "outputs": [],
   "source": [
    "plt.figure(figsize=(12, 10))\n",
    "plotMatrix(srcs, tgts, weights, \"Uniform weight\", 121)"
   ]
  },
  {
   "cell_type": "markdown",
   "id": "a330b32b",
   "metadata": {
    "cell_marker": "#################################################################################"
   },
   "source": [
    "Add some weights to the connections, and plot the updated weight matrix."
   ]
  },
  {
   "cell_type": "markdown",
   "id": "242edd82",
   "metadata": {
    "cell_marker": "#################################################################################"
   },
   "source": [
    "We can set data of the connections with a simple set() call."
   ]
  },
  {
   "cell_type": "code",
   "execution_count": null,
   "id": "d1aec353",
   "metadata": {},
   "outputs": [],
   "source": [
    "w = [{\"weight\": x * 1.0} for x in range(1, 11)]\n",
    "conns.set(w)\n",
    "weights = conns.weight\n",
    "\n",
    "plotMatrix(srcs, tgts, weights, \"Set weight\", 122)"
   ]
  },
  {
   "cell_type": "markdown",
   "id": "800154bb",
   "metadata": {
    "cell_marker": "#################################################################################"
   },
   "source": [
    "We can also plot an all_to_all connection, with uniformly distributed weights,\n",
    "and different number of sources and targets."
   ]
  },
  {
   "cell_type": "code",
   "execution_count": null,
   "id": "8fff652c",
   "metadata": {},
   "outputs": [],
   "source": [
    "nest.ResetKernel()\n",
    "\n",
    "pre = nest.Create(\"iaf_psc_alpha\", 10)\n",
    "post = nest.Create(\"iaf_psc_delta\", 5)\n",
    "nest.Connect(pre, post, syn_spec={\"weight\": nest.random.uniform(min=0.5, max=4.5)})"
   ]
  },
  {
   "cell_type": "markdown",
   "id": "bd52d86e",
   "metadata": {
    "cell_marker": "#################################################################################"
   },
   "source": [
    "Get a SynapseCollection with all connections"
   ]
  },
  {
   "cell_type": "code",
   "execution_count": null,
   "id": "18049003",
   "metadata": {},
   "outputs": [],
   "source": [
    "conns = nest.GetConnections()\n",
    "srcs = conns.source\n",
    "tgts = conns.target\n",
    "weights = conns.weight\n",
    "\n",
    "plt.figure(figsize=(12, 10))\n",
    "plotMatrix(srcs, tgts, weights, \"All to all connection\", 111)"
   ]
  },
  {
   "cell_type": "markdown",
   "id": "fc99ee6d",
   "metadata": {
    "cell_marker": "#################################################################################"
   },
   "source": [
    "Lastly, we'll do an exmple that is a bit more complex. We connect different\n",
    "neurons with different rules, synapse models and weight distributions, and get\n",
    "different SynapseCollections by calling GetConnections with different inputs."
   ]
  },
  {
   "cell_type": "code",
   "execution_count": null,
   "id": "aed4987d",
   "metadata": {},
   "outputs": [],
   "source": [
    "nest.ResetKernel()\n",
    "\n",
    "nrns = nest.Create(\"iaf_psc_alpha\", 15)\n",
    "nest.Connect(\n",
    "    nrns[:5], nrns[:5], \"one_to_one\", {\"synapse_model\": \"stdp_synapse\", \"weight\": nest.random.normal(mean=5.0, std=2.0)}\n",
    ")\n",
    "nest.Connect(nrns[:10], nrns[5:12], {\"rule\": \"pairwise_bernoulli\", \"p\": 0.4}, {\"weight\": 4.0})\n",
    "nest.Connect(nrns[5:10], nrns[:5], {\"rule\": \"fixed_total_number\", \"N\": 5}, {\"weight\": 3.0})\n",
    "nest.Connect(\n",
    "    nrns[10:],\n",
    "    nrns[:12],\n",
    "    \"all_to_all\",\n",
    "    {\"synapse_model\": \"stdp_synapse\", \"weight\": nest.random.uniform(min=1.0, max=5.0)},\n",
    ")\n",
    "nest.Connect(nrns, nrns[12:], {\"rule\": \"fixed_indegree\", \"indegree\": 3})"
   ]
  },
  {
   "cell_type": "markdown",
   "id": "ae954c9b",
   "metadata": {
    "cell_marker": "#################################################################################"
   },
   "source": [
    "First get a SynapseCollection consisting of all the connections"
   ]
  },
  {
   "cell_type": "code",
   "execution_count": null,
   "id": "2897886f",
   "metadata": {},
   "outputs": [],
   "source": [
    "conns = nest.GetConnections()\n",
    "srcs = conns.source\n",
    "tgts = conns.target\n",
    "weights = conns.weight\n",
    "\n",
    "plt.figure(figsize=(14, 12))\n",
    "plotMatrix(list(srcs), list(tgts), weights, \"All connections\", 221)"
   ]
  },
  {
   "cell_type": "markdown",
   "id": "ce760856",
   "metadata": {
    "cell_marker": "#################################################################################"
   },
   "source": [
    "Get SynapseCollection consisting of a subset of connections"
   ]
  },
  {
   "cell_type": "code",
   "execution_count": null,
   "id": "b1b8c2ce",
   "metadata": {},
   "outputs": [],
   "source": [
    "conns = nest.GetConnections(nrns[:10], nrns[:10])\n",
    "g = conns.get([\"source\", \"target\", \"weight\"])\n",
    "srcs = g[\"source\"]\n",
    "tgts = g[\"target\"]\n",
    "weights = g[\"weight\"]\n",
    "\n",
    "plotMatrix(srcs, tgts, weights, \"Connections of the first ten neurons\", 222)"
   ]
  },
  {
   "cell_type": "markdown",
   "id": "3cb39024",
   "metadata": {
    "cell_marker": "#################################################################################"
   },
   "source": [
    "Get SynapseCollection consisting of just the stdp_synapses"
   ]
  },
  {
   "cell_type": "code",
   "execution_count": null,
   "id": "6d3e85d2",
   "metadata": {},
   "outputs": [],
   "source": [
    "conns = nest.GetConnections(synapse_model=\"stdp_synapse\")\n",
    "g = conns.get([\"source\", \"target\", \"weight\"])\n",
    "srcs = g[\"source\"]\n",
    "tgts = g[\"target\"]\n",
    "weights = g[\"weight\"]\n",
    "\n",
    "plotMatrix(srcs, tgts, weights, \"Connections with stdp_synapse\", 223)"
   ]
  },
  {
   "cell_type": "markdown",
   "id": "fa903987",
   "metadata": {
    "cell_marker": "#################################################################################"
   },
   "source": [
    "Get SynapseCollection consisting of the fixed_total_number connections, but set\n",
    "weight before plotting"
   ]
  },
  {
   "cell_type": "code",
   "execution_count": null,
   "id": "a79d1bd1",
   "metadata": {},
   "outputs": [],
   "source": [
    "conns = nest.GetConnections(nrns[5:10], nrns[:5])\n",
    "w = [{\"weight\": x * 1.0} for x in range(1, 6)]\n",
    "conns.set(w)\n",
    "g = conns.get([\"source\", \"target\", \"weight\"])\n",
    "srcs = g[\"source\"]\n",
    "tgts = g[\"target\"]\n",
    "weights = g[\"weight\"]\n",
    "\n",
    "plotMatrix(srcs, tgts, weights, \"fixed_total_number, set weight\", 224)\n",
    "\n",
    "\n",
    "plt.show()"
   ]
  }
 ],
 "metadata": {
  "jupytext": {
   "cell_metadata_filter": "-all",
   "encoding": "# -*- coding: utf-8 -*-",
   "main_language": "python",
   "notebook_metadata_filter": "-all"
  }
 },
 "nbformat": 4,
 "nbformat_minor": 5
}
