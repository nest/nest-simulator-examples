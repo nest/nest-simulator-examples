{
 "cells": [
  {
   "cell_type": "code",
   "execution_count": null,
   "id": "923e8b8f",
   "metadata": {},
   "outputs": [],
   "source": [
    "%matplotlib inline"
   ]
  },
  {
   "cell_type": "code",
   "execution_count": null,
   "id": "de978b86",
   "metadata": {},
   "outputs": [],
   "source": [
    "#\n",
    "# testiaf.py\n",
    "#\n",
    "# This file is part of NEST.\n",
    "#\n",
    "# Copyright (C) 2004 The NEST Initiative\n",
    "#\n",
    "# NEST is free software: you can redistribute it and/or modify\n",
    "# it under the terms of the GNU General Public License as published by\n",
    "# the Free Software Foundation, either version 2 of the License, or\n",
    "# (at your option) any later version.\n",
    "#\n",
    "# NEST is distributed in the hope that it will be useful,\n",
    "# but WITHOUT ANY WARRANTY; without even the implied warranty of\n",
    "# MERCHANTABILITY or FITNESS FOR A PARTICULAR PURPOSE.  See the\n",
    "# GNU General Public License for more details.\n",
    "#\n",
    "# You should have received a copy of the GNU General Public License\n",
    "# along with NEST.  If not, see <http://www.gnu.org/licenses/>."
   ]
  },
  {
   "cell_type": "markdown",
   "id": "ae15f34e",
   "metadata": {
    "cell_marker": "\"\"\""
   },
   "source": [
    "IAF neuron example with current generator\n",
    "-----------------------------------------\n",
    "\n",
    "A DC current is injected into the neuron using a current generator\n",
    "device. The membrane potential as well as the spiking activity are\n",
    "recorded by corresponding devices.\n",
    "\n",
    "It can be observed how the current charges the membrane, a spike\n",
    "is emitted, the neuron becomes absolute refractory, and finally\n",
    "starts to recover.\n"
   ]
  },
  {
   "cell_type": "markdown",
   "id": "e0b829b5",
   "metadata": {},
   "source": [
    "First, we import all necessary modules for simulation and plotting"
   ]
  },
  {
   "cell_type": "code",
   "execution_count": null,
   "id": "b21bc0bc",
   "metadata": {},
   "outputs": [],
   "source": [
    "import matplotlib.pyplot as plt\n",
    "import nest"
   ]
  },
  {
   "cell_type": "markdown",
   "id": "ececf84d",
   "metadata": {},
   "source": [
    "Second the function ``build_network`` is defined to build the network and\n",
    "return the handles of the ``spike_recorder`` and the ``voltmeter``. The\n",
    "function takes the simulation resolution as argument\n",
    "\n",
    "The function first resets the simulation kernel and sets the number of\n",
    "threads and the simulation resolution.  The ``iaf_psc_alpha`` neuron is\n",
    "created and the handle is stored in the variable `neuron`. The status of\n",
    "the neuron is changed so it receives an external current. Next a\n",
    "``voltmeter`` and a ``spike_recorder`` are created and their handles stored\n",
    "in the variables `vm` and `sr` respectively.\n",
    "\n",
    "The voltmeter and spike recorder are then connected to the neuron. ``Connect``\n",
    "takes the device and neuron handles as input. The voltmeter is connected to the\n",
    "neuron and the neuron to the spike recorder because the neuron sends spikes\n",
    "to the recorder and the voltmeter 'observes' the neuron."
   ]
  },
  {
   "cell_type": "code",
   "execution_count": null,
   "id": "a05da9b4",
   "metadata": {
    "lines_to_next_cell": 1
   },
   "outputs": [],
   "source": [
    "\n",
    "def build_network(dt):\n",
    "    nest.ResetKernel()\n",
    "    nest.local_num_threads = 1\n",
    "    nest.resolution = dt\n",
    "\n",
    "    neuron = nest.Create(\"iaf_psc_alpha\")\n",
    "    neuron.I_e = 376.0\n",
    "\n",
    "    vm = nest.Create(\"voltmeter\")\n",
    "    sr = nest.Create(\"spike_recorder\")\n",
    "\n",
    "    nest.Connect(vm, neuron)\n",
    "    nest.Connect(neuron, sr)\n",
    "\n",
    "    return vm, sr\n"
   ]
  },
  {
   "cell_type": "markdown",
   "id": "b039b307",
   "metadata": {},
   "source": [
    "The neuron is simulated for three different resolutions and then the\n",
    "voltage trace is plotted"
   ]
  },
  {
   "cell_type": "code",
   "execution_count": null,
   "id": "8819a9a9",
   "metadata": {},
   "outputs": [],
   "source": [
    "for dt in [0.1, 0.5, 1.0]:\n",
    "    print(f\"Running simulation with dt={dt:.2f}\")\n",
    "    vm, sr = build_network(dt)\n",
    "\n",
    "    nest.Simulate(1000.0)\n",
    "\n",
    "    ###########################################################################\n",
    "    # The network is simulated using ``Simulate``, which takes the desired\n",
    "    # simulation time in milliseconds and advances the network state by this\n",
    "    # amount of time. During simulation, the ``spike_recorder`` counts the\n",
    "    # spikes of the target neuron and the total number is read out at the\n",
    "    # end of the simulation period.\n",
    "    #\n",
    "    # The values of the voltage recorded by the voltmeter are read out and\n",
    "    # the values for the membrane potential are stored in potential and the\n",
    "    # corresponding times in the times array\n",
    "\n",
    "    potentials = vm.get(\"events\", \"V_m\")\n",
    "    times = vm.get(\"events\", \"times\")\n",
    "\n",
    "    ###########################################################################\n",
    "    # Using the matplotlib library the voltage trace is plotted over time\n",
    "\n",
    "    plt.plot(times, potentials, label=f\"dt={dt:.2f}\")\n",
    "    print(f\"  Number of spikes: {sr.n_events}\")\n",
    "\n",
    "    ###########################################################################\n",
    "    # Finally the axis are labelled and a legend is generated\n",
    "\n",
    "    plt.legend(loc=3)\n",
    "    plt.xlabel(\"time (ms)\")\n",
    "    plt.ylabel(\"V_m (mV)\")\n",
    "\n",
    "plt.show()"
   ]
  }
 ],
 "metadata": {
  "jupytext": {
   "cell_metadata_filter": "-all",
   "encoding": "# -*- coding: utf-8 -*-"
  },
  "kernelspec": {
   "display_name": "EBRAINS-experimental",
   "language": "python",
   "name": "ebrains-experimental"
  }
 },
 "nbformat": 4,
 "nbformat_minor": 5
}
