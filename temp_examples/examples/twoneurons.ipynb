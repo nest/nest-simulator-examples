{
 "cells": [
  {
   "cell_type": "code",
   "execution_count": null,
   "id": "9446af0f",
   "metadata": {},
   "outputs": [],
   "source": [
    "%matplotlib inline"
   ]
  },
  {
   "cell_type": "code",
   "execution_count": null,
   "id": "ccc6f360",
   "metadata": {},
   "outputs": [],
   "source": [
    "#\n",
    "# twoneurons.py\n",
    "#\n",
    "# This file is part of NEST.\n",
    "#\n",
    "# Copyright (C) 2004 The NEST Initiative\n",
    "#\n",
    "# NEST is free software: you can redistribute it and/or modify\n",
    "# it under the terms of the GNU General Public License as published by\n",
    "# the Free Software Foundation, either version 2 of the License, or\n",
    "# (at your option) any later version.\n",
    "#\n",
    "# NEST is distributed in the hope that it will be useful,\n",
    "# but WITHOUT ANY WARRANTY; without even the implied warranty of\n",
    "# MERCHANTABILITY or FITNESS FOR A PARTICULAR PURPOSE.  See the\n",
    "# GNU General Public License for more details.\n",
    "#\n",
    "# You should have received a copy of the GNU General Public License\n",
    "# along with NEST.  If not, see <http://www.gnu.org/licenses/>."
   ]
  },
  {
   "cell_type": "markdown",
   "id": "210ca7bb",
   "metadata": {
    "cell_marker": "\"\"\""
   },
   "source": [
    "Two neuron example\n",
    "------------------\n",
    "\n",
    "This script simulates two connected pre- and postsynaptic neurons.\n",
    "The presynaptic neuron receives a constant external current,\n",
    "and the membrane potential of both neurons are recorded.\n",
    "\n",
    "See Also\n",
    "~~~~~~~~\n",
    "\n",
    ":doc:`one_neuron`\n"
   ]
  },
  {
   "cell_type": "markdown",
   "id": "9e20cd1d",
   "metadata": {},
   "source": [
    "First, we import all necessary modules for simulation, analysis and plotting.\n",
    "Additionally, we set the verbosity to suppress info messages and reset\n",
    "the kernel."
   ]
  },
  {
   "cell_type": "code",
   "execution_count": null,
   "id": "4ec07dc9",
   "metadata": {},
   "outputs": [],
   "source": [
    "import matplotlib.pyplot as plt\n",
    "import nest\n",
    "import nest.voltage_trace\n",
    "\n",
    "nest.set_verbosity(\"M_WARNING\")\n",
    "nest.ResetKernel()"
   ]
  },
  {
   "cell_type": "markdown",
   "id": "38e2b91c",
   "metadata": {},
   "source": [
    "Second, we create the two neurons and the recording device."
   ]
  },
  {
   "cell_type": "code",
   "execution_count": null,
   "id": "37d9d5db",
   "metadata": {},
   "outputs": [],
   "source": [
    "neuron_1 = nest.Create(\"iaf_psc_alpha\")\n",
    "neuron_2 = nest.Create(\"iaf_psc_alpha\")\n",
    "voltmeter = nest.Create(\"voltmeter\")"
   ]
  },
  {
   "cell_type": "markdown",
   "id": "1a0e99f9",
   "metadata": {},
   "source": [
    "Third, we set the external current of neuron 1."
   ]
  },
  {
   "cell_type": "code",
   "execution_count": null,
   "id": "1935572b",
   "metadata": {},
   "outputs": [],
   "source": [
    "neuron_1.I_e = 376.0"
   ]
  },
  {
   "cell_type": "markdown",
   "id": "36cab621",
   "metadata": {},
   "source": [
    "Fourth, we connect neuron 1 to neuron 2.\n",
    "Then, we connect a voltmeter to the two neurons.\n",
    "To learn more about the previous steps, please check out the\n",
    ":doc:`one neuron example <one_neuron>`."
   ]
  },
  {
   "cell_type": "code",
   "execution_count": null,
   "id": "d950a6f1",
   "metadata": {},
   "outputs": [],
   "source": [
    "weight = 20.0\n",
    "delay = 1.0\n",
    "\n",
    "nest.Connect(neuron_1, neuron_2, syn_spec={\"weight\": weight, \"delay\": delay})\n",
    "nest.Connect(voltmeter, neuron_1)\n",
    "nest.Connect(voltmeter, neuron_2)"
   ]
  },
  {
   "cell_type": "markdown",
   "id": "89f364bc",
   "metadata": {},
   "source": [
    "Now we simulate the network using ``Simulate``, which takes the\n",
    "desired simulation time in milliseconds."
   ]
  },
  {
   "cell_type": "code",
   "execution_count": null,
   "id": "e0198636",
   "metadata": {},
   "outputs": [],
   "source": [
    "nest.Simulate(1000.0)"
   ]
  },
  {
   "cell_type": "markdown",
   "id": "04ed0691",
   "metadata": {},
   "source": [
    "Finally, we plot the neurons' membrane potential as a function of\n",
    "time."
   ]
  },
  {
   "cell_type": "code",
   "execution_count": null,
   "id": "b3bf2ed3",
   "metadata": {},
   "outputs": [],
   "source": [
    "nest.voltage_trace.from_device(voltmeter)\n",
    "plt.show()"
   ]
  }
 ],
 "metadata": {
  "jupytext": {
   "cell_metadata_filter": "-all",
   "encoding": "# -*- coding: utf-8 -*-",
   "main_language": "python",
   "notebook_metadata_filter": "-all"
  }
 },
 "nbformat": 4,
 "nbformat_minor": 5
}
