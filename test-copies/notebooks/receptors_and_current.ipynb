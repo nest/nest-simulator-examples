{
  "cells": [
    {
      "cell_type": "markdown",
      "metadata": {},
      "source": [
        "# Constructing and simulating compartmental models with different receptor types\nThis example demonstrates how to initialize a three-compartment model with\ndifferent receptor types. Each compartment receives a different receptor.\n\nThe output shows the voltage in each of the three compartments.\n\n:Authors: WAM Wybo\n"
      ]
    },
    {
      "cell_type": "code",
      "execution_count": null,
      "metadata": {
        "collapsed": false
      },
      "outputs": [],
      "source": [
        "import matplotlib.pyplot as plt\nimport nest\n\nnest.ResetKernel()"
      ]
    },
    {
      "cell_type": "markdown",
      "metadata": {},
      "source": [
        "somatic and dendritic parameters\n\n"
      ]
    },
    {
      "cell_type": "code",
      "execution_count": null,
      "metadata": {
        "collapsed": false
      },
      "outputs": [],
      "source": [
        "soma_params = {\n    \"C_m\": 10.0,  # [pF] Capacitance\n    \"g_C\": 0.0,  # soma has no parent\n    \"g_L\": 1.0,  # [nS] Leak conductance\n    \"e_L\": -70.0,  # [mV] leak reversal\n}\ndend_params = {\n    \"C_m\": 0.1,  # [pF] Capacitance\n    \"g_C\": 0.1,  # [nS] Coupling conductance to parent (soma here)\n    \"g_L\": 0.1,  # [nS] Leak conductance\n    \"e_L\": -70.0,  # [mV] leak reversal\n}"
      ]
    },
    {
      "cell_type": "markdown",
      "metadata": {},
      "source": [
        "create a model with three compartments\n\n"
      ]
    },
    {
      "cell_type": "code",
      "execution_count": null,
      "metadata": {
        "collapsed": false
      },
      "outputs": [],
      "source": [
        "cm = nest.Create(\"cm_default\")\ncm.compartments = [\n    {\"parent_idx\": -1, \"params\": soma_params},\n    {\"parent_idx\": 0, \"params\": dend_params},\n    {\"parent_idx\": 0, \"params\": dend_params},\n]"
      ]
    },
    {
      "cell_type": "markdown",
      "metadata": {},
      "source": [
        "spike threshold\n\n"
      ]
    },
    {
      "cell_type": "code",
      "execution_count": null,
      "metadata": {
        "collapsed": false
      },
      "outputs": [],
      "source": [
        "nest.SetStatus(cm, {\"V_th\": -50.0})"
      ]
    },
    {
      "cell_type": "markdown",
      "metadata": {},
      "source": [
        "- GABA receptor in compartment 0 (soma)\n- AMPA receptor in compartment 1\n  note that it is also possible to specify the receptor parameters, if we want\n  to overwrite the default values\n- AMPA+NMDA receptor in compartment 2\n\n"
      ]
    },
    {
      "cell_type": "code",
      "execution_count": null,
      "metadata": {
        "collapsed": false
      },
      "outputs": [],
      "source": [
        "receptors = [\n    {\"comp_idx\": 0, \"receptor_type\": \"GABA\"},\n    {\"comp_idx\": 1, \"receptor_type\": \"AMPA\", \"params\": {\"tau_r_AMPA\": 0.2, \"tau_d_AMPA\": 3.0, \"e_AMPA\": 0.0}},\n    {\"comp_idx\": 2, \"receptor_type\": \"AMPA_NMDA\"},\n]\ncm.receptors = receptors"
      ]
    },
    {
      "cell_type": "markdown",
      "metadata": {},
      "source": [
        "receptors get assigned an index which corresponds to the order in which they\nare added. For clearer bookkeeping, we explicitly define these indices here.\n\n"
      ]
    },
    {
      "cell_type": "code",
      "execution_count": null,
      "metadata": {
        "collapsed": false
      },
      "outputs": [],
      "source": [
        "syn_idx_GABA, syn_idx_AMPA, syn_idx_NMDA = 0, 1, 2"
      ]
    },
    {
      "cell_type": "markdown",
      "metadata": {},
      "source": [
        "create three spike generators\n\n"
      ]
    },
    {
      "cell_type": "code",
      "execution_count": null,
      "metadata": {
        "collapsed": false
      },
      "outputs": [],
      "source": [
        "sg1 = nest.Create(\"spike_generator\", 1, {\"spike_times\": [101.0, 105.0, 106.0, 110.0, 150.0]})\nsg2 = nest.Create(\n    \"spike_generator\", 1, {\"spike_times\": [115.0, 155.0, 160.0, 162.0, 170.0, 254.0, 260.0, 272.0, 278.0]}\n)\nsg3 = nest.Create(\"spike_generator\", 1, {\"spike_times\": [250.0, 255.0, 260.0, 262.0, 270.0]})"
      ]
    },
    {
      "cell_type": "markdown",
      "metadata": {},
      "source": [
        "connect the spike generators to the receptors\n\n"
      ]
    },
    {
      "cell_type": "code",
      "execution_count": null,
      "metadata": {
        "collapsed": false
      },
      "outputs": [],
      "source": [
        "nest.Connect(\n    sg1, cm, syn_spec={\"synapse_model\": \"static_synapse\", \"weight\": 0.1, \"delay\": 0.5, \"receptor_type\": syn_idx_AMPA}\n)\nnest.Connect(\n    sg2, cm, syn_spec={\"synapse_model\": \"static_synapse\", \"weight\": 0.2, \"delay\": 0.5, \"receptor_type\": syn_idx_NMDA}\n)\nnest.Connect(\n    sg3, cm, syn_spec={\"synapse_model\": \"static_synapse\", \"weight\": 0.3, \"delay\": 0.5, \"receptor_type\": syn_idx_GABA}\n)"
      ]
    },
    {
      "cell_type": "markdown",
      "metadata": {},
      "source": [
        "create and connect a current generator to compartment 1\n\n"
      ]
    },
    {
      "cell_type": "code",
      "execution_count": null,
      "metadata": {
        "collapsed": false
      },
      "outputs": [],
      "source": [
        "dcg = nest.Create(\"dc_generator\", {\"amplitude\": 1.0})\nnest.Connect(dcg, cm, syn_spec={\"synapse_model\": \"static_synapse\", \"weight\": 1.0, \"delay\": 0.1, \"receptor_type\": 1})"
      ]
    },
    {
      "cell_type": "markdown",
      "metadata": {},
      "source": [
        "create and connect a multimeter to measure the three compartmental voltages\n\n"
      ]
    },
    {
      "cell_type": "code",
      "execution_count": null,
      "metadata": {
        "collapsed": false
      },
      "outputs": [],
      "source": [
        "mm = nest.Create(\"multimeter\", 1, {\"record_from\": [\"v_comp0\", \"v_comp1\", \"v_comp2\"], \"interval\": 0.1})\nnest.Connect(mm, cm)\n\nnest.Simulate(400.0)\nres = nest.GetStatus(mm, \"events\")[0]\n\nplt.plot(res[\"times\"], res[\"v_comp0\"], c=\"b\", label=\"v_comp0\")\nplt.plot(res[\"times\"], res[\"v_comp1\"], c=\"r\", label=\"v_comp1\")\nplt.plot(res[\"times\"], res[\"v_comp2\"], c=\"g\", label=\"v_comp2\")\nplt.legend()\n\nplt.show()"
      ]
    }
  ],
  "metadata": {
    "kernelspec": {
      "display_name": "EBRAINS-23.09",
      "language": "python",
      "name": "ebrains-23.09"
    },
    "language_info": {
      "codemirror_mode": {
        "name": "ipython",
        "version": 3
      },
      "file_extension": ".py",
      "mimetype": "text/x-python",
      "name": "python",
      "nbconvert_exporter": "python",
      "pygments_lexer": "ipython3",
      "version": "3.10.13"
    }
  },
  "nbformat": 4,
  "nbformat_minor": 0
}